{
  "cells": [
    {
      "cell_type": "code",
      "execution_count": 3,
      "metadata": {
        "id": "Zm9h3gEZ9hhh"
      },
      "outputs": [],
      "source": [
        "import numpy as np\n",
        "import tensorflow as tf\n",
        "from matplotlib import pyplot as plt\n",
        "from tensorflow import keras\n",
        "\n",
        "from machine_learning.networks.gan import GAN, Z_dim, init_discriminator, init_generator"
      ]
    },
    {
      "cell_type": "markdown",
      "metadata": {
        "id": "I3aplcEF-n3_"
      },
      "source": [
        "**data**"
      ]
    },
    {
      "cell_type": "code",
      "execution_count": 6,
      "metadata": {
        "id": "aIKvxJg1-pPi"
      },
      "outputs": [],
      "source": [
        "batch_size = 64\n",
        "(X_train, _), (X_test, _) = keras.datasets.mnist.load_data()\n",
        "# all_digits = np.concatenate([x_train, x_test])\n",
        "X_train = X_train.astype(\"float32\") / 255.0\n",
        "X_train = np.reshape(X_train, (-1, 28, 28, 1))\n",
        "train_set = tf.data.Dataset.from_tensor_slices(X_train)\n",
        "train_set = train_set.shuffle(buffer_size=1024).batch(batch_size)"
      ]
    },
    {
      "cell_type": "markdown",
      "source": [
        "**model**"
      ],
      "metadata": {
        "id": "YTeselSy7osd"
      }
    },
    {
      "cell_type": "code",
      "execution_count": 7,
      "metadata": {
        "id": "ehBxm_Ye_Dtm"
      },
      "outputs": [],
      "source": [
        "z_dim = 128\n",
        "generator = init_generator(z_dim)\n",
        "discriminator = init_discriminator(z_dim)\n",
        "\n",
        "optimizer_g = keras.optimizers.Adam(learning_rate=0.0003)\n",
        "optimizer_d = keras.optimizers.Adam(learning_rate=0.0003)\n",
        "loss_fn = keras.losses.BinaryCrossentropy(from_logits=True)"
      ]
    },
    {
      "cell_type": "code",
      "execution_count": 10,
      "metadata": {
        "id": "Pk9Dw2GDADND"
      },
      "outputs": [],
      "source": [
        "model = GAN(z_dim, generator, discriminator, optimizer_g, optimizer_d, loss_fn)\n",
        "model.compile()"
      ]
    },
    {
      "cell_type": "code",
      "execution_count": 13,
      "metadata": {
        "colab": {
          "base_uri": "https://localhost:8080/"
        },
        "id": "LbONFUoEAHRx",
        "outputId": "b3c6e79c-70d4-4c6a-fa49-b63b1ad9628a"
      },
      "outputs": [
        {
          "output_type": "stream",
          "name": "stdout",
          "text": [
            "Epoch 1/10\n",
            "938/938 [==============================] - 2115s 2s/step - discriminator: 0.5319 - generator: 1.1790\n",
            "Epoch 2/10\n",
            "938/938 [==============================] - 2203s 2s/step - discriminator: 0.3501 - generator: 2.2358\n",
            "Epoch 3/10\n",
            "938/938 [==============================] - 2249s 2s/step - discriminator: 0.3259 - generator: 2.1851\n",
            "Epoch 4/10\n",
            "938/938 [==============================] - 2255s 2s/step - discriminator: 0.6588 - generator: 0.8907\n",
            "Epoch 5/10\n",
            "938/938 [==============================] - 2226s 2s/step - discriminator: 0.6468 - generator: 0.9067\n",
            "Epoch 6/10\n",
            "938/938 [==============================] - 2223s 2s/step - discriminator: 0.6428 - generator: 0.9006\n",
            "Epoch 7/10\n",
            "938/938 [==============================] - 2245s 2s/step - discriminator: 0.6306 - generator: 0.9314\n",
            "Epoch 8/10\n",
            "938/938 [==============================] - 2244s 2s/step - discriminator: 0.6129 - generator: 0.9559\n",
            "Epoch 9/10\n",
            "938/938 [==============================] - 2260s 2s/step - discriminator: 0.5917 - generator: 1.0099\n",
            "Epoch 10/10\n",
            "938/938 [==============================] - 2258s 2s/step - discriminator: 0.5781 - generator: 1.0346\n"
          ]
        },
        {
          "output_type": "execute_result",
          "data": {
            "text/plain": [
              "<keras.callbacks.History at 0x7f57d0bafbd0>"
            ]
          },
          "metadata": {},
          "execution_count": 13
        }
      ],
      "source": [
        "epochs = 10  # recommended 20\n",
        "model.fit(train_set, epochs=epochs)"
      ]
    },
    {
      "cell_type": "markdown",
      "source": [
        "**real images**"
      ],
      "metadata": {
        "id": "El_qHwE5e1F5"
      }
    },
    {
      "cell_type": "code",
      "source": [
        "figsize = (12, 8)\n",
        "n = 10"
      ],
      "metadata": {
        "id": "Vy6ZHiRxe9Q4"
      },
      "execution_count": 28,
      "outputs": []
    },
    {
      "cell_type": "code",
      "source": [
        "X = X_train[:n]\n",
        "scores = model.discriminator(X)\n",
        "np.mean(scores), np.std(scores)"
      ],
      "metadata": {
        "colab": {
          "base_uri": "https://localhost:8080/"
        },
        "id": "hy76rhTnd8tr",
        "outputId": "4d0e3872-b9fe-4bd0-fd6d-55a547e57ee5"
      },
      "execution_count": 24,
      "outputs": [
        {
          "output_type": "execute_result",
          "data": {
            "text/plain": [
              "(-0.1416792, 0.6250784)"
            ]
          },
          "metadata": {},
          "execution_count": 24
        }
      ]
    },
    {
      "cell_type": "code",
      "source": [
        "fig, axs = plt.subplots(2, 5, figsize=figsize, sharex=True, sharey=True)\n",
        "for i in range(10):\n",
        "  q, r = divmod(i, 5)\n",
        "  x = X[i]\n",
        "  axs[q, r].imshow(np.array(x).reshape(28,28))\n",
        "  axs[q, r].axis('off')\n",
        "plt.tight_layout()\n",
        "plt.show()"
      ],
      "metadata": {
        "colab": {
          "base_uri": "https://localhost:8080/",
          "height": 432
        },
        "id": "OA8Wtn8KgJVq",
        "outputId": "df0b8e00-b49c-49dd-8276-8e4e0c72033f"
      },
      "execution_count": 40,
      "outputs": [
        {
          "output_type": "display_data",
          "data": {
            "text/plain": [
              "<Figure size 864x576 with 10 Axes>"
            ],
            "image/png": "[encoded data removed]"
          },
          "metadata": {
            "needs_background": "light"
          }
        }
      ]
    },
    {
      "cell_type": "markdown",
      "source": [
        "**generated images**"
      ],
      "metadata": {
        "id": "9n0BUoCygKeA"
      }
    },
    {
      "cell_type": "code",
      "source": [
        "Z = tf.random.normal((n, Z_dim))\n",
        "X_hat = model.generator(Z)\n",
        "scores = model.discriminator(X_hat)\n",
        "np.mean(scores), np.std(scores)"
      ],
      "metadata": {
        "colab": {
          "base_uri": "https://localhost:8080/"
        },
        "id": "x9oD5NmYcX7_",
        "outputId": "0d49e2a8-ddd8-4cce-fd23-a6428cbdc93e"
      },
      "execution_count": 26,
      "outputs": [
        {
          "output_type": "execute_result",
          "data": {
            "text/plain": [
              "(0.91179, 0.60966194)"
            ]
          },
          "metadata": {},
          "execution_count": 26
        }
      ]
    },
    {
      "cell_type": "code",
      "source": [
        "fig, axs = plt.subplots(2, 5, figsize=figsize, sharex=True, sharey=True)\n",
        "for i in range(10):\n",
        "  q, r = divmod(i, 5)\n",
        "  x = X_hat[i]\n",
        "  axs[q, r].imshow(np.array(x).reshape(28,28))\n",
        "  axs[q, r].axis('off')\n",
        "plt.tight_layout()\n",
        "plt.show()"
      ],
      "metadata": {
        "colab": {
          "base_uri": "https://localhost:8080/",
          "height": 432
        },
        "id": "B75cfpeKdWoS",
        "outputId": "0b4fe5a1-7a56-40cf-f450-519e11f6a863"
      },
      "execution_count": 39,
      "outputs": [
        {
          "output_type": "display_data",
          "data": {
            "text/plain": [
              "<Figure size 864x576 with 10 Axes>"
            ],
            "image/png": "[encoded data removed]"
          },
          "metadata": {
            "needs_background": "light"
          }
        }
      ]
    },
    {
      "cell_type": "code",
      "source": [
        ""
      ],
      "metadata": {
        "id": "jOiYO6UViuQg"
      },
      "execution_count": null,
      "outputs": []
    }
  ],
  "metadata": {
    "colab": {
      "name": "gan.ipynb",
      "provenance": [],
      "collapsed_sections": []
    },
    "kernelspec": {
      "display_name": "Python 3",
      "name": "python3"
    },
    "language_info": {
      "name": "python"
    }
  },
  "nbformat": 4,
  "nbformat_minor": 0
}