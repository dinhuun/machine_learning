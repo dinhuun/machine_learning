{
 "cells": [
  {
   "cell_type": "code",
   "execution_count": 1,
   "id": "3787dacc",
   "metadata": {},
   "outputs": [],
   "source": [
    "import keras\n",
    "import matplotlib.pyplot as plt\n",
    "import numpy as np\n",
    "import seaborn as sns\n",
    "import torch\n",
    "from keras import layers\n",
    "from keras.datasets import mnist\n",
    "from torch import from_numpy\n",
    "\n",
    "from machine_learning.classes import OptimizerConfigs, TrainConfigs\n",
    "from machine_learning.autoencoders.convolutional_autoencoder import init_encoder, init_decoder, load, save\n",
    "from machine_learning.autoencoders.variational_autoencoder import VariationalAutoEncoder\n",
    "from machine_learning.strings import mse_loss_str, relu_str\n",
    "from machine_learning.utils.utils_mnist import load_mnist_data_for_autoencoder\n",
    "from machine_learning.utils.utils_nn import init_loss, train\n",
    "from machine_learning.utils.utils_plot import plot_mnist_images"
   ]
  },
  {
   "cell_type": "code",
   "execution_count": 2,
   "id": "6e648b3c",
   "metadata": {},
   "outputs": [],
   "source": [
    "plt.style.use('seaborn-whitegrid')\n",
    "sns.set_color_codes()\n",
    "\n",
    "figsize = (20, 4)"
   ]
  },
  {
   "cell_type": "code",
   "execution_count": 5,
   "id": "7f1d6b60",
   "metadata": {},
   "outputs": [
    {
     "data": {
      "text/plain": [
       "<torch._C.Generator at 0x185ea6db0>"
      ]
     },
     "execution_count": 5,
     "metadata": {},
     "output_type": "execute_result"
    }
   ],
   "source": [
    "torch.manual_seed(0)"
   ]
  },
  {
   "cell_type": "markdown",
   "id": "6b95b233",
   "metadata": {},
   "source": [
    "### data"
   ]
  },
  {
   "cell_type": "code",
   "execution_count": 8,
   "id": "5ca44c1f",
   "metadata": {},
   "outputs": [],
   "source": [
    "dirpath = \"../data/pytorch_mnist\"\n",
    "X_train_loader, X_val_loader, X_test_loader = load_mnist_data_for_autoencoder(dirpath)\n",
    "X_test, _ = next(iter(X_test_loader))"
   ]
  },
  {
   "cell_type": "markdown",
   "id": "fdacdbab",
   "metadata": {},
   "source": [
    "### model and training"
   ]
  },
  {
   "cell_type": "code",
   "execution_count": 23,
   "id": "88e104d5",
   "metadata": {},
   "outputs": [],
   "source": [
    "lr = 1e-4\n",
    "weight_decay = 1e-5\n",
    "optimizer_configs = OptimizerConfigs(lr=lr, weight_decay=weight_decay)\n",
    "\n",
    "n_epochs = 50\n",
    "patience = 50\n",
    "\n",
    "verbose = True\n",
    "verbose_freq = n_epochs / n_epochs\n",
    "\n",
    "configs = TrainConfigs(optimizer_configs=optimizer_configs, n_epochs=n_epochs, patience=patience)\n",
    "\n",
    "criterion = init_loss(mse_loss_str, \"sum\")"
   ]
  },
  {
   "cell_type": "code",
   "execution_count": 24,
   "id": "4d005f42",
   "metadata": {},
   "outputs": [],
   "source": [
    "encoder_ = init_encoder()\n",
    "decoder_ = init_decoder()"
   ]
  },
  {
   "cell_type": "code",
   "execution_count": 25,
   "id": "28268ba4",
   "metadata": {},
   "outputs": [],
   "source": [
    "z_dim = 4\n",
    "model = VariationalAutoEncoder(relu_str, encoder_, relu_str, decoder_, z_dim)"
   ]
  },
  {
   "cell_type": "code",
   "execution_count": 26,
   "id": "525f1392",
   "metadata": {
    "scrolled": true
   },
   "outputs": [
    {
     "name": "stdout",
     "output_type": "stream",
     "text": [
      "epoch 0, train loss 199.90849210611978, val loss 168.76127018229167\n",
      "epoch 1, train loss 161.25330212402343, val loss 154.83149153645834\n",
      "epoch 2, train loss 149.18721931966147, val loss 142.98665657552084\n",
      "epoch 3, train loss 137.64634419759113, val loss 132.73061507161458\n",
      "epoch 4, train loss 124.21058752441407, val loss 118.55970540364584\n",
      "epoch 5, train loss 115.13521805826822, val loss 111.74273974609375\n",
      "epoch 6, train loss 108.66103951009114, val loss 105.48778206380209\n",
      "epoch 7, train loss 103.3571371866862, val loss 101.49703059895833\n",
      "epoch 8, train loss 100.58629671223959, val loss 99.69686800130208\n",
      "epoch 9, train loss 99.30595910644531, val loss 98.81249658203124\n",
      "epoch 10, train loss 98.54771502685547, val loss 98.06056868489583\n",
      "epoch 11, train loss 97.8557592569987, val loss 97.39622884114583\n",
      "epoch 12, train loss 97.31467456054688, val loss 96.99722802734375\n",
      "epoch 13, train loss 96.92818404134114, val loss 96.60618180338541\n",
      "epoch 14, train loss 96.6853803914388, val loss 96.40414501953126\n",
      "epoch 15, train loss 96.52534623209635, val loss 96.31592154947917\n",
      "epoch 16, train loss 96.37164835611979, val loss 96.17736653645834\n",
      "epoch 17, train loss 96.2626102701823, val loss 96.02688720703125\n",
      "epoch 18, train loss 96.14063041178386, val loss 95.90587760416666\n",
      "epoch 19, train loss 96.05671506754557, val loss 95.85602734375\n",
      "epoch 20, train loss 95.96754034423829, val loss 95.82895524088542\n",
      "epoch 21, train loss 95.86496323649088, val loss 95.66493424479167\n",
      "epoch 22, train loss 95.72733447265625, val loss 95.5350205078125\n",
      "epoch 23, train loss 95.59531978352865, val loss 95.35862727864583\n",
      "epoch 24, train loss 95.43460567220052, val loss 95.15882389322917\n",
      "epoch 25, train loss 95.31969846598307, val loss 95.06857356770833\n",
      "epoch 26, train loss 95.21248284912109, val loss 94.97768831380208\n",
      "epoch 27, train loss 95.03654870605469, val loss 94.75343782552083\n",
      "epoch 28, train loss 94.8992021077474, val loss 94.64349967447917\n",
      "epoch 29, train loss 94.70023704020183, val loss 94.5744765625\n",
      "epoch 30, train loss 94.57468953450521, val loss 94.37776725260417\n",
      "epoch 31, train loss 94.45840584309896, val loss 94.23668310546876\n",
      "epoch 32, train loss 94.26413749186197, val loss 94.07306949869792\n",
      "epoch 33, train loss 94.17889245605468, val loss 93.958587890625\n",
      "epoch 34, train loss 94.0378642985026, val loss 93.847390625\n",
      "epoch 35, train loss 93.9428848063151, val loss 93.82582731119791\n",
      "epoch 36, train loss 93.83606433105469, val loss 93.61196240234375\n",
      "epoch 37, train loss 93.74024491373697, val loss 93.55187548828125\n",
      "epoch 38, train loss 93.61408809407553, val loss 93.40323567708333\n",
      "epoch 39, train loss 93.50074886067708, val loss 93.25137939453126\n",
      "epoch 40, train loss 93.42214538574218, val loss 93.24838541666666\n",
      "epoch 41, train loss 93.32176733398437, val loss 93.16375227864583\n",
      "epoch 42, train loss 93.18008418782551, val loss 93.03368961588542\n",
      "epoch 43, train loss 93.04617537434896, val loss 92.88665673828125\n",
      "epoch 44, train loss 92.91729138183594, val loss 92.81327945963541\n",
      "epoch 45, train loss 92.78469230143229, val loss 92.56217887369792\n",
      "epoch 46, train loss 92.59963228352865, val loss 92.381140625\n",
      "epoch 47, train loss 92.49033744303385, val loss 92.31458658854167\n",
      "epoch 48, train loss 92.27743707275391, val loss 92.04178206380209\n",
      "epoch 49, train loss 92.11849475097657, val loss 91.9193935546875\n"
     ]
    }
   ],
   "source": [
    "best_state_dict, best_score, best_epoch = train(configs, model, X_train_loader, X_val_loader, \n",
    "                                                criterion, verbose, verbose_freq)"
   ]
  },
  {
   "cell_type": "code",
   "execution_count": 27,
   "id": "2fbee69f",
   "metadata": {},
   "outputs": [
    {
     "data": {
      "text/plain": [
       "(91.9193935546875, 49)"
      ]
     },
     "execution_count": 27,
     "metadata": {},
     "output_type": "execute_result"
    }
   ],
   "source": [
    "best_score, best_epoch"
   ]
  },
  {
   "cell_type": "markdown",
   "id": "d75c39a3",
   "metadata": {},
   "source": [
    "### plotting"
   ]
  },
  {
   "cell_type": "code",
   "execution_count": 28,
   "id": "06de0cab",
   "metadata": {},
   "outputs": [],
   "source": [
    "n_samples = 10\n",
    "n_rows = 2"
   ]
  },
  {
   "cell_type": "code",
   "execution_count": 29,
   "id": "83583162",
   "metadata": {},
   "outputs": [
    {
     "data": {
      "text/plain": [
       "<All keys matched successfully>"
      ]
     },
     "execution_count": 29,
     "metadata": {},
     "output_type": "execute_result"
    }
   ],
   "source": [
    "encoder_ = init_encoder()\n",
    "decoder_ = init_decoder()\n",
    "\n",
    "best_model = VariationalAutoEncoder(relu_str, encoder_, relu_str, decoder_, z_dim)\n",
    "best_model.load_state_dict(best_state_dict)"
   ]
  },
  {
   "cell_type": "code",
   "execution_count": 30,
   "id": "1126968d",
   "metadata": {},
   "outputs": [],
   "source": [
    "best_model.eval()\n",
    "samples = X_test[:n_samples]\n",
    "samples_hat = best_model(samples)\n",
    "samples_hat = samples_hat.detach().numpy()"
   ]
  },
  {
   "cell_type": "code",
   "execution_count": 31,
   "id": "f180f9ea",
   "metadata": {},
   "outputs": [
    {
     "data": {
      "image/png": "[encoded data removed]",
      "text/plain": [
       "<Figure size 1440x288 with 10 Axes>"
      ]
     },
     "metadata": {},
     "output_type": "display_data"
    }
   ],
   "source": [
    "plot_mnist_images(samples, figsize)"
   ]
  },
  {
   "cell_type": "code",
   "execution_count": 32,
   "id": "bf9cf2fa",
   "metadata": {},
   "outputs": [
    {
     "data": {
      "image/png": "[encoded data removed]",
      "text/plain": [
       "<Figure size 1440x288 with 10 Axes>"
      ]
     },
     "metadata": {},
     "output_type": "display_data"
    }
   ],
   "source": [
    "plot_mnist_images(samples_hat, figsize)"
   ]
  },
  {
   "cell_type": "markdown",
   "id": "c0dc4685",
   "metadata": {},
   "source": [
    "### generating"
   ]
  },
  {
   "cell_type": "code",
   "execution_count": 33,
   "id": "b45390e6",
   "metadata": {},
   "outputs": [],
   "source": [
    "z_hat = best_model.p.sample((10, 8, 4, 4))"
   ]
  },
  {
   "cell_type": "code",
   "execution_count": 34,
   "id": "4655ee92",
   "metadata": {},
   "outputs": [],
   "source": [
    "x_hat = best_model.decode(z_hat)\n",
    "x_hat = x_hat.detach().numpy()"
   ]
  },
  {
   "cell_type": "code",
   "execution_count": 35,
   "id": "a3585089",
   "metadata": {},
   "outputs": [
    {
     "data": {
      "image/png": "[encoded data removed]",
      "text/plain": [
       "<Figure size 1440x288 with 10 Axes>"
      ]
     },
     "metadata": {},
     "output_type": "display_data"
    }
   ],
   "source": [
    "plot_mnist_images(x_hat, figsize)"
   ]
  }
 ],
 "metadata": {
  "kernelspec": {
   "display_name": "machine_learning",
   "language": "python",
   "name": "machine_learning"
  },
  "language_info": {
   "codemirror_mode": {
    "name": "ipython",
    "version": 3
   },
   "file_extension": ".py",
   "mimetype": "text/x-python",
   "name": "python",
   "nbconvert_exporter": "python",
   "pygments_lexer": "ipython3",
   "version": "3.7.8"
  }
 },
 "nbformat": 4,
 "nbformat_minor": 5
}
