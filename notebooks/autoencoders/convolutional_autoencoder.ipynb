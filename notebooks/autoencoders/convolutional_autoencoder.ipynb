{
 "cells": [
  {
   "cell_type": "code",
   "execution_count": 1,
   "id": "f1cfdda0",
   "metadata": {},
   "outputs": [],
   "source": [
    "import matplotlib.pyplot as plt\n",
    "import numpy as np\n",
    "import seaborn as sns\n",
    "import torch\n",
    "\n",
    "from machine_learning.classes import OptimizerConfigs, TrainConfigs\n",
    "from machine_learning.autoencoders.convolutional_autoencoder import ConvolutionalAutoencoder, init_encoder, init_decoder, load, save\n",
    "from machine_learning.strings import mse_loss_str, relu_str\n",
    "from machine_learning.utils.utils_mnist import load_mnist_data_for_autoencoder\n",
    "from machine_learning.utils.utils_nn import init_loss, train\n",
    "from machine_learning.utils.utils_plot import plot_mnist_images"
   ]
  },
  {
   "cell_type": "code",
   "execution_count": 2,
   "id": "c48ff247",
   "metadata": {},
   "outputs": [],
   "source": [
    "plt.style.use('seaborn-whitegrid')\n",
    "sns.set_color_codes()\n",
    "\n",
    "figsize = (20, 4)"
   ]
  },
  {
   "cell_type": "code",
   "execution_count": 3,
   "id": "94f51bdb",
   "metadata": {},
   "outputs": [
    {
     "data": {
      "text/plain": [
       "<torch._C.Generator at 0x15eb57e30>"
      ]
     },
     "execution_count": 3,
     "metadata": {},
     "output_type": "execute_result"
    }
   ],
   "source": [
    "torch.manual_seed(0)"
   ]
  },
  {
   "cell_type": "markdown",
   "id": "f6066ad0",
   "metadata": {},
   "source": [
    "### data"
   ]
  },
  {
   "cell_type": "code",
   "execution_count": 4,
   "id": "c752a493",
   "metadata": {},
   "outputs": [],
   "source": [
    "dirpath = \"../data/pytorch_mnist\""
   ]
  },
  {
   "cell_type": "code",
   "execution_count": 5,
   "id": "6356aaa6",
   "metadata": {},
   "outputs": [],
   "source": [
    "X_train_loader, X_val_loader, X_test_loader = load_mnist_data_for_autoencoder(dirpath)\n",
    "X_test, _ = next(iter(X_test_loader))"
   ]
  },
  {
   "cell_type": "markdown",
   "id": "fdacdbab",
   "metadata": {},
   "source": [
    "### model and training"
   ]
  },
  {
   "cell_type": "code",
   "execution_count": 6,
   "id": "88e104d5",
   "metadata": {},
   "outputs": [],
   "source": [
    "lr = 1e-3\n",
    "weight_decay = 1e-5\n",
    "optimizer_configs = OptimizerConfigs(lr=lr, weight_decay=weight_decay)\n",
    "\n",
    "n_epochs = 50\n",
    "patience = 50\n",
    "\n",
    "verbose = True\n",
    "verbose_freq = n_epochs / n_epochs\n",
    "\n",
    "configs = TrainConfigs(optimizer_configs=optimizer_configs, n_epochs=n_epochs, patience=patience)"
   ]
  },
  {
   "cell_type": "code",
   "execution_count": 7,
   "id": "c7f8adb2",
   "metadata": {},
   "outputs": [],
   "source": [
    "encoder = init_encoder()\n",
    "decoder = init_decoder()\n",
    "model = ConvolutionalAutoencoder(relu_str, encoder, relu_str, decoder)"
   ]
  },
  {
   "cell_type": "code",
   "execution_count": 8,
   "id": "7cc52533",
   "metadata": {},
   "outputs": [],
   "source": [
    "criterion = init_loss(mse_loss_str, reduction=\"mean\")"
   ]
  },
  {
   "cell_type": "code",
   "execution_count": 9,
   "id": "525f1392",
   "metadata": {
    "scrolled": true
   },
   "outputs": [
    {
     "name": "stdout",
     "output_type": "stream",
     "text": [
      "epoch 0, train loss 0.0007278989497572183, val loss 0.0006754325168828169\n",
      "epoch 1, train loss 0.0006345043887073795, val loss 0.0005954941188295683\n",
      "epoch 2, train loss 0.0005652743056416511, val loss 0.0005358628469208876\n",
      "epoch 3, train loss 0.0005139795249948899, val loss 0.0004918999715397756\n",
      "epoch 4, train loss 0.0004762883332247535, val loss 0.0004596450099100669\n",
      "epoch 5, train loss 0.00044866812927648426, val loss 0.00043599262150625386\n",
      "epoch 6, train loss 0.0004284152911665539, val loss 0.00041861597386499245\n",
      "epoch 7, train loss 0.0004135303262931605, val loss 0.00040581303959091506\n",
      "epoch 8, train loss 0.00040255952797209224, val loss 0.0003963522842774789\n",
      "epoch 9, train loss 0.00039445306360721586, val loss 0.0003893443290144205\n",
      "epoch 10, train loss 0.00038845278710747757, val loss 0.00038414622098207474\n",
      "epoch 11, train loss 0.00038400943453113236, val loss 0.0003802906076113383\n",
      "epoch 12, train loss 0.00038072257100914915, val loss 0.00037743533154328666\n",
      "epoch 13, train loss 0.0003773317434825003, val loss 0.0003605248648673296\n",
      "epoch 14, train loss 0.0002799745970405638, val loss 0.00022872333166499932\n",
      "epoch 15, train loss 0.00019082734407857062, val loss 0.00016669031511992217\n",
      "epoch 16, train loss 0.00015641447622328998, val loss 0.0001491558070605\n",
      "epoch 17, train loss 0.00014490944690381488, val loss 0.00014040314592421056\n",
      "epoch 18, train loss 0.00013814553680519264, val loss 0.00013681919127702714\n",
      "epoch 19, train loss 0.00013235049500751, val loss 0.00013319105406602223\n",
      "epoch 20, train loss 0.00012761064999115964, val loss 0.0001254310707251231\n",
      "epoch 21, train loss 0.0001241219573421404, val loss 0.0001234136486115555\n",
      "epoch 22, train loss 0.00012012188734176258, val loss 0.00011837593512609601\n",
      "epoch 23, train loss 0.00011759948202719291, val loss 0.00011627135068799058\n",
      "epoch 24, train loss 0.00011458596513451388, val loss 0.00011308560023705165\n",
      "epoch 25, train loss 0.00011207091474595169, val loss 0.00011107072187587619\n",
      "epoch 26, train loss 0.00010979839914944023, val loss 0.00010892767769594988\n",
      "epoch 27, train loss 0.00010760533437132835, val loss 0.00010861813447748622\n",
      "epoch 28, train loss 0.00010579495139730474, val loss 0.00010586216611166796\n",
      "epoch 29, train loss 0.00010368860668192307, val loss 0.00010265064720685284\n",
      "epoch 30, train loss 0.00010201623667186747, val loss 0.0001008706372231245\n",
      "epoch 31, train loss 0.00010043482994660735, val loss 9.93047261921068e-05\n",
      "epoch 32, train loss 9.892433148343116e-05, val loss 9.782985861723622e-05\n",
      "epoch 33, train loss 9.747748950030654e-05, val loss 9.64726673749586e-05\n",
      "epoch 34, train loss 9.60882498184219e-05, val loss 9.511122557645043e-05\n",
      "epoch 35, train loss 9.480695185872415e-05, val loss 9.378375392407179e-05\n",
      "epoch 36, train loss 9.351380763109774e-05, val loss 9.31892713221411e-05\n",
      "epoch 37, train loss 9.22828500236695e-05, val loss 9.169879850621025e-05\n",
      "epoch 38, train loss 9.122464522564163e-05, val loss 9.021787128100792e-05\n",
      "epoch 39, train loss 9.027606268258144e-05, val loss 8.948020404204726e-05\n",
      "epoch 40, train loss 8.921784849371761e-05, val loss 8.826467441394925e-05\n",
      "epoch 41, train loss 8.836295048240572e-05, val loss 8.751752475897471e-05\n",
      "epoch 42, train loss 8.76018803489084e-05, val loss 8.650929185872277e-05\n",
      "epoch 43, train loss 8.67938407463953e-05, val loss 8.5776395474871e-05\n",
      "epoch 44, train loss 8.602265555722019e-05, val loss 8.509389264509081e-05\n",
      "epoch 45, train loss 8.551677285383145e-05, val loss 8.524513818944494e-05\n",
      "epoch 46, train loss 8.475174362926433e-05, val loss 8.443638154615959e-05\n",
      "epoch 47, train loss 8.418108829452345e-05, val loss 8.392874881004294e-05\n",
      "epoch 48, train loss 8.359104410434762e-05, val loss 8.332742160807053e-05\n",
      "epoch 49, train loss 8.302239677868783e-05, val loss 8.248287284125884e-05\n"
     ]
    }
   ],
   "source": [
    "best_state_dict, best_val_loss, best_epoch = train(configs, model, X_train_loader, X_val_loader, \n",
    "                                                criterion, verbose, verbose_freq)"
   ]
  },
  {
   "cell_type": "code",
   "execution_count": 11,
   "id": "1492b23d",
   "metadata": {},
   "outputs": [
    {
     "data": {
      "text/plain": [
       "(8.248287284125884e-05, 49)"
      ]
     },
     "execution_count": 11,
     "metadata": {},
     "output_type": "execute_result"
    }
   ],
   "source": [
    "best_val_loss, best_epoch"
   ]
  },
  {
   "cell_type": "markdown",
   "id": "d75c39a3",
   "metadata": {},
   "source": [
    "### plotting"
   ]
  },
  {
   "cell_type": "code",
   "execution_count": 11,
   "id": "7cab5b2f",
   "metadata": {},
   "outputs": [
    {
     "data": {
      "text/plain": [
       "<All keys matched successfully>"
      ]
     },
     "execution_count": 11,
     "metadata": {},
     "output_type": "execute_result"
    }
   ],
   "source": [
    "encoder = init_encoder()\n",
    "decoder = init_decoder()\n",
    "best_model = ConvolutionalAutoencoder(relu_str, encoder, relu_str, decoder)\n",
    "best_model.load_state_dict(best_state_dict)"
   ]
  },
  {
   "cell_type": "code",
   "execution_count": 12,
   "id": "06de0cab",
   "metadata": {},
   "outputs": [],
   "source": [
    "n_samples = 10"
   ]
  },
  {
   "cell_type": "code",
   "execution_count": 13,
   "id": "496f3bf3",
   "metadata": {},
   "outputs": [],
   "source": [
    "best_model.eval()\n",
    "samples = X_test[:n_samples]\n",
    "samples_hat = best_model(samples)\n",
    "samples_hat = samples_hat.detach().numpy()"
   ]
  },
  {
   "cell_type": "code",
   "execution_count": 14,
   "id": "ab193af1",
   "metadata": {},
   "outputs": [
    {
     "data": {
      "image/png": "[encoded data removed]",
      "text/plain": [
       "<Figure size 1440x288 with 10 Axes>"
      ]
     },
     "metadata": {},
     "output_type": "display_data"
    }
   ],
   "source": [
    "plot_mnist_images(samples, figsize)"
   ]
  },
  {
   "cell_type": "code",
   "execution_count": 15,
   "id": "a6ee1f9f",
   "metadata": {},
   "outputs": [
    {
     "data": {
      "image/png": "[encoded data removed]",
      "text/plain": [
       "<Figure size 1440x288 with 10 Axes>"
      ]
     },
     "metadata": {},
     "output_type": "display_data"
    }
   ],
   "source": [
    "plot_mnist_images(samples_hat, figsize)"
   ]
  },
  {
   "cell_type": "markdown",
   "id": "0b924a28",
   "metadata": {},
   "source": [
    "### denoising"
   ]
  },
  {
   "cell_type": "code",
   "execution_count": 16,
   "id": "a549ef39",
   "metadata": {},
   "outputs": [],
   "source": [
    "X_train_loader, X_val_loader, X_test_loader = load_mnist_data_for_autoencoder(dirpath, noised=True, noise_factor=0.5)\n",
    "X_test, _ = next(iter(X_test_loader))"
   ]
  },
  {
   "cell_type": "code",
   "execution_count": 19,
   "id": "b0fda6b0",
   "metadata": {},
   "outputs": [],
   "source": [
    "encoder = init_encoder()\n",
    "decoder = init_decoder()\n",
    "model = ConvolutionalAutoencoder(relu_str, encoder, relu_str, decoder)"
   ]
  },
  {
   "cell_type": "code",
   "execution_count": 20,
   "id": "cb60cc9a",
   "metadata": {},
   "outputs": [],
   "source": [
    "criterion = init_loss(mse_loss_str, reduction=\"mean\")"
   ]
  },
  {
   "cell_type": "code",
   "execution_count": 21,
   "id": "fc7357ad",
   "metadata": {
    "scrolled": true
   },
   "outputs": [
    {
     "name": "stdout",
     "output_type": "stream",
     "text": [
      "epoch 0, train loss 0.0010336773078888654, val loss 0.0009610112595061461\n",
      "epoch 1, train loss 0.0008972349306568503, val loss 0.0008362319879233837\n",
      "epoch 2, train loss 0.0007833932607124249, val loss 0.0007339381302396456\n",
      "epoch 3, train loss 0.0006912562052408854, val loss 0.0006522389551003774\n",
      "epoch 4, train loss 0.000618316096564134, val loss 0.000588161504516999\n",
      "epoch 5, train loss 0.0005491571938619018, val loss 0.00038786719491084416\n",
      "epoch 6, train loss 0.0002860516238336762, val loss 0.00025809463982780776\n",
      "epoch 7, train loss 0.00024333304857524732, val loss 0.00023278593613455692\n",
      "epoch 8, train loss 0.00022474476687299707, val loss 0.00022129808148990075\n",
      "epoch 9, train loss 0.00021668369757632414, val loss 0.00021532651192198197\n",
      "epoch 10, train loss 0.00021139810071326792, val loss 0.00021049653676648934\n",
      "epoch 11, train loss 0.00020657129593503972, val loss 0.00020582711603492497\n",
      "epoch 12, train loss 0.0002015160316756616, val loss 0.00020021458653112252\n",
      "epoch 13, train loss 0.00019636931379015248, val loss 0.00019518317561596633\n",
      "epoch 14, train loss 0.00019089711278987427, val loss 0.00018948879806945723\n",
      "epoch 15, train loss 0.00018549403959574798, val loss 0.00018367051643629868\n",
      "epoch 16, train loss 0.00017968516765783232, val loss 0.0001779232881963253\n",
      "epoch 17, train loss 0.0001740114442072809, val loss 0.00017233645543456076\n",
      "epoch 18, train loss 0.00016799866656462352, val loss 0.00016641503727684418\n",
      "epoch 19, train loss 0.00016209571428286532, val loss 0.00016020419355481863\n",
      "epoch 20, train loss 0.00015592327907991906, val loss 0.00015345887032647927\n",
      "epoch 21, train loss 0.0001498424691768984, val loss 0.00014777484505126875\n",
      "epoch 22, train loss 0.00014473061248039207, val loss 0.00014317155815660954\n",
      "epoch 23, train loss 0.00014035696373321116, val loss 0.00013884246814996004\n",
      "epoch 24, train loss 0.00013645334541797637, val loss 0.00013476799397418897\n",
      "epoch 25, train loss 0.00013260655112875004, val loss 0.00013114488466332356\n",
      "epoch 26, train loss 0.0001294728230762606, val loss 0.0001284878800312678\n",
      "epoch 27, train loss 0.00012655510241165756, val loss 0.00012577953701838851\n",
      "epoch 28, train loss 0.00012416876301479837, val loss 0.00012300499218205612\n",
      "epoch 29, train loss 0.00012180047458969056, val loss 0.00012093506101518869\n",
      "epoch 30, train loss 0.00011982658637377124, val loss 0.00011955570460607608\n",
      "epoch 31, train loss 0.00011771740737215926, val loss 0.00011707539421816667\n",
      "epoch 32, train loss 0.00011590824512920032, val loss 0.00011542494936535755\n",
      "epoch 33, train loss 0.00011423938500229269, val loss 0.00011343745018045108\n",
      "epoch 34, train loss 0.00011267702902356783, val loss 0.00011203284934163094\n",
      "epoch 35, train loss 0.00011093149074198057, val loss 0.0001101491671676437\n",
      "epoch 36, train loss 0.00010941084893420338, val loss 0.00010900309262797236\n",
      "epoch 37, train loss 0.00010818754291782776, val loss 0.0001075786364575227\n",
      "epoch 38, train loss 0.000106844993114161, val loss 0.00010591669535885255\n",
      "epoch 39, train loss 0.00010567831255805989, val loss 0.00010495648331319292\n",
      "epoch 40, train loss 0.00010447781214800974, val loss 0.00010385933301101129\n",
      "epoch 41, train loss 0.00010348208974270771, val loss 0.00010317373570675651\n",
      "epoch 42, train loss 0.00010246786292797576, val loss 0.00010199238344406088\n",
      "epoch 43, train loss 0.00010157203274623801, val loss 0.00010120381585632762\n",
      "epoch 44, train loss 0.00010095965404373904, val loss 0.00010039510888357958\n",
      "epoch 45, train loss 0.00010013818554580212, val loss 9.938841033726931e-05\n",
      "epoch 46, train loss 9.9615116060401e-05, val loss 9.898052085191011e-05\n",
      "epoch 47, train loss 9.875501230514297e-05, val loss 9.867055636520188e-05\n",
      "epoch 48, train loss 9.830144222360105e-05, val loss 9.792282401273648e-05\n",
      "epoch 49, train loss 9.761194236731778e-05, val loss 9.822823153808713e-05\n"
     ]
    }
   ],
   "source": [
    "best_state_dict, _, _ = train(configs, model, X_train_loader, X_val_loader, \n",
    "                                                criterion, verbose, verbose_freq)"
   ]
  },
  {
   "cell_type": "code",
   "execution_count": 22,
   "id": "67fe30e3",
   "metadata": {},
   "outputs": [
    {
     "data": {
      "text/plain": [
       "<All keys matched successfully>"
      ]
     },
     "execution_count": 22,
     "metadata": {},
     "output_type": "execute_result"
    }
   ],
   "source": [
    "encoder = init_encoder()\n",
    "decoder = init_decoder()\n",
    "best_model = ConvolutionalAutoencoder(relu_str, encoder, relu_str, decoder)\n",
    "best_model.load_state_dict(best_state_dict)"
   ]
  },
  {
   "cell_type": "code",
   "execution_count": 23,
   "id": "adb073d7",
   "metadata": {},
   "outputs": [],
   "source": [
    "best_model.eval()\n",
    "samples = X_test[:n_samples]\n",
    "samples_hat = best_model(samples)\n",
    "samples_hat = samples_hat.detach().numpy()"
   ]
  },
  {
   "cell_type": "code",
   "execution_count": 24,
   "id": "221774db",
   "metadata": {},
   "outputs": [
    {
     "data": {
      "image/png": "[encoded data removed]",
      "text/plain": [
       "<Figure size 1440x288 with 10 Axes>"
      ]
     },
     "metadata": {},
     "output_type": "display_data"
    }
   ],
   "source": [
    "plot_mnist_images(samples, figsize)"
   ]
  },
  {
   "cell_type": "code",
   "execution_count": 25,
   "id": "a7b5be87",
   "metadata": {},
   "outputs": [
    {
     "data": {
      "image/png": "[encoded data removed]",
      "text/plain": [
       "<Figure size 1440x288 with 10 Axes>"
      ]
     },
     "metadata": {},
     "output_type": "display_data"
    }
   ],
   "source": [
    "plot_mnist_images(samples_hat, figsize)"
   ]
  },
  {
   "cell_type": "markdown",
   "id": "6be96845",
   "metadata": {},
   "source": [
    "### saving and loading"
   ]
  },
  {
   "cell_type": "code",
   "execution_count": 26,
   "id": "76b0be44",
   "metadata": {},
   "outputs": [],
   "source": [
    "filename = \"convolutional_autoencoder.pt\"\n",
    "save(best_model, filename)"
   ]
  },
  {
   "cell_type": "code",
   "execution_count": 27,
   "id": "1eda32a3",
   "metadata": {},
   "outputs": [],
   "source": [
    "saved_model = load(filename)"
   ]
  },
  {
   "cell_type": "code",
   "execution_count": 28,
   "id": "cd9c846e",
   "metadata": {},
   "outputs": [],
   "source": [
    "saved_model.eval()\n",
    "samples_hat = best_model(samples)\n",
    "samples_hat = samples_hat.detach().numpy()"
   ]
  },
  {
   "cell_type": "code",
   "execution_count": 30,
   "id": "4165a59c",
   "metadata": {},
   "outputs": [
    {
     "data": {
      "image/png": "[encoded data removed]",
      "text/plain": [
       "<Figure size 1440x288 with 10 Axes>"
      ]
     },
     "metadata": {},
     "output_type": "display_data"
    }
   ],
   "source": [
    "plot_mnist_images(samples_hat, figsize)"
   ]
  }
 ],
 "metadata": {
  "kernelspec": {
   "display_name": "machine_learning",
   "language": "python",
   "name": "machine_learning"
  },
  "language_info": {
   "codemirror_mode": {
    "name": "ipython",
    "version": 3
   },
   "file_extension": ".py",
   "mimetype": "text/x-python",
   "name": "python",
   "nbconvert_exporter": "python",
   "pygments_lexer": "ipython3",
   "version": "3.7.8"
  }
 },
 "nbformat": 4,
 "nbformat_minor": 5
}
