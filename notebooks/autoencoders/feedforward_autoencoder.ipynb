{
 "cells": [
  {
   "cell_type": "code",
   "execution_count": 1,
   "id": "b2d82a83",
   "metadata": {},
   "outputs": [],
   "source": [
    "import matplotlib.pyplot as plt\n",
    "import netron\n",
    "import numpy as np\n",
    "import seaborn as sns\n",
    "import torch\n",
    "\n",
    "from machine_learning.classes import OptimizerConfigs, TrainConfigs\n",
    "from machine_learning.autoencoders.feedforward_autoencoder import FeedforwardAutoencoder, FeedforwardCoderConfigs, init_encoder, init_decoder, load, save\n",
    "from machine_learning.strings import bce_loss_str, l1_str\n",
    "from machine_learning.utils.utils_mnist import load_mnist_data_for_autoencoder\n",
    "from machine_learning.utils.utils_nn import init_loss, train\n",
    "from machine_learning.utils.utils_plot import plot_mnist_images"
   ]
  },
  {
   "cell_type": "code",
   "execution_count": 2,
   "id": "b531d723",
   "metadata": {},
   "outputs": [],
   "source": [
    "plt.style.use('seaborn-whitegrid')\n",
    "sns.set_color_codes()\n",
    "\n",
    "figsize = (20, 4)"
   ]
  },
  {
   "cell_type": "code",
   "execution_count": 5,
   "id": "9dbd37a2",
   "metadata": {},
   "outputs": [
    {
     "data": {
      "text/plain": [
       "<torch._C.Generator at 0x157286630>"
      ]
     },
     "execution_count": 5,
     "metadata": {},
     "output_type": "execute_result"
    }
   ],
   "source": [
    "torch.manual_seed(0)"
   ]
  },
  {
   "cell_type": "markdown",
   "id": "a633c734",
   "metadata": {},
   "source": [
    "### data"
   ]
  },
  {
   "cell_type": "code",
   "execution_count": 6,
   "id": "366eba9a",
   "metadata": {},
   "outputs": [],
   "source": [
    "dirpath = \"../data/pytorch_mnist\"\n",
    "X_train_loader, X_val_loader, X_test_loader = load_mnist_data_for_autoencoder(dirpath, flatten=True)\n",
    "X_test, _ = next(iter(X_test_loader))"
   ]
  },
  {
   "cell_type": "code",
   "execution_count": 7,
   "id": "4412a9c2",
   "metadata": {},
   "outputs": [],
   "source": [
    "x_dim = 784\n",
    "z_dim = 32\n",
    "h_dims = [128, 64]"
   ]
  },
  {
   "cell_type": "code",
   "execution_count": 8,
   "id": "4146a110",
   "metadata": {},
   "outputs": [],
   "source": [
    "n_epochs = 50\n",
    "patience = 50"
   ]
  },
  {
   "cell_type": "code",
   "execution_count": 9,
   "id": "864a2a96",
   "metadata": {},
   "outputs": [],
   "source": [
    "verbose = True\n",
    "verbose_freq = n_epochs / 10"
   ]
  },
  {
   "cell_type": "code",
   "execution_count": 10,
   "id": "441372d0",
   "metadata": {},
   "outputs": [],
   "source": [
    "n_samples = 10\n",
    "n_rows = 2"
   ]
  },
  {
   "cell_type": "markdown",
   "id": "0bbe2ddc",
   "metadata": {},
   "source": [
    "### zero hidden layers"
   ]
  },
  {
   "cell_type": "code",
   "execution_count": 11,
   "id": "b31b8acd",
   "metadata": {},
   "outputs": [],
   "source": [
    "coder_configs = FeedforwardCoderConfigs(x_dim=x_dim, z_dim=z_dim, batch_norm=True)"
   ]
  },
  {
   "cell_type": "code",
   "execution_count": 12,
   "id": "f459cf0e",
   "metadata": {},
   "outputs": [],
   "source": [
    "encoder = init_encoder(**coder_configs.dict())\n",
    "decoder = init_decoder(**coder_configs.dict())\n",
    "model = FeedforwardAutoencoder(coder_configs, encoder, coder_configs, decoder)"
   ]
  },
  {
   "cell_type": "code",
   "execution_count": 13,
   "id": "15920cb1",
   "metadata": {},
   "outputs": [],
   "source": [
    "optimizer_configs = OptimizerConfigs()"
   ]
  },
  {
   "cell_type": "code",
   "execution_count": 14,
   "id": "77f7386d",
   "metadata": {},
   "outputs": [],
   "source": [
    "configs = TrainConfigs(optimizer_configs=optimizer_configs, n_epochs=n_epochs, patience=patience)"
   ]
  },
  {
   "cell_type": "code",
   "execution_count": 15,
   "id": "31f76efc",
   "metadata": {},
   "outputs": [],
   "source": [
    "criterion = init_loss(bce_loss_str)"
   ]
  },
  {
   "cell_type": "code",
   "execution_count": 16,
   "id": "7596fb7d",
   "metadata": {},
   "outputs": [
    {
     "name": "stdout",
     "output_type": "stream",
     "text": [
      "epoch 0, train loss 0.0012524641805017988, val loss 0.0008525689877569675\n",
      "epoch 5, train loss 0.000499813737347722, val loss 0.0004896143556882938\n",
      "epoch 10, train loss 0.0004326740309285621, val loss 0.0004319151248782873\n",
      "epoch 15, train loss 0.0004157663903509577, val loss 0.0004177235395958026\n",
      "epoch 20, train loss 0.00041122624309112627, val loss 0.0004136787485331297\n",
      "epoch 25, train loss 0.0004091515483645101, val loss 0.0004118160487463077\n",
      "epoch 30, train loss 0.00040791814339657625, val loss 0.0004107349111388127\n",
      "epoch 35, train loss 0.0004070885746429364, val loss 0.0004100585741301378\n",
      "epoch 40, train loss 0.0004064927073195577, val loss 0.0004095945643881957\n",
      "epoch 45, train loss 0.0004060483194577197, val loss 0.0004092690863957008\n"
     ]
    }
   ],
   "source": [
    "best_state_dict, best_val_loss, best_epoch = train(configs, model, X_train_loader, X_val_loader, \n",
    "                                                criterion, verbose, verbose_freq)"
   ]
  },
  {
   "cell_type": "code",
   "execution_count": 17,
   "id": "cc0b8f36",
   "metadata": {},
   "outputs": [
    {
     "data": {
      "text/plain": [
       "(0.0004090673252940178, 49)"
      ]
     },
     "execution_count": 17,
     "metadata": {},
     "output_type": "execute_result"
    }
   ],
   "source": [
    "best_val_loss, best_epoch"
   ]
  },
  {
   "cell_type": "code",
   "execution_count": 18,
   "id": "a8cd3c3c",
   "metadata": {},
   "outputs": [
    {
     "data": {
      "text/plain": [
       "<All keys matched successfully>"
      ]
     },
     "execution_count": 18,
     "metadata": {},
     "output_type": "execute_result"
    }
   ],
   "source": [
    "encoder = init_encoder(**coder_configs.dict())\n",
    "decoder = init_decoder(**coder_configs.dict())\n",
    "best_model = FeedforwardAutoencoder(coder_configs, encoder, coder_configs, decoder)\n",
    "best_model.load_state_dict(best_state_dict)"
   ]
  },
  {
   "cell_type": "code",
   "execution_count": 19,
   "id": "84278bb8",
   "metadata": {},
   "outputs": [],
   "source": [
    "best_model.eval()\n",
    "samples = X_test[:n_samples]\n",
    "samples_hat = best_model(samples)\n",
    "samples_hat = samples_hat.detach().numpy()"
   ]
  },
  {
   "cell_type": "code",
   "execution_count": 20,
   "id": "1856f20b",
   "metadata": {},
   "outputs": [
    {
     "data": {
      "image/png": "[encoded data removed]",
      "text/plain": [
       "<Figure size 1440x288 with 10 Axes>"
      ]
     },
     "metadata": {},
     "output_type": "display_data"
    }
   ],
   "source": [
    "plot_mnist_images(samples, figsize)"
   ]
  },
  {
   "cell_type": "code",
   "execution_count": 21,
   "id": "cb6ea2c4",
   "metadata": {},
   "outputs": [
    {
     "data": {
      "image/png": "[encoded data removed]",
      "text/plain": [
       "<Figure size 1440x288 with 10 Axes>"
      ]
     },
     "metadata": {},
     "output_type": "display_data"
    }
   ],
   "source": [
    "plot_mnist_images(samples_hat, figsize)"
   ]
  },
  {
   "cell_type": "markdown",
   "id": "fb7ddcb4",
   "metadata": {},
   "source": [
    "### 2 hidden layers"
   ]
  },
  {
   "cell_type": "code",
   "execution_count": 22,
   "id": "442a9f56",
   "metadata": {},
   "outputs": [],
   "source": [
    "coder_configs = FeedforwardCoderConfigs(x_dim=x_dim, z_dim=z_dim, h_dims=h_dims, batch_norm=False)"
   ]
  },
  {
   "cell_type": "code",
   "execution_count": 23,
   "id": "4759a9a1",
   "metadata": {},
   "outputs": [],
   "source": [
    "encoder = init_encoder(**coder_configs.dict())\n",
    "decoder = init_decoder(**coder_configs.dict())\n",
    "model = FeedforwardAutoencoder(coder_configs, encoder, coder_configs, decoder)"
   ]
  },
  {
   "cell_type": "code",
   "execution_count": 24,
   "id": "37783084",
   "metadata": {},
   "outputs": [],
   "source": [
    "optimizer_configs = OptimizerConfigs()"
   ]
  },
  {
   "cell_type": "code",
   "execution_count": 25,
   "id": "d1beee9b",
   "metadata": {},
   "outputs": [],
   "source": [
    "configs = TrainConfigs(optimizer_configs=optimizer_configs, n_epochs=n_epochs, patience=patience)"
   ]
  },
  {
   "cell_type": "code",
   "execution_count": 26,
   "id": "629eef29",
   "metadata": {},
   "outputs": [],
   "source": [
    "criterion = init_loss(bce_loss_str)"
   ]
  },
  {
   "cell_type": "code",
   "execution_count": 27,
   "id": "7513644b",
   "metadata": {},
   "outputs": [
    {
     "name": "stdout",
     "output_type": "stream",
     "text": [
      "epoch 0, train loss 0.0011913072920093934, val loss 0.0009552451396981876\n",
      "epoch 5, train loss 0.0005569241751606265, val loss 0.0005466539959112803\n",
      "epoch 10, train loss 0.0004920384899402659, val loss 0.0004897380974143744\n",
      "epoch 15, train loss 0.00045845015859231355, val loss 0.0004580646542211374\n",
      "epoch 20, train loss 0.00043732316667834917, val loss 0.00043794146242241065\n",
      "epoch 25, train loss 0.0004174715098924935, val loss 0.0004198556616902351\n",
      "epoch 30, train loss 0.00040344841545447707, val loss 0.0004062460642307997\n",
      "epoch 35, train loss 0.0003907761344065269, val loss 0.0003947023743142684\n",
      "epoch 40, train loss 0.00038329853086421886, val loss 0.00038711081879834333\n",
      "epoch 45, train loss 0.0003783505560519795, val loss 0.00038255799934267995\n"
     ]
    }
   ],
   "source": [
    "best_state_dict, _, _ = train(configs, model, X_train_loader, X_val_loader, \n",
    "                                                criterion, verbose, verbose_freq)"
   ]
  },
  {
   "cell_type": "code",
   "execution_count": 28,
   "id": "30aeafae",
   "metadata": {},
   "outputs": [
    {
     "data": {
      "text/plain": [
       "<All keys matched successfully>"
      ]
     },
     "execution_count": 28,
     "metadata": {},
     "output_type": "execute_result"
    }
   ],
   "source": [
    "encoder = init_encoder(**coder_configs.dict())\n",
    "decoder = init_decoder(**coder_configs.dict())\n",
    "best_model = FeedforwardAutoencoder(coder_configs, encoder, coder_configs, decoder)\n",
    "best_model.load_state_dict(best_state_dict)"
   ]
  },
  {
   "cell_type": "code",
   "execution_count": 29,
   "id": "61df4ee9",
   "metadata": {},
   "outputs": [],
   "source": [
    "best_model.eval()\n",
    "samples = X_test[:n_samples]\n",
    "samples_hat = best_model(samples)\n",
    "samples_hat = samples_hat.detach().numpy()"
   ]
  },
  {
   "cell_type": "code",
   "execution_count": 30,
   "id": "28b7221d",
   "metadata": {},
   "outputs": [
    {
     "data": {
      "image/png": "[encoded data removed]",
      "text/plain": [
       "<Figure size 1440x288 with 10 Axes>"
      ]
     },
     "metadata": {},
     "output_type": "display_data"
    }
   ],
   "source": [
    "plot_mnist_images(samples, figsize)"
   ]
  },
  {
   "cell_type": "code",
   "execution_count": 31,
   "id": "0422cda5",
   "metadata": {},
   "outputs": [
    {
     "data": {
      "image/png": "[encoded data removed]",
      "text/plain": [
       "<Figure size 1440x288 with 10 Axes>"
      ]
     },
     "metadata": {},
     "output_type": "display_data"
    }
   ],
   "source": [
    "plot_mnist_images(samples_hat, figsize)"
   ]
  },
  {
   "cell_type": "code",
   "execution_count": 32,
   "id": "b63877dd",
   "metadata": {},
   "outputs": [
    {
     "data": {
      "text/plain": [
       "tensor(5.6140, grad_fn=<MeanBackward0>)"
      ]
     },
     "execution_count": 32,
     "metadata": {},
     "output_type": "execute_result"
    }
   ],
   "source": [
    "Z_val = best_model.encode(X_test)\n",
    "Z_val.mean()"
   ]
  },
  {
   "cell_type": "markdown",
   "id": "9de40b1f",
   "metadata": {},
   "source": [
    "### 2 hidden layers and L1 regularization"
   ]
  },
  {
   "cell_type": "code",
   "execution_count": 33,
   "id": "7326f471",
   "metadata": {},
   "outputs": [],
   "source": [
    "coder_configs = FeedforwardCoderConfigs(x_dim=x_dim, z_dim=z_dim, h_dims=h_dims, batch_norm=False)"
   ]
  },
  {
   "cell_type": "code",
   "execution_count": 34,
   "id": "965aa6df",
   "metadata": {},
   "outputs": [],
   "source": [
    "encoder = init_encoder(**coder_configs.dict())\n",
    "decoder = init_decoder(**coder_configs.dict())\n",
    "model = FeedforwardAutoencoder(coder_configs, encoder, coder_configs, decoder)"
   ]
  },
  {
   "cell_type": "code",
   "execution_count": 35,
   "id": "7d79592f",
   "metadata": {},
   "outputs": [],
   "source": [
    "optimizer_configs = OptimizerConfigs(lamda=10e-6, regularizer_name=l1_str)"
   ]
  },
  {
   "cell_type": "code",
   "execution_count": 36,
   "id": "ce21a66d",
   "metadata": {},
   "outputs": [],
   "source": [
    "configs = TrainConfigs(optimizer_configs=optimizer_configs, n_epochs=n_epochs, patience=patience)"
   ]
  },
  {
   "cell_type": "code",
   "execution_count": 37,
   "id": "78dfb9b9",
   "metadata": {},
   "outputs": [],
   "source": [
    "criterion = init_loss(bce_loss_str)"
   ]
  },
  {
   "cell_type": "code",
   "execution_count": 38,
   "id": "fe4ca73f",
   "metadata": {},
   "outputs": [
    {
     "name": "stdout",
     "output_type": "stream",
     "text": [
      "epoch 0, train loss 0.0013445095991094908, val loss 0.0009992419170836609\n",
      "epoch 5, train loss 0.0008892926098778844, val loss 0.0008245849385857582\n",
      "epoch 10, train loss 0.0007786985306690137, val loss 0.0007233320909241836\n",
      "epoch 15, train loss 0.0007183249751105905, val loss 0.0006650888336201509\n",
      "epoch 20, train loss 0.0007000148821001251, val loss 0.0006507862980167071\n",
      "epoch 25, train loss 0.000687301464068393, val loss 0.000632895290851593\n",
      "epoch 30, train loss 0.0006663589474434654, val loss 0.0006155443166693051\n",
      "epoch 35, train loss 0.0006589561228950818, val loss 0.000608881663531065\n",
      "epoch 40, train loss 0.0006541755013167858, val loss 0.0006043667892615001\n",
      "epoch 45, train loss 0.0006504083536565304, val loss 0.000600457590073347\n"
     ]
    }
   ],
   "source": [
    "best_state_dict, _, _ = train(configs, model, X_train_loader, X_val_loader, \n",
    "                                                criterion, verbose, verbose_freq)"
   ]
  },
  {
   "cell_type": "code",
   "execution_count": 39,
   "id": "0386ae80",
   "metadata": {},
   "outputs": [
    {
     "data": {
      "text/plain": [
       "<All keys matched successfully>"
      ]
     },
     "execution_count": 39,
     "metadata": {},
     "output_type": "execute_result"
    }
   ],
   "source": [
    "encoder = init_encoder(**coder_configs.dict())\n",
    "decoder = init_decoder(**coder_configs.dict())\n",
    "best_model = FeedforwardAutoencoder(coder_configs, encoder, coder_configs, decoder)\n",
    "best_model.load_state_dict(best_state_dict)"
   ]
  },
  {
   "cell_type": "code",
   "execution_count": 40,
   "id": "6d7f4971",
   "metadata": {},
   "outputs": [],
   "source": [
    "best_model.eval()\n",
    "samples = X_test[:n_samples]\n",
    "samples_hat = best_model(samples)\n",
    "samples_hat = samples_hat.detach().numpy()"
   ]
  },
  {
   "cell_type": "code",
   "execution_count": 41,
   "id": "e025c8c2",
   "metadata": {},
   "outputs": [
    {
     "data": {
      "image/png": "[encoded data removed]",
      "text/plain": [
       "<Figure size 1440x288 with 10 Axes>"
      ]
     },
     "metadata": {},
     "output_type": "display_data"
    }
   ],
   "source": [
    "plot_mnist_images(samples, figsize)"
   ]
  },
  {
   "cell_type": "code",
   "execution_count": 42,
   "id": "9579de62",
   "metadata": {},
   "outputs": [
    {
     "data": {
      "image/png": "[encoded data removed]",
      "text/plain": [
       "<Figure size 1440x288 with 10 Axes>"
      ]
     },
     "metadata": {},
     "output_type": "display_data"
    }
   ],
   "source": [
    "plot_mnist_images(samples_hat, figsize)"
   ]
  },
  {
   "cell_type": "code",
   "execution_count": 43,
   "id": "edf5548f",
   "metadata": {},
   "outputs": [
    {
     "data": {
      "text/plain": [
       "tensor(5.4040, grad_fn=<MeanBackward0>)"
      ]
     },
     "execution_count": 43,
     "metadata": {},
     "output_type": "execute_result"
    }
   ],
   "source": [
    "# losing accuracy, gaining sparsity\n",
    "Z_val = best_model.encode(X_test)\n",
    "Z_val.mean()"
   ]
  },
  {
   "cell_type": "markdown",
   "id": "a3df9951",
   "metadata": {},
   "source": [
    "### saving and loading"
   ]
  },
  {
   "cell_type": "code",
   "execution_count": 44,
   "id": "21b4281d",
   "metadata": {},
   "outputs": [],
   "source": [
    "filename_pt = \"feedforward_autoencoder.pt\"\n",
    "save(best_model, filename_pt)"
   ]
  },
  {
   "cell_type": "code",
   "execution_count": 45,
   "id": "705b0ccc",
   "metadata": {},
   "outputs": [],
   "source": [
    "saved_model = load(filename)"
   ]
  },
  {
   "cell_type": "code",
   "execution_count": 46,
   "id": "040a8b56",
   "metadata": {},
   "outputs": [],
   "source": [
    "saved_model.eval()\n",
    "samples_hat = saved_model(samples)\n",
    "samples_hat = samples_hat.detach().numpy()"
   ]
  },
  {
   "cell_type": "code",
   "execution_count": 47,
   "id": "cc27f784",
   "metadata": {},
   "outputs": [
    {
     "data": {
      "image/png": "[encoded data removed]",
      "text/plain": [
       "<Figure size 1440x288 with 10 Axes>"
      ]
     },
     "metadata": {},
     "output_type": "display_data"
    }
   ],
   "source": [
    "plot_mnist_images(samples_hat, figsize)"
   ]
  },
  {
   "cell_type": "markdown",
   "id": "c2145e32",
   "metadata": {},
   "source": [
    "### visualizing network architecture"
   ]
  },
  {
   "cell_type": "code",
   "execution_count": 49,
   "id": "db70686f",
   "metadata": {},
   "outputs": [],
   "source": [
    "filename_onnx = \"feedforward_autoencoder.onnx\"\n",
    "dummy_input = torch.randn(10, 1, 784)\n",
    "torch.onnx.export(best_model, dummy_input, filename_onnx)"
   ]
  },
  {
   "cell_type": "code",
   "execution_count": 52,
   "id": "ad53e408",
   "metadata": {},
   "outputs": [
    {
     "name": "stdout",
     "output_type": "stream",
     "text": [
      "Serving 'feedforward_autoencoder.onnx' at http://localhost:8080\n"
     ]
    },
    {
     "data": {
      "text/plain": [
       "('localhost', 8080)"
      ]
     },
     "execution_count": 52,
     "metadata": {},
     "output_type": "execute_result"
    }
   ],
   "source": [
    "netron.start(filename_onnx)"
   ]
  }
 ],
 "metadata": {
  "kernelspec": {
   "display_name": "machine_learning",
   "language": "python",
   "name": "machine_learning"
  },
  "language_info": {
   "codemirror_mode": {
    "name": "ipython",
    "version": 3
   },
   "file_extension": ".py",
   "mimetype": "text/x-python",
   "name": "python",
   "nbconvert_exporter": "python",
   "pygments_lexer": "ipython3",
   "version": "3.7.8"
  }
 },
 "nbformat": 4,
 "nbformat_minor": 5
}
