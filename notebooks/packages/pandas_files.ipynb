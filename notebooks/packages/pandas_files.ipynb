{
 "cells": [
  {
   "cell_type": "markdown",
   "metadata": {},
   "source": [
    "### read and write files"
   ]
  },
  {
   "cell_type": "code",
   "execution_count": 1,
   "metadata": {},
   "outputs": [],
   "source": [
    "import pandas as pd\n",
    "import numpy as np"
   ]
  },
  {
   "cell_type": "markdown",
   "metadata": {},
   "source": [
    "#### text files"
   ]
  },
  {
   "cell_type": "code",
   "execution_count": 2,
   "metadata": {},
   "outputs": [
    {
     "data": {
      "text/plain": [
       "6"
      ]
     },
     "execution_count": 2,
     "metadata": {},
     "output_type": "execute_result"
    }
   ],
   "source": [
    "text_filepath = \"files.txt\"\n",
    "f = open(text_filepath, 'w')\n",
    "f.write('Name Age')\n",
    "f.write('\\naaa 1')\n",
    "f.write('\\nbbb 2')"
   ]
  },
  {
   "cell_type": "code",
   "execution_count": 3,
   "metadata": {},
   "outputs": [],
   "source": [
    "with open(text_filepath, 'w') as f:\n",
    "    f.write('Name Age')\n",
    "    f.write('\\naaa 1')\n",
    "    f.write('\\nbbb 2')"
   ]
  },
  {
   "cell_type": "code",
   "execution_count": 4,
   "metadata": {},
   "outputs": [
    {
     "name": "stdout",
     "output_type": "stream",
     "text": [
      "Name Age\n",
      "aaa 1\n",
      "bbb 2\n"
     ]
    }
   ],
   "source": [
    "with open(text_filepath, 'r') as f:\n",
    "    lines = f.readlines()\n",
    "for line in lines:\n",
    "    print(line.strip())"
   ]
  },
  {
   "cell_type": "code",
   "execution_count": 5,
   "metadata": {},
   "outputs": [],
   "source": [
    "with open(text_filepath, 'a') as f:\n",
    "    f.write('\\nccc 3')"
   ]
  },
  {
   "cell_type": "code",
   "execution_count": 6,
   "metadata": {},
   "outputs": [
    {
     "name": "stdout",
     "output_type": "stream",
     "text": [
      "Name Age\n",
      "aaa 1\n",
      "bbb 2\n",
      "ccc 3\n"
     ]
    }
   ],
   "source": [
    "with open(text_filepath, 'r') as f:\n",
    "    lines = f.readlines()\n",
    "for line in lines:\n",
    "    print(line.strip())"
   ]
  },
  {
   "cell_type": "markdown",
   "metadata": {},
   "source": [
    "#### csv files"
   ]
  },
  {
   "cell_type": "code",
   "execution_count": 7,
   "metadata": {},
   "outputs": [
    {
     "data": {
      "text/plain": [
       "1000"
      ]
     },
     "execution_count": 7,
     "metadata": {},
     "output_type": "execute_result"
    }
   ],
   "source": [
    "start_date = \"1/1/2020\"\n",
    "n_days = 1000\n",
    "time_series = pd.Series(np.random.randn(n_days), index = pd.date_range(start_date, periods = 1000))\n",
    "len(time_series)"
   ]
  },
  {
   "cell_type": "code",
   "execution_count": 8,
   "metadata": {},
   "outputs": [],
   "source": [
    "n_features = 4\n",
    "n_samples = n_days\n",
    "data = np.random.randn(n_samples, n_features)"
   ]
  },
  {
   "cell_type": "code",
   "execution_count": 9,
   "metadata": {},
   "outputs": [
    {
     "data": {
      "text/plain": [
       "1000"
      ]
     },
     "execution_count": 9,
     "metadata": {},
     "output_type": "execute_result"
    }
   ],
   "source": [
    "columns = ['A', 'B', 'C', 'D']\n",
    "df = pd.DataFrame(data, index = time_series.index, columns=columns)\n",
    "len(df)"
   ]
  },
  {
   "cell_type": "code",
   "execution_count": 10,
   "metadata": {},
   "outputs": [
    {
     "data": {
      "text/html": [
       "<div>\n",
       "<style scoped>\n",
       "    .dataframe tbody tr th:only-of-type {\n",
       "        vertical-align: middle;\n",
       "    }\n",
       "\n",
       "    .dataframe tbody tr th {\n",
       "        vertical-align: top;\n",
       "    }\n",
       "\n",
       "    .dataframe thead th {\n",
       "        text-align: right;\n",
       "    }\n",
       "</style>\n",
       "<table border=\"1\" class=\"dataframe\">\n",
       "  <thead>\n",
       "    <tr style=\"text-align: right;\">\n",
       "      <th></th>\n",
       "      <th>A</th>\n",
       "      <th>B</th>\n",
       "      <th>C</th>\n",
       "      <th>D</th>\n",
       "    </tr>\n",
       "  </thead>\n",
       "  <tbody>\n",
       "    <tr>\n",
       "      <th>2020-01-01</th>\n",
       "      <td>-1.441944</td>\n",
       "      <td>-0.461317</td>\n",
       "      <td>-0.493505</td>\n",
       "      <td>-0.441948</td>\n",
       "    </tr>\n",
       "    <tr>\n",
       "      <th>2020-01-02</th>\n",
       "      <td>0.415959</td>\n",
       "      <td>0.460783</td>\n",
       "      <td>-0.165002</td>\n",
       "      <td>-0.879958</td>\n",
       "    </tr>\n",
       "    <tr>\n",
       "      <th>2020-01-03</th>\n",
       "      <td>0.463483</td>\n",
       "      <td>-0.126835</td>\n",
       "      <td>-0.312765</td>\n",
       "      <td>-0.512762</td>\n",
       "    </tr>\n",
       "    <tr>\n",
       "      <th>2020-01-04</th>\n",
       "      <td>0.408745</td>\n",
       "      <td>-1.155402</td>\n",
       "      <td>1.285008</td>\n",
       "      <td>0.074407</td>\n",
       "    </tr>\n",
       "    <tr>\n",
       "      <th>2020-01-05</th>\n",
       "      <td>-1.121135</td>\n",
       "      <td>-1.364487</td>\n",
       "      <td>-0.991210</td>\n",
       "      <td>1.483657</td>\n",
       "    </tr>\n",
       "  </tbody>\n",
       "</table>\n",
       "</div>"
      ],
      "text/plain": [
       "                   A         B         C         D\n",
       "2020-01-01 -1.441944 -0.461317 -0.493505 -0.441948\n",
       "2020-01-02  0.415959  0.460783 -0.165002 -0.879958\n",
       "2020-01-03  0.463483 -0.126835 -0.312765 -0.512762\n",
       "2020-01-04  0.408745 -1.155402  1.285008  0.074407\n",
       "2020-01-05 -1.121135 -1.364487 -0.991210  1.483657"
      ]
     },
     "execution_count": 10,
     "metadata": {},
     "output_type": "execute_result"
    }
   ],
   "source": [
    "df.head()"
   ]
  },
  {
   "cell_type": "code",
   "execution_count": 11,
   "metadata": {},
   "outputs": [
    {
     "data": {
      "text/html": [
       "<div>\n",
       "<style scoped>\n",
       "    .dataframe tbody tr th:only-of-type {\n",
       "        vertical-align: middle;\n",
       "    }\n",
       "\n",
       "    .dataframe tbody tr th {\n",
       "        vertical-align: top;\n",
       "    }\n",
       "\n",
       "    .dataframe thead th {\n",
       "        text-align: right;\n",
       "    }\n",
       "</style>\n",
       "<table border=\"1\" class=\"dataframe\">\n",
       "  <thead>\n",
       "    <tr style=\"text-align: right;\">\n",
       "      <th></th>\n",
       "      <th>A</th>\n",
       "      <th>B</th>\n",
       "      <th>C</th>\n",
       "      <th>D</th>\n",
       "    </tr>\n",
       "    <tr>\n",
       "      <th>date</th>\n",
       "      <th></th>\n",
       "      <th></th>\n",
       "      <th></th>\n",
       "      <th></th>\n",
       "    </tr>\n",
       "  </thead>\n",
       "  <tbody>\n",
       "    <tr>\n",
       "      <th>2020-01-01</th>\n",
       "      <td>-1.441944</td>\n",
       "      <td>-0.461317</td>\n",
       "      <td>-0.493505</td>\n",
       "      <td>-0.441948</td>\n",
       "    </tr>\n",
       "    <tr>\n",
       "      <th>2020-01-02</th>\n",
       "      <td>0.415959</td>\n",
       "      <td>0.460783</td>\n",
       "      <td>-0.165002</td>\n",
       "      <td>-0.879958</td>\n",
       "    </tr>\n",
       "    <tr>\n",
       "      <th>2020-01-03</th>\n",
       "      <td>0.463483</td>\n",
       "      <td>-0.126835</td>\n",
       "      <td>-0.312765</td>\n",
       "      <td>-0.512762</td>\n",
       "    </tr>\n",
       "    <tr>\n",
       "      <th>2020-01-04</th>\n",
       "      <td>0.408745</td>\n",
       "      <td>-1.155402</td>\n",
       "      <td>1.285008</td>\n",
       "      <td>0.074407</td>\n",
       "    </tr>\n",
       "    <tr>\n",
       "      <th>2020-01-05</th>\n",
       "      <td>-1.121135</td>\n",
       "      <td>-1.364487</td>\n",
       "      <td>-0.991210</td>\n",
       "      <td>1.483657</td>\n",
       "    </tr>\n",
       "  </tbody>\n",
       "</table>\n",
       "</div>"
      ],
      "text/plain": [
       "                   A         B         C         D\n",
       "date                                              \n",
       "2020-01-01 -1.441944 -0.461317 -0.493505 -0.441948\n",
       "2020-01-02  0.415959  0.460783 -0.165002 -0.879958\n",
       "2020-01-03  0.463483 -0.126835 -0.312765 -0.512762\n",
       "2020-01-04  0.408745 -1.155402  1.285008  0.074407\n",
       "2020-01-05 -1.121135 -1.364487 -0.991210  1.483657"
      ]
     },
     "execution_count": 11,
     "metadata": {},
     "output_type": "execute_result"
    }
   ],
   "source": [
    "df.index.name = \"date\"\n",
    "df.head()"
   ]
  },
  {
   "cell_type": "code",
   "execution_count": 12,
   "metadata": {},
   "outputs": [
    {
     "data": {
      "text/html": [
       "<div>\n",
       "<style scoped>\n",
       "    .dataframe tbody tr th:only-of-type {\n",
       "        vertical-align: middle;\n",
       "    }\n",
       "\n",
       "    .dataframe tbody tr th {\n",
       "        vertical-align: top;\n",
       "    }\n",
       "\n",
       "    .dataframe thead th {\n",
       "        text-align: right;\n",
       "    }\n",
       "</style>\n",
       "<table border=\"1\" class=\"dataframe\">\n",
       "  <thead>\n",
       "    <tr style=\"text-align: right;\">\n",
       "      <th></th>\n",
       "      <th>A</th>\n",
       "      <th>B</th>\n",
       "      <th>C</th>\n",
       "      <th>D</th>\n",
       "    </tr>\n",
       "    <tr>\n",
       "      <th>date</th>\n",
       "      <th></th>\n",
       "      <th></th>\n",
       "      <th></th>\n",
       "      <th></th>\n",
       "    </tr>\n",
       "  </thead>\n",
       "  <tbody>\n",
       "    <tr>\n",
       "      <th>2020-01-01</th>\n",
       "      <td>-1.441944</td>\n",
       "      <td>-0.461317</td>\n",
       "      <td>-0.493505</td>\n",
       "      <td>-0.441948</td>\n",
       "    </tr>\n",
       "    <tr>\n",
       "      <th>2020-01-02</th>\n",
       "      <td>-1.025984</td>\n",
       "      <td>-0.000534</td>\n",
       "      <td>-0.658507</td>\n",
       "      <td>-1.321907</td>\n",
       "    </tr>\n",
       "    <tr>\n",
       "      <th>2020-01-03</th>\n",
       "      <td>-0.562502</td>\n",
       "      <td>-0.127369</td>\n",
       "      <td>-0.971272</td>\n",
       "      <td>-1.834669</td>\n",
       "    </tr>\n",
       "    <tr>\n",
       "      <th>2020-01-04</th>\n",
       "      <td>-0.153756</td>\n",
       "      <td>-1.282771</td>\n",
       "      <td>0.313736</td>\n",
       "      <td>-1.760262</td>\n",
       "    </tr>\n",
       "    <tr>\n",
       "      <th>2020-01-05</th>\n",
       "      <td>-1.274892</td>\n",
       "      <td>-2.647258</td>\n",
       "      <td>-0.677474</td>\n",
       "      <td>-0.276605</td>\n",
       "    </tr>\n",
       "  </tbody>\n",
       "</table>\n",
       "</div>"
      ],
      "text/plain": [
       "                   A         B         C         D\n",
       "date                                              \n",
       "2020-01-01 -1.441944 -0.461317 -0.493505 -0.441948\n",
       "2020-01-02 -1.025984 -0.000534 -0.658507 -1.321907\n",
       "2020-01-03 -0.562502 -0.127369 -0.971272 -1.834669\n",
       "2020-01-04 -0.153756 -1.282771  0.313736 -1.760262\n",
       "2020-01-05 -1.274892 -2.647258 -0.677474 -0.276605"
      ]
     },
     "execution_count": 12,
     "metadata": {},
     "output_type": "execute_result"
    }
   ],
   "source": [
    "df = df.cumsum()  # cumulative sum along index column\n",
    "df.head()"
   ]
  },
  {
   "cell_type": "code",
   "execution_count": 13,
   "metadata": {},
   "outputs": [],
   "source": [
    "csv_filepath = \"files.csv\"\n",
    "df.to_csv(csv_filepath)"
   ]
  },
  {
   "cell_type": "code",
   "execution_count": 14,
   "metadata": {
    "scrolled": true
   },
   "outputs": [
    {
     "data": {
      "text/html": [
       "<div>\n",
       "<style scoped>\n",
       "    .dataframe tbody tr th:only-of-type {\n",
       "        vertical-align: middle;\n",
       "    }\n",
       "\n",
       "    .dataframe tbody tr th {\n",
       "        vertical-align: top;\n",
       "    }\n",
       "\n",
       "    .dataframe thead th {\n",
       "        text-align: right;\n",
       "    }\n",
       "</style>\n",
       "<table border=\"1\" class=\"dataframe\">\n",
       "  <thead>\n",
       "    <tr style=\"text-align: right;\">\n",
       "      <th></th>\n",
       "      <th>A</th>\n",
       "      <th>B</th>\n",
       "      <th>C</th>\n",
       "      <th>D</th>\n",
       "    </tr>\n",
       "    <tr>\n",
       "      <th>date</th>\n",
       "      <th></th>\n",
       "      <th></th>\n",
       "      <th></th>\n",
       "      <th></th>\n",
       "    </tr>\n",
       "  </thead>\n",
       "  <tbody>\n",
       "    <tr>\n",
       "      <th>2020-01-01</th>\n",
       "      <td>-1.441944</td>\n",
       "      <td>-0.461317</td>\n",
       "      <td>-0.493505</td>\n",
       "      <td>-0.441948</td>\n",
       "    </tr>\n",
       "    <tr>\n",
       "      <th>2020-01-02</th>\n",
       "      <td>-1.025984</td>\n",
       "      <td>-0.000534</td>\n",
       "      <td>-0.658507</td>\n",
       "      <td>-1.321907</td>\n",
       "    </tr>\n",
       "    <tr>\n",
       "      <th>2020-01-03</th>\n",
       "      <td>-0.562502</td>\n",
       "      <td>-0.127369</td>\n",
       "      <td>-0.971272</td>\n",
       "      <td>-1.834669</td>\n",
       "    </tr>\n",
       "    <tr>\n",
       "      <th>2020-01-04</th>\n",
       "      <td>-0.153756</td>\n",
       "      <td>-1.282771</td>\n",
       "      <td>0.313736</td>\n",
       "      <td>-1.760262</td>\n",
       "    </tr>\n",
       "    <tr>\n",
       "      <th>2020-01-05</th>\n",
       "      <td>-1.274892</td>\n",
       "      <td>-2.647258</td>\n",
       "      <td>-0.677474</td>\n",
       "      <td>-0.276605</td>\n",
       "    </tr>\n",
       "  </tbody>\n",
       "</table>\n",
       "</div>"
      ],
      "text/plain": [
       "                   A         B         C         D\n",
       "date                                              \n",
       "2020-01-01 -1.441944 -0.461317 -0.493505 -0.441948\n",
       "2020-01-02 -1.025984 -0.000534 -0.658507 -1.321907\n",
       "2020-01-03 -0.562502 -0.127369 -0.971272 -1.834669\n",
       "2020-01-04 -0.153756 -1.282771  0.313736 -1.760262\n",
       "2020-01-05 -1.274892 -2.647258 -0.677474 -0.276605"
      ]
     },
     "execution_count": 14,
     "metadata": {},
     "output_type": "execute_result"
    }
   ],
   "source": [
    "df = pd.read_csv('files.csv', index_col=0)\n",
    "df.head()"
   ]
  },
  {
   "cell_type": "code",
   "execution_count": 15,
   "metadata": {},
   "outputs": [],
   "source": [
    "xlsx_filepath = \"files.xlsx\"\n",
    "df.to_excel(xlsx_filepath)"
   ]
  },
  {
   "cell_type": "code",
   "execution_count": 16,
   "metadata": {},
   "outputs": [
    {
     "data": {
      "text/html": [
       "<div>\n",
       "<style scoped>\n",
       "    .dataframe tbody tr th:only-of-type {\n",
       "        vertical-align: middle;\n",
       "    }\n",
       "\n",
       "    .dataframe tbody tr th {\n",
       "        vertical-align: top;\n",
       "    }\n",
       "\n",
       "    .dataframe thead th {\n",
       "        text-align: right;\n",
       "    }\n",
       "</style>\n",
       "<table border=\"1\" class=\"dataframe\">\n",
       "  <thead>\n",
       "    <tr style=\"text-align: right;\">\n",
       "      <th></th>\n",
       "      <th>A</th>\n",
       "      <th>B</th>\n",
       "      <th>C</th>\n",
       "      <th>D</th>\n",
       "    </tr>\n",
       "    <tr>\n",
       "      <th>date</th>\n",
       "      <th></th>\n",
       "      <th></th>\n",
       "      <th></th>\n",
       "      <th></th>\n",
       "    </tr>\n",
       "  </thead>\n",
       "  <tbody>\n",
       "    <tr>\n",
       "      <th>2020-01-01</th>\n",
       "      <td>-1.441944</td>\n",
       "      <td>-0.461317</td>\n",
       "      <td>-0.493505</td>\n",
       "      <td>-0.441948</td>\n",
       "    </tr>\n",
       "    <tr>\n",
       "      <th>2020-01-02</th>\n",
       "      <td>-1.025984</td>\n",
       "      <td>-0.000534</td>\n",
       "      <td>-0.658507</td>\n",
       "      <td>-1.321907</td>\n",
       "    </tr>\n",
       "    <tr>\n",
       "      <th>2020-01-03</th>\n",
       "      <td>-0.562502</td>\n",
       "      <td>-0.127369</td>\n",
       "      <td>-0.971272</td>\n",
       "      <td>-1.834669</td>\n",
       "    </tr>\n",
       "    <tr>\n",
       "      <th>2020-01-04</th>\n",
       "      <td>-0.153756</td>\n",
       "      <td>-1.282771</td>\n",
       "      <td>0.313736</td>\n",
       "      <td>-1.760262</td>\n",
       "    </tr>\n",
       "    <tr>\n",
       "      <th>2020-01-05</th>\n",
       "      <td>-1.274892</td>\n",
       "      <td>-2.647258</td>\n",
       "      <td>-0.677474</td>\n",
       "      <td>-0.276605</td>\n",
       "    </tr>\n",
       "  </tbody>\n",
       "</table>\n",
       "</div>"
      ],
      "text/plain": [
       "                   A         B         C         D\n",
       "date                                              \n",
       "2020-01-01 -1.441944 -0.461317 -0.493505 -0.441948\n",
       "2020-01-02 -1.025984 -0.000534 -0.658507 -1.321907\n",
       "2020-01-03 -0.562502 -0.127369 -0.971272 -1.834669\n",
       "2020-01-04 -0.153756 -1.282771  0.313736 -1.760262\n",
       "2020-01-05 -1.274892 -2.647258 -0.677474 -0.276605"
      ]
     },
     "execution_count": 16,
     "metadata": {},
     "output_type": "execute_result"
    }
   ],
   "source": [
    "df = pd.read_excel(xlsx_filepath, index_col=0)\n",
    "df.head()"
   ]
  }
 ],
 "metadata": {
  "kernelspec": {
   "display_name": "machine_learning",
   "language": "python",
   "name": "machine_learning"
  },
  "language_info": {
   "codemirror_mode": {
    "name": "ipython",
    "version": 3
   },
   "file_extension": ".py",
   "mimetype": "text/x-python",
   "name": "python",
   "nbconvert_exporter": "python",
   "pygments_lexer": "ipython3",
   "version": "3.7.8"
  }
 },
 "nbformat": 4,
 "nbformat_minor": 1
}
