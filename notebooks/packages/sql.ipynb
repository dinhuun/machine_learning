{
 "cells": [
  {
   "cell_type": "code",
   "execution_count": 1,
   "id": "7310be86",
   "metadata": {},
   "outputs": [],
   "source": [
    "from string import ascii_uppercase\n",
    "from datetime import datetime\n",
    "from random import randint\n",
    "\n",
    "import sqlite3\n",
    "import pandas as pd"
   ]
  },
  {
   "cell_type": "code",
   "execution_count": 2,
   "id": "5be6ef92",
   "metadata": {},
   "outputs": [],
   "source": [
    "con = sqlite3.connect('flights.db')\n",
    "cur = con.cursor()"
   ]
  },
  {
   "cell_type": "markdown",
   "id": "35f0becf",
   "metadata": {},
   "source": [
    "### getting tables in database"
   ]
  },
  {
   "cell_type": "code",
   "execution_count": 3,
   "id": "11e8ccc0",
   "metadata": {},
   "outputs": [
    {
     "data": {
      "text/plain": [
       "['airports', 'airlines', 'routes']"
      ]
     },
     "execution_count": 3,
     "metadata": {},
     "output_type": "execute_result"
    }
   ],
   "source": [
    "table_names_query = \"select name from sqlite_master where type='table';\"\n",
    "cur.execute(table_names_query)\n",
    "table_names = cur.fetchall()\n",
    "table_names = [table_name[0] for table_name in table_names]\n",
    "table_names"
   ]
  },
  {
   "cell_type": "code",
   "execution_count": 4,
   "id": "71c1c43c",
   "metadata": {},
   "outputs": [
    {
     "name": "stdout",
     "output_type": "stream",
     "text": [
      "airports 8107\n",
      "airlines 6048\n",
      "routes 67663\n"
     ]
    }
   ],
   "source": [
    "for name in table_names:\n",
    "    query = f\"select count(*) from {name}\"\n",
    "    cur.execute(query)\n",
    "    print(f\"{name} {cur.fetchall()[0][0]}\")"
   ]
  },
  {
   "cell_type": "markdown",
   "id": "cb889ef7",
   "metadata": {},
   "source": [
    "### tables"
   ]
  },
  {
   "cell_type": "code",
   "execution_count": 5,
   "id": "22babe71",
   "metadata": {},
   "outputs": [
    {
     "data": {
      "text/html": [
       "<div>\n",
       "<style scoped>\n",
       "    .dataframe tbody tr th:only-of-type {\n",
       "        vertical-align: middle;\n",
       "    }\n",
       "\n",
       "    .dataframe tbody tr th {\n",
       "        vertical-align: top;\n",
       "    }\n",
       "\n",
       "    .dataframe thead th {\n",
       "        text-align: right;\n",
       "    }\n",
       "</style>\n",
       "<table border=\"1\" class=\"dataframe\">\n",
       "  <thead>\n",
       "    <tr style=\"text-align: right;\">\n",
       "      <th></th>\n",
       "      <th>id</th>\n",
       "      <th>name</th>\n",
       "      <th>city</th>\n",
       "      <th>country</th>\n",
       "      <th>code</th>\n",
       "      <th>icao</th>\n",
       "      <th>latitude</th>\n",
       "      <th>longitude</th>\n",
       "      <th>altitude</th>\n",
       "      <th>offset</th>\n",
       "      <th>dst</th>\n",
       "      <th>timezone</th>\n",
       "    </tr>\n",
       "    <tr>\n",
       "      <th>index</th>\n",
       "      <th></th>\n",
       "      <th></th>\n",
       "      <th></th>\n",
       "      <th></th>\n",
       "      <th></th>\n",
       "      <th></th>\n",
       "      <th></th>\n",
       "      <th></th>\n",
       "      <th></th>\n",
       "      <th></th>\n",
       "      <th></th>\n",
       "      <th></th>\n",
       "    </tr>\n",
       "  </thead>\n",
       "  <tbody>\n",
       "    <tr>\n",
       "      <th>0</th>\n",
       "      <td>1</td>\n",
       "      <td>Goroka</td>\n",
       "      <td>Goroka</td>\n",
       "      <td>Papua New Guinea</td>\n",
       "      <td>GKA</td>\n",
       "      <td>AYGA</td>\n",
       "      <td>-6.081689</td>\n",
       "      <td>145.391881</td>\n",
       "      <td>5282</td>\n",
       "      <td>10</td>\n",
       "      <td>U</td>\n",
       "      <td>Pacific/Port_Moresby</td>\n",
       "    </tr>\n",
       "    <tr>\n",
       "      <th>1</th>\n",
       "      <td>2</td>\n",
       "      <td>Madang</td>\n",
       "      <td>Madang</td>\n",
       "      <td>Papua New Guinea</td>\n",
       "      <td>MAG</td>\n",
       "      <td>AYMD</td>\n",
       "      <td>-5.207083</td>\n",
       "      <td>145.7887</td>\n",
       "      <td>20</td>\n",
       "      <td>10</td>\n",
       "      <td>U</td>\n",
       "      <td>Pacific/Port_Moresby</td>\n",
       "    </tr>\n",
       "    <tr>\n",
       "      <th>2</th>\n",
       "      <td>3</td>\n",
       "      <td>Mount Hagen</td>\n",
       "      <td>Mount Hagen</td>\n",
       "      <td>Papua New Guinea</td>\n",
       "      <td>HGU</td>\n",
       "      <td>AYMH</td>\n",
       "      <td>-5.826789</td>\n",
       "      <td>144.295861</td>\n",
       "      <td>5388</td>\n",
       "      <td>10</td>\n",
       "      <td>U</td>\n",
       "      <td>Pacific/Port_Moresby</td>\n",
       "    </tr>\n",
       "    <tr>\n",
       "      <th>3</th>\n",
       "      <td>4</td>\n",
       "      <td>Nadzab</td>\n",
       "      <td>Nadzab</td>\n",
       "      <td>Papua New Guinea</td>\n",
       "      <td>LAE</td>\n",
       "      <td>AYNZ</td>\n",
       "      <td>-6.569828</td>\n",
       "      <td>146.726242</td>\n",
       "      <td>239</td>\n",
       "      <td>10</td>\n",
       "      <td>U</td>\n",
       "      <td>Pacific/Port_Moresby</td>\n",
       "    </tr>\n",
       "    <tr>\n",
       "      <th>4</th>\n",
       "      <td>5</td>\n",
       "      <td>Port Moresby Jacksons Intl</td>\n",
       "      <td>Port Moresby</td>\n",
       "      <td>Papua New Guinea</td>\n",
       "      <td>POM</td>\n",
       "      <td>AYPY</td>\n",
       "      <td>-9.443383</td>\n",
       "      <td>147.22005</td>\n",
       "      <td>146</td>\n",
       "      <td>10</td>\n",
       "      <td>U</td>\n",
       "      <td>Pacific/Port_Moresby</td>\n",
       "    </tr>\n",
       "  </tbody>\n",
       "</table>\n",
       "</div>"
      ],
      "text/plain": [
       "      id                        name          city           country code  \\\n",
       "index                                                                       \n",
       "0      1                      Goroka        Goroka  Papua New Guinea  GKA   \n",
       "1      2                      Madang        Madang  Papua New Guinea  MAG   \n",
       "2      3                 Mount Hagen   Mount Hagen  Papua New Guinea  HGU   \n",
       "3      4                      Nadzab        Nadzab  Papua New Guinea  LAE   \n",
       "4      5  Port Moresby Jacksons Intl  Port Moresby  Papua New Guinea  POM   \n",
       "\n",
       "       icao   latitude   longitude altitude offset dst              timezone  \n",
       "index                                                                         \n",
       "0      AYGA  -6.081689  145.391881     5282     10   U  Pacific/Port_Moresby  \n",
       "1      AYMD  -5.207083    145.7887       20     10   U  Pacific/Port_Moresby  \n",
       "2      AYMH  -5.826789  144.295861     5388     10   U  Pacific/Port_Moresby  \n",
       "3      AYNZ  -6.569828  146.726242      239     10   U  Pacific/Port_Moresby  \n",
       "4      AYPY  -9.443383   147.22005      146     10   U  Pacific/Port_Moresby  "
      ]
     },
     "execution_count": 5,
     "metadata": {},
     "output_type": "execute_result"
    }
   ],
   "source": [
    "get_airports_query = \"select * from airports\"\n",
    "df = pd.read_sql_query(get_airports_query, con, \"index\")\n",
    "df.head()"
   ]
  },
  {
   "cell_type": "code",
   "execution_count": 6,
   "id": "27eb1678",
   "metadata": {},
   "outputs": [
    {
     "data": {
      "text/html": [
       "<div>\n",
       "<style scoped>\n",
       "    .dataframe tbody tr th:only-of-type {\n",
       "        vertical-align: middle;\n",
       "    }\n",
       "\n",
       "    .dataframe tbody tr th {\n",
       "        vertical-align: top;\n",
       "    }\n",
       "\n",
       "    .dataframe thead th {\n",
       "        text-align: right;\n",
       "    }\n",
       "</style>\n",
       "<table border=\"1\" class=\"dataframe\">\n",
       "  <thead>\n",
       "    <tr style=\"text-align: right;\">\n",
       "      <th></th>\n",
       "      <th>id</th>\n",
       "      <th>name</th>\n",
       "      <th>alias</th>\n",
       "      <th>iata</th>\n",
       "      <th>icao</th>\n",
       "      <th>callsign</th>\n",
       "      <th>country</th>\n",
       "      <th>active</th>\n",
       "    </tr>\n",
       "    <tr>\n",
       "      <th>index</th>\n",
       "      <th></th>\n",
       "      <th></th>\n",
       "      <th></th>\n",
       "      <th></th>\n",
       "      <th></th>\n",
       "      <th></th>\n",
       "      <th></th>\n",
       "      <th></th>\n",
       "    </tr>\n",
       "  </thead>\n",
       "  <tbody>\n",
       "    <tr>\n",
       "      <th>0</th>\n",
       "      <td>1</td>\n",
       "      <td>Private flight</td>\n",
       "      <td>\\N</td>\n",
       "      <td>-</td>\n",
       "      <td>None</td>\n",
       "      <td>None</td>\n",
       "      <td>None</td>\n",
       "      <td>Y</td>\n",
       "    </tr>\n",
       "    <tr>\n",
       "      <th>1</th>\n",
       "      <td>2</td>\n",
       "      <td>135 Airways</td>\n",
       "      <td>\\N</td>\n",
       "      <td>None</td>\n",
       "      <td>GNL</td>\n",
       "      <td>GENERAL</td>\n",
       "      <td>United States</td>\n",
       "      <td>N</td>\n",
       "    </tr>\n",
       "    <tr>\n",
       "      <th>2</th>\n",
       "      <td>3</td>\n",
       "      <td>1Time Airline</td>\n",
       "      <td>\\N</td>\n",
       "      <td>1T</td>\n",
       "      <td>RNX</td>\n",
       "      <td>NEXTIME</td>\n",
       "      <td>South Africa</td>\n",
       "      <td>Y</td>\n",
       "    </tr>\n",
       "    <tr>\n",
       "      <th>3</th>\n",
       "      <td>4</td>\n",
       "      <td>2 Sqn No 1 Elementary Flying Training School</td>\n",
       "      <td>\\N</td>\n",
       "      <td>None</td>\n",
       "      <td>WYT</td>\n",
       "      <td>None</td>\n",
       "      <td>United Kingdom</td>\n",
       "      <td>N</td>\n",
       "    </tr>\n",
       "    <tr>\n",
       "      <th>4</th>\n",
       "      <td>5</td>\n",
       "      <td>213 Flight Unit</td>\n",
       "      <td>\\N</td>\n",
       "      <td>None</td>\n",
       "      <td>TFU</td>\n",
       "      <td>None</td>\n",
       "      <td>Russia</td>\n",
       "      <td>N</td>\n",
       "    </tr>\n",
       "  </tbody>\n",
       "</table>\n",
       "</div>"
      ],
      "text/plain": [
       "      id                                          name alias  iata  icao  \\\n",
       "index                                                                      \n",
       "0      1                                Private flight    \\N     -  None   \n",
       "1      2                                   135 Airways    \\N  None   GNL   \n",
       "2      3                                 1Time Airline    \\N    1T   RNX   \n",
       "3      4  2 Sqn No 1 Elementary Flying Training School    \\N  None   WYT   \n",
       "4      5                               213 Flight Unit    \\N  None   TFU   \n",
       "\n",
       "      callsign         country active  \n",
       "index                                  \n",
       "0         None            None      Y  \n",
       "1      GENERAL   United States      N  \n",
       "2      NEXTIME    South Africa      Y  \n",
       "3         None  United Kingdom      N  \n",
       "4         None          Russia      N  "
      ]
     },
     "execution_count": 6,
     "metadata": {},
     "output_type": "execute_result"
    }
   ],
   "source": [
    "get_airlines_query = \"select * from airlines\"\n",
    "df = pd.read_sql_query(get_airlines_query, con, \"index\")\n",
    "df.head()"
   ]
  },
  {
   "cell_type": "code",
   "execution_count": 7,
   "id": "7fa0d4e4",
   "metadata": {},
   "outputs": [
    {
     "data": {
      "text/html": [
       "<div>\n",
       "<style scoped>\n",
       "    .dataframe tbody tr th:only-of-type {\n",
       "        vertical-align: middle;\n",
       "    }\n",
       "\n",
       "    .dataframe tbody tr th {\n",
       "        vertical-align: top;\n",
       "    }\n",
       "\n",
       "    .dataframe thead th {\n",
       "        text-align: right;\n",
       "    }\n",
       "</style>\n",
       "<table border=\"1\" class=\"dataframe\">\n",
       "  <thead>\n",
       "    <tr style=\"text-align: right;\">\n",
       "      <th></th>\n",
       "      <th>id</th>\n",
       "      <th>name</th>\n",
       "      <th>alias</th>\n",
       "      <th>iata</th>\n",
       "      <th>icao</th>\n",
       "      <th>callsign</th>\n",
       "      <th>country</th>\n",
       "      <th>active</th>\n",
       "    </tr>\n",
       "    <tr>\n",
       "      <th>index</th>\n",
       "      <th></th>\n",
       "      <th></th>\n",
       "      <th></th>\n",
       "      <th></th>\n",
       "      <th></th>\n",
       "      <th></th>\n",
       "      <th></th>\n",
       "      <th></th>\n",
       "    </tr>\n",
       "  </thead>\n",
       "  <tbody>\n",
       "    <tr>\n",
       "      <th>0</th>\n",
       "      <td>1</td>\n",
       "      <td>Private flight</td>\n",
       "      <td>\\N</td>\n",
       "      <td>-</td>\n",
       "      <td>None</td>\n",
       "      <td>None</td>\n",
       "      <td>None</td>\n",
       "      <td>Y</td>\n",
       "    </tr>\n",
       "    <tr>\n",
       "      <th>2</th>\n",
       "      <td>3</td>\n",
       "      <td>1Time Airline</td>\n",
       "      <td>\\N</td>\n",
       "      <td>1T</td>\n",
       "      <td>RNX</td>\n",
       "      <td>NEXTIME</td>\n",
       "      <td>South Africa</td>\n",
       "      <td>Y</td>\n",
       "    </tr>\n",
       "    <tr>\n",
       "      <th>9</th>\n",
       "      <td>10</td>\n",
       "      <td>40-Mile Air</td>\n",
       "      <td>\\N</td>\n",
       "      <td>Q5</td>\n",
       "      <td>MLA</td>\n",
       "      <td>MILE-AIR</td>\n",
       "      <td>United States</td>\n",
       "      <td>Y</td>\n",
       "    </tr>\n",
       "    <tr>\n",
       "      <th>12</th>\n",
       "      <td>13</td>\n",
       "      <td>Ansett Australia</td>\n",
       "      <td>\\N</td>\n",
       "      <td>AN</td>\n",
       "      <td>AAA</td>\n",
       "      <td>ANSETT</td>\n",
       "      <td>Australia</td>\n",
       "      <td>Y</td>\n",
       "    </tr>\n",
       "    <tr>\n",
       "      <th>13</th>\n",
       "      <td>14</td>\n",
       "      <td>Abacus International</td>\n",
       "      <td>\\N</td>\n",
       "      <td>1B</td>\n",
       "      <td>None</td>\n",
       "      <td>None</td>\n",
       "      <td>Singapore</td>\n",
       "      <td>Y</td>\n",
       "    </tr>\n",
       "  </tbody>\n",
       "</table>\n",
       "</div>"
      ],
      "text/plain": [
       "       id                  name alias iata  icao  callsign        country  \\\n",
       "index                                                                       \n",
       "0       1        Private flight    \\N    -  None      None           None   \n",
       "2       3         1Time Airline    \\N   1T   RNX   NEXTIME   South Africa   \n",
       "9      10           40-Mile Air    \\N   Q5   MLA  MILE-AIR  United States   \n",
       "12     13      Ansett Australia    \\N   AN   AAA    ANSETT      Australia   \n",
       "13     14  Abacus International    \\N   1B  None      None      Singapore   \n",
       "\n",
       "      active  \n",
       "index         \n",
       "0          Y  \n",
       "2          Y  \n",
       "9          Y  \n",
       "12         Y  \n",
       "13         Y  "
      ]
     },
     "execution_count": 7,
     "metadata": {},
     "output_type": "execute_result"
    }
   ],
   "source": [
    "get_airlines_query = \"select * from airlines where active = 'Y'\"\n",
    "df = pd.read_sql_query(get_airlines_query, con, \"index\")\n",
    "df.head()"
   ]
  },
  {
   "cell_type": "markdown",
   "id": "30aa6d51",
   "metadata": {},
   "source": [
    "### insert row"
   ]
  },
  {
   "cell_type": "code",
   "execution_count": 8,
   "id": "c1a4f5de",
   "metadata": {},
   "outputs": [],
   "source": [
    "# avoid string format due to SQL injection\n",
    "value = \"(6048, 19846, 'Test flight', '', '', null, null, null, 'Y')\"\n",
    "insert_query = f\"insert into airlines values {value}\"\n",
    "cur.execute(insert_query)\n",
    "con.commit()"
   ]
  },
  {
   "cell_type": "code",
   "execution_count": 9,
   "id": "a90f151c",
   "metadata": {},
   "outputs": [],
   "source": [
    "cur.execute(\"select count(*) from airlines\")\n",
    "assert cur.fetchall()[0][0] == 6049"
   ]
  },
  {
   "cell_type": "code",
   "execution_count": 10,
   "id": "c75fdbe2",
   "metadata": {},
   "outputs": [
    {
     "data": {
      "text/html": [
       "<div>\n",
       "<style scoped>\n",
       "    .dataframe tbody tr th:only-of-type {\n",
       "        vertical-align: middle;\n",
       "    }\n",
       "\n",
       "    .dataframe tbody tr th {\n",
       "        vertical-align: top;\n",
       "    }\n",
       "\n",
       "    .dataframe thead th {\n",
       "        text-align: right;\n",
       "    }\n",
       "</style>\n",
       "<table border=\"1\" class=\"dataframe\">\n",
       "  <thead>\n",
       "    <tr style=\"text-align: right;\">\n",
       "      <th></th>\n",
       "      <th>index</th>\n",
       "      <th>id</th>\n",
       "      <th>name</th>\n",
       "      <th>alias</th>\n",
       "      <th>iata</th>\n",
       "      <th>icao</th>\n",
       "      <th>callsign</th>\n",
       "      <th>country</th>\n",
       "      <th>active</th>\n",
       "    </tr>\n",
       "  </thead>\n",
       "  <tbody>\n",
       "    <tr>\n",
       "      <th>0</th>\n",
       "      <td>6048</td>\n",
       "      <td>19846</td>\n",
       "      <td>Test flight</td>\n",
       "      <td></td>\n",
       "      <td></td>\n",
       "      <td>None</td>\n",
       "      <td>None</td>\n",
       "      <td>None</td>\n",
       "      <td>Y</td>\n",
       "    </tr>\n",
       "  </tbody>\n",
       "</table>\n",
       "</div>"
      ],
      "text/plain": [
       "   index     id         name alias iata  icao callsign country active\n",
       "0   6048  19846  Test flight             None     None    None      Y"
      ]
     },
     "execution_count": 10,
     "metadata": {},
     "output_type": "execute_result"
    }
   ],
   "source": [
    "pd.read_sql_query(\"select * from airlines where id=19846\", con)"
   ]
  },
  {
   "cell_type": "markdown",
   "id": "28dd1b88",
   "metadata": {},
   "source": [
    "### modify row"
   ]
  },
  {
   "cell_type": "code",
   "execution_count": 11,
   "id": "2e9b73f7",
   "metadata": {},
   "outputs": [],
   "source": [
    "values = ('USA', 19846)\n",
    "mod_query = \"update airlines set country=? where id=?\"\n",
    "cur.execute(mod_query, values)\n",
    "con.commit()"
   ]
  },
  {
   "cell_type": "code",
   "execution_count": 12,
   "id": "0c2f66d7",
   "metadata": {},
   "outputs": [],
   "source": [
    "df = pd.read_sql_query(\"select * from airlines\", con, \"index\")"
   ]
  },
  {
   "cell_type": "code",
   "execution_count": 13,
   "id": "b4b6c54b",
   "metadata": {},
   "outputs": [
    {
     "data": {
      "text/plain": [
       "True"
      ]
     },
     "execution_count": 13,
     "metadata": {},
     "output_type": "execute_result"
    }
   ],
   "source": [
    "df.iloc[6048, 6] == \"USA\""
   ]
  },
  {
   "cell_type": "markdown",
   "id": "a55dcda7",
   "metadata": {},
   "source": [
    "### delete row"
   ]
  },
  {
   "cell_type": "code",
   "execution_count": 14,
   "id": "572f2996",
   "metadata": {},
   "outputs": [],
   "source": [
    "values = (19846,)\n",
    "delete_query = \"delete from airlines where id=?\"\n",
    "cur.execute(delete_query, values)\n",
    "con.commit()"
   ]
  },
  {
   "cell_type": "code",
   "execution_count": 15,
   "id": "c4eb1e04",
   "metadata": {},
   "outputs": [],
   "source": [
    "cur.execute(\"select count(*) from airlines\")\n",
    "assert cur.fetchall()[0][0] == 6048"
   ]
  },
  {
   "cell_type": "markdown",
   "id": "036a987f",
   "metadata": {},
   "source": [
    "### create table"
   ]
  },
  {
   "cell_type": "markdown",
   "id": "2b0874cb",
   "metadata": {},
   "source": [
    "#### like"
   ]
  },
  {
   "cell_type": "code",
   "execution_count": 16,
   "id": "b065b84f",
   "metadata": {},
   "outputs": [
    {
     "ename": "OperationalError",
     "evalue": "near \"like\": syntax error",
     "output_type": "error",
     "traceback": [
      "\u001b[0;31m---------------------------------------------------------------------------\u001b[0m",
      "\u001b[0;31mOperationalError\u001b[0m                          Traceback (most recent call last)",
      "\u001b[0;32m/var/folders/gr/nw_4zbyd4g34w251ndtw6b9m0000gp/T/ipykernel_2379/3117471363.py\u001b[0m in \u001b[0;36m<module>\u001b[0;34m\u001b[0m\n\u001b[1;32m      1\u001b[0m \u001b[0mlike_query\u001b[0m \u001b[0;34m=\u001b[0m \u001b[0;34m\"create table airlines_like like airlines\"\u001b[0m\u001b[0;34m\u001b[0m\u001b[0;34m\u001b[0m\u001b[0m\n\u001b[0;32m----> 2\u001b[0;31m \u001b[0mcon\u001b[0m\u001b[0;34m.\u001b[0m\u001b[0mexecute\u001b[0m\u001b[0;34m(\u001b[0m\u001b[0mlike_query\u001b[0m\u001b[0;34m)\u001b[0m\u001b[0;34m\u001b[0m\u001b[0;34m\u001b[0m\u001b[0m\n\u001b[0m\u001b[1;32m      3\u001b[0m \u001b[0mcon\u001b[0m\u001b[0;34m.\u001b[0m\u001b[0mcommit\u001b[0m\u001b[0;34m(\u001b[0m\u001b[0;34m)\u001b[0m\u001b[0;34m\u001b[0m\u001b[0;34m\u001b[0m\u001b[0m\n",
      "\u001b[0;31mOperationalError\u001b[0m: near \"like\": syntax error"
     ]
    }
   ],
   "source": [
    "like_query = \"create table airlines_like like airlines\"\n",
    "con.execute(like_query)\n",
    "con.commit()"
   ]
  },
  {
   "cell_type": "markdown",
   "id": "ae243758",
   "metadata": {},
   "source": [
    "#### clone"
   ]
  },
  {
   "cell_type": "code",
   "execution_count": 17,
   "id": "6c01e9bf",
   "metadata": {},
   "outputs": [
    {
     "ename": "OperationalError",
     "evalue": "near \"clone\": syntax error",
     "output_type": "error",
     "traceback": [
      "\u001b[0;31m---------------------------------------------------------------------------\u001b[0m",
      "\u001b[0;31mOperationalError\u001b[0m                          Traceback (most recent call last)",
      "\u001b[0;32m/var/folders/gr/nw_4zbyd4g34w251ndtw6b9m0000gp/T/ipykernel_2379/3188499329.py\u001b[0m in \u001b[0;36m<module>\u001b[0;34m\u001b[0m\n\u001b[1;32m      1\u001b[0m \u001b[0mclone_query\u001b[0m \u001b[0;34m=\u001b[0m \u001b[0;34m\"create table airlines_clone clone airlines\"\u001b[0m\u001b[0;34m\u001b[0m\u001b[0;34m\u001b[0m\u001b[0m\n\u001b[0;32m----> 2\u001b[0;31m \u001b[0mcon\u001b[0m\u001b[0;34m.\u001b[0m\u001b[0mexecute\u001b[0m\u001b[0;34m(\u001b[0m\u001b[0mclone_query\u001b[0m\u001b[0;34m)\u001b[0m\u001b[0;34m\u001b[0m\u001b[0;34m\u001b[0m\u001b[0m\n\u001b[0m\u001b[1;32m      3\u001b[0m \u001b[0mcon\u001b[0m\u001b[0;34m.\u001b[0m\u001b[0mcommit\u001b[0m\u001b[0;34m(\u001b[0m\u001b[0;34m)\u001b[0m\u001b[0;34m\u001b[0m\u001b[0;34m\u001b[0m\u001b[0m\n",
      "\u001b[0;31mOperationalError\u001b[0m: near \"clone\": syntax error"
     ]
    }
   ],
   "source": [
    "clone_query = \"create table airlines_clone clone airlines\"\n",
    "con.execute(clone_query)\n",
    "con.commit()"
   ]
  },
  {
   "cell_type": "markdown",
   "id": "5af9c67e",
   "metadata": {},
   "source": [
    "#### using connection"
   ]
  },
  {
   "cell_type": "code",
   "execution_count": 18,
   "id": "fbc17155",
   "metadata": {},
   "outputs": [],
   "source": [
    "create_query = \"create table daily_flights (id integer, departure date, arrival date, number text, route_id integer)\"\n",
    "con.execute(create_query)\n",
    "con.commit()"
   ]
  },
  {
   "cell_type": "code",
   "execution_count": 19,
   "id": "3ae1e3f4",
   "metadata": {},
   "outputs": [],
   "source": [
    "insert_query = \"insert into daily_flights values (1, '2016-09-28 0:00', '2016-09-28 12:00', 'T1', 1)\"\n",
    "con.execute(insert_query)\n",
    "con.commit()"
   ]
  },
  {
   "cell_type": "code",
   "execution_count": 20,
   "id": "2a6b4f57",
   "metadata": {},
   "outputs": [],
   "source": [
    "cur.execute(\"select count(*) from daily_flights\")\n",
    "assert cur.fetchall()[0][0] == 1"
   ]
  },
  {
   "cell_type": "code",
   "execution_count": 21,
   "id": "d88ad8bb",
   "metadata": {},
   "outputs": [
    {
     "data": {
      "text/html": [
       "<div>\n",
       "<style scoped>\n",
       "    .dataframe tbody tr th:only-of-type {\n",
       "        vertical-align: middle;\n",
       "    }\n",
       "\n",
       "    .dataframe tbody tr th {\n",
       "        vertical-align: top;\n",
       "    }\n",
       "\n",
       "    .dataframe thead th {\n",
       "        text-align: right;\n",
       "    }\n",
       "</style>\n",
       "<table border=\"1\" class=\"dataframe\">\n",
       "  <thead>\n",
       "    <tr style=\"text-align: right;\">\n",
       "      <th></th>\n",
       "      <th>id</th>\n",
       "      <th>departure</th>\n",
       "      <th>arrival</th>\n",
       "      <th>number</th>\n",
       "      <th>route_id</th>\n",
       "    </tr>\n",
       "  </thead>\n",
       "  <tbody>\n",
       "    <tr>\n",
       "      <th>0</th>\n",
       "      <td>1</td>\n",
       "      <td>2016-09-28 0:00</td>\n",
       "      <td>2016-09-28 12:00</td>\n",
       "      <td>T1</td>\n",
       "      <td>1</td>\n",
       "    </tr>\n",
       "  </tbody>\n",
       "</table>\n",
       "</div>"
      ],
      "text/plain": [
       "   id        departure           arrival number  route_id\n",
       "0   1  2016-09-28 0:00  2016-09-28 12:00     T1         1"
      ]
     },
     "execution_count": 21,
     "metadata": {},
     "output_type": "execute_result"
    }
   ],
   "source": [
    "pd.read_sql_query(\"select * from daily_flights\", con)"
   ]
  },
  {
   "cell_type": "markdown",
   "id": "28a3118d",
   "metadata": {},
   "source": [
    "#### using pandas"
   ]
  },
  {
   "cell_type": "code",
   "execution_count": 22,
   "id": "f06dec80",
   "metadata": {},
   "outputs": [],
   "source": [
    "columns = [\"id\", \"departure\", \"arrival\", \"number\", \"route_id\"]\n",
    "rows = [[1, datetime(2016, 9, 29, 0, 0), datetime(2016, 9, 29, 12, 0), 'T1', 1]]\n",
    "df = pd.DataFrame(rows, columns=columns)"
   ]
  },
  {
   "cell_type": "code",
   "execution_count": 23,
   "id": "ba397ae0",
   "metadata": {},
   "outputs": [],
   "source": [
    "df.to_sql(\"daily_flights\", con, if_exists=\"replace\", index=False)"
   ]
  },
  {
   "cell_type": "code",
   "execution_count": 24,
   "id": "e71275d5",
   "metadata": {},
   "outputs": [],
   "source": [
    "df = pd.read_sql_query(\"select count(*) from daily_flights\", con)\n",
    "assert len(df) == 1"
   ]
  },
  {
   "cell_type": "markdown",
   "id": "e929be4e",
   "metadata": {},
   "source": [
    "### alter table"
   ]
  },
  {
   "cell_type": "markdown",
   "id": "68c369f3",
   "metadata": {},
   "source": [
    "#### using connection"
   ]
  },
  {
   "cell_type": "code",
   "execution_count": 25,
   "id": "9feef5e7",
   "metadata": {},
   "outputs": [
    {
     "data": {
      "text/plain": [
       "<sqlite3.Cursor at 0x12df13dc0>"
      ]
     },
     "execution_count": 25,
     "metadata": {},
     "output_type": "execute_result"
    }
   ],
   "source": [
    "alter_query = \"alter table daily_flights add column capacity integer\"\n",
    "con.execute(alter_query)"
   ]
  },
  {
   "cell_type": "code",
   "execution_count": 26,
   "id": "9ae0e383",
   "metadata": {},
   "outputs": [],
   "source": [
    "df = pd.read_sql_query(\"select * from daily_flights\", con)\n",
    "assert list(df.columns) == columns + ['capacity']"
   ]
  },
  {
   "cell_type": "markdown",
   "id": "628eeefb",
   "metadata": {},
   "source": [
    "#### using pandas"
   ]
  },
  {
   "cell_type": "code",
   "execution_count": 27,
   "id": "fd096e19",
   "metadata": {},
   "outputs": [],
   "source": [
    "df = pd.read_sql(\"select * from daily_flights\", con)\n",
    "df['delay'] = None\n",
    "df.to_sql('daily_flights', con, if_exists='replace', index=False)"
   ]
  },
  {
   "cell_type": "code",
   "execution_count": 28,
   "id": "230aebb7",
   "metadata": {},
   "outputs": [],
   "source": [
    "df = pd.read_sql_query(\"select * from daily_flights\", con)\n",
    "assert list(df.columns) == columns + ['capacity', 'delay']"
   ]
  },
  {
   "cell_type": "markdown",
   "id": "5edd4c3c",
   "metadata": {},
   "source": [
    "### more tables"
   ]
  },
  {
   "cell_type": "code",
   "execution_count": 29,
   "id": "73209bd8",
   "metadata": {},
   "outputs": [],
   "source": [
    "n  = 10"
   ]
  },
  {
   "cell_type": "code",
   "execution_count": 30,
   "id": "7745c82c",
   "metadata": {},
   "outputs": [
    {
     "data": {
      "text/html": [
       "<div>\n",
       "<style scoped>\n",
       "    .dataframe tbody tr th:only-of-type {\n",
       "        vertical-align: middle;\n",
       "    }\n",
       "\n",
       "    .dataframe tbody tr th {\n",
       "        vertical-align: top;\n",
       "    }\n",
       "\n",
       "    .dataframe thead th {\n",
       "        text-align: right;\n",
       "    }\n",
       "</style>\n",
       "<table border=\"1\" class=\"dataframe\">\n",
       "  <thead>\n",
       "    <tr style=\"text-align: right;\">\n",
       "      <th></th>\n",
       "      <th>passenger_id</th>\n",
       "      <th>name</th>\n",
       "      <th>address</th>\n",
       "      <th>age</th>\n",
       "    </tr>\n",
       "  </thead>\n",
       "  <tbody>\n",
       "    <tr>\n",
       "      <th>0</th>\n",
       "      <td>0</td>\n",
       "      <td>A</td>\n",
       "      <td>address_0</td>\n",
       "      <td>18.0</td>\n",
       "    </tr>\n",
       "    <tr>\n",
       "      <th>1</th>\n",
       "      <td>1</td>\n",
       "      <td>B</td>\n",
       "      <td>address_1</td>\n",
       "      <td>18.1</td>\n",
       "    </tr>\n",
       "    <tr>\n",
       "      <th>2</th>\n",
       "      <td>2</td>\n",
       "      <td>C</td>\n",
       "      <td>address_2</td>\n",
       "      <td>18.2</td>\n",
       "    </tr>\n",
       "    <tr>\n",
       "      <th>3</th>\n",
       "      <td>3</td>\n",
       "      <td>D</td>\n",
       "      <td>address_3</td>\n",
       "      <td>18.3</td>\n",
       "    </tr>\n",
       "    <tr>\n",
       "      <th>4</th>\n",
       "      <td>4</td>\n",
       "      <td>E</td>\n",
       "      <td>address_4</td>\n",
       "      <td>18.4</td>\n",
       "    </tr>\n",
       "    <tr>\n",
       "      <th>5</th>\n",
       "      <td>5</td>\n",
       "      <td>F</td>\n",
       "      <td>address_5</td>\n",
       "      <td>18.5</td>\n",
       "    </tr>\n",
       "    <tr>\n",
       "      <th>6</th>\n",
       "      <td>6</td>\n",
       "      <td>G</td>\n",
       "      <td>address_6</td>\n",
       "      <td>18.6</td>\n",
       "    </tr>\n",
       "    <tr>\n",
       "      <th>7</th>\n",
       "      <td>7</td>\n",
       "      <td>H</td>\n",
       "      <td>address_7</td>\n",
       "      <td>18.7</td>\n",
       "    </tr>\n",
       "    <tr>\n",
       "      <th>8</th>\n",
       "      <td>8</td>\n",
       "      <td>I</td>\n",
       "      <td>address_8</td>\n",
       "      <td>18.8</td>\n",
       "    </tr>\n",
       "    <tr>\n",
       "      <th>9</th>\n",
       "      <td>9</td>\n",
       "      <td>J</td>\n",
       "      <td>address_9</td>\n",
       "      <td>18.9</td>\n",
       "    </tr>\n",
       "  </tbody>\n",
       "</table>\n",
       "</div>"
      ],
      "text/plain": [
       "   passenger_id name    address   age\n",
       "0             0    A  address_0  18.0\n",
       "1             1    B  address_1  18.1\n",
       "2             2    C  address_2  18.2\n",
       "3             3    D  address_3  18.3\n",
       "4             4    E  address_4  18.4\n",
       "5             5    F  address_5  18.5\n",
       "6             6    G  address_6  18.6\n",
       "7             7    H  address_7  18.7\n",
       "8             8    I  address_8  18.8\n",
       "9             9    J  address_9  18.9"
      ]
     },
     "execution_count": 30,
     "metadata": {},
     "output_type": "execute_result"
    }
   ],
   "source": [
    "rows = []\n",
    "for i in range(n):\n",
    "    row = [i, ascii_uppercase[i], f\"address_{i}\", 18 + i / 10]\n",
    "    rows.append(row)\n",
    "    \n",
    "columns = ['passenger_id', 'name', 'address', 'age']\n",
    "df_passengers = pd.DataFrame(rows, columns=columns)\n",
    "df_passengers"
   ]
  },
  {
   "cell_type": "code",
   "execution_count": 31,
   "id": "0f765fb7",
   "metadata": {},
   "outputs": [],
   "source": [
    "df_passengers.to_sql('passengers', con, if_exists='replace', index=False)"
   ]
  },
  {
   "cell_type": "code",
   "execution_count": 32,
   "id": "7790a221",
   "metadata": {},
   "outputs": [
    {
     "data": {
      "text/html": [
       "<div>\n",
       "<style scoped>\n",
       "    .dataframe tbody tr th:only-of-type {\n",
       "        vertical-align: middle;\n",
       "    }\n",
       "\n",
       "    .dataframe tbody tr th {\n",
       "        vertical-align: top;\n",
       "    }\n",
       "\n",
       "    .dataframe thead th {\n",
       "        text-align: right;\n",
       "    }\n",
       "</style>\n",
       "<table border=\"1\" class=\"dataframe\">\n",
       "  <thead>\n",
       "    <tr style=\"text-align: right;\">\n",
       "      <th></th>\n",
       "      <th>passenger_id</th>\n",
       "      <th>flight_id</th>\n",
       "    </tr>\n",
       "  </thead>\n",
       "  <tbody>\n",
       "    <tr>\n",
       "      <th>0</th>\n",
       "      <td>0</td>\n",
       "      <td>102</td>\n",
       "    </tr>\n",
       "    <tr>\n",
       "      <th>1</th>\n",
       "      <td>2</td>\n",
       "      <td>106</td>\n",
       "    </tr>\n",
       "    <tr>\n",
       "      <th>2</th>\n",
       "      <td>4</td>\n",
       "      <td>109</td>\n",
       "    </tr>\n",
       "    <tr>\n",
       "      <th>3</th>\n",
       "      <td>6</td>\n",
       "      <td>102</td>\n",
       "    </tr>\n",
       "    <tr>\n",
       "      <th>4</th>\n",
       "      <td>8</td>\n",
       "      <td>110</td>\n",
       "    </tr>\n",
       "  </tbody>\n",
       "</table>\n",
       "</div>"
      ],
      "text/plain": [
       "   passenger_id  flight_id\n",
       "0             0        102\n",
       "1             2        106\n",
       "2             4        109\n",
       "3             6        102\n",
       "4             8        110"
      ]
     },
     "execution_count": 32,
     "metadata": {},
     "output_type": "execute_result"
    }
   ],
   "source": [
    "rows = []\n",
    "for i in [0, 2, 4, 6, 8]:\n",
    "    row = [i, randint(100, 110)]\n",
    "    rows.append(row)\n",
    "\n",
    "columns = ['passenger_id', 'flight_id']\n",
    "df_flights = pd.DataFrame(rows, columns=columns)\n",
    "df_flights"
   ]
  },
  {
   "cell_type": "code",
   "execution_count": 33,
   "id": "8fd2cc4d",
   "metadata": {},
   "outputs": [],
   "source": [
    "df_flights.to_sql('flights', con, if_exists='replace', index=False)"
   ]
  },
  {
   "cell_type": "markdown",
   "id": "c894f287",
   "metadata": {},
   "source": [
    "### order by"
   ]
  },
  {
   "cell_type": "code",
   "execution_count": 34,
   "id": "130bcaa0",
   "metadata": {},
   "outputs": [
    {
     "data": {
      "text/html": [
       "<div>\n",
       "<style scoped>\n",
       "    .dataframe tbody tr th:only-of-type {\n",
       "        vertical-align: middle;\n",
       "    }\n",
       "\n",
       "    .dataframe tbody tr th {\n",
       "        vertical-align: top;\n",
       "    }\n",
       "\n",
       "    .dataframe thead th {\n",
       "        text-align: right;\n",
       "    }\n",
       "</style>\n",
       "<table border=\"1\" class=\"dataframe\">\n",
       "  <thead>\n",
       "    <tr style=\"text-align: right;\">\n",
       "      <th></th>\n",
       "      <th>passenger_id</th>\n",
       "      <th>name</th>\n",
       "      <th>address</th>\n",
       "      <th>age</th>\n",
       "    </tr>\n",
       "  </thead>\n",
       "  <tbody>\n",
       "    <tr>\n",
       "      <th>0</th>\n",
       "      <td>9</td>\n",
       "      <td>J</td>\n",
       "      <td>address_9</td>\n",
       "      <td>18.9</td>\n",
       "    </tr>\n",
       "    <tr>\n",
       "      <th>1</th>\n",
       "      <td>8</td>\n",
       "      <td>I</td>\n",
       "      <td>address_8</td>\n",
       "      <td>18.8</td>\n",
       "    </tr>\n",
       "    <tr>\n",
       "      <th>2</th>\n",
       "      <td>7</td>\n",
       "      <td>H</td>\n",
       "      <td>address_7</td>\n",
       "      <td>18.7</td>\n",
       "    </tr>\n",
       "    <tr>\n",
       "      <th>3</th>\n",
       "      <td>6</td>\n",
       "      <td>G</td>\n",
       "      <td>address_6</td>\n",
       "      <td>18.6</td>\n",
       "    </tr>\n",
       "    <tr>\n",
       "      <th>4</th>\n",
       "      <td>5</td>\n",
       "      <td>F</td>\n",
       "      <td>address_5</td>\n",
       "      <td>18.5</td>\n",
       "    </tr>\n",
       "    <tr>\n",
       "      <th>5</th>\n",
       "      <td>4</td>\n",
       "      <td>E</td>\n",
       "      <td>address_4</td>\n",
       "      <td>18.4</td>\n",
       "    </tr>\n",
       "    <tr>\n",
       "      <th>6</th>\n",
       "      <td>3</td>\n",
       "      <td>D</td>\n",
       "      <td>address_3</td>\n",
       "      <td>18.3</td>\n",
       "    </tr>\n",
       "    <tr>\n",
       "      <th>7</th>\n",
       "      <td>2</td>\n",
       "      <td>C</td>\n",
       "      <td>address_2</td>\n",
       "      <td>18.2</td>\n",
       "    </tr>\n",
       "    <tr>\n",
       "      <th>8</th>\n",
       "      <td>1</td>\n",
       "      <td>B</td>\n",
       "      <td>address_1</td>\n",
       "      <td>18.1</td>\n",
       "    </tr>\n",
       "    <tr>\n",
       "      <th>9</th>\n",
       "      <td>0</td>\n",
       "      <td>A</td>\n",
       "      <td>address_0</td>\n",
       "      <td>18.0</td>\n",
       "    </tr>\n",
       "  </tbody>\n",
       "</table>\n",
       "</div>"
      ],
      "text/plain": [
       "   passenger_id name    address   age\n",
       "0             9    J  address_9  18.9\n",
       "1             8    I  address_8  18.8\n",
       "2             7    H  address_7  18.7\n",
       "3             6    G  address_6  18.6\n",
       "4             5    F  address_5  18.5\n",
       "5             4    E  address_4  18.4\n",
       "6             3    D  address_3  18.3\n",
       "7             2    C  address_2  18.2\n",
       "8             1    B  address_1  18.1\n",
       "9             0    A  address_0  18.0"
      ]
     },
     "execution_count": 34,
     "metadata": {},
     "output_type": "execute_result"
    }
   ],
   "source": [
    "order_query = \"select * from passengers order by passengers.name desc\"\n",
    "pd.read_sql_query(order_query, con)"
   ]
  },
  {
   "cell_type": "markdown",
   "id": "f6816e23",
   "metadata": {},
   "source": [
    "### group by"
   ]
  },
  {
   "cell_type": "code",
   "execution_count": 35,
   "id": "5fc95e5b",
   "metadata": {},
   "outputs": [
    {
     "data": {
      "text/html": [
       "<div>\n",
       "<style scoped>\n",
       "    .dataframe tbody tr th:only-of-type {\n",
       "        vertical-align: middle;\n",
       "    }\n",
       "\n",
       "    .dataframe tbody tr th {\n",
       "        vertical-align: top;\n",
       "    }\n",
       "\n",
       "    .dataframe thead th {\n",
       "        text-align: right;\n",
       "    }\n",
       "</style>\n",
       "<table border=\"1\" class=\"dataframe\">\n",
       "  <thead>\n",
       "    <tr style=\"text-align: right;\">\n",
       "      <th></th>\n",
       "      <th>average</th>\n",
       "      <th>flight_id</th>\n",
       "    </tr>\n",
       "  </thead>\n",
       "  <tbody>\n",
       "    <tr>\n",
       "      <th>0</th>\n",
       "      <td>3.0</td>\n",
       "      <td>102</td>\n",
       "    </tr>\n",
       "    <tr>\n",
       "      <th>1</th>\n",
       "      <td>2.0</td>\n",
       "      <td>106</td>\n",
       "    </tr>\n",
       "    <tr>\n",
       "      <th>2</th>\n",
       "      <td>4.0</td>\n",
       "      <td>109</td>\n",
       "    </tr>\n",
       "    <tr>\n",
       "      <th>3</th>\n",
       "      <td>8.0</td>\n",
       "      <td>110</td>\n",
       "    </tr>\n",
       "  </tbody>\n",
       "</table>\n",
       "</div>"
      ],
      "text/plain": [
       "   average  flight_id\n",
       "0      3.0        102\n",
       "1      2.0        106\n",
       "2      4.0        109\n",
       "3      8.0        110"
      ]
     },
     "execution_count": 35,
     "metadata": {},
     "output_type": "execute_result"
    }
   ],
   "source": [
    "group_by_query = \"select avg(passenger_id) as average, flight_id from flights group by flight_id\"\n",
    "pd.read_sql_query(group_by_query, con)"
   ]
  },
  {
   "cell_type": "markdown",
   "id": "9edad0ed",
   "metadata": {},
   "source": [
    "### join"
   ]
  },
  {
   "cell_type": "markdown",
   "id": "91c3e682",
   "metadata": {},
   "source": [
    "#### inner join"
   ]
  },
  {
   "cell_type": "code",
   "execution_count": 36,
   "id": "71dadd69",
   "metadata": {},
   "outputs": [
    {
     "data": {
      "text/html": [
       "<div>\n",
       "<style scoped>\n",
       "    .dataframe tbody tr th:only-of-type {\n",
       "        vertical-align: middle;\n",
       "    }\n",
       "\n",
       "    .dataframe tbody tr th {\n",
       "        vertical-align: top;\n",
       "    }\n",
       "\n",
       "    .dataframe thead th {\n",
       "        text-align: right;\n",
       "    }\n",
       "</style>\n",
       "<table border=\"1\" class=\"dataframe\">\n",
       "  <thead>\n",
       "    <tr style=\"text-align: right;\">\n",
       "      <th></th>\n",
       "      <th>flight_id</th>\n",
       "      <th>name</th>\n",
       "      <th>age</th>\n",
       "    </tr>\n",
       "  </thead>\n",
       "  <tbody>\n",
       "    <tr>\n",
       "      <th>0</th>\n",
       "      <td>102</td>\n",
       "      <td>A</td>\n",
       "      <td>18.0</td>\n",
       "    </tr>\n",
       "    <tr>\n",
       "      <th>1</th>\n",
       "      <td>106</td>\n",
       "      <td>C</td>\n",
       "      <td>18.2</td>\n",
       "    </tr>\n",
       "    <tr>\n",
       "      <th>2</th>\n",
       "      <td>109</td>\n",
       "      <td>E</td>\n",
       "      <td>18.4</td>\n",
       "    </tr>\n",
       "    <tr>\n",
       "      <th>3</th>\n",
       "      <td>102</td>\n",
       "      <td>G</td>\n",
       "      <td>18.6</td>\n",
       "    </tr>\n",
       "    <tr>\n",
       "      <th>4</th>\n",
       "      <td>110</td>\n",
       "      <td>I</td>\n",
       "      <td>18.8</td>\n",
       "    </tr>\n",
       "  </tbody>\n",
       "</table>\n",
       "</div>"
      ],
      "text/plain": [
       "   flight_id name   age\n",
       "0        102    A  18.0\n",
       "1        106    C  18.2\n",
       "2        109    E  18.4\n",
       "3        102    G  18.6\n",
       "4        110    I  18.8"
      ]
     },
     "execution_count": 36,
     "metadata": {},
     "output_type": "execute_result"
    }
   ],
   "source": [
    "query = \"select flights.flight_id, passengers.name, passengers.age from passengers inner join flights on flights.passenger_id = passengers.passenger_id\"\n",
    "pd.read_sql_query(query, con)"
   ]
  },
  {
   "cell_type": "markdown",
   "id": "4a9a152d",
   "metadata": {},
   "source": [
    "#### left join"
   ]
  },
  {
   "cell_type": "code",
   "execution_count": 37,
   "id": "64fb0c5b",
   "metadata": {},
   "outputs": [
    {
     "data": {
      "text/html": [
       "<div>\n",
       "<style scoped>\n",
       "    .dataframe tbody tr th:only-of-type {\n",
       "        vertical-align: middle;\n",
       "    }\n",
       "\n",
       "    .dataframe tbody tr th {\n",
       "        vertical-align: top;\n",
       "    }\n",
       "\n",
       "    .dataframe thead th {\n",
       "        text-align: right;\n",
       "    }\n",
       "</style>\n",
       "<table border=\"1\" class=\"dataframe\">\n",
       "  <thead>\n",
       "    <tr style=\"text-align: right;\">\n",
       "      <th></th>\n",
       "      <th>flight_id</th>\n",
       "      <th>name</th>\n",
       "      <th>age</th>\n",
       "    </tr>\n",
       "  </thead>\n",
       "  <tbody>\n",
       "    <tr>\n",
       "      <th>0</th>\n",
       "      <td>102.0</td>\n",
       "      <td>A</td>\n",
       "      <td>18.0</td>\n",
       "    </tr>\n",
       "    <tr>\n",
       "      <th>1</th>\n",
       "      <td>NaN</td>\n",
       "      <td>B</td>\n",
       "      <td>18.1</td>\n",
       "    </tr>\n",
       "    <tr>\n",
       "      <th>2</th>\n",
       "      <td>106.0</td>\n",
       "      <td>C</td>\n",
       "      <td>18.2</td>\n",
       "    </tr>\n",
       "    <tr>\n",
       "      <th>3</th>\n",
       "      <td>NaN</td>\n",
       "      <td>D</td>\n",
       "      <td>18.3</td>\n",
       "    </tr>\n",
       "    <tr>\n",
       "      <th>4</th>\n",
       "      <td>109.0</td>\n",
       "      <td>E</td>\n",
       "      <td>18.4</td>\n",
       "    </tr>\n",
       "    <tr>\n",
       "      <th>5</th>\n",
       "      <td>NaN</td>\n",
       "      <td>F</td>\n",
       "      <td>18.5</td>\n",
       "    </tr>\n",
       "    <tr>\n",
       "      <th>6</th>\n",
       "      <td>102.0</td>\n",
       "      <td>G</td>\n",
       "      <td>18.6</td>\n",
       "    </tr>\n",
       "    <tr>\n",
       "      <th>7</th>\n",
       "      <td>NaN</td>\n",
       "      <td>H</td>\n",
       "      <td>18.7</td>\n",
       "    </tr>\n",
       "    <tr>\n",
       "      <th>8</th>\n",
       "      <td>110.0</td>\n",
       "      <td>I</td>\n",
       "      <td>18.8</td>\n",
       "    </tr>\n",
       "    <tr>\n",
       "      <th>9</th>\n",
       "      <td>NaN</td>\n",
       "      <td>J</td>\n",
       "      <td>18.9</td>\n",
       "    </tr>\n",
       "  </tbody>\n",
       "</table>\n",
       "</div>"
      ],
      "text/plain": [
       "   flight_id name   age\n",
       "0      102.0    A  18.0\n",
       "1        NaN    B  18.1\n",
       "2      106.0    C  18.2\n",
       "3        NaN    D  18.3\n",
       "4      109.0    E  18.4\n",
       "5        NaN    F  18.5\n",
       "6      102.0    G  18.6\n",
       "7        NaN    H  18.7\n",
       "8      110.0    I  18.8\n",
       "9        NaN    J  18.9"
      ]
     },
     "execution_count": 37,
     "metadata": {},
     "output_type": "execute_result"
    }
   ],
   "source": [
    "query = \"select flights.flight_id, passengers.name, passengers.age from passengers left join flights on flights.passenger_id = passengers.passenger_id\"\n",
    "pd.read_sql_query(query, con)"
   ]
  },
  {
   "cell_type": "markdown",
   "id": "b35f1c08",
   "metadata": {},
   "source": [
    "#### right join\n",
    "not supported</br>\n",
    "switch tables and use left join"
   ]
  },
  {
   "cell_type": "code",
   "execution_count": 38,
   "id": "99fbe882",
   "metadata": {},
   "outputs": [
    {
     "data": {
      "text/html": [
       "<div>\n",
       "<style scoped>\n",
       "    .dataframe tbody tr th:only-of-type {\n",
       "        vertical-align: middle;\n",
       "    }\n",
       "\n",
       "    .dataframe tbody tr th {\n",
       "        vertical-align: top;\n",
       "    }\n",
       "\n",
       "    .dataframe thead th {\n",
       "        text-align: right;\n",
       "    }\n",
       "</style>\n",
       "<table border=\"1\" class=\"dataframe\">\n",
       "  <thead>\n",
       "    <tr style=\"text-align: right;\">\n",
       "      <th></th>\n",
       "      <th>flight_id</th>\n",
       "      <th>name</th>\n",
       "      <th>age</th>\n",
       "    </tr>\n",
       "  </thead>\n",
       "  <tbody>\n",
       "    <tr>\n",
       "      <th>0</th>\n",
       "      <td>102</td>\n",
       "      <td>A</td>\n",
       "      <td>18.0</td>\n",
       "    </tr>\n",
       "    <tr>\n",
       "      <th>1</th>\n",
       "      <td>106</td>\n",
       "      <td>C</td>\n",
       "      <td>18.2</td>\n",
       "    </tr>\n",
       "    <tr>\n",
       "      <th>2</th>\n",
       "      <td>109</td>\n",
       "      <td>E</td>\n",
       "      <td>18.4</td>\n",
       "    </tr>\n",
       "    <tr>\n",
       "      <th>3</th>\n",
       "      <td>102</td>\n",
       "      <td>G</td>\n",
       "      <td>18.6</td>\n",
       "    </tr>\n",
       "    <tr>\n",
       "      <th>4</th>\n",
       "      <td>110</td>\n",
       "      <td>I</td>\n",
       "      <td>18.8</td>\n",
       "    </tr>\n",
       "  </tbody>\n",
       "</table>\n",
       "</div>"
      ],
      "text/plain": [
       "   flight_id name   age\n",
       "0        102    A  18.0\n",
       "1        106    C  18.2\n",
       "2        109    E  18.4\n",
       "3        102    G  18.6\n",
       "4        110    I  18.8"
      ]
     },
     "execution_count": 38,
     "metadata": {},
     "output_type": "execute_result"
    }
   ],
   "source": [
    "query = \"select flights.flight_id, passengers.name, passengers.age from flights left join passengers on flights.passenger_id = passengers.passenger_id\"\n",
    "pd.read_sql_query(query, con)"
   ]
  },
  {
   "cell_type": "markdown",
   "id": "53c600d6",
   "metadata": {},
   "source": [
    "### drop tables"
   ]
  },
  {
   "cell_type": "code",
   "execution_count": 39,
   "id": "ab9d8aac",
   "metadata": {},
   "outputs": [],
   "source": [
    "con.execute(\"drop table daily_flights\")\n",
    "con.execute(\"drop table passengers\")\n",
    "con.execute(\"drop table flights\")\n",
    "con.commit()"
   ]
  },
  {
   "cell_type": "code",
   "execution_count": 40,
   "id": "1f5d4cab",
   "metadata": {},
   "outputs": [],
   "source": [
    "cur.execute(table_names_query)\n",
    "names = cur.fetchall()\n",
    "names = [name[0] for name in names]\n",
    "assert names == table_names"
   ]
  }
 ],
 "metadata": {
  "kernelspec": {
   "display_name": "machine_learning",
   "language": "python",
   "name": "machine_learning"
  },
  "language_info": {
   "codemirror_mode": {
    "name": "ipython",
    "version": 3
   },
   "file_extension": ".py",
   "mimetype": "text/x-python",
   "name": "python",
   "nbconvert_exporter": "python",
   "pygments_lexer": "ipython3",
   "version": "3.7.8"
  }
 },
 "nbformat": 4,
 "nbformat_minor": 5
}
