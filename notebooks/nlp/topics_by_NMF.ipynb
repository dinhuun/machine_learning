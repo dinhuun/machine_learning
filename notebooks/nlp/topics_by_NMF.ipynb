{
 "cells": [
  {
   "cell_type": "code",
   "execution_count": 1,
   "id": "5e85f845",
   "metadata": {},
   "outputs": [],
   "source": [
    "from warnings import filterwarnings\n",
    "filterwarnings(\"ignore\")"
   ]
  },
  {
   "cell_type": "code",
   "execution_count": 2,
   "id": "c6b36f11",
   "metadata": {},
   "outputs": [],
   "source": [
    "import os\n",
    "import pandas as pd\n",
    "from sklearn.feature_extraction.text import TfidfVectorizer\n",
    "from sklearn.decomposition import NMF\n",
    "\n",
    "from machine_learning.utils.utils_nlp import remove_email, remove_newline_char, remove_single_quote\n",
    "from machine_learning.utils.utils_io import read_lines_from_text_file"
   ]
  },
  {
   "cell_type": "code",
   "execution_count": 3,
   "id": "a638ff80",
   "metadata": {},
   "outputs": [],
   "source": [
    "data_nlp_dirpath = \"../data/nlp\""
   ]
  },
  {
   "cell_type": "code",
   "execution_count": 4,
   "id": "5248a7e5",
   "metadata": {},
   "outputs": [],
   "source": [
    "stopwords_filename = \"stopwords_english.txt\"\n",
    "stopwords_filepath = os.path.join(data_nlp_dirpath, stopwords_filename)\n",
    "stopwords = read_lines_from_text_file(stopwords_filepath)"
   ]
  },
  {
   "cell_type": "markdown",
   "id": "57ee9a88",
   "metadata": {},
   "source": [
    "### data"
   ]
  },
  {
   "cell_type": "code",
   "execution_count": 5,
   "id": "bf592df4",
   "metadata": {},
   "outputs": [
    {
     "data": {
      "text/html": [
       "<div>\n",
       "<style scoped>\n",
       "    .dataframe tbody tr th:only-of-type {\n",
       "        vertical-align: middle;\n",
       "    }\n",
       "\n",
       "    .dataframe tbody tr th {\n",
       "        vertical-align: top;\n",
       "    }\n",
       "\n",
       "    .dataframe thead th {\n",
       "        text-align: right;\n",
       "    }\n",
       "</style>\n",
       "<table border=\"1\" class=\"dataframe\">\n",
       "  <thead>\n",
       "    <tr style=\"text-align: right;\">\n",
       "      <th></th>\n",
       "      <th>content</th>\n",
       "      <th>target</th>\n",
       "      <th>target_names</th>\n",
       "    </tr>\n",
       "  </thead>\n",
       "  <tbody>\n",
       "    <tr>\n",
       "      <th>0</th>\n",
       "      <td>From: lerxst@wam.umd.edu (where's my thing)\\nS...</td>\n",
       "      <td>7</td>\n",
       "      <td>rec.autos</td>\n",
       "    </tr>\n",
       "    <tr>\n",
       "      <th>1</th>\n",
       "      <td>From: guykuo@carson.u.washington.edu (Guy Kuo)...</td>\n",
       "      <td>4</td>\n",
       "      <td>comp.sys.mac.hardware</td>\n",
       "    </tr>\n",
       "    <tr>\n",
       "      <th>2</th>\n",
       "      <td>From: twillis@ec.ecn.purdue.edu (Thomas E Will...</td>\n",
       "      <td>4</td>\n",
       "      <td>comp.sys.mac.hardware</td>\n",
       "    </tr>\n",
       "    <tr>\n",
       "      <th>3</th>\n",
       "      <td>From: jgreen@amber (Joe Green)\\nSubject: Re: W...</td>\n",
       "      <td>1</td>\n",
       "      <td>comp.graphics</td>\n",
       "    </tr>\n",
       "    <tr>\n",
       "      <th>4</th>\n",
       "      <td>From: jcm@head-cfa.harvard.edu (Jonathan McDow...</td>\n",
       "      <td>14</td>\n",
       "      <td>sci.space</td>\n",
       "    </tr>\n",
       "  </tbody>\n",
       "</table>\n",
       "</div>"
      ],
      "text/plain": [
       "                                             content  target  \\\n",
       "0  From: lerxst@wam.umd.edu (where's my thing)\\nS...       7   \n",
       "1  From: guykuo@carson.u.washington.edu (Guy Kuo)...       4   \n",
       "2  From: twillis@ec.ecn.purdue.edu (Thomas E Will...       4   \n",
       "3  From: jgreen@amber (Joe Green)\\nSubject: Re: W...       1   \n",
       "4  From: jcm@head-cfa.harvard.edu (Jonathan McDow...      14   \n",
       "\n",
       "            target_names  \n",
       "0              rec.autos  \n",
       "1  comp.sys.mac.hardware  \n",
       "2  comp.sys.mac.hardware  \n",
       "3          comp.graphics  \n",
       "4              sci.space  "
      ]
     },
     "execution_count": 5,
     "metadata": {},
     "output_type": "execute_result"
    }
   ],
   "source": [
    "# get newsgroups.json from https://raw.githubusercontent.com/selva86/datasets/master/newsgroups.json\n",
    "# it is not included in this package to save 22.2MB space\n",
    "\n",
    "newgroups_filename = \"newsgroups.json\"\n",
    "newgroups_filepath = os.path.join(data_nlp_dirpath, newgroups_filename)\n",
    "df = pd.read_json(newgroups_filepath)\n",
    "df.head()"
   ]
  },
  {
   "cell_type": "markdown",
   "id": "37f230d8",
   "metadata": {},
   "source": [
    "### preprocessing"
   ]
  },
  {
   "cell_type": "code",
   "execution_count": 5,
   "id": "30673983",
   "metadata": {},
   "outputs": [],
   "source": [
    "docs = df.content.values.tolist()"
   ]
  },
  {
   "cell_type": "code",
   "execution_count": 6,
   "id": "47da503a",
   "metadata": {},
   "outputs": [],
   "source": [
    "docs = [remove_email(doc) for doc in docs]"
   ]
  },
  {
   "cell_type": "code",
   "execution_count": 7,
   "id": "b4e121c7",
   "metadata": {},
   "outputs": [],
   "source": [
    "docs = [remove_newline_char(doc) for doc in docs]"
   ]
  },
  {
   "cell_type": "code",
   "execution_count": 8,
   "id": "544f56dd",
   "metadata": {},
   "outputs": [],
   "source": [
    "docs = [remove_single_quote(doc) for doc in docs]"
   ]
  },
  {
   "cell_type": "markdown",
   "id": "8953ee2a",
   "metadata": {},
   "source": [
    "### vectorization"
   ]
  },
  {
   "cell_type": "code",
   "execution_count": 9,
   "id": "bff57560",
   "metadata": {},
   "outputs": [
    {
     "data": {
      "text/plain": [
       "(11314, 105745)"
      ]
     },
     "execution_count": 9,
     "metadata": {},
     "output_type": "execute_result"
    }
   ],
   "source": [
    "vectorizer = TfidfVectorizer(stop_words=stopwords)\n",
    "X = vectorizer.fit_transform(docs)\n",
    "X.shape"
   ]
  },
  {
   "cell_type": "markdown",
   "id": "c7ad1579",
   "metadata": {},
   "source": [
    "### model"
   ]
  },
  {
   "cell_type": "code",
   "execution_count": 10,
   "id": "3dbd560c",
   "metadata": {},
   "outputs": [
    {
     "data": {
      "text/plain": [
       "NMF(max_iter=500, n_components=20, random_state=0)"
      ]
     },
     "execution_count": 10,
     "metadata": {},
     "output_type": "execute_result"
    }
   ],
   "source": [
    "model = NMF(n_components=20, max_iter=500, random_state=0)\n",
    "model.fit(X)"
   ]
  },
  {
   "cell_type": "code",
   "execution_count": 11,
   "id": "07217d2a",
   "metadata": {},
   "outputs": [
    {
     "data": {
      "text/plain": [
       "(11314, 20)"
      ]
     },
     "execution_count": 11,
     "metadata": {},
     "output_type": "execute_result"
    }
   ],
   "source": [
    "W = model.transform(X)\n",
    "W.shape"
   ]
  },
  {
   "cell_type": "code",
   "execution_count": 12,
   "id": "07ace13c",
   "metadata": {},
   "outputs": [
    {
     "data": {
      "text/plain": [
       "(20, 105745)"
      ]
     },
     "execution_count": 12,
     "metadata": {},
     "output_type": "execute_result"
    }
   ],
   "source": [
    "H = model.components_\n",
    "H.shape"
   ]
  },
  {
   "cell_type": "code",
   "execution_count": 13,
   "id": "0517c533",
   "metadata": {},
   "outputs": [],
   "source": [
    "columns = vectorizer.get_feature_names_out()"
   ]
  },
  {
   "cell_type": "code",
   "execution_count": 14,
   "id": "faa2533d",
   "metadata": {},
   "outputs": [
    {
     "name": "stdout",
     "output_type": "stream",
     "text": [
      "most probable words in topic 0 are\n",
      "car       1.154409\n",
      "bike      0.650312\n",
      "one       0.500093\n",
      "like      0.489897\n",
      "get       0.488471\n",
      "dont      0.454059\n",
      "good      0.453161\n",
      "cars      0.446417\n",
      "would     0.396829\n",
      "writes    0.396726\n",
      "Name: 0, dtype: float64\n",
      "\n",
      "\n",
      "most probable words in topic 1 are\n",
      "thanks         0.870254\n",
      "please         0.863548\n",
      "mail           0.758509\n",
      "graphics       0.666341\n",
      "help           0.612398\n",
      "anyone         0.571892\n",
      "know           0.463541\n",
      "would          0.449389\n",
      "information    0.445487\n",
      "email          0.445433\n",
      "Name: 1, dtype: float64\n",
      "\n",
      "\n",
      "most probable words in topic 2 are\n",
      "key           0.957004\n",
      "clipper       0.731107\n",
      "encryption    0.720083\n",
      "chip          0.707932\n",
      "escrow        0.432508\n",
      "keys          0.410442\n",
      "government    0.301689\n",
      "algorithm     0.278587\n",
      "crypto        0.267934\n",
      "security      0.255549\n",
      "Name: 2, dtype: float64\n",
      "\n",
      "\n",
      "most probable words in topic 3 are\n",
      "god           1.508262\n",
      "jesus         0.760143\n",
      "bible         0.487175\n",
      "christians    0.430767\n",
      "christian     0.403461\n",
      "faith         0.389008\n",
      "believe       0.386042\n",
      "gods          0.342445\n",
      "christ        0.339161\n",
      "people        0.329053\n",
      "Name: 3, dtype: float64\n",
      "\n",
      "\n",
      "most probable words in topic 4 are\n",
      "scsi          1.884367\n",
      "ide           0.699680\n",
      "bus           0.326775\n",
      "controller    0.318032\n",
      "mac           0.238440\n",
      "isa           0.231862\n",
      "devices       0.186742\n",
      "data          0.164147\n",
      "pc            0.160313\n",
      "dma           0.154076\n",
      "Name: 4, dtype: float64\n",
      "\n",
      "\n",
      "most probable words in topic 5 are\n",
      "israel      1.679721\n",
      "israeli     1.393742\n",
      "jews        0.876078\n",
      "arab        0.656514\n",
      "lebanese    0.469771\n",
      "arabs       0.462691\n",
      "jewish      0.405094\n",
      "peace       0.401035\n",
      "israelis    0.397366\n",
      "lebanon     0.386027\n",
      "Name: 5, dtype: float64\n",
      "\n",
      "\n",
      "most probable words in topic 6 are\n",
      "game       0.803499\n",
      "team       0.801040\n",
      "hockey     0.552991\n",
      "players    0.504808\n",
      "games      0.497843\n",
      "year       0.432716\n",
      "season     0.426769\n",
      "play       0.422863\n",
      "nhl        0.371481\n",
      "win        0.364625\n",
      "Name: 6, dtype: float64\n",
      "\n",
      "\n",
      "most probable words in topic 7 are\n",
      "posting         1.009808\n",
      "nntp            1.003509\n",
      "host            1.003168\n",
      "university      0.578413\n",
      "organization    0.481013\n",
      "article         0.467903\n",
      "lines           0.457451\n",
      "distribution    0.454987\n",
      "usa             0.444210\n",
      "writes          0.356296\n",
      "Name: 7, dtype: float64\n",
      "\n",
      "\n",
      "most probable words in topic 8 are\n",
      "gordon        1.168377\n",
      "banks         1.144379\n",
      "n3jxp         0.407797\n",
      "chastity      0.406975\n",
      "shameful      0.405320\n",
      "skepticism    0.403750\n",
      "intellect     0.402630\n",
      "surrender     0.388577\n",
      "pittsburgh    0.366482\n",
      "science       0.341659\n",
      "Name: 8, dtype: float64\n",
      "\n",
      "\n",
      "most probable words in topic 9 are\n",
      "turkish      0.779212\n",
      "armenian     0.768962\n",
      "armenians    0.672494\n",
      "armenia      0.497104\n",
      "serdar       0.446439\n",
      "argic        0.442246\n",
      "turks        0.411941\n",
      "genocide     0.333815\n",
      "turkey       0.325066\n",
      "soviet       0.291071\n",
      "Name: 9, dtype: float64\n",
      "\n",
      "\n",
      "most probable words in topic 10 are\n",
      "space      1.492423\n",
      "nasa       0.645359\n",
      "moon       0.404667\n",
      "shuttle    0.334755\n",
      "launch     0.329606\n",
      "henry      0.297340\n",
      "orbit      0.277266\n",
      "station    0.256464\n",
      "lunar      0.249761\n",
      "sci        0.249028\n",
      "Name: 10, dtype: float64\n",
      "\n",
      "\n",
      "most probable words in topic 11 are\n",
      "morality     0.922780\n",
      "objective    0.784632\n",
      "keith        0.734349\n",
      "moral        0.488988\n",
      "schneider    0.383154\n",
      "jon          0.377466\n",
      "system       0.350308\n",
      "allan        0.337343\n",
      "atheists     0.332257\n",
      "livesey      0.303616\n",
      "Name: 11, dtype: float64\n",
      "\n",
      "\n",
      "most probable words in topic 12 are\n",
      "gun           0.673889\n",
      "people        0.629303\n",
      "would         0.410380\n",
      "guns          0.393060\n",
      "government    0.346643\n",
      "dont          0.308465\n",
      "think         0.275582\n",
      "fbi           0.270552\n",
      "batf          0.252132\n",
      "law           0.243916\n",
      "Name: 12, dtype: float64\n",
      "\n",
      "\n",
      "most probable words in topic 13 are\n",
      "card       1.195237\n",
      "video      0.722936\n",
      "monitor    0.448737\n",
      "drivers    0.424898\n",
      "vga        0.377846\n",
      "bus        0.313879\n",
      "cards      0.288330\n",
      "diamond    0.280755\n",
      "color      0.273861\n",
      "driver     0.252987\n",
      "Name: 13, dtype: float64\n",
      "\n",
      "\n",
      "most probable words in topic 14 are\n",
      "__         1.331383\n",
      "___        1.330866\n",
      "_____      0.451359\n",
      "____       0.295135\n",
      "_______    0.190210\n",
      "______     0.180080\n",
      "nick       0.148746\n",
      "baalke     0.148596\n",
      "ron        0.135089\n",
      "jet        0.131444\n",
      "Name: 14, dtype: float64\n",
      "\n",
      "\n",
      "most probable words in topic 15 are\n",
      "windows    1.702101\n",
      "dos        0.723419\n",
      "file       0.566864\n",
      "ms         0.418004\n",
      "files      0.402265\n",
      "nt         0.272490\n",
      "os         0.236909\n",
      "ini        0.212550\n",
      "win        0.210106\n",
      "mouse      0.208493\n",
      "Name: 15, dtype: float64\n",
      "\n",
      "\n",
      "most probable words in topic 16 are\n",
      "00          1.081954\n",
      "sale        0.877071\n",
      "10          0.398680\n",
      "new         0.347239\n",
      "offer       0.321029\n",
      "shipping    0.317158\n",
      "price       0.276291\n",
      "15          0.270827\n",
      "20          0.261808\n",
      "50          0.259112\n",
      "Name: 16, dtype: float64\n",
      "\n",
      "\n",
      "most probable words in topic 17 are\n",
      "window         1.570423\n",
      "manager        0.391539\n",
      "motif          0.276182\n",
      "application    0.249674\n",
      "server         0.232319\n",
      "expose         0.226384\n",
      "widget         0.208651\n",
      "xterm          0.203801\n",
      "problem        0.199690\n",
      "display        0.193756\n",
      "Name: 17, dtype: float64\n",
      "\n",
      "\n",
      "most probable words in topic 18 are\n",
      "msg             1.365576\n",
      "food            0.580624\n",
      "sensitivity     0.329410\n",
      "chinese         0.306059\n",
      "superstition    0.282698\n",
      "dyer            0.189613\n",
      "glutamate       0.180946\n",
      "foods           0.154689\n",
      "restaurant      0.149820\n",
      "steve           0.142885\n",
      "Name: 18, dtype: float64\n",
      "\n",
      "\n",
      "most probable words in topic 19 are\n",
      "drive         1.397928\n",
      "disk          0.506570\n",
      "drives        0.466103\n",
      "hard          0.446692\n",
      "floppy        0.352884\n",
      "boot          0.219403\n",
      "controller    0.185227\n",
      "hd            0.183879\n",
      "system        0.166024\n",
      "ide           0.161872\n",
      "Name: 19, dtype: float64\n",
      "\n",
      "\n"
     ]
    }
   ],
   "source": [
    "# most probable words in each topic, that is, columns whose entries in topic row are max\n",
    "H_df = pd.DataFrame(H, columns=columns)\n",
    "for topic in range(H_df.shape[0]):\n",
    "    topic_words = H_df.iloc[topic]\n",
    "    print(f\"most probable words in topic {topic} are\")\n",
    "    print(topic_words.nlargest(10))\n",
    "    print('\\n')"
   ]
  },
  {
   "cell_type": "code",
   "execution_count": 15,
   "id": "fc27a456",
   "metadata": {},
   "outputs": [
    {
     "data": {
      "text/plain": [
       "7     1332\n",
       "12    1138\n",
       "0     1002\n",
       "1      949\n",
       "6      940\n",
       "3      896\n",
       "16     675\n",
       "13     640\n",
       "2      544\n",
       "10     525\n",
       "15     524\n",
       "17     400\n",
       "19     399\n",
       "5      291\n",
       "11     254\n",
       "8      180\n",
       "9      171\n",
       "14     169\n",
       "18     163\n",
       "4      122\n",
       "dtype: int64"
      ]
     },
     "execution_count": 15,
     "metadata": {},
     "output_type": "execute_result"
    }
   ],
   "source": [
    "# documents in each topic, that is, rows whose entry in topic column is max\n",
    "W_df = pd.DataFrame(W)\n",
    "W_df.idxmax(axis=1).value_counts()"
   ]
  },
  {
   "cell_type": "markdown",
   "id": "63c908fe",
   "metadata": {},
   "source": [
    "### prediction"
   ]
  },
  {
   "cell_type": "code",
   "execution_count": 16,
   "id": "37883e55",
   "metadata": {},
   "outputs": [
    {
     "data": {
      "text/plain": [
       "'From: (wheres my thing) Subject: WHAT car is this!? Nntp-Posting-Host: rac3.wam.umd.edu Organization: University of Maryland, College Park Lines: 15 I was wondering if anyone out there could enlighten me on this car I saw the other day. It was a 2-door sports car, looked to be from the late 60s/ early 70s. It was called a Bricklin. The doors were really small. In addition, the front bumper was separate from the rest of the body. This is all I know. If anyone can tellme a model name, engine specs, years of production, where this car is made, history, or whatever info you have on this funky looking car, please e-mail. Thanks, - IL ---- brought to you by your neighborhood Lerxst ---- '"
      ]
     },
     "execution_count": 16,
     "metadata": {},
     "output_type": "execute_result"
    }
   ],
   "source": [
    "doc = docs[0]\n",
    "doc"
   ]
  },
  {
   "cell_type": "code",
   "execution_count": 17,
   "id": "c9ea42cf",
   "metadata": {},
   "outputs": [],
   "source": [
    "vectors = vectorizer.transform([doc])\n",
    "vector = vectors[0]\n",
    "w = model.transform(vector)"
   ]
  },
  {
   "cell_type": "code",
   "execution_count": 18,
   "id": "328828ae",
   "metadata": {},
   "outputs": [
    {
     "data": {
      "text/plain": [
       "0"
      ]
     },
     "execution_count": 18,
     "metadata": {},
     "output_type": "execute_result"
    }
   ],
   "source": [
    "topic = w.argmax()\n",
    "topic"
   ]
  },
  {
   "cell_type": "code",
   "execution_count": 19,
   "id": "d5201ccc",
   "metadata": {},
   "outputs": [
    {
     "data": {
      "text/plain": [
       "car       1.154409\n",
       "bike      0.650312\n",
       "one       0.500093\n",
       "like      0.489897\n",
       "get       0.488471\n",
       "dont      0.454059\n",
       "good      0.453161\n",
       "cars      0.446417\n",
       "would     0.396829\n",
       "writes    0.396726\n",
       "Name: 0, dtype: float64"
      ]
     },
     "execution_count": 19,
     "metadata": {},
     "output_type": "execute_result"
    }
   ],
   "source": [
    "H_df.iloc[topic].nlargest(10)"
   ]
  }
 ],
 "metadata": {
  "kernelspec": {
   "display_name": "machine_learning",
   "language": "python",
   "name": "machine_learning"
  },
  "language_info": {
   "codemirror_mode": {
    "name": "ipython",
    "version": 3
   },
   "file_extension": ".py",
   "mimetype": "text/x-python",
   "name": "python",
   "nbconvert_exporter": "python",
   "pygments_lexer": "ipython3",
   "version": "3.7.8"
  }
 },
 "nbformat": 4,
 "nbformat_minor": 5
}
