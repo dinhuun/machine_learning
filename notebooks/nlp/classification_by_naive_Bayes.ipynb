{
 "cells": [
  {
   "cell_type": "code",
   "execution_count": 1,
   "id": "c6b36f11",
   "metadata": {},
   "outputs": [],
   "source": [
    "import os\n",
    "\n",
    "import pandas as pd\n",
    "from sklearn.feature_extraction.text import TfidfVectorizer\n",
    "from sklearn.metrics import f1_score\n",
    "from sklearn.model_selection import train_test_split\n",
    "from sklearn.naive_bayes import MultinomialNB\n",
    "\n",
    "from machine_learning.utils.utils_nlp import remove_email, remove_newline_char, remove_single_quote\n",
    "from machine_learning.utils.utils_io import read_lines_from_text_file"
   ]
  },
  {
   "cell_type": "code",
   "execution_count": null,
   "id": "c9cc2875",
   "metadata": {},
   "outputs": [],
   "source": [
    "data_nlp_dirpath = \"../data/nlp\""
   ]
  },
  {
   "cell_type": "code",
   "execution_count": 2,
   "id": "fa49073d",
   "metadata": {},
   "outputs": [],
   "source": [
    "stopwords_filename = \"stopwords_english.txt\"\n",
    "stopwords_filepath = os.path.join(data_nlp_dirpath, stopwords_filename)\n",
    "stopwords = read_lines_from_text_file(stopwords_filepath)"
   ]
  },
  {
   "cell_type": "markdown",
   "id": "57ee9a88",
   "metadata": {},
   "source": [
    "### data"
   ]
  },
  {
   "cell_type": "code",
   "execution_count": 3,
   "id": "bf592df4",
   "metadata": {},
   "outputs": [
    {
     "data": {
      "text/html": [
       "<div>\n",
       "<style scoped>\n",
       "    .dataframe tbody tr th:only-of-type {\n",
       "        vertical-align: middle;\n",
       "    }\n",
       "\n",
       "    .dataframe tbody tr th {\n",
       "        vertical-align: top;\n",
       "    }\n",
       "\n",
       "    .dataframe thead th {\n",
       "        text-align: right;\n",
       "    }\n",
       "</style>\n",
       "<table border=\"1\" class=\"dataframe\">\n",
       "  <thead>\n",
       "    <tr style=\"text-align: right;\">\n",
       "      <th></th>\n",
       "      <th>content</th>\n",
       "      <th>target</th>\n",
       "      <th>target_names</th>\n",
       "    </tr>\n",
       "  </thead>\n",
       "  <tbody>\n",
       "    <tr>\n",
       "      <th>0</th>\n",
       "      <td>From: lerxst@wam.umd.edu (where's my thing)\\nS...</td>\n",
       "      <td>7</td>\n",
       "      <td>rec.autos</td>\n",
       "    </tr>\n",
       "    <tr>\n",
       "      <th>1</th>\n",
       "      <td>From: guykuo@carson.u.washington.edu (Guy Kuo)...</td>\n",
       "      <td>4</td>\n",
       "      <td>comp.sys.mac.hardware</td>\n",
       "    </tr>\n",
       "    <tr>\n",
       "      <th>2</th>\n",
       "      <td>From: twillis@ec.ecn.purdue.edu (Thomas E Will...</td>\n",
       "      <td>4</td>\n",
       "      <td>comp.sys.mac.hardware</td>\n",
       "    </tr>\n",
       "    <tr>\n",
       "      <th>3</th>\n",
       "      <td>From: jgreen@amber (Joe Green)\\nSubject: Re: W...</td>\n",
       "      <td>1</td>\n",
       "      <td>comp.graphics</td>\n",
       "    </tr>\n",
       "    <tr>\n",
       "      <th>4</th>\n",
       "      <td>From: jcm@head-cfa.harvard.edu (Jonathan McDow...</td>\n",
       "      <td>14</td>\n",
       "      <td>sci.space</td>\n",
       "    </tr>\n",
       "  </tbody>\n",
       "</table>\n",
       "</div>"
      ],
      "text/plain": [
       "                                             content  target  \\\n",
       "0  From: lerxst@wam.umd.edu (where's my thing)\\nS...       7   \n",
       "1  From: guykuo@carson.u.washington.edu (Guy Kuo)...       4   \n",
       "2  From: twillis@ec.ecn.purdue.edu (Thomas E Will...       4   \n",
       "3  From: jgreen@amber (Joe Green)\\nSubject: Re: W...       1   \n",
       "4  From: jcm@head-cfa.harvard.edu (Jonathan McDow...      14   \n",
       "\n",
       "            target_names  \n",
       "0              rec.autos  \n",
       "1  comp.sys.mac.hardware  \n",
       "2  comp.sys.mac.hardware  \n",
       "3          comp.graphics  \n",
       "4              sci.space  "
      ]
     },
     "execution_count": 3,
     "metadata": {},
     "output_type": "execute_result"
    }
   ],
   "source": [
    "# get newsgroups.json from https://raw.githubusercontent.com/selva86/datasets/master/newsgroups.json\n",
    "# it is not included in this package to save 22.2MB space\n",
    "\n",
    "newgroups_filename = \"newsgroups.json\"\n",
    "newgroups_filepath = os.path.join(data_nlp_dirpath, newgroups_filename)\n",
    "df = pd.read_json(newgroups_filepath)\n",
    "df.head()"
   ]
  },
  {
   "cell_type": "code",
   "execution_count": 4,
   "id": "30673983",
   "metadata": {},
   "outputs": [],
   "source": [
    "docs = df.content.values.tolist()\n",
    "targets = df.target.values.tolist()"
   ]
  },
  {
   "cell_type": "markdown",
   "id": "64446861",
   "metadata": {},
   "source": [
    "### preprocessing"
   ]
  },
  {
   "cell_type": "code",
   "execution_count": 5,
   "id": "47da503a",
   "metadata": {},
   "outputs": [],
   "source": [
    "docs = [remove_email(doc) for doc in docs]"
   ]
  },
  {
   "cell_type": "code",
   "execution_count": 6,
   "id": "15f8addc",
   "metadata": {},
   "outputs": [],
   "source": [
    "docs = [remove_newline_char(doc) for doc in docs]"
   ]
  },
  {
   "cell_type": "code",
   "execution_count": 7,
   "id": "d9ae7acb",
   "metadata": {},
   "outputs": [],
   "source": [
    "docs = [remove_single_quote(doc) for doc in docs]"
   ]
  },
  {
   "cell_type": "code",
   "execution_count": 8,
   "id": "885a189c",
   "metadata": {},
   "outputs": [],
   "source": [
    "doc_train, doc_test, target_train, target_test = train_test_split(docs, targets, test_size=0.3, random_state=0)"
   ]
  },
  {
   "cell_type": "markdown",
   "id": "a96b0694",
   "metadata": {},
   "source": [
    "### vectorization"
   ]
  },
  {
   "cell_type": "code",
   "execution_count": 9,
   "id": "4a42105f",
   "metadata": {},
   "outputs": [
    {
     "data": {
      "text/plain": [
       "(7919, 88666)"
      ]
     },
     "execution_count": 9,
     "metadata": {},
     "output_type": "execute_result"
    }
   ],
   "source": [
    "vectorizer = TfidfVectorizer(stop_words=stopwords)\n",
    "X_train = vectorizer.fit_transform(doc_train)\n",
    "X_train.shape"
   ]
  },
  {
   "cell_type": "code",
   "execution_count": 10,
   "id": "6b81408e",
   "metadata": {},
   "outputs": [
    {
     "data": {
      "text/plain": [
       "(3395, 88666)"
      ]
     },
     "execution_count": 10,
     "metadata": {},
     "output_type": "execute_result"
    }
   ],
   "source": [
    "X_test = vectorizer.transform(doc_test)\n",
    "X_test.shape"
   ]
  },
  {
   "cell_type": "markdown",
   "id": "c7ad1579",
   "metadata": {},
   "source": [
    "### model"
   ]
  },
  {
   "cell_type": "code",
   "execution_count": 11,
   "id": "e0a5fa33",
   "metadata": {},
   "outputs": [
    {
     "data": {
      "text/plain": [
       "MultinomialNB(alpha=0.01)"
      ]
     },
     "execution_count": 11,
     "metadata": {},
     "output_type": "execute_result"
    }
   ],
   "source": [
    "model = MultinomialNB(alpha=.01)\n",
    "model.fit(X_train, target_train)"
   ]
  },
  {
   "cell_type": "markdown",
   "id": "63c908fe",
   "metadata": {},
   "source": [
    "### prediction"
   ]
  },
  {
   "cell_type": "code",
   "execution_count": 12,
   "id": "753ebd91",
   "metadata": {},
   "outputs": [],
   "source": [
    "target_test_pred = model.predict(X_test)"
   ]
  },
  {
   "cell_type": "code",
   "execution_count": 13,
   "id": "9760b627",
   "metadata": {},
   "outputs": [
    {
     "data": {
      "text/plain": [
       "[1, 12, 13, 14, 9, 9, 11, 8, 14, 11]"
      ]
     },
     "execution_count": 13,
     "metadata": {},
     "output_type": "execute_result"
    }
   ],
   "source": [
    "target_test[:10]"
   ]
  },
  {
   "cell_type": "code",
   "execution_count": 14,
   "id": "67fad4e9",
   "metadata": {},
   "outputs": [
    {
     "data": {
      "text/plain": [
       "array([ 1, 12, 13, 14,  9, 10, 11,  8, 14, 11])"
      ]
     },
     "execution_count": 14,
     "metadata": {},
     "output_type": "execute_result"
    }
   ],
   "source": [
    "target_test_pred[:10]"
   ]
  },
  {
   "cell_type": "code",
   "execution_count": 15,
   "id": "1a451ce9",
   "metadata": {},
   "outputs": [
    {
     "data": {
      "text/plain": [
       "0.9093606110443136"
      ]
     },
     "execution_count": 15,
     "metadata": {},
     "output_type": "execute_result"
    }
   ],
   "source": [
    "score = f1_score(target_test, target_test_pred, average='macro')\n",
    "score"
   ]
  }
 ],
 "metadata": {
  "kernelspec": {
   "display_name": "machine_learning",
   "language": "python",
   "name": "machine_learning"
  },
  "language_info": {
   "codemirror_mode": {
    "name": "ipython",
    "version": 3
   },
   "file_extension": ".py",
   "mimetype": "text/x-python",
   "name": "python",
   "nbconvert_exporter": "python",
   "pygments_lexer": "ipython3",
   "version": "3.7.8"
  }
 },
 "nbformat": 4,
 "nbformat_minor": 5
}
