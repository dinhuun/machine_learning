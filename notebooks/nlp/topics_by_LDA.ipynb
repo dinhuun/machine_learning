{
 "cells": [
  {
   "cell_type": "code",
   "execution_count": 37,
   "id": "9d8a6d80",
   "metadata": {},
   "outputs": [],
   "source": [
    "from warnings import filterwarnings\n",
    "filterwarnings(\"ignore\")"
   ]
  },
  {
   "cell_type": "code",
   "execution_count": 38,
   "id": "c6b36f11",
   "metadata": {},
   "outputs": [],
   "source": [
    "import os\n",
    "import re\n",
    "\n",
    "import pandas as pd\n",
    "import pyLDAvis\n",
    "import pyLDAvis.gensim_models\n",
    "import spacy\n",
    "from gensim.corpora import Dictionary\n",
    "from gensim.models import CoherenceModel, LdaModel, Phrases\n",
    "from gensim.models.phrases import Phraser\n",
    "from gensim.utils import simple_preprocess\n",
    "\n",
    "from machine_learning.utils.utils_io import read_lines_from_text_file\n",
    "from machine_learning.utils.utils_nlp import lemmatize, remove_email, remove_newline_char, remove_single_quote, remove_stopwords"
   ]
  },
  {
   "cell_type": "code",
   "execution_count": null,
   "id": "2f6667f9",
   "metadata": {},
   "outputs": [],
   "source": [
    "data_nlp_dirpath = \"../data/nlp\""
   ]
  },
  {
   "cell_type": "code",
   "execution_count": 3,
   "id": "e51e196c",
   "metadata": {},
   "outputs": [
    {
     "data": {
      "text/plain": [
       "184"
      ]
     },
     "execution_count": 3,
     "metadata": {},
     "output_type": "execute_result"
    }
   ],
   "source": [
    "stopwords_filename = \"stopwords_english.txt\"\n",
    "stopwords_filepath = os.path.join(data_nlp_dirpath, stopwords_filename)\n",
    "stopwords = read_lines_from_text_file(stopwords_filepath)"
   ]
  },
  {
   "cell_type": "markdown",
   "id": "760a4309",
   "metadata": {},
   "source": [
    "### data"
   ]
  },
  {
   "cell_type": "code",
   "execution_count": 4,
   "id": "bf592df4",
   "metadata": {},
   "outputs": [
    {
     "data": {
      "text/html": [
       "<div>\n",
       "<style scoped>\n",
       "    .dataframe tbody tr th:only-of-type {\n",
       "        vertical-align: middle;\n",
       "    }\n",
       "\n",
       "    .dataframe tbody tr th {\n",
       "        vertical-align: top;\n",
       "    }\n",
       "\n",
       "    .dataframe thead th {\n",
       "        text-align: right;\n",
       "    }\n",
       "</style>\n",
       "<table border=\"1\" class=\"dataframe\">\n",
       "  <thead>\n",
       "    <tr style=\"text-align: right;\">\n",
       "      <th></th>\n",
       "      <th>content</th>\n",
       "      <th>target</th>\n",
       "      <th>target_names</th>\n",
       "    </tr>\n",
       "  </thead>\n",
       "  <tbody>\n",
       "    <tr>\n",
       "      <th>0</th>\n",
       "      <td>From: lerxst@wam.umd.edu (where's my thing)\\nS...</td>\n",
       "      <td>7</td>\n",
       "      <td>rec.autos</td>\n",
       "    </tr>\n",
       "    <tr>\n",
       "      <th>1</th>\n",
       "      <td>From: guykuo@carson.u.washington.edu (Guy Kuo)...</td>\n",
       "      <td>4</td>\n",
       "      <td>comp.sys.mac.hardware</td>\n",
       "    </tr>\n",
       "    <tr>\n",
       "      <th>2</th>\n",
       "      <td>From: twillis@ec.ecn.purdue.edu (Thomas E Will...</td>\n",
       "      <td>4</td>\n",
       "      <td>comp.sys.mac.hardware</td>\n",
       "    </tr>\n",
       "    <tr>\n",
       "      <th>3</th>\n",
       "      <td>From: jgreen@amber (Joe Green)\\nSubject: Re: W...</td>\n",
       "      <td>1</td>\n",
       "      <td>comp.graphics</td>\n",
       "    </tr>\n",
       "    <tr>\n",
       "      <th>4</th>\n",
       "      <td>From: jcm@head-cfa.harvard.edu (Jonathan McDow...</td>\n",
       "      <td>14</td>\n",
       "      <td>sci.space</td>\n",
       "    </tr>\n",
       "  </tbody>\n",
       "</table>\n",
       "</div>"
      ],
      "text/plain": [
       "                                             content  target  \\\n",
       "0  From: lerxst@wam.umd.edu (where's my thing)\\nS...       7   \n",
       "1  From: guykuo@carson.u.washington.edu (Guy Kuo)...       4   \n",
       "2  From: twillis@ec.ecn.purdue.edu (Thomas E Will...       4   \n",
       "3  From: jgreen@amber (Joe Green)\\nSubject: Re: W...       1   \n",
       "4  From: jcm@head-cfa.harvard.edu (Jonathan McDow...      14   \n",
       "\n",
       "            target_names  \n",
       "0              rec.autos  \n",
       "1  comp.sys.mac.hardware  \n",
       "2  comp.sys.mac.hardware  \n",
       "3          comp.graphics  \n",
       "4              sci.space  "
      ]
     },
     "execution_count": 4,
     "metadata": {},
     "output_type": "execute_result"
    }
   ],
   "source": [
    "# get newsgroups.json from https://raw.githubusercontent.com/selva86/datasets/master/newsgroups.json\n",
    "# it is not included in this package to save 22.2MB space\n",
    "\n",
    "newgroups_filename = \"newsgroups.json\"\n",
    "newgroups_filepath = os.path.join(data_nlp_dirpath, newgroups_filename)\n",
    "df = pd.read_json(newgroups_filepath)\n",
    "df.head()"
   ]
  },
  {
   "cell_type": "code",
   "execution_count": 5,
   "id": "ffd263f8",
   "metadata": {},
   "outputs": [
    {
     "data": {
      "text/plain": [
       "array(['rec.autos', 'comp.sys.mac.hardware', 'comp.graphics', 'sci.space',\n",
       "       'talk.politics.guns', 'sci.med', 'comp.sys.ibm.pc.hardware',\n",
       "       'comp.os.ms-windows.misc', 'rec.motorcycles', 'talk.religion.misc',\n",
       "       'misc.forsale', 'alt.atheism', 'sci.electronics', 'comp.windows.x',\n",
       "       'rec.sport.hockey', 'rec.sport.baseball', 'soc.religion.christian',\n",
       "       'talk.politics.mideast', 'talk.politics.misc', 'sci.crypt'],\n",
       "      dtype=object)"
      ]
     },
     "execution_count": 5,
     "metadata": {},
     "output_type": "execute_result"
    }
   ],
   "source": [
    "df.target_names.unique()"
   ]
  },
  {
   "cell_type": "code",
   "execution_count": 6,
   "id": "30673983",
   "metadata": {},
   "outputs": [],
   "source": [
    "docs = df.content.values.tolist()"
   ]
  },
  {
   "cell_type": "code",
   "execution_count": 7,
   "id": "5bb80506",
   "metadata": {},
   "outputs": [
    {
     "data": {
      "text/plain": [
       "\"From: lerxst@wam.umd.edu (where's my thing)\\nSubject: WHAT car is this!?\\nNntp-Posting-Host: rac3.wam.umd.edu\\nOrganization: University of Maryland, College Park\\nLines: 15\\n\\n I was wondering if anyone out there could enlighten me on this car I saw\\nthe other day. It was a 2-door sports car, looked to be from the late 60s/\\nearly 70s. It was called a Bricklin. The doors were really small. In addition,\\nthe front bumper was separate from the rest of the body. This is \\nall I know. If anyone can tellme a model name, engine specs, years\\nof production, where this car is made, history, or whatever info you\\nhave on this funky looking car, please e-mail.\\n\\nThanks,\\n- IL\\n   ---- brought to you by your neighborhood Lerxst ----\\n\\n\\n\\n\\n\""
      ]
     },
     "execution_count": 7,
     "metadata": {},
     "output_type": "execute_result"
    }
   ],
   "source": [
    "docs[0]"
   ]
  },
  {
   "cell_type": "markdown",
   "id": "6890b7b8",
   "metadata": {},
   "source": [
    "### preprocessing"
   ]
  },
  {
   "cell_type": "code",
   "execution_count": 8,
   "id": "756a1f3b",
   "metadata": {},
   "outputs": [],
   "source": [
    "docs = [remove_email(doc) for doc in docs]"
   ]
  },
  {
   "cell_type": "code",
   "execution_count": 9,
   "id": "c9d4343b",
   "metadata": {},
   "outputs": [],
   "source": [
    "docs = [remove_newline_char(doc) for doc in docs]"
   ]
  },
  {
   "cell_type": "code",
   "execution_count": 10,
   "id": "bdeffb7b",
   "metadata": {},
   "outputs": [],
   "source": [
    "docs = [remove_single_quote(doc) for doc in docs]"
   ]
  },
  {
   "cell_type": "code",
   "execution_count": 11,
   "id": "c2ebb9ab",
   "metadata": {},
   "outputs": [
    {
     "data": {
      "text/plain": [
       "'From: (wheres my thing) Subject: WHAT car is this!? Nntp-Posting-Host: rac3.wam.umd.edu Organization: University of Maryland, College Park Lines: 15 I was wondering if anyone out there could enlighten me on this car I saw the other day. It was a 2-door sports car, looked to be from the late 60s/ early 70s. It was called a Bricklin. The doors were really small. In addition, the front bumper was separate from the rest of the body. This is all I know. If anyone can tellme a model name, engine specs, years of production, where this car is made, history, or whatever info you have on this funky looking car, please e-mail. Thanks, - IL ---- brought to you by your neighborhood Lerxst ---- '"
      ]
     },
     "execution_count": 11,
     "metadata": {},
     "output_type": "execute_result"
    }
   ],
   "source": [
    "docs[0]"
   ]
  },
  {
   "cell_type": "code",
   "execution_count": 12,
   "id": "9ec02378",
   "metadata": {},
   "outputs": [],
   "source": [
    "tokenized_docs = [simple_preprocess(doc, deacc=True) for doc in docs]"
   ]
  },
  {
   "cell_type": "code",
   "execution_count": 13,
   "id": "e32c75e9",
   "metadata": {},
   "outputs": [],
   "source": [
    "tokenized_docs = [remove_stopwords(doc, stopwords) for doc in tokenized_docs]"
   ]
  },
  {
   "cell_type": "markdown",
   "id": "edb27d17",
   "metadata": {},
   "source": [
    "### dictionary and corpus"
   ]
  },
  {
   "cell_type": "code",
   "execution_count": 14,
   "id": "07f66501",
   "metadata": {},
   "outputs": [],
   "source": [
    "bigram = Phrases(tokenized_docs, min_count=5, threshold=100) # higher threshold fewer phrases.\n",
    "trigram = Phrases(bigram[tokenized_docs], threshold=100)  \n",
    "\n",
    "# faster way to get sentence clubbed as bigram/trigram\n",
    "bigram_model = Phraser(bigram)\n",
    "trigram_model = Phraser(trigram)"
   ]
  },
  {
   "cell_type": "code",
   "execution_count": 15,
   "id": "4697bef0",
   "metadata": {
    "scrolled": true
   },
   "outputs": [],
   "source": [
    "bigrammed_docs = [bigram_model[doc] for doc in tokenized_docs]"
   ]
  },
  {
   "cell_type": "code",
   "execution_count": 16,
   "id": "48af7348",
   "metadata": {},
   "outputs": [],
   "source": [
    "nlp = spacy.load('en_core_web_sm', disable=['parser', 'ner'])"
   ]
  },
  {
   "cell_type": "code",
   "execution_count": 17,
   "id": "f0273545",
   "metadata": {},
   "outputs": [],
   "source": [
    "lemmatized_docs = [lemmatize(doc, nlp) for doc in bigrammed_docs]"
   ]
  },
  {
   "cell_type": "code",
   "execution_count": 18,
   "id": "139debc3",
   "metadata": {},
   "outputs": [],
   "source": [
    "dictionary = Dictionary(lemmatized_docs)\n",
    "corpus = [dictionary.doc2bow(doc) for doc in lemmatized_docs]"
   ]
  },
  {
   "cell_type": "code",
   "execution_count": 19,
   "id": "2d585b14",
   "metadata": {},
   "outputs": [
    {
     "data": {
      "text/plain": [
       "'addition'"
      ]
     },
     "execution_count": 19,
     "metadata": {},
     "output_type": "execute_result"
    }
   ],
   "source": [
    "dictionary[0]"
   ]
  },
  {
   "cell_type": "code",
   "execution_count": 20,
   "id": "f4b19862",
   "metadata": {
    "scrolled": true
   },
   "outputs": [
    {
     "data": {
      "text/plain": [
       "[(0, 1),\n",
       " (1, 1),\n",
       " (2, 1),\n",
       " (3, 1),\n",
       " (4, 5),\n",
       " (5, 1),\n",
       " (6, 2),\n",
       " (7, 1),\n",
       " (8, 1),\n",
       " (9, 1),\n",
       " (10, 1),\n",
       " (11, 1),\n",
       " (12, 1),\n",
       " (13, 1),\n",
       " (14, 1),\n",
       " (15, 1),\n",
       " (16, 1),\n",
       " (17, 1),\n",
       " (18, 1),\n",
       " (19, 2),\n",
       " (20, 1),\n",
       " (21, 1),\n",
       " (22, 1),\n",
       " (23, 1),\n",
       " (24, 1),\n",
       " (25, 1),\n",
       " (26, 1),\n",
       " (27, 1),\n",
       " (28, 1),\n",
       " (29, 1),\n",
       " (30, 1),\n",
       " (31, 1),\n",
       " (32, 1),\n",
       " (33, 1),\n",
       " (34, 1),\n",
       " (35, 1),\n",
       " (36, 1),\n",
       " (37, 1),\n",
       " (38, 1),\n",
       " (39, 1),\n",
       " (40, 1)]"
      ]
     },
     "execution_count": 20,
     "metadata": {},
     "output_type": "execute_result"
    }
   ],
   "source": [
    "corpus[0]"
   ]
  },
  {
   "cell_type": "code",
   "execution_count": 21,
   "id": "9b81f4df",
   "metadata": {
    "scrolled": true
   },
   "outputs": [
    {
     "data": {
      "text/plain": [
       "[('addition', 1),\n",
       " ('body', 1),\n",
       " ('bring', 1),\n",
       " ('call', 1),\n",
       " ('car', 5),\n",
       " ('day', 1),\n",
       " ('door', 2),\n",
       " ('early', 1),\n",
       " ('engine', 1),\n",
       " ('enlighten', 1),\n",
       " ('front_bumper', 1),\n",
       " ('funky', 1),\n",
       " ('history', 1),\n",
       " ('host', 1),\n",
       " ('info', 1),\n",
       " ('know', 1),\n",
       " ('late', 1),\n",
       " ('lerxst', 1),\n",
       " ('line', 1),\n",
       " ('look', 2),\n",
       " ('mail', 1),\n",
       " ('make', 1),\n",
       " ('model', 1),\n",
       " ('name', 1),\n",
       " ('neighborhood', 1),\n",
       " ('nntp_poste', 1),\n",
       " ('park', 1),\n",
       " ('production', 1),\n",
       " ('rac_wam', 1),\n",
       " ('really', 1),\n",
       " ('rest', 1),\n",
       " ('see', 1),\n",
       " ('separate', 1),\n",
       " ('small', 1),\n",
       " ('spec', 1),\n",
       " ('sport', 1),\n",
       " ('tellme', 1),\n",
       " ('thank', 1),\n",
       " ('thing', 1),\n",
       " ('wonder', 1),\n",
       " ('year', 1)]"
      ]
     },
     "execution_count": 21,
     "metadata": {},
     "output_type": "execute_result"
    }
   ],
   "source": [
    "[(dictionary[i], freq) for (i, freq) in corpus[0]]"
   ]
  },
  {
   "cell_type": "markdown",
   "id": "ee7c9c99",
   "metadata": {},
   "source": [
    "### model"
   ]
  },
  {
   "cell_type": "code",
   "execution_count": 22,
   "id": "1a960eca",
   "metadata": {},
   "outputs": [],
   "source": [
    "model = LdaModel(corpus, 20, dictionary, chunksize=100, passes=10, alpha=\"auto\", \n",
    "                 random_state=0, per_word_topics=True)"
   ]
  },
  {
   "cell_type": "code",
   "execution_count": 23,
   "id": "619f872f",
   "metadata": {
    "scrolled": true
   },
   "outputs": [
    {
     "data": {
      "text/plain": [
       "[(0,\n",
       "  '0.057*\"field\" + 0.050*\"notice\" + 0.050*\"community\" + 0.043*\"suggest\" + 0.042*\"external\" + 0.039*\"average\" + 0.038*\"weight\" + 0.035*\"significant\" + 0.029*\"impact\" + 0.028*\"primarily\"'),\n",
       " (1,\n",
       "  '0.039*\"evidence\" + 0.022*\"man\" + 0.021*\"law\" + 0.019*\"child\" + 0.018*\"faith\" + 0.018*\"state\" + 0.018*\"claim\" + 0.017*\"reason\" + 0.017*\"sense\" + 0.016*\"exist\"'),\n",
       " (2,\n",
       "  '0.714*\"ax\" + 0.017*\"score\" + 0.012*\"baseball\" + 0.010*\"club\" + 0.009*\"ice\" + 0.009*\"cap\" + 0.008*\"pitch\" + 0.008*\"max\" + 0.007*\"tie\" + 0.007*\"stat\"'),\n",
       " (3,\n",
       "  '0.043*\"soldier\" + 0.035*\"format\" + 0.034*\"war\" + 0.031*\"armenian\" + 0.031*\"attack\" + 0.030*\"village\" + 0.025*\"kill\" + 0.024*\"convert\" + 0.023*\"turkish\" + 0.022*\"civilian\"'),\n",
       " (4,\n",
       "  '0.029*\"issue\" + 0.017*\"accept\" + 0.017*\"public\" + 0.013*\"encryption\" + 0.013*\"cover\" + 0.012*\"national\" + 0.012*\"control\" + 0.012*\"study\" + 0.012*\"body\" + 0.011*\"risk\"'),\n",
       " (5,\n",
       "  '0.123*\"pin\" + 0.085*\"dept\" + 0.051*\"processor\" + 0.038*\"compile\" + 0.030*\"cub\" + 0.022*\"enable\" + 0.021*\"menu\" + 0.014*\"app\" + 0.011*\"static\" + 0.010*\"int\"'),\n",
       " (6,\n",
       "  '0.031*\"go\" + 0.026*\"get\" + 0.026*\"year\" + 0.015*\"back\" + 0.013*\"team\" + 0.013*\"good\" + 0.013*\"time\" + 0.012*\"last\" + 0.012*\"game\" + 0.012*\"car\"'),\n",
       " (7,\n",
       "  '0.071*\"revelation\" + 0.062*\"interpretation\" + 0.060*\"rational\" + 0.033*\"widget\" + 0.032*\"interpret\" + 0.017*\"download\" + 0.017*\"au\" + 0.014*\"ken\" + 0.012*\"appreciated\" + 0.011*\"retrieve\"'),\n",
       " (8,\n",
       "  '0.027*\"say\" + 0.024*\"people\" + 0.023*\"think\" + 0.020*\"know\" + 0.019*\"make\" + 0.016*\"see\" + 0.014*\"thing\" + 0.012*\"way\" + 0.011*\"even\" + 0.011*\"many\"'),\n",
       " (9,\n",
       "  '0.083*\"entry\" + 0.059*\"server\" + 0.047*\"engine\" + 0.038*\"clearly\" + 0.029*\"telnet\" + 0.027*\"door\" + 0.027*\"student\" + 0.023*\"saturn\" + 0.021*\"motto\" + 0.021*\"german\"'),\n",
       " (10,\n",
       "  '0.029*\"use\" + 0.025*\"system\" + 0.024*\"work\" + 0.023*\"also\" + 0.021*\"new\" + 0.019*\"need\" + 0.017*\"problem\" + 0.016*\"number\" + 0.011*\"get\" + 0.010*\"call\"'),\n",
       " (11,\n",
       "  '0.065*\"drive\" + 0.034*\"bit\" + 0.033*\"card\" + 0.027*\"driver\" + 0.021*\"chip\" + 0.019*\"fast\" + 0.018*\"memory\" + 0.017*\"com\" + 0.017*\"color\" + 0.017*\"speed\"'),\n",
       " (12,\n",
       "  '0.177*\"image\" + 0.043*\"library\" + 0.035*\"mine\" + 0.033*\"trap\" + 0.028*\"specification\" + 0.018*\"import\" + 0.018*\"significance\" + 0.009*\"unnecessary\" + 0.009*\"pseudo\" + 0.009*\"tiff\"'),\n",
       " (13,\n",
       "  '0.137*\"line\" + 0.092*\"write\" + 0.090*\"organization\" + 0.071*\"article\" + 0.054*\"nntp_poste\" + 0.047*\"host\" + 0.029*\"m\" + 0.027*\"reply\" + 0.025*\"get\" + 0.019*\"thank\"'),\n",
       " (14,\n",
       "  '0.061*\"mail\" + 0.056*\"information\" + 0.054*\"send\" + 0.041*\"list\" + 0.031*\"address\" + 0.030*\"book\" + 0.025*\"receive\" + 0.025*\"internet\" + 0.022*\"message\" + 0.021*\"copy\"'),\n",
       " (15,\n",
       "  '0.077*\"space\" + 0.027*\"earth\" + 0.020*\"launch\" + 0.019*\"orbit\" + 0.018*\"mission\" + 0.018*\"moon\" + 0.015*\"satellite\" + 0.015*\"science\" + 0.014*\"scientific\" + 0.014*\"plane\"'),\n",
       " (16,\n",
       "  '0.105*\"key\" + 0.071*\"government\" + 0.059*\"gun\" + 0.028*\"security\" + 0.024*\"public\" + 0.024*\"right\" + 0.023*\"clipper\" + 0.020*\"weapon\" + 0.020*\"master\" + 0.019*\"citizen\"'),\n",
       " (17,\n",
       "  '0.119*\"god\" + 0.101*\"israeli\" + 0.046*\"arab\" + 0.030*\"peace\" + 0.023*\"reflect\" + 0.022*\"land\" + 0.020*\"pat\" + 0.018*\"creator\" + 0.016*\"suck\" + 0.012*\"sue\"'),\n",
       " (18,\n",
       "  '0.052*\"file\" + 0.052*\"program\" + 0.047*\"window\" + 0.033*\"software\" + 0.032*\"run\" + 0.028*\"do\" + 0.023*\"version\" + 0.022*\"cpu\" + 0.021*\"code\" + 0.019*\"application\"'),\n",
       " (19,\n",
       "  '0.093*\"price\" + 0.079*\"sale\" + 0.041*\"sell\" + 0.037*\"controller\" + 0.035*\"wing\" + 0.034*\"unit\" + 0.032*\"ide\" + 0.029*\"mount\" + 0.028*\"printer\" + 0.028*\"purchase\"')]"
      ]
     },
     "execution_count": 23,
     "metadata": {},
     "output_type": "execute_result"
    }
   ],
   "source": [
    "model.print_topics()"
   ]
  },
  {
   "cell_type": "markdown",
   "id": "ca20e2ae",
   "metadata": {},
   "source": [
    "### evaluating model"
   ]
  },
  {
   "cell_type": "code",
   "execution_count": 24,
   "id": "7f714524",
   "metadata": {},
   "outputs": [
    {
     "data": {
      "text/plain": [
       "-13.59976498601444"
      ]
     },
     "execution_count": 24,
     "metadata": {},
     "output_type": "execute_result"
    }
   ],
   "source": [
    "model.log_perplexity(corpus)"
   ]
  },
  {
   "cell_type": "code",
   "execution_count": 25,
   "id": "069b4fd7",
   "metadata": {},
   "outputs": [
    {
     "data": {
      "text/plain": [
       "0.5063445704868277"
      ]
     },
     "execution_count": 25,
     "metadata": {},
     "output_type": "execute_result"
    }
   ],
   "source": [
    "coherence_model = CoherenceModel(model, texts=lemmatized_docs, dictionary=dictionary)\n",
    "coherence = coherence_model.get_coherence()\n",
    "coherence"
   ]
  },
  {
   "cell_type": "code",
   "execution_count": 26,
   "id": "764fc2e7",
   "metadata": {
    "scrolled": true
   },
   "outputs": [
    {
     "data": {
      "text/html": [
       "\n",
       "<link rel=\"stylesheet\" type=\"text/css\" href=\"https://cdn.jsdelivr.net/gh/bmabey/pyLDAvis@3.3.1/pyLDAvis/js/ldavis.v1.0.0.css\">\n",
       "\n",
       "\n",
       "<div id=\"ldavis_el1942070966364966430695511\"></div>\n",
       "<script type=\"text/javascript\">\n",
       "\n",
       "var ldavis_el1942070966364966430695511_data = {\"mdsDat\": {\"x\": [0.34208564820290116, 0.2805161508496494, 0.29330172891327366, 0.20742151133691453, 0.14656295838249866, 0.10138343730917021, -0.04995903047494384, 0.07348514218817202, 0.03565413889123056, 0.024221973345605424, -0.030095465166769322, -0.030613189833122816, -0.09245617420435073, -0.12768911084471402, -0.1575710147824678, -0.17695397573689228, -0.21109933165007305, -0.2033296365895176, -0.20807648948539842, -0.21678927065116568], \"y\": [0.1857565027947705, 0.02233986200981347, 0.13139697688130858, 0.0443649461125639, 0.03298252674025532, -0.13031784299531782, -0.0276068687044075, -0.24926472209900027, -0.26415666508645913, -0.09942409549067707, -0.027587752682494245, -0.09108875560026626, 0.06646701166287868, 0.033794577391625294, 0.05630808055076736, 0.049087755830700616, 0.06655322933336157, 0.06733022718059657, 0.06625049620957058, 0.06681450996040995], \"topics\": [1, 2, 3, 4, 5, 6, 7, 8, 9, 10, 11, 12, 13, 14, 15, 16, 17, 18, 19, 20], \"cluster\": [1, 1, 1, 1, 1, 1, 1, 1, 1, 1, 1, 1, 1, 1, 1, 1, 1, 1, 1, 1], \"Freq\": [25.611269302057966, 15.185604370811202, 14.625573732570349, 9.52656502419005, 5.763463342482732, 5.159308995181298, 4.501678740182102, 4.132117969796677, 4.079535247195681, 3.1103087726041903, 1.91537824033318, 1.8300962517101425, 1.242571513528115, 0.9265434028540422, 0.7870844606219247, 0.5968123785011022, 0.2826866949297465, 0.2770063572111349, 0.2636016724697285, 0.18279353076861685]}, \"tinfo\": {\"Term\": [\"ax\", \"line\", \"write\", \"organization\", \"article\", \"nntp_poste\", \"host\", \"say\", \"people\", \"drive\", \"go\", \"use\", \"key\", \"get\", \"know\", \"year\", \"file\", \"m\", \"think\", \"system\", \"right\", \"work\", \"mail\", \"program\", \"evidence\", \"window\", \"also\", \"information\", \"new\", \"reply\", \"talk\", \"wrong\", \"one\", \"religion\", \"whole\", \"understand\", \"perhaps\", \"love\", \"patient\", \"die\", \"belief\", \"mind\", \"atheist\", \"effect\", \"certainly\", \"church\", \"bible\", \"sorry\", \"black\", \"suppose\", \"learn\", \"exactly\", \"white\", \"doubt\", \"sort\", \"family\", \"obviously\", \"realize\", \"choice\", \"bear\", \"say\", \"thing\", \"mean\", \"agree\", \"people\", \"tell\", \"think\", \"rather\", \"course\", \"kind\", \"seem\", \"test\", \"even\", \"consider\", \"see\", \"way\", \"point\", \"ask\", \"many\", \"believe\", \"know\", \"true\", \"make\", \"never\", \"show\", \"give\", \"question\", \"come\", \"fact\", \"take\", \"well\", \"want\", \"s\", \"right\", \"time\", \"reason\", \"try\", \"good\", \"find\", \"write\", \"build\", \"win\", \"check\", \"physical\", \"sound\", \"company\", \"current\", \"add\", \"model\", \"value\", \"solution\", \"cheap\", \"error\", \"function\", \"appreciate\", \"distribution\", \"package\", \"goal\", \"watch\", \"detail\", \"option\", \"originator\", \"release\", \"date\", \"object\", \"possibility\", \"steal\", \"apple\", \"direct\", \"possibly\", \"new\", \"number\", \"work\", \"system\", \"source\", \"set\", \"use\", \"support\", \"return\", \"university\", \"type\", \"problem\", \"need\", \"base\", \"also\", \"change\", \"note\", \"require\", \"large\", \"allow\", \"include\", \"call\", \"follow\", \"help\", \"find\", \"provide\", \"get\", \"order\", \"time\", \"team\", \"last\", \"game\", \"car\", \"play\", \"money\", \"lose\", \"pay\", \"player\", \"speak\", \"light\", \"season\", \"guy\", \"fire\", \"pick\", \"fan\", \"spend\", \"hit\", \"job\", \"trade\", \"minute\", \"total\", \"road\", \"eat\", \"throw\", \"firearm\", \"air\", \"route\", \"owner\", \"front\", \"year\", \"back\", \"big\", \"home\", \"division\", \"week\", \"go\", \"young\", \"next\", \"month\", \"old\", \"get\", \"leave\", \"start\", \"day\", \"first\", \"move\", \"well\", \"time\", \"good\", \"take\", \"report\", \"run\", \"still\", \"s\", \"come\", \"much\", \"end\", \"look\", \"nntp_poste\", \"host\", \"organization\", \"bike\", \"reply\", \"ride\", \"lab\", \"material\", \"signal\", \"version_pl\", \"apr\", \"rider\", \"battery\", \"circuit\", \"screw\", \"computer_science\", \"dog\", \"duo\", \"reliable\", \"greatly_appreciate\", \"red\", \"receiver\", \"deliver\", \"gear\", \"highway\", \"up\", \"bottom\", \"improvement\", \"purdue_university\", \"horse\", \"line\", \"advice\", \"thank\", \"keyword\", \"article\", \"distribution_world\", \"engineering\", \"write\", \"wonder\", \"i\", \"m\", \"news\", \"soon\", \"d\", \"net\", \"like\", \"nice\", \"get\", \"look\", \"want\", \"ve\", \"know\", \"help\", \"good\", \"post\", \"try\", \"need\", \"computer\", \"hear\", \"evidence\", \"child\", \"faith\", \"death\", \"christian\", \"truth\", \"human\", \"act\", \"conclusion\", \"religious\", \"reality\", \"christianity\", \"society\", \"nature\", \"motif\", \"moral\", \"deny\", \"nation\", \"animal\", \"objective\", \"fear\", \"reject\", \"father\", \"debate\", \"commit\", \"son\", \"imply\", \"witness\", \"honest\", \"tradition\", \"discussion\", \"law\", \"jewish\", \"man\", \"life\", \"member\", \"sense\", \"woman\", \"exist\", \"claim\", \"argument\", \"compare\", \"state\", \"reason\", \"prove\", \"other\", \"person\", \"live\", \"believe\", \"kill\", \"accept\", \"encryption\", \"national\", \"body\", \"risk\", \"grant\", \"drug\", \"brain\", \"serious\", \"ground\", \"headache\", \"respect\", \"health\", \"kid\", \"appropriate\", \"treatment\", \"proof\", \"mother\", \"agency\", \"doctor\", \"official\", \"responsible\", \"protection\", \"justify\", \"medical\", \"hide\", \"federal\", \"effective\", \"session\", \"dangerous\", \"police\", \"approach\", \"issue\", \"cover\", \"publish\", \"prevent\", \"study\", \"proper\", \"control\", \"public\", \"strong\", \"safety\", \"condition\", \"purpose\", \"block\", \"provide\", \"case\", \"authority\", \"ax\", \"score\", \"baseball\", \"club\", \"ice\", \"cap\", \"pitch\", \"max\", \"tie\", \"stat\", \"offense\", \"hr\", \"leafs\", \"era\", \"ins_cwru\", \"giant\", \"forum\", \"brand\", \"custom\", \"impressive\", \"plot\", \"postscript\", \"met\", \"kinda\", \"observer\", \"innings\", \"host_slc\", \"ms_do\", \"western_digital\", \"descend\", \"drive\", \"card\", \"driver\", \"fast\", \"memory\", \"color\", \"speed\", \"mode\", \"slow\", \"device\", \"monitor\", \"wire\", \"instal\", \"scsi\", \"self\", \"picture\", \"bus\", \"board\", \"internal\", \"port\", \"switch\", \"recommend\", \"gateway\", \"motherboard\", \"cable\", \"hole\", \"load\", \"warranty\", \"ram\", \"specify\", \"performance\", \"bit\", \"chip\", \"com\", \"section\", \"disk\", \"quality\", \"size\", \"computer\", \"high\", \"power\", \"machine\", \"use\", \"file\", \"window\", \"software\", \"version\", \"cpu\", \"code\", \"application\", \"screen\", \"user\", \"video\", \"display\", \"graphic\", \"tape\", \"character\", \"period\", \"feature\", \"digital\", \"upgrade\", \"particularly\", \"link\", \"procedure\", \"font\", \"unix\", \"usenet\", \"workstation\", \"popular\", \"clock\", \"mb\", \"soul\", \"registration\", \"program\", \"interface\", \"product\", \"do\", \"machine\", \"run\", \"hardware\", \"text\", \"datum\", \"available\", \"suggest\", \"copy\", \"mail\", \"send\", \"list\", \"address\", \"internet\", \"contact\", \"fax\", \"review\", \"request\", \"college\", \"information\", \"sc\", \"modem\", \"ensure\", \"engineer\", \"trick\", \"conference\", \"remote\", \"touch\", \"publication\", \"imaging\", \"monthly\", \"campaign\", \"ton\", \"junk\", \"computing\", \"presentation\", \"payment\", \"catalog\", \"mailing_list\", \"network\", \"page\", \"update\", \"receive\", \"technical\", \"contain\", \"interested\", \"author\", \"copy\", \"book\", \"service\", \"email\", \"message\", \"info\", \"access\", \"paper\", \"post\", \"group\", \"computer\", \"include\", \"key\", \"gun\", \"security\", \"clipper\", \"weapon\", \"master\", \"citizen\", \"secure\", \"trust\", \"secret\", \"listen\", \"announcement\", \"cd\", \"militia\", \"proposal\", \"amendment\", \"ethnic\", \"zone\", \"export\", \"crypto\", \"brave\", \"guilty\", \"constitution\", \"packet\", \"disarm\", \"sk\", \"handgun\", \"succeed\", \"rifle\", \"garage\", \"government\", \"criminal\", \"crime\", \"trial\", \"protect\", \"public\", \"chip\", \"right\", \"state\", \"private\", \"space\", \"launch\", \"orbit\", \"mission\", \"moon\", \"satellite\", \"plane\", \"industry\", \"resource\", \"planet\", \"flight\", \"schedule\", \"rocket\", \"dual\", \"facility\", \"energy\", \"fuel\", \"shuttle\", \"mar\", \"nuclear\", \"opportunity\", \"probe\", \"solid\", \"astronomy\", \"lunar\", \"spacecraft\", \"radiation\", \"solar\", \"sky\", \"advanced\", \"earth\", \"scientific\", \"international\", \"science\", \"research\", \"datum\", \"project\", \"technology\", \"soldier\", \"format\", \"armenian\", \"village\", \"convert\", \"turkish\", \"turk\", \"occupy\", \"capture\", \"troop\", \"invasion\", \"slaughter\", \"vol\", \"moslem\", \"massacre\", \"region\", \"occupation\", \"soviet\", \"inhabitant\", \"genocide\", \"navy\", \"shareware\", \"argic\", \"tar\", \"serdar_argic\", \"today_longer\", \"remainder\", \"mountain_passe\", \"closed_road\", \"might_serve\", \"army\", \"civilian\", \"war\", \"attack\", \"kill\", \"murder\", \"military\", \"force\", \"government\", \"international\", \"land\", \"lie\", \"community\", \"people\", \"price\", \"sale\", \"controller\", \"wing\", \"unit\", \"ide\", \"mount\", \"printer\", \"purchase\", \"pull\", \"benefit\", \"cycle\", \"band\", \"somehow\", \"predict\", \"super\", \"bag\", \"brother\", \"forsale\", \"camera\", \"portable\", \"buffer\", \"discount\", \"dry\", \"brand_new\", \"leather\", \"university_delaware\", \"koresh\", \"message_apr\", \"alarm\", \"sell\", \"offer\", \"manual\", \"condition\", \"buy\", \"entry\", \"server\", \"engine\", \"clearly\", \"telnet\", \"door\", \"student\", \"saturn\", \"motto\", \"german\", \"welcome\", \"exact\", \"violence\", \"production\", \"spring\", \"implementation\", \"terminal\", \"writer\", \"film\", \"movie\", \"sheet\", \"edit\", \"ass\", \"mystery\", \"okay\", \"criticism\", \"rebel\", \"worthless\", \"ruin\", \"login\", \"unique\", \"compare\", \"notice\", \"external\", \"average\", \"weight\", \"significant\", \"impact\", \"primarily\", \"consideration\", \"role\", \"primary\", \"length\", \"sy\", \"kit\", \"soft\", \"invite\", \"investment\", \"vision\", \"uunet\", \"approximately\", \"construction\", \"participation\", \"batter\", \"narrow\", \"province\", \"substantial\", \"tc\", \"intentionally\", \"discipline\", \"mvp\", \"arrival\", \"field\", \"community\", \"suggest\", \"factor\", \"image\", \"library\", \"mine\", \"trap\", \"specification\", \"import\", \"significance\", \"unnecessary\", \"pseudo\", \"tiff\", \"misuse\", \"silent\", \"worried\", \"bizarre\", \"flexible\", \"inability\", \"tv\", \"dn\", \"scan\", \"eye\", \"copyright\", \"pixel\", \"jpeg\", \"eeg\", \"tube\", \"quantizer\", \"clip\", \"xtshellstring\", \"xtstring\", \"distortion\", \"tumor\", \"diagnosis\", \"c\", \"doctrine\", \"centre\", \"client\", \"enviroleague\", \"lebanese\", \"god\", \"israeli\", \"arab\", \"reflect\", \"pat\", \"creator\", \"suck\", \"sue\", \"angel\", \"largely\", \"creature\", \"desert\", \"md\", \"space_dig\", \"original_sender\", \"administrative\", \"added_forwarde\", \"comprehend\", \"peace\", \"land\", \"creation\", \"palestinian\", \"c\", \"interim\", \"_\", \"prayer\", \"identity\", \"aid\", \"border\", \"sin\", \"existence\", \"valid\", \"pin\", \"dept\", \"processor\", \"compile\", \"cub\", \"enable\", \"menu\", \"app\", \"static\", \"int\", \"thanx\", \"ralph\", \"compiler\", \"pov\", \"schematic\", \"void\", \"console\", \"tga\", \"initialize\", \"atari\", \"latch_data\", \"omit\", \"decimal\", \"latch\", \"cathode\", \"slave\", \"supply_voltage\", \"jumper\", \"vcc\", \"pinout\", \"revelation\", \"interpretation\", \"rational\", \"widget\", \"interpret\", \"download\", \"au\", \"ken\", \"appreciated\", \"retrieve\", \"wallpaper\", \"liquid\", \"bmp\", \"nuance\", \"corinthian\", \"modular\", \"doctrine\", \"valid\", \"allege\", \"pentecostal\", \"contradict\", \"ld\", \"reveal\", \"catholic\", \"lourde\", \"fatima\", \"rlk\", \"blindly\", \"markku\", \"umu\", \"core\", \"c\", \"_\", \"sphere\", \"existence\"], \"Freq\": [41485.0, 17263.0, 13563.0, 11066.0, 9325.0, 6611.0, 5749.0, 9084.0, 8186.0, 3455.0, 7789.0, 6318.0, 2607.0, 10546.0, 8728.0, 4913.0, 2759.0, 5470.0, 7934.0, 5198.0, 3967.0, 4906.0, 2441.0, 2869.0, 2893.0, 2473.0, 6179.0, 2260.0, 4223.0, 3267.0, 1819.186553184115, 1513.8531310577825, 1351.2951903057635, 1197.101180215168, 1107.3338970163516, 1107.2623926673882, 1080.229592424602, 1037.4666820706084, 1025.1974132368955, 1021.7242568939172, 1015.9238610511983, 983.2181258934473, 875.5729851631044, 835.4778258694694, 829.1478822109609, 828.3169231674631, 699.995095366995, 686.4465221370264, 660.849350652977, 627.4158720943118, 605.3578964918959, 601.5684738734699, 576.063626895967, 575.1756721900285, 552.5158747312668, 552.1645105191913, 530.9860614997737, 514.7544973159105, 510.0156216332879, 485.4807015163479, 9057.225745414406, 4576.450436701142, 3150.1915955376157, 1402.6471661120506, 7957.069838253418, 3295.510291872586, 7528.270957430869, 1562.8609341492895, 2030.2378351670686, 1193.31406667152, 2936.7321024993676, 1160.804525900753, 3776.559532528443, 1657.1205992981606, 5436.18640159081, 3836.8054486268993, 3447.0139219699968, 2313.8975117340697, 3495.7680347125442, 3127.6602596056787, 6504.935813002553, 1643.5969640757962, 6283.481995205704, 2244.2756744680846, 1732.9576961753392, 3194.860493182656, 2729.2478792337038, 3355.7217257876887, 1900.187510956835, 2921.9940478820135, 3269.503336584574, 2724.382196861181, 2495.173274452748, 2417.4918425810997, 3023.536073066222, 2235.6682133867253, 2417.3827003132524, 2739.2286240547896, 2122.8828412927373, 2228.7759330505774, 1545.73219015361, 1499.5998701618805, 1358.3814441845782, 1288.0225961429962, 1179.9420656516352, 1095.6856355573277, 1077.040155649467, 1051.3943148300468, 932.873118802655, 919.2163179130242, 872.1279013771649, 859.0492308465334, 817.2467731803821, 741.6071688946782, 730.0746821786109, 722.9571252801628, 704.4432170351528, 680.0391151593714, 664.4681587876195, 634.0688067538787, 626.935733252805, 622.1261797207663, 610.6339905344588, 586.2234081952279, 549.073558189265, 538.3450140374646, 532.3060435697546, 515.625923932679, 496.6644529760565, 481.9163785511879, 4207.709423069197, 3109.993029324724, 4749.050829984844, 4905.836424457375, 1802.9746431510632, 1912.7166366870824, 5763.18786515428, 1851.1233912910425, 1108.398570636663, 1966.5276669475045, 1426.0237914771014, 3402.8453551546263, 3732.5381116793124, 1526.5392479954683, 4443.178066521223, 1642.7494742471251, 1181.7251971157038, 1248.5920793734847, 1290.8356649248656, 1286.9651853111352, 1694.6424698747699, 1992.1862861455572, 1633.400812439397, 1670.4192276937085, 1960.6842969470088, 1361.2046443952206, 2211.2918506618, 1303.6981983083372, 1270.1891821972472, 2453.2972129798163, 2343.977600026742, 2331.0665476722124, 2298.1006848196344, 1586.908547679444, 1435.1430699270875, 1370.575764754339, 1313.227730722811, 1199.964475639441, 1008.9601059273581, 906.7138367858353, 804.0320712640828, 789.535245957804, 756.0022884042043, 748.181286798173, 746.6746310733532, 713.4863169510596, 691.9106096273446, 683.2204613294822, 625.2644993170339, 555.3606932339027, 553.2187701308571, 531.4647853224618, 522.8141077300342, 515.7915747597773, 499.39435366266156, 467.2269594458581, 449.78569863138296, 436.29462909543287, 426.15070175274826, 4856.0110906466025, 2830.865190364482, 1513.8458984031386, 1170.6138305173733, 680.0100600767591, 1162.3382564886194, 5823.236068196591, 753.361267461281, 1512.693599946931, 770.5852635798059, 1570.2993803221882, 4925.202094469118, 1315.8168859280806, 1519.3354032395991, 1667.4641257941146, 1909.5573898993046, 920.8739743375157, 2197.704088535684, 2369.805682481837, 2390.190675540269, 1835.665943716902, 1046.4995598526473, 1474.7558347380686, 1332.9099869900529, 1493.416775513686, 1504.5105930736843, 1353.5776922727116, 1210.8450283188504, 1237.69398672542, 6610.24046858857, 5748.083647044495, 11056.265104554643, 854.8347457137609, 3261.204728296912, 524.7790393363283, 510.4448937640778, 459.35481390973, 399.1372478138049, 355.70954046196124, 339.00952278782177, 283.26059081512403, 282.5701773665417, 270.05160587025415, 269.53560663393654, 267.9877520751907, 263.53134297964505, 214.12591202189617, 213.22067305760007, 189.65824918299109, 187.471100114599, 183.17384541924696, 170.9299934853012, 170.46036060104575, 166.90412295246674, 162.359232713946, 161.94937935615292, 144.38367511992413, 141.3479602542054, 133.12167614108543, 16817.27899446085, 517.9267252254556, 2355.0469687118984, 1045.2403248676558, 8672.583742667272, 1223.4665698859203, 618.6364460073756, 11333.424977105968, 726.9824286940346, 827.4751910221561, 3511.3399031209537, 777.1156353044049, 568.0688071486626, 1252.4768182450127, 803.1942246832803, 796.9352968106541, 535.9220232330291, 3107.3407016750425, 1631.7665761523187, 1669.2059667829358, 1189.397393209826, 2180.654515278654, 1154.473323497254, 1517.4138389977657, 1049.463485015841, 1172.0704921489914, 1163.380243899815, 738.8411636259649, 728.9261794653867, 2892.03638205407, 1404.37097175345, 1375.9500913336697, 1166.5005655690622, 962.2204125431376, 864.6286524075553, 775.2656812090524, 767.148022839078, 629.6887260216995, 613.9931269362074, 570.4571730056069, 548.8330630119987, 520.6781961909716, 463.2948470452632, 438.6789068060084, 435.8759430977238, 352.21177370806225, 335.89324760957635, 326.98371466558183, 323.61616056369394, 313.1592176128358, 311.51768611257285, 279.5039766289705, 276.4678223307644, 259.76861861322664, 259.2864061774089, 253.2690566348347, 232.76775335600547, 219.4583263896068, 219.0620080439191, 869.6989498900286, 1595.189499512921, 499.8431894355451, 1655.6926106948988, 1196.5811990222405, 661.6039145162597, 1228.9333578950625, 515.3409497838996, 1221.4731989526615, 1371.4328139176757, 718.3399488935994, 540.3897033976593, 1374.3352339408477, 1296.8046196696191, 599.8897988564572, 665.3310148014344, 702.2233146109141, 612.2119201097076, 545.2356958857418, 523.2191647374681, 1155.281641611669, 870.4681762379645, 832.0098395493275, 781.5468862050234, 703.9106478268759, 668.8443512199287, 657.8649999520775, 619.895386949605, 613.3456212641859, 512.8151590201192, 503.5055309856339, 499.44245715743915, 494.5726171224386, 488.648703050863, 474.1137319142331, 452.74707967144013, 447.72950615668776, 412.1985189128639, 405.8074643839035, 399.0214925869668, 395.86844955155044, 367.6031647788363, 330.1981888878922, 327.7332663217647, 326.6496393871621, 318.9189981960862, 317.94586126743565, 316.60735996883636, 316.37242528315215, 306.64018770583374, 568.9424074829169, 532.3152340980884, 1961.9847112712043, 861.8243411947201, 628.5296707939067, 437.284153738821, 828.5722141999559, 412.91516893743653, 831.7262805781162, 1103.3046371726123, 451.190079191831, 492.46927565914615, 483.344717609371, 552.596584845425, 482.65355812223663, 618.7615231893941, 588.6696646500259, 461.3303824408652, 41484.389455024415, 987.5323871102727, 711.5860421551648, 593.249772455144, 520.0522712133832, 502.43827980028163, 445.20622830394274, 443.20515246605623, 402.3651146259008, 398.6954744565883, 372.16279334241506, 320.36289052050097, 304.2169391671697, 298.9291971906031, 290.7151970227932, 270.9884087196305, 242.09446028136355, 237.88274707759518, 232.32459090983596, 213.27153818408922, 199.3269975367243, 177.08045170285286, 137.87884949671573, 122.02969354694574, 112.07853789555121, 100.35138549866919, 99.31698492610603, 98.02434610652047, 80.4589434750714, 73.89454022343581, 3454.045450015369, 1775.4300275291237, 1417.982618470357, 1008.1165330066746, 980.3552189062606, 924.4083852845982, 893.358237353571, 775.4849625505241, 765.6694749892697, 736.1739852855576, 701.6881708279001, 672.3631083840103, 664.7803619774489, 592.1202818298099, 580.5667441895167, 569.5409300142052, 559.2375068734596, 543.987222648936, 497.2666582393553, 452.07815094860257, 444.39307864427565, 412.66812618842016, 370.2789524566634, 355.0862638042074, 352.44257985717684, 337.3957801181858, 328.9168128327718, 328.6326349390256, 297.47040041173227, 244.46811868019108, 461.6350420905522, 1793.180093697849, 1139.3424433583514, 931.4385718432251, 531.1174560576749, 631.0332312215744, 427.18146525796743, 510.1686127829233, 682.0597786892183, 670.8127220145631, 532.7059911113377, 498.52228641591836, 554.6288676527332, 2758.5166218661093, 2472.7790488560663, 1746.1745585881367, 1222.5781048005551, 1155.06362971666, 1085.6835497815105, 1023.3771929669817, 998.8958004172899, 973.1164977158369, 884.9412899516454, 856.2923238919038, 803.5520837460563, 723.0307501300431, 703.2543677016439, 534.8412323052308, 508.0794489878787, 547.8069457222078, 470.1221239771941, 395.48005460583363, 349.7047899133534, 347.74019648651773, 345.8424700018693, 331.67396079644027, 312.28674053872425, 285.1051201168142, 282.68503702438653, 281.5274567259943, 263.44942597222365, 226.16778319802992, 225.18071728026467, 2719.90141637912, 385.54066494085043, 586.5145928564451, 1464.751681073154, 961.3963680646193, 1666.708678092588, 624.7198674525338, 451.6479182381215, 678.7541925785324, 580.9275864350155, 452.6551153475023, 402.9015495786881, 2440.6348229446726, 2155.6827559374, 1637.6132687499808, 1255.5986248155841, 999.5391097269365, 745.6819083262419, 687.004168636454, 601.9609555235312, 602.9051514347376, 409.2942895362428, 2253.042354696331, 321.8227060894576, 260.77421321621193, 255.40615305441895, 233.5070743871175, 231.7331316869558, 215.0364031161693, 192.79936116365846, 184.29701775454427, 182.3523361073852, 126.50443602626186, 123.05448295637154, 117.09659479203403, 116.8890272317021, 109.87702750534575, 105.62943584112041, 105.38286173169072, 105.27502119563968, 103.57708191045855, 100.48013203411658, 822.0435142872761, 678.948760079619, 408.7615645790944, 1001.3519748499219, 409.44747413404156, 677.1698445819206, 768.9768101336516, 426.99643925106335, 847.7963988770366, 1223.650980515671, 762.1948116407243, 782.1636222958317, 884.4452437112006, 762.3934992054553, 489.90636614954985, 381.4418748707698, 835.6576131430478, 749.334035527557, 489.58848100176243, 415.5452829869591, 2606.7147097085676, 1466.744708594547, 693.5378112501363, 580.1509651899557, 497.2935573179661, 494.8237085366099, 464.92133398073673, 442.3355767529947, 367.89844491104867, 365.1315732591301, 357.9578953093285, 281.80157667254394, 264.62898067320225, 262.77023917925686, 232.22809117520933, 228.0968714461451, 219.36508980247046, 219.07308638817022, 192.27593628134082, 181.45113347643604, 147.43950506890297, 147.14774341740434, 140.91636476820497, 134.6169241340922, 120.33993272227492, 109.97688535595114, 109.77515156677029, 97.63907337593277, 86.37509692936979, 84.00612655511844, 1765.3779496660902, 334.26986088139756, 347.30354679208057, 266.0599631834803, 352.5283402604754, 599.2242082355237, 418.2297071287772, 590.6565489966064, 427.46265154769696, 235.70802494173637, 1813.211318442206, 480.6113655548346, 439.09955557988, 422.88483598994605, 419.9470650810358, 353.0811631302911, 324.397373059347, 293.07740791425067, 291.22431721811387, 249.93648763514054, 242.76660710974429, 236.9877545977638, 232.30425222195433, 230.0388624858291, 230.00410273537918, 223.66005228111487, 211.38623039835971, 210.77082881650205, 209.0492751760234, 208.40474580328237, 198.01155841891932, 194.46762586181524, 191.13440779193218, 185.82067594071867, 165.2137098839666, 162.26787603294247, 158.45223442651465, 147.30271447207738, 146.92939915221385, 143.10387961670247, 646.7953124731946, 329.1930746296467, 228.62882660887615, 351.59522779824187, 279.8241530631223, 273.46897068877723, 207.68598896344136, 200.31036591512898, 689.063153481931, 566.515452273232, 503.42695006341427, 473.4062558659231, 377.9092106064819, 370.0197496342465, 280.7241805642053, 260.20397605218534, 195.11861918236224, 179.12865059437988, 173.49941567562414, 140.68280529964383, 130.28834360146612, 126.43933021433797, 121.32225944822777, 111.15808341096164, 106.06893760061936, 105.46469353899744, 96.50846788846398, 80.9019651814521, 78.3542069343085, 76.26406992673924, 71.48504871209302, 68.7927065605067, 65.22040341975506, 64.20800240902443, 62.06769533181862, 60.13647066614615, 60.09525913741456, 60.09525913741456, 160.67495255768796, 347.6789485408848, 546.7499908288996, 502.33636067024594, 402.98613456571496, 210.74534675704453, 214.64308504693545, 190.69131498883908, 214.68967394077882, 115.23826374939468, 112.11168442790758, 117.85270132392422, 112.42795565066889, 121.53286544654279, 1107.23934127201, 948.1232800578731, 447.0130136317343, 414.05740337984616, 408.20259042001135, 382.2456322008939, 347.76632886283267, 331.27125967048823, 330.8963955293461, 329.88739438405065, 234.62677092295073, 222.08486106928117, 190.8567267157344, 177.77910731260823, 171.46850072358941, 165.75400564021376, 112.03309835522961, 110.62337038351357, 105.0443703761123, 97.8735677560617, 82.05804006250355, 77.09241562714578, 73.13625456853872, 66.55661256541195, 59.59374170251942, 56.908900924580664, 51.53774356947861, 45.31281687128864, 44.261209680833204, 43.463373128355606, 489.8280319618978, 294.3858801053708, 93.35211990391663, 98.63347626846847, 76.02312947579102, 847.9397011435284, 598.4351437164365, 481.71620492122423, 387.40798361363517, 290.82338345676425, 278.73040821763357, 273.53599912855964, 230.18738382344472, 213.48444573789413, 212.93966274033002, 204.39480699278533, 188.91982102418677, 180.90001126818098, 173.93504324454574, 160.03228106175482, 150.50804971801261, 137.56468012244255, 129.44087734955139, 119.52807488239463, 119.48975519188551, 112.29531372283844, 108.30373606471608, 90.60157183711907, 80.50990630097849, 76.15338326442956, 66.30993943709434, 63.53416513478482, 62.709151659775266, 60.17450282728794, 57.81450189782846, 76.6049973749706, 152.96175884865787, 384.77056641019084, 320.3088703001905, 297.6901931110021, 294.38955485726655, 269.3274899113698, 221.37745082046968, 213.54681821307557, 147.80636332738112, 142.37456567150534, 134.4804255872124, 111.19428854648714, 108.34718493572893, 95.91582591245918, 90.4417066788353, 90.14145233905987, 88.0399661095872, 80.78820429761305, 67.05410977160494, 56.556640229717644, 53.515014479906576, 50.903334061725865, 45.9667971543, 44.40275335091242, 40.935616026895694, 37.91913283840318, 31.463359622728863, 27.677282325906546, 24.50028528093795, 21.31600087495941, 19.05935107153407, 442.76801637972954, 382.3102758500965, 333.7106697733832, 56.744856102142165, 646.931457773834, 156.3136068120297, 127.27802466195887, 118.67053345213988, 100.40617508870902, 64.59832875034436, 64.04156501620072, 33.919104208897025, 33.63112917763156, 31.688647657955514, 31.202831880607835, 28.530097497642423, 24.90649126244676, 23.675461975205906, 21.80634114579288, 18.11803287508639, 0.040067148718477504, 0.040066119961634984, 0.0400659374402597, 0.040065967307393834, 0.040064135456500054, 0.040064165323634195, 0.040063236123905464, 0.04006450713639155, 0.04006433457072764, 0.040062731701195585, 0.040062977275409604, 0.040062738338336505, 0.040062738338336505, 0.04006305360253018, 0.04006370072376983, 0.04006372727233351, 0.040065499388959015, 0.04006373059090397, 0.040063139885362135, 0.04006370736091075, 0.040063491653830864, 0.040063538113817306, 424.54512748373605, 360.2671300371593, 164.71135782248498, 82.50139673641739, 72.02870059620041, 63.18732483262601, 58.83405808443836, 42.375326298962634, 38.80308511616109, 37.16514816459568, 35.73892163096832, 31.342855266533576, 25.30115814260228, 22.045871544182237, 21.233046792975575, 15.48670131944904, 15.050563473190316, 5.881198979246189, 108.26680567635333, 77.3105588472199, 26.68005135753794, 0.03485732514654707, 0.03485824543049387, 0.0348541903277318, 0.03485594309468349, 0.034854239106032865, 0.03485345540132905, 0.03485393342867951, 0.03485401147396122, 0.03485426837301351, 0.034854704125836376, 0.0348540439928286, 418.6886406667805, 288.6390161457795, 172.67417967287332, 130.09033716622363, 102.96650059954904, 73.24313248251929, 71.2336364214032, 48.908685665025615, 35.87901994084997, 33.2723617763054, 31.858421240852568, 25.8957251104647, 25.625493660282537, 18.5664793199063, 15.249607628576676, 14.659676709488005, 10.7723922760816, 4.652493145122963, 2.720410287128625, 1.2568799324921727, 0.035411911515620204, 0.03540583387075199, 0.03540415354429402, 0.03540388741524175, 0.03540305498832243, 0.0354053387469338, 0.0354019502433031, 0.035403612002617886, 0.03540138085091219, 0.03540124778638605, 167.03595243634098, 145.52062921493845, 141.0379959033976, 78.48648849501491, 74.80996202797485, 40.55832293856146, 39.81713128618448, 33.98499063183291, 27.980440834930807, 26.78395729092559, 23.46186487233146, 14.686368942574417, 9.415305662270333, 2.3418775771012856, 1.2620193604799879, 0.41307913551506287, 0.028881506175030665, 0.028882237921903833, 0.02887970363141347, 0.02887897617631082, 0.028879383894509947, 0.028879205786033486, 0.028879697193757697, 0.028879201494262968, 0.028878536269832816, 0.028878566312226434, 0.028879641400740973, 0.02887895900922875, 0.028878257304749202, 0.028878546999259107, 1.5342747244006962, 0.028880338813450007, 0.028879671443134594, 0.02887921222368926, 0.028879308788525897], \"Total\": [41485.0, 17263.0, 13563.0, 11066.0, 9325.0, 6611.0, 5749.0, 9084.0, 8186.0, 3455.0, 7789.0, 6318.0, 2607.0, 10546.0, 8728.0, 4913.0, 2759.0, 5470.0, 7934.0, 5198.0, 3967.0, 4906.0, 2441.0, 2869.0, 2893.0, 2473.0, 6179.0, 2260.0, 4223.0, 3267.0, 1820.4010778887464, 1515.067655762414, 1352.5304956078119, 1198.315704924028, 1108.548421720983, 1108.4770029359988, 1081.4441171292335, 1038.6812067752398, 1026.4119379912527, 1022.9387816058422, 1017.1383857600584, 984.4326505980788, 876.7875098719645, 836.6923505801643, 830.3624069155924, 829.5314478720945, 701.2096200758551, 687.6610468416578, 662.0638753694082, 628.6344259914836, 606.5724211965273, 602.7829985781013, 577.2781516081694, 576.3901968988887, 553.7303994358982, 553.3790352313937, 532.2005862044051, 515.969022031154, 511.2301463379191, 486.6952262209791, 9084.86743193901, 4626.841210450092, 3174.7887545183453, 1416.6094244990566, 8186.990248106357, 3373.5165820490192, 7934.823037393804, 1597.0508817359944, 2097.5027970064803, 1218.1833319278717, 3096.1677266405895, 1188.5370515040217, 4184.0862048651, 1745.9454609958177, 6228.456908253279, 4373.110674812832, 3931.8644735208586, 2548.2576506712553, 4111.104062304689, 3674.0470351990552, 8728.63103902952, 1771.1635759466726, 8440.854531103438, 2552.5685539865744, 1966.2380384058415, 4270.715368961221, 3595.929817738616, 4861.372476000638, 2340.79858820003, 4758.8001487339525, 5740.892760718508, 4685.163082818207, 3990.8904972579753, 3967.4335460988073, 6664.59515575424, 3533.623912763979, 4267.178984434849, 6804.258525438762, 4144.6816583129885, 13563.345597823441, 1546.9427072167161, 1500.8103872357176, 1359.5919612476844, 1289.2331132643408, 1181.1525827147414, 1096.896152620434, 1078.250672712573, 1052.604831893153, 934.0836358657613, 920.4268349761305, 873.3384184863469, 860.2597479219085, 818.4572902434884, 742.8176859650781, 731.2851992487069, 724.1676423432691, 705.6537340982591, 681.2496322332086, 665.6786758614567, 635.279323816985, 628.1462503159113, 623.3366967968487, 611.8445075975651, 587.433925767179, 550.2840752523713, 539.5555311170683, 533.5165606444706, 516.8364410018488, 497.8749700433912, 483.12689563583154, 4223.8865311748605, 3180.3412089585427, 4906.498427566674, 5198.413411482757, 1863.582573158092, 1986.1737192063558, 6318.958784237481, 2010.6810508606563, 1162.2517720087624, 2234.030077505837, 1569.6935049845326, 4234.101813664788, 4929.3733595398235, 1747.1520989257615, 6179.718162580208, 1930.7144785125724, 1310.2657809584994, 1455.8771115169163, 1557.7528267597147, 1600.4669016098717, 2481.219786714744, 3224.5695796545638, 2420.9337981034964, 2861.8401678549303, 4144.6816583129885, 2037.2975523357509, 10546.219319874, 2133.5224999897882, 6664.59515575424, 2454.509301599431, 2345.189688646357, 2332.2786362918273, 2299.312773439249, 1588.1206362990592, 1436.3551585467028, 1371.7878533785183, 1314.4398193424263, 1201.1765642590562, 1010.1721945559, 907.9259254054507, 805.2441598836982, 790.7473345774195, 757.2143770238197, 749.3933754208829, 747.8867196929687, 714.698405570675, 693.12269824696, 684.4325499490976, 626.4765879366494, 556.5727818535181, 554.4416174270768, 532.6768739420772, 524.0261963496496, 517.0036633793927, 500.60644231174774, 468.4390480654733, 450.99778738248017, 437.50671771504807, 427.36279037236346, 4913.0100689409, 2855.3647705692624, 1541.8098973245108, 1191.5852289575046, 685.6335394213316, 1273.143117798546, 7789.606216454416, 792.2348381730907, 1784.2733628597566, 814.6057232434289, 2172.472355872159, 10546.219319874, 1726.3237965224703, 2206.011409237694, 2773.7996688242974, 3955.9825040070245, 1110.354582833466, 5740.892760718508, 6664.59515575424, 6804.258525438762, 4758.8001487339525, 1463.35278441098, 3352.041203835481, 2754.8185584923062, 3990.8904972579753, 4861.372476000638, 3819.059721116974, 2309.88443875206, 4103.542787959149, 6611.457087740044, 5749.300266195968, 11066.544584660642, 856.0513648652345, 3267.5591947796183, 525.995658487802, 511.6615129201154, 460.571433093207, 400.3538669994101, 356.9261596194211, 340.2261419758795, 284.4772099665975, 283.7867965316497, 271.26822503336217, 270.75222580690246, 269.2043712266642, 264.7479621311185, 215.34253118541963, 214.43729227287793, 190.8748683344646, 188.68771926607252, 184.390464576784, 172.14661267233237, 171.6769797571392, 168.12074222918656, 163.57585191369876, 163.1659985507577, 145.60029431750587, 142.5645794056789, 134.33829533012033, 17263.645771343967, 523.7908919041237, 2427.5138984077935, 1071.7204415798928, 9325.312618439808, 1292.5102342161545, 648.0812641851809, 13563.345597823441, 786.2946967890141, 947.747959675523, 5470.890285711698, 1066.7605060401377, 727.0997872004893, 1964.1522104291128, 1130.4860576938347, 1187.853500351183, 712.8666181847794, 10546.219319874, 4103.542787959149, 4685.163082818207, 2882.347587894135, 8728.63103902952, 2861.8401678549303, 6804.258525438762, 2962.1434907642183, 4267.178984434849, 4929.3733595398235, 2020.1825392741775, 2039.5260278410803, 2893.259393246283, 1405.5939829456624, 1377.173102525882, 1167.7235767685681, 963.44342373535, 865.8516635997677, 776.4886924012649, 768.3710340312904, 630.9117372139119, 615.2161381284199, 571.6801841978194, 550.0560742042111, 521.901207383184, 464.5178582374755, 439.9019180158416, 437.09895428993605, 353.4347849002745, 337.1162588017886, 328.2067258577941, 324.8391717559062, 314.38222880504804, 312.74069730940505, 280.7269878211828, 277.69083352859803, 260.9916298054389, 260.50941736962113, 254.492067827047, 233.99076454821778, 220.68133762199403, 220.28501924632226, 898.0681318596772, 1739.3261715841616, 534.6812689325346, 2062.1075368794554, 1550.4243570914032, 774.393827111547, 1719.09151963566, 596.6990269079035, 1746.2557118268776, 2100.688433834985, 1034.5150603027778, 694.5169742122399, 2833.071824818148, 3533.623912763979, 978.1201019065134, 1282.3780849956913, 1655.9166926917196, 1680.1246116760117, 3674.0470351990552, 1262.5496920488554, 1156.4940543075436, 871.6805889352318, 833.2222538774449, 782.7592988966693, 705.1230605227505, 670.0567639115746, 659.0774126437234, 621.1077996501775, 614.5580339558318, 514.0275721132756, 504.7179437321141, 500.65486985801147, 495.78502981408434, 489.8611157605332, 475.3261446058788, 453.9594923630859, 448.94191886363467, 413.4109316119903, 407.0198770811706, 400.23390527861255, 397.0808622431962, 368.815577470482, 331.4106015795379, 328.945679022337, 327.86205207880784, 320.1314109230744, 319.1582739590814, 317.8197726604821, 317.5848380648586, 307.8526003974795, 572.185215507187, 540.3265236007417, 2078.945176679535, 891.5304878921112, 654.4463940503787, 448.4591265953341, 938.0202266185887, 428.921489571567, 1054.5334523291885, 1703.6772500264447, 503.87518986468785, 621.3437539107986, 621.3725741484242, 929.2400674036166, 661.4116071094396, 2037.2975523357509, 3038.944435809991, 568.6999257859951, 41485.54393211726, 988.6868642410308, 712.7405192704225, 594.4042497375488, 521.2067483655075, 503.59275703172045, 446.3607054399157, 444.35962960197264, 403.51959185256885, 399.849951619319, 373.31727051163665, 321.5173677409739, 305.37141628779267, 300.0836744097012, 291.8696741855286, 272.1428859550598, 243.24893859417955, 239.03722440326072, 233.4790681100364, 214.42601550820572, 200.4814748533045, 178.23492883761887, 139.03332662641276, 123.18417076455826, 113.23301547332944, 101.50586260223909, 100.47146203666568, 99.17882324004091, 81.61342153178589, 75.0490175744091, 3455.2633661189734, 1776.6479436400214, 1419.2005345739612, 1009.3344491102788, 981.5731350098648, 925.6263013882025, 894.5761534571752, 776.7028786541283, 766.8873910928739, 737.3919013891618, 702.9060869315043, 673.5810244876145, 665.9982780810532, 593.3381979334141, 581.7846603467651, 570.758846148923, 560.4554229843574, 545.2051387525403, 498.48457434295943, 453.29606705782805, 445.6109947478798, 413.8860423321488, 371.49686856483163, 356.3041799203956, 353.66049596078096, 338.6136962325209, 330.13472893637595, 329.85055109611125, 298.6883165153364, 245.68603478978162, 480.50302655398474, 2174.0408203790557, 1558.7260585173956, 1367.589422126586, 662.232216098293, 870.8404740437009, 491.0493051404207, 696.1466553066517, 2020.1825392741775, 2080.075710497344, 1813.4889950627614, 1461.057110002263, 6318.958784237481, 2759.7236174688196, 2473.9860444587766, 1747.3815541908468, 1223.7851004032652, 1156.2706253365955, 1086.8905453897914, 1024.5841885696918, 1000.1027960200001, 974.3234933185471, 886.1482855543557, 857.499319494614, 804.7590793487665, 724.237745739743, 704.4613633118346, 536.048227951537, 509.28644459058876, 549.1576357797372, 471.32911957990416, 396.68705023577206, 350.911785522127, 348.94719212083237, 347.0494656045793, 332.88095640371444, 313.4937361459984, 286.3121157545008, 283.8920326360231, 282.7344523287043, 264.6564215896627, 227.37477882048927, 226.3877128961669, 2869.2724294549394, 423.0831263869787, 749.4523285558884, 2542.9254350917995, 1461.057110002263, 3352.041203835481, 915.7394051546408, 571.6303707181775, 1435.7588065632042, 1582.3621739626997, 787.5204765613591, 1251.831587334906, 2441.847922410353, 2156.8958554030805, 1638.8263682263919, 1256.8117242812643, 1000.7522091926168, 746.8950077919221, 688.2172681285577, 603.1740549892114, 604.144188573423, 410.50738900501744, 2260.422419013953, 323.0358055551377, 261.98731268189204, 256.6192525843145, 234.7201738635286, 232.94623117023204, 216.24950258184944, 194.012460639884, 185.51011723565318, 183.56543557306534, 127.71753564033062, 124.26758242205163, 118.30969426951373, 118.10212672666025, 111.09012697102584, 106.8425353068005, 106.59596119737081, 106.48812067962163, 104.79018137613863, 101.69323149979667, 833.1453644847289, 699.1050728151318, 463.4828762134595, 1234.4920638936467, 471.11036962895633, 855.2294915960282, 1045.4750248865055, 536.0388398819025, 1251.831587334906, 1962.843105282499, 1114.6276810756722, 1212.7814488510971, 1438.6657261808707, 1241.829820973492, 768.8825900117213, 527.2242154751453, 2962.1434907642183, 2671.381272758264, 2020.1825392741775, 2481.219786714744, 2607.9371578244395, 1467.9671567104185, 694.760259366008, 581.3734133058274, 498.5160054338375, 496.04615670721665, 466.14378209986006, 443.55802486886614, 369.1208930269201, 366.35402137500154, 359.1803434341265, 283.0240248806946, 265.8514287951373, 263.9926873097153, 233.4505392910808, 229.31931956201655, 220.5875379404096, 220.29553454722287, 193.49838439721228, 182.6735815923075, 148.66195319859992, 148.3701915605042, 142.13881288407643, 135.8393722921188, 121.56238095029858, 111.19933347638673, 110.99759968264173, 98.86152155691283, 87.59754504524123, 85.22857470504293, 1981.2200403746103, 362.84145016814387, 534.4417710373469, 376.3778684714694, 647.5492282658865, 1703.6772500264447, 1558.7260585173956, 3967.4335460988073, 2833.071824818148, 659.6050290486123, 1814.4324772847733, 481.8325243974017, 440.3207144224471, 424.10599483251315, 421.1682239236029, 354.3023219728582, 325.6185319019141, 294.2985667760736, 292.44547606947384, 251.1576464777077, 243.98776595231143, 238.20891344033095, 233.52541106452148, 231.26002141537614, 231.22526158356766, 224.88121112368202, 212.60738924092686, 211.9919876590692, 210.27043401859055, 209.62590464584952, 199.23271731774608, 195.68878470438239, 192.35556666285117, 187.04183478328582, 166.43486872653375, 163.48903487550962, 159.67339334735462, 148.52387331464453, 148.15055800284824, 144.32503849411393, 945.4667713830796, 435.3656807477064, 345.01821785595956, 1115.779634170011, 1338.585827889756, 1435.7588065632042, 465.03934320117014, 1337.5754893996602, 690.2795783230096, 567.7318771411157, 504.64337490449265, 474.62268070700145, 379.1256354475603, 371.2361744753249, 281.9406054052837, 261.4204008932637, 196.33504405124705, 180.3450754354583, 174.71584052549542, 141.89923014534222, 131.50476850885553, 127.65575506857166, 122.53868428930619, 112.37450826383967, 107.28536244169779, 106.68111838544691, 97.72489273279429, 82.11839002253052, 79.57063179442665, 77.48049476781766, 72.70147355317144, 70.00913142737652, 66.43682826083348, 65.4244272557242, 63.28412025001219, 61.35289550722458, 61.31168397849299, 61.31168397849299, 165.7378707693621, 412.58975937164627, 724.1311065160263, 962.8355085685953, 1262.5496920488554, 560.8060097979921, 587.2416406415127, 1043.9807518896964, 1981.2200403746103, 345.01821785595956, 400.0025204835492, 608.8745669972737, 495.90235216641497, 8186.990248106357, 1108.470563276849, 949.3545020627121, 448.24423564263657, 415.28862539541586, 409.4338124248501, 383.4768542117962, 348.99755089704996, 332.502481675327, 332.1276175341848, 331.11861639962035, 235.8579929442869, 223.31608308591953, 192.08794872057314, 179.01032935300853, 172.6997227391591, 166.98522765490256, 113.26432036006835, 111.85459239727886, 106.27559238095104, 99.10478976090045, 83.28926210041814, 78.32363764960543, 74.36747658217033, 67.7878345702507, 60.824963707358165, 58.14012294239558, 52.768965574317356, 46.54403887612739, 45.49243168567195, 44.694595133194355, 1150.638714534631, 817.5080378583923, 411.3524428932998, 621.3725741484242, 1756.8010693074875, 849.1686580890147, 599.6641006427069, 482.94516184749443, 388.6369405564028, 292.05234041687663, 279.9593651495251, 274.76495605482984, 231.41634075508597, 214.71340267309088, 214.16861967389374, 205.62376391905553, 190.14877795045697, 182.12896821954448, 175.16400017081594, 161.26123803379784, 151.73700665719767, 138.79363704871275, 130.6698342800503, 120.75703180866483, 120.71871211815571, 113.52427067046732, 109.53269299697268, 91.83052877412024, 81.73886323147741, 77.3823402321933, 67.53889637390995, 64.76312211755109, 63.93810860254291, 61.40345978780269, 59.04345883008507, 89.05142677014528, 694.5169742122399, 386.0047184150441, 321.5430223197729, 298.9243451158554, 295.6237068712008, 270.5616419162231, 222.61160282532296, 214.780970237022, 149.0405153322344, 143.60871767635862, 135.7145775996366, 112.42844056614588, 109.58133694058223, 97.14997791731248, 91.6758586836886, 91.3756043662895, 89.27411812462599, 82.02235630246635, 68.28826181389884, 57.790792262214836, 54.74916648475988, 52.13748608898296, 47.20094916988426, 45.63690535576573, 42.16976805390693, 39.153284860677445, 32.69751164520308, 28.911434330759846, 25.734437325209772, 22.55015287981271, 20.293503131774706, 544.7807040587855, 495.90235216641497, 787.5204765613591, 359.26268538644337, 648.1778526749198, 157.56000173947808, 128.5244195630445, 119.91692842028174, 101.65257001470916, 65.84472365705133, 65.28795993064344, 35.16549911727617, 34.87752408294591, 32.93504255904114, 32.44922693125824, 29.776492398728053, 26.15288616353239, 24.92185694460813, 23.052736142289586, 19.36442778374291, 1.2865315782017683, 1.2865247921170884, 1.286519329639333, 1.286523000919773, 1.2864776422915776, 1.286482492114922, 1.2864625839801354, 1.2865038425867104, 1.2864987487287796, 1.2864594718442648, 1.2864699442379732, 1.2864627601520735, 1.2864627601520735, 1.286473424451368, 1.2864945620120958, 1.2865029935183905, 1.286582891364175, 1.2865095467667056, 1.2864804397826046, 1.2865276505324967, 1.2865169387263486, 1.2865898570729337, 425.79673380209937, 361.51873635858743, 165.96296413661963, 83.75300309740503, 73.28030691033506, 64.43893118438774, 60.085664398573, 43.62693265065866, 40.05469143029573, 38.41675448858039, 36.99052798327335, 32.59446161771407, 26.55276449167199, 23.29747785831688, 22.48465310711022, 16.738307702664756, 16.30216978732496, 7.132805293380833, 291.8275780786006, 400.0025204835492, 235.1162018213347, 1.286495268107438, 1.286582891364175, 1.286477433095303, 1.2865551720241595, 1.2864932323764984, 1.2864770334168012, 1.2864975075867837, 1.2865011718744126, 1.2865279969548515, 1.2865453296176057, 1.2865698739331348, 419.93970263586647, 289.8900781224364, 173.92524164802288, 131.34139913992956, 104.21756256863502, 74.49419445766884, 72.48469839048919, 50.159747634111596, 37.13008190993595, 34.52342374539138, 33.10948320993855, 27.146787079550684, 26.876555639974878, 19.817541288992285, 16.50066959766266, 15.910738678573988, 12.023454251153991, 5.903555114208945, 3.971472256214608, 2.5079419015781554, 1.2864902169321322, 1.2864836601345015, 1.2864772282960786, 1.2864823147883617, 1.2864731950725488, 1.2865873344964394, 1.2864700949984067, 1.2865533268062888, 1.2864724181084801, 1.2864728081349648, 168.2935324282317, 146.77820921743555, 142.29557593527792, 79.74406848267691, 76.06754202125819, 41.815902926223465, 41.07471128114, 35.24257061949491, 29.23802083280794, 28.041537320742762, 24.719444865979874, 15.943948959707361, 10.672885685502386, 3.5994576681400132, 2.519599348141991, 1.670659129240636, 1.2865095467667056, 1.2865698739331348, 1.2864705234347005, 1.2864675945957718, 1.2864867332999412, 1.2864808536372991, 1.2865078356070028, 1.2864867654187389, 1.2864611712525196, 1.2864628453169789, 1.2865129114317913, 1.2864890408577043, 1.2864630275297553, 1.2864865292449872, 87.53790650615545, 1.286582891364175, 1.2865551720241595, 1.2865188837175832, 1.2865453296176057], \"Category\": [\"Default\", \"Default\", \"Default\", \"Default\", \"Default\", \"Default\", \"Default\", \"Default\", \"Default\", \"Default\", \"Default\", \"Default\", \"Default\", \"Default\", \"Default\", \"Default\", \"Default\", \"Default\", \"Default\", \"Default\", \"Default\", \"Default\", \"Default\", \"Default\", \"Default\", \"Default\", \"Default\", \"Default\", \"Default\", \"Default\", \"Topic1\", \"Topic1\", \"Topic1\", \"Topic1\", \"Topic1\", \"Topic1\", \"Topic1\", \"Topic1\", \"Topic1\", \"Topic1\", \"Topic1\", \"Topic1\", \"Topic1\", \"Topic1\", \"Topic1\", \"Topic1\", \"Topic1\", \"Topic1\", \"Topic1\", \"Topic1\", \"Topic1\", \"Topic1\", \"Topic1\", \"Topic1\", \"Topic1\", \"Topic1\", \"Topic1\", \"Topic1\", \"Topic1\", \"Topic1\", \"Topic1\", \"Topic1\", \"Topic1\", \"Topic1\", \"Topic1\", \"Topic1\", \"Topic1\", \"Topic1\", \"Topic1\", \"Topic1\", \"Topic1\", \"Topic1\", \"Topic1\", \"Topic1\", \"Topic1\", \"Topic1\", \"Topic1\", \"Topic1\", \"Topic1\", \"Topic1\", \"Topic1\", \"Topic1\", \"Topic1\", \"Topic1\", \"Topic1\", \"Topic1\", \"Topic1\", \"Topic1\", \"Topic1\", \"Topic1\", \"Topic1\", \"Topic1\", \"Topic1\", \"Topic1\", \"Topic1\", \"Topic1\", \"Topic1\", \"Topic1\", \"Topic1\", \"Topic1\", \"Topic2\", \"Topic2\", \"Topic2\", \"Topic2\", \"Topic2\", \"Topic2\", \"Topic2\", \"Topic2\", \"Topic2\", \"Topic2\", \"Topic2\", \"Topic2\", \"Topic2\", \"Topic2\", \"Topic2\", \"Topic2\", \"Topic2\", \"Topic2\", \"Topic2\", \"Topic2\", \"Topic2\", \"Topic2\", \"Topic2\", \"Topic2\", \"Topic2\", \"Topic2\", \"Topic2\", \"Topic2\", \"Topic2\", \"Topic2\", \"Topic2\", \"Topic2\", \"Topic2\", \"Topic2\", \"Topic2\", \"Topic2\", \"Topic2\", \"Topic2\", \"Topic2\", \"Topic2\", \"Topic2\", \"Topic2\", \"Topic2\", \"Topic2\", \"Topic2\", \"Topic2\", \"Topic2\", \"Topic2\", \"Topic2\", \"Topic2\", \"Topic2\", \"Topic2\", \"Topic2\", \"Topic2\", \"Topic2\", \"Topic2\", \"Topic2\", \"Topic2\", \"Topic2\", \"Topic3\", \"Topic3\", \"Topic3\", \"Topic3\", \"Topic3\", \"Topic3\", \"Topic3\", \"Topic3\", \"Topic3\", \"Topic3\", \"Topic3\", \"Topic3\", \"Topic3\", \"Topic3\", \"Topic3\", \"Topic3\", \"Topic3\", \"Topic3\", \"Topic3\", \"Topic3\", \"Topic3\", \"Topic3\", \"Topic3\", \"Topic3\", \"Topic3\", \"Topic3\", \"Topic3\", \"Topic3\", \"Topic3\", \"Topic3\", \"Topic3\", \"Topic3\", \"Topic3\", \"Topic3\", \"Topic3\", \"Topic3\", \"Topic3\", \"Topic3\", \"Topic3\", \"Topic3\", \"Topic3\", \"Topic3\", \"Topic3\", \"Topic3\", \"Topic3\", \"Topic3\", \"Topic3\", \"Topic3\", \"Topic3\", \"Topic3\", \"Topic3\", \"Topic3\", \"Topic3\", \"Topic3\", \"Topic3\", \"Topic3\", \"Topic3\", \"Topic3\", \"Topic3\", \"Topic4\", \"Topic4\", \"Topic4\", \"Topic4\", \"Topic4\", \"Topic4\", \"Topic4\", \"Topic4\", \"Topic4\", \"Topic4\", \"Topic4\", \"Topic4\", \"Topic4\", \"Topic4\", \"Topic4\", \"Topic4\", \"Topic4\", \"Topic4\", \"Topic4\", \"Topic4\", \"Topic4\", \"Topic4\", \"Topic4\", \"Topic4\", \"Topic4\", \"Topic4\", \"Topic4\", \"Topic4\", \"Topic4\", \"Topic4\", \"Topic4\", \"Topic4\", \"Topic4\", \"Topic4\", \"Topic4\", \"Topic4\", \"Topic4\", \"Topic4\", \"Topic4\", \"Topic4\", \"Topic4\", \"Topic4\", \"Topic4\", \"Topic4\", \"Topic4\", \"Topic4\", \"Topic4\", \"Topic4\", \"Topic4\", \"Topic4\", \"Topic4\", \"Topic4\", \"Topic4\", \"Topic4\", \"Topic4\", \"Topic4\", \"Topic4\", \"Topic4\", \"Topic4\", \"Topic5\", \"Topic5\", \"Topic5\", \"Topic5\", \"Topic5\", \"Topic5\", \"Topic5\", \"Topic5\", \"Topic5\", \"Topic5\", \"Topic5\", \"Topic5\", \"Topic5\", \"Topic5\", \"Topic5\", \"Topic5\", \"Topic5\", \"Topic5\", \"Topic5\", \"Topic5\", \"Topic5\", \"Topic5\", \"Topic5\", \"Topic5\", \"Topic5\", \"Topic5\", \"Topic5\", \"Topic5\", \"Topic5\", \"Topic5\", \"Topic5\", \"Topic5\", \"Topic5\", \"Topic5\", \"Topic5\", \"Topic5\", \"Topic5\", \"Topic5\", \"Topic5\", \"Topic5\", \"Topic5\", \"Topic5\", \"Topic5\", \"Topic5\", \"Topic5\", \"Topic5\", \"Topic5\", \"Topic5\", \"Topic5\", \"Topic5\", \"Topic6\", \"Topic6\", \"Topic6\", \"Topic6\", \"Topic6\", \"Topic6\", \"Topic6\", \"Topic6\", \"Topic6\", \"Topic6\", \"Topic6\", \"Topic6\", \"Topic6\", \"Topic6\", \"Topic6\", \"Topic6\", \"Topic6\", \"Topic6\", \"Topic6\", \"Topic6\", \"Topic6\", \"Topic6\", \"Topic6\", \"Topic6\", \"Topic6\", \"Topic6\", \"Topic6\", \"Topic6\", \"Topic6\", \"Topic6\", \"Topic6\", \"Topic6\", \"Topic6\", \"Topic6\", \"Topic6\", \"Topic6\", \"Topic6\", \"Topic6\", \"Topic6\", \"Topic6\", \"Topic6\", \"Topic6\", \"Topic6\", \"Topic6\", \"Topic6\", \"Topic6\", \"Topic6\", \"Topic6\", \"Topic7\", \"Topic7\", \"Topic7\", \"Topic7\", \"Topic7\", \"Topic7\", \"Topic7\", \"Topic7\", \"Topic7\", \"Topic7\", \"Topic7\", \"Topic7\", \"Topic7\", \"Topic7\", \"Topic7\", \"Topic7\", \"Topic7\", \"Topic7\", \"Topic7\", \"Topic7\", \"Topic7\", \"Topic7\", \"Topic7\", \"Topic7\", \"Topic7\", \"Topic7\", \"Topic7\", \"Topic7\", \"Topic7\", \"Topic7\", \"Topic8\", \"Topic8\", \"Topic8\", \"Topic8\", \"Topic8\", \"Topic8\", \"Topic8\", \"Topic8\", \"Topic8\", \"Topic8\", \"Topic8\", \"Topic8\", \"Topic8\", \"Topic8\", \"Topic8\", \"Topic8\", \"Topic8\", \"Topic8\", \"Topic8\", \"Topic8\", \"Topic8\", \"Topic8\", \"Topic8\", \"Topic8\", \"Topic8\", \"Topic8\", \"Topic8\", \"Topic8\", \"Topic8\", \"Topic8\", \"Topic8\", \"Topic8\", \"Topic8\", \"Topic8\", \"Topic8\", \"Topic8\", \"Topic8\", \"Topic8\", \"Topic8\", \"Topic8\", \"Topic8\", \"Topic8\", \"Topic8\", \"Topic9\", \"Topic9\", \"Topic9\", \"Topic9\", \"Topic9\", \"Topic9\", \"Topic9\", \"Topic9\", \"Topic9\", \"Topic9\", \"Topic9\", \"Topic9\", \"Topic9\", \"Topic9\", \"Topic9\", \"Topic9\", \"Topic9\", \"Topic9\", \"Topic9\", \"Topic9\", \"Topic9\", \"Topic9\", \"Topic9\", \"Topic9\", \"Topic9\", \"Topic9\", \"Topic9\", \"Topic9\", \"Topic9\", \"Topic9\", \"Topic9\", \"Topic9\", \"Topic9\", \"Topic9\", \"Topic9\", \"Topic9\", \"Topic9\", \"Topic9\", \"Topic9\", \"Topic9\", \"Topic9\", \"Topic9\", \"Topic10\", \"Topic10\", \"Topic10\", \"Topic10\", \"Topic10\", \"Topic10\", \"Topic10\", \"Topic10\", \"Topic10\", \"Topic10\", \"Topic10\", \"Topic10\", \"Topic10\", \"Topic10\", \"Topic10\", \"Topic10\", \"Topic10\", \"Topic10\", \"Topic10\", \"Topic10\", \"Topic10\", \"Topic10\", \"Topic10\", \"Topic10\", \"Topic10\", \"Topic10\", \"Topic10\", \"Topic10\", \"Topic10\", \"Topic10\", \"Topic10\", \"Topic10\", \"Topic10\", \"Topic10\", \"Topic10\", \"Topic10\", \"Topic10\", \"Topic10\", \"Topic10\", \"Topic10\", \"Topic10\", \"Topic10\", \"Topic10\", \"Topic10\", \"Topic10\", \"Topic10\", \"Topic10\", \"Topic10\", \"Topic10\", \"Topic10\", \"Topic11\", \"Topic11\", \"Topic11\", \"Topic11\", \"Topic11\", \"Topic11\", \"Topic11\", \"Topic11\", \"Topic11\", \"Topic11\", \"Topic11\", \"Topic11\", \"Topic11\", \"Topic11\", \"Topic11\", \"Topic11\", \"Topic11\", \"Topic11\", \"Topic11\", \"Topic11\", \"Topic11\", \"Topic11\", \"Topic11\", \"Topic11\", \"Topic11\", \"Topic11\", \"Topic11\", \"Topic11\", \"Topic11\", \"Topic11\", \"Topic11\", \"Topic11\", \"Topic11\", \"Topic11\", \"Topic11\", \"Topic11\", \"Topic11\", \"Topic11\", \"Topic11\", \"Topic11\", \"Topic12\", \"Topic12\", \"Topic12\", \"Topic12\", \"Topic12\", \"Topic12\", \"Topic12\", \"Topic12\", \"Topic12\", \"Topic12\", \"Topic12\", \"Topic12\", \"Topic12\", \"Topic12\", \"Topic12\", \"Topic12\", \"Topic12\", \"Topic12\", \"Topic12\", \"Topic12\", \"Topic12\", \"Topic12\", \"Topic12\", \"Topic12\", \"Topic12\", \"Topic12\", \"Topic12\", \"Topic12\", \"Topic12\", \"Topic12\", \"Topic12\", \"Topic12\", \"Topic12\", \"Topic12\", \"Topic12\", \"Topic12\", \"Topic12\", \"Topic12\", \"Topic13\", \"Topic13\", \"Topic13\", \"Topic13\", \"Topic13\", \"Topic13\", \"Topic13\", \"Topic13\", \"Topic13\", \"Topic13\", \"Topic13\", \"Topic13\", \"Topic13\", \"Topic13\", \"Topic13\", \"Topic13\", \"Topic13\", \"Topic13\", \"Topic13\", \"Topic13\", \"Topic13\", \"Topic13\", \"Topic13\", \"Topic13\", \"Topic13\", \"Topic13\", \"Topic13\", \"Topic13\", \"Topic13\", \"Topic13\", \"Topic13\", \"Topic13\", \"Topic13\", \"Topic13\", \"Topic13\", \"Topic13\", \"Topic13\", \"Topic13\", \"Topic13\", \"Topic13\", \"Topic13\", \"Topic13\", \"Topic13\", \"Topic13\", \"Topic14\", \"Topic14\", \"Topic14\", \"Topic14\", \"Topic14\", \"Topic14\", \"Topic14\", \"Topic14\", \"Topic14\", \"Topic14\", \"Topic14\", \"Topic14\", \"Topic14\", \"Topic14\", \"Topic14\", \"Topic14\", \"Topic14\", \"Topic14\", \"Topic14\", \"Topic14\", \"Topic14\", \"Topic14\", \"Topic14\", \"Topic14\", \"Topic14\", \"Topic14\", \"Topic14\", \"Topic14\", \"Topic14\", \"Topic14\", \"Topic14\", \"Topic14\", \"Topic14\", \"Topic14\", \"Topic14\", \"Topic15\", \"Topic15\", \"Topic15\", \"Topic15\", \"Topic15\", \"Topic15\", \"Topic15\", \"Topic15\", \"Topic15\", \"Topic15\", \"Topic15\", \"Topic15\", \"Topic15\", \"Topic15\", \"Topic15\", \"Topic15\", \"Topic15\", \"Topic15\", \"Topic15\", \"Topic15\", \"Topic15\", \"Topic15\", \"Topic15\", \"Topic15\", \"Topic15\", \"Topic15\", \"Topic15\", \"Topic15\", \"Topic15\", \"Topic15\", \"Topic15\", \"Topic15\", \"Topic16\", \"Topic16\", \"Topic16\", \"Topic16\", \"Topic16\", \"Topic16\", \"Topic16\", \"Topic16\", \"Topic16\", \"Topic16\", \"Topic16\", \"Topic16\", \"Topic16\", \"Topic16\", \"Topic16\", \"Topic16\", \"Topic16\", \"Topic16\", \"Topic16\", \"Topic16\", \"Topic16\", \"Topic16\", \"Topic16\", \"Topic16\", \"Topic16\", \"Topic16\", \"Topic16\", \"Topic16\", \"Topic16\", \"Topic16\", \"Topic16\", \"Topic16\", \"Topic16\", \"Topic16\", \"Topic17\", \"Topic17\", \"Topic17\", \"Topic17\", \"Topic17\", \"Topic17\", \"Topic17\", \"Topic17\", \"Topic17\", \"Topic17\", \"Topic17\", \"Topic17\", \"Topic17\", \"Topic17\", \"Topic17\", \"Topic17\", \"Topic17\", \"Topic17\", \"Topic17\", \"Topic17\", \"Topic17\", \"Topic17\", \"Topic17\", \"Topic17\", \"Topic17\", \"Topic17\", \"Topic17\", \"Topic17\", \"Topic17\", \"Topic17\", \"Topic17\", \"Topic17\", \"Topic17\", \"Topic17\", \"Topic17\", \"Topic17\", \"Topic17\", \"Topic17\", \"Topic18\", \"Topic18\", \"Topic18\", \"Topic18\", \"Topic18\", \"Topic18\", \"Topic18\", \"Topic18\", \"Topic18\", \"Topic18\", \"Topic18\", \"Topic18\", \"Topic18\", \"Topic18\", \"Topic18\", \"Topic18\", \"Topic18\", \"Topic18\", \"Topic18\", \"Topic18\", \"Topic18\", \"Topic18\", \"Topic18\", \"Topic18\", \"Topic18\", \"Topic18\", \"Topic18\", \"Topic18\", \"Topic18\", \"Topic18\", \"Topic18\", \"Topic18\", \"Topic19\", \"Topic19\", \"Topic19\", \"Topic19\", \"Topic19\", \"Topic19\", \"Topic19\", \"Topic19\", \"Topic19\", \"Topic19\", \"Topic19\", \"Topic19\", \"Topic19\", \"Topic19\", \"Topic19\", \"Topic19\", \"Topic19\", \"Topic19\", \"Topic19\", \"Topic19\", \"Topic19\", \"Topic19\", \"Topic19\", \"Topic19\", \"Topic19\", \"Topic19\", \"Topic19\", \"Topic19\", \"Topic19\", \"Topic19\", \"Topic20\", \"Topic20\", \"Topic20\", \"Topic20\", \"Topic20\", \"Topic20\", \"Topic20\", \"Topic20\", \"Topic20\", \"Topic20\", \"Topic20\", \"Topic20\", \"Topic20\", \"Topic20\", \"Topic20\", \"Topic20\", \"Topic20\", \"Topic20\", \"Topic20\", \"Topic20\", \"Topic20\", \"Topic20\", \"Topic20\", \"Topic20\", \"Topic20\", \"Topic20\", \"Topic20\", \"Topic20\", \"Topic20\", \"Topic20\", \"Topic20\", \"Topic20\", \"Topic20\", \"Topic20\", \"Topic20\"], \"logprob\": [30.0, 29.0, 28.0, 27.0, 26.0, 25.0, 24.0, 23.0, 22.0, 21.0, 20.0, 19.0, 18.0, 17.0, 16.0, 15.0, 14.0, 13.0, 12.0, 11.0, 10.0, 9.0, 8.0, 7.0, 6.0, 5.0, 4.0, 3.0, 2.0, 1.0, -5.2025, -5.3862, -5.4998, -5.6209, -5.6989, -5.699, -5.7237, -5.7641, -5.776, -5.7794, -5.7851, -5.8178, -5.9337, -5.9806, -5.9882, -5.9892, -6.1575, -6.1771, -6.2151, -6.267, -6.3028, -6.3091, -6.3524, -6.3539, -6.3941, -6.3948, -6.4339, -6.4649, -6.4742, -6.5235, -3.5973, -4.2799, -4.6534, -5.4625, -3.7268, -4.6083, -3.7822, -5.3543, -5.0927, -5.6241, -4.7236, -5.6517, -4.472, -5.2958, -4.1078, -4.4562, -4.5633, -4.9619, -4.5493, -4.6606, -3.9283, -5.304, -3.9629, -4.9925, -5.251, -4.6393, -4.7968, -4.5902, -5.1589, -4.7286, -4.6162, -4.7986, -4.8865, -4.9181, -4.6944, -4.9963, -4.9182, -4.7932, -5.0481, -4.9994, -4.8427, -4.873, -4.9719, -5.0251, -5.1127, -5.1868, -5.2039, -5.228, -5.3477, -5.3624, -5.415, -5.4301, -5.48, -5.5771, -5.5928, -5.6026, -5.6285, -5.6638, -5.6869, -5.7338, -5.7451, -5.7528, -5.7714, -5.8122, -5.8777, -5.8974, -5.9087, -5.9405, -5.978, -6.0081, -3.8412, -4.1435, -3.7202, -3.6877, -4.6887, -4.6296, -3.5267, -4.6624, -5.1752, -4.6019, -4.9233, -4.0536, -3.9611, -4.8552, -3.7868, -4.7818, -5.1112, -5.0561, -5.0229, -5.0259, -4.7507, -4.5889, -4.7875, -4.7651, -4.6049, -4.9698, -4.4846, -5.013, -5.039, -4.3432, -4.3887, -4.3943, -4.4085, -4.7788, -4.8793, -4.9254, -4.9681, -5.0583, -5.2317, -5.3385, -5.4587, -5.4769, -5.5203, -5.5307, -5.5327, -5.5782, -5.6089, -5.6215, -5.7102, -5.8287, -5.8326, -5.8727, -5.8891, -5.9026, -5.9349, -6.0015, -6.0396, -6.07, -6.0936, -3.6604, -4.2, -4.8259, -5.0831, -5.6262, -5.0902, -3.4787, -5.5238, -4.8267, -5.5012, -4.7893, -3.6462, -4.9661, -4.8223, -4.7293, -4.5937, -5.323, -4.4532, -4.3778, -4.3692, -4.6332, -5.1951, -4.8521, -4.9532, -4.8395, -4.8321, -4.9378, -5.0493, -5.0273, -2.9233, -3.063, -2.4089, -4.9687, -3.6298, -5.4567, -5.4844, -5.5898, -5.7304, -5.8455, -5.8936, -6.0733, -6.0757, -6.121, -6.123, -6.1287, -6.1455, -6.3531, -6.3573, -6.4744, -6.486, -6.5092, -6.5784, -6.5812, -6.6022, -6.6298, -6.6324, -6.7472, -6.7684, -6.8284, -1.9895, -5.4698, -3.9553, -4.7677, -2.6517, -4.6102, -5.2921, -2.3841, -5.1308, -5.0013, -3.5559, -5.0641, -5.3774, -4.5868, -5.0311, -5.0389, -5.4357, -3.6781, -4.3222, -4.2996, -4.6385, -4.0323, -4.6683, -4.3949, -4.7636, -4.6531, -4.6606, -5.1146, -5.1281, -3.2474, -3.9698, -3.9902, -4.1553, -4.3479, -4.4548, -4.5639, -4.5744, -4.7719, -4.7971, -4.8707, -4.9093, -4.962, -5.0787, -5.1333, -5.1398, -5.3529, -5.4003, -5.4272, -5.4376, -5.4704, -5.4757, -5.5841, -5.595, -5.6573, -5.6592, -5.6827, -5.7671, -5.8259, -5.8278, -4.449, -3.8424, -5.0028, -3.8051, -4.1299, -4.7224, -4.1032, -4.9723, -4.1093, -3.9935, -4.6402, -4.9248, -3.9914, -4.0495, -4.8204, -4.7168, -4.6629, -4.8, -4.9159, -4.9571, -4.0543, -4.3373, -4.3825, -4.4451, -4.5497, -4.6008, -4.6174, -4.6768, -4.6874, -4.8665, -4.8848, -4.8929, -4.9027, -4.9147, -4.9449, -4.991, -5.0022, -5.0849, -5.1005, -5.1174, -5.1253, -5.1994, -5.3067, -5.3142, -5.3175, -5.3414, -5.3445, -5.3487, -5.3495, -5.3807, -4.7626, -4.8291, -3.5247, -4.3473, -4.663, -5.0258, -4.3867, -5.0831, -4.3829, -4.1003, -4.9945, -4.9069, -4.9256, -4.7917, -4.9271, -4.6787, -4.7285, -4.9723, -0.3369, -4.0748, -4.4025, -4.5844, -4.7161, -4.7505, -4.8715, -4.876, -4.9727, -4.9818, -5.0507, -5.2006, -5.2523, -5.2698, -5.2977, -5.3679, -5.4807, -5.4982, -5.5219, -5.6075, -5.6751, -5.7934, -6.0436, -6.1658, -6.2508, -6.3613, -6.3717, -6.3848, -6.5823, -6.6674, -2.7371, -3.4026, -3.6274, -3.9685, -3.9964, -4.0552, -4.0894, -4.2309, -4.2436, -4.2829, -4.3309, -4.3736, -4.3849, -4.5007, -4.5204, -4.5395, -4.5578, -4.5854, -4.6752, -4.7705, -4.7877, -4.8617, -4.9701, -5.012, -5.0195, -5.0631, -5.0886, -5.0894, -5.189, -5.3853, -4.7496, -3.3926, -3.8462, -4.0476, -4.6094, -4.437, -4.8272, -4.6496, -4.3592, -4.3759, -4.6064, -4.6727, -4.5661, -2.9491, -3.0585, -3.4064, -3.7628, -3.8196, -3.8816, -3.9407, -3.9649, -3.9911, -4.086, -4.1189, -4.1825, -4.2881, -4.3158, -4.5896, -4.6409, -4.5656, -4.7186, -4.8915, -5.0145, -5.0201, -5.0256, -5.0674, -5.1276, -5.2187, -5.2272, -5.2313, -5.2977, -5.4503, -5.4547, -2.9632, -4.9169, -4.4974, -3.5821, -4.0032, -3.4529, -4.4343, -4.7587, -4.3513, -4.5069, -4.7564, -4.8729, -2.8003, -2.9244, -3.1993, -3.4649, -3.693, -3.986, -4.068, -4.2001, -4.1985, -4.5859, -2.8803, -4.8263, -5.0366, -5.0574, -5.1471, -5.1547, -5.2295, -5.3386, -5.3837, -5.3944, -5.76, -5.7877, -5.8373, -5.8391, -5.9009, -5.9404, -5.9427, -5.9437, -5.96, -5.9903, -3.8885, -4.0797, -4.5872, -3.6912, -4.5855, -4.0824, -3.9552, -4.5435, -3.8577, -3.4907, -3.9641, -3.9382, -3.8153, -3.9638, -4.4061, -4.6563, -3.8721, -3.9811, -4.4067, -4.5707, -2.2496, -2.8247, -3.5737, -3.7522, -3.9063, -3.9113, -3.9736, -4.0234, -4.2077, -4.2152, -4.2351, -4.4743, -4.5372, -4.5442, -4.6678, -4.6857, -4.7247, -4.7261, -4.8566, -4.9145, -5.1221, -5.124, -5.1673, -5.2131, -5.3252, -5.4152, -5.4171, -5.5342, -5.6568, -5.6846, -2.6394, -4.3035, -4.2653, -4.5318, -4.2504, -3.7199, -4.0795, -3.7343, -4.0576, -4.6529, -2.5671, -3.8949, -3.9852, -4.0228, -4.0298, -4.2032, -4.288, -4.3895, -4.3958, -4.5487, -4.5778, -4.6019, -4.6219, -4.6317, -4.6318, -4.6598, -4.7163, -4.7192, -4.7274, -4.7305, -4.7816, -4.7997, -4.817, -4.8452, -4.9627, -4.9807, -5.0045, -5.0775, -5.08, -5.1064, -3.5979, -4.2733, -4.6378, -4.2075, -4.4358, -4.4588, -4.7339, -4.7701, -3.1474, -3.3433, -3.4613, -3.5228, -3.7481, -3.7692, -4.0454, -4.1213, -4.4091, -4.4947, -4.5266, -4.7362, -4.813, -4.843, -4.8843, -4.9718, -5.0187, -5.0244, -5.1131, -5.2895, -5.3215, -5.3486, -5.4133, -5.4517, -5.505, -5.5206, -5.5545, -5.5861, -5.5868, -5.5868, -4.6034, -3.8315, -3.3788, -3.4635, -3.6839, -4.3321, -4.3138, -4.4321, -4.3136, -4.9358, -4.9633, -4.9133, -4.9604, -4.8826, -2.3797, -2.5348, -3.2867, -3.3633, -3.3775, -3.4432, -3.5377, -3.5863, -3.5875, -3.5905, -3.9313, -3.9862, -4.1378, -4.2087, -4.2449, -4.2788, -4.6705, -4.6831, -4.7349, -4.8056, -4.9819, -5.0443, -5.097, -5.1912, -5.3017, -5.3478, -5.447, -5.5757, -5.5992, -5.6174, -3.1952, -3.7044, -4.8529, -4.7979, -5.0582, -2.4833, -2.8318, -3.0488, -3.2667, -3.5534, -3.5959, -3.6147, -3.7873, -3.8626, -3.8651, -3.9061, -3.9848, -4.0282, -4.0675, -4.1508, -4.2121, -4.3021, -4.3629, -4.4426, -4.4429, -4.505, -4.5412, -4.7197, -4.8378, -4.8934, -5.0318, -5.0746, -5.0876, -5.1289, -5.1689, -4.8875, -4.196, -2.9968, -3.1801, -3.2534, -3.2645, -3.3535, -3.5495, -3.5856, -3.9535, -3.991, -4.048, -4.2381, -4.2641, -4.3859, -4.4447, -4.448, -4.4716, -4.5576, -4.7439, -4.9142, -4.9695, -5.0195, -5.1215, -5.1561, -5.2374, -5.314, -5.5006, -5.6288, -5.7507, -5.89, -6.0019, -2.8564, -3.0032, -3.1391, -4.9109, -1.7299, -3.1503, -3.3558, -3.4258, -3.5929, -4.034, -4.0426, -4.6782, -4.6867, -4.7462, -4.7616, -4.8512, -4.987, -5.0377, -5.12, -5.3052, -11.4194, -11.4194, -11.4194, -11.4194, -11.4194, -11.4194, -11.4195, -11.4194, -11.4194, -11.4195, -11.4195, -11.4195, -11.4195, -11.4195, -11.4194, -11.4194, -11.4194, -11.4194, -11.4195, -11.4194, -11.4194, -11.4194, -2.1308, -2.295, -3.0777, -3.769, -3.9048, -4.0358, -4.1071, -4.4353, -4.5234, -4.5665, -4.6056, -4.7369, -4.951, -5.0887, -5.1263, -5.4419, -5.4704, -6.4101, -3.4973, -3.834, -4.8979, -11.5383, -11.5383, -11.5384, -11.5384, -11.5384, -11.5385, -11.5384, -11.5384, -11.5384, -11.5384, -11.5384, -2.0951, -2.4671, -2.9808, -3.264, -3.4979, -3.8385, -3.8663, -4.2423, -4.5521, -4.6275, -4.671, -4.8782, -4.8887, -5.2109, -5.4077, -5.4472, -5.7553, -6.5949, -7.1315, -7.9036, -11.473, -11.4731, -11.4732, -11.4732, -11.4732, -11.4731, -11.4732, -11.4732, -11.4733, -11.4733, -2.648, -2.7859, -2.8171, -3.4032, -3.4512, -4.0634, -4.0819, -4.2403, -4.4347, -4.4784, -4.6108, -5.0793, -5.5238, -6.9152, -7.5335, -8.6503, -11.3107, -11.3107, -11.3108, -11.3108, -11.3108, -11.3108, -11.3108, -11.3108, -11.3108, -11.3108, -11.3108, -11.3108, -11.3108, -11.3108, -7.3381, -11.3108, -11.3108, -11.3108, -11.3108], \"loglift\": [30.0, 29.0, 28.0, 27.0, 26.0, 25.0, 24.0, 23.0, 22.0, 21.0, 20.0, 19.0, 18.0, 17.0, 16.0, 15.0, 14.0, 13.0, 12.0, 11.0, 10.0, 9.0, 8.0, 7.0, 6.0, 5.0, 4.0, 3.0, 2.0, 1.0, 1.3615, 1.3613, 1.3612, 1.3611, 1.361, 1.361, 1.361, 1.361, 1.361, 1.3609, 1.3609, 1.3609, 1.3608, 1.3607, 1.3607, 1.3607, 1.3604, 1.3604, 1.3603, 1.3602, 1.3601, 1.3601, 1.36, 1.36, 1.3599, 1.3599, 1.3599, 1.3598, 1.3598, 1.3596, 1.3591, 1.3512, 1.3544, 1.3522, 1.3337, 1.3387, 1.3095, 1.3405, 1.3295, 1.3415, 1.3093, 1.3385, 1.2597, 1.3099, 1.2261, 1.2313, 1.2305, 1.2657, 1.2, 1.2011, 1.0681, 1.2874, 1.067, 1.2334, 1.2358, 1.0719, 1.0864, 0.9915, 1.1536, 0.8744, 0.7992, 0.82, 0.8925, 0.8667, 0.5718, 0.9044, 0.7939, 0.4523, 0.6931, -0.4438, 1.884, 1.884, 1.8839, 1.8839, 1.8838, 1.8837, 1.8837, 1.8837, 1.8835, 1.8835, 1.8834, 1.8834, 1.8833, 1.8832, 1.8832, 1.8831, 1.8831, 1.883, 1.883, 1.8829, 1.8829, 1.8829, 1.8828, 1.8828, 1.8826, 1.8826, 1.8826, 1.8825, 1.8824, 1.8823, 1.881, 1.8625, 1.8522, 1.8269, 1.8518, 1.8471, 1.7928, 1.8021, 1.8374, 1.7573, 1.7888, 1.6663, 1.6067, 1.7498, 1.5549, 1.7233, 1.7816, 1.7312, 1.6969, 1.6668, 1.5035, 1.4033, 1.4913, 1.3464, 1.1363, 1.4816, 0.3226, 1.3923, 0.2272, 1.9219, 1.9219, 1.9219, 1.9219, 1.9216, 1.9216, 1.9215, 1.9215, 1.9214, 1.9212, 1.9211, 1.9209, 1.9209, 1.9208, 1.9208, 1.9208, 1.9207, 1.9206, 1.9206, 1.9205, 1.9202, 1.9202, 1.9201, 1.9201, 1.9201, 1.92, 1.9198, 1.9197, 1.9196, 1.9196, 1.9107, 1.9138, 1.9041, 1.9046, 1.9142, 1.8313, 1.6315, 1.8721, 1.7573, 1.8668, 1.5978, 1.161, 1.6509, 1.5495, 1.4135, 1.194, 1.7353, 0.9622, 0.8884, 0.8762, 0.9698, 1.5871, 1.1013, 1.1964, 0.9395, 0.7495, 0.8851, 1.2765, 0.7238, 2.3509, 2.3509, 2.3502, 2.3497, 2.3491, 2.3488, 2.3487, 2.3484, 2.348, 2.3477, 2.3475, 2.3468, 2.3468, 2.3466, 2.3466, 2.3466, 2.3465, 2.3454, 2.3454, 2.3447, 2.3446, 2.3445, 2.344, 2.344, 2.3438, 2.3436, 2.3436, 2.3427, 2.3425, 2.342, 2.3249, 2.3398, 2.3208, 2.3261, 2.2785, 2.2962, 2.3046, 2.1715, 2.2727, 2.2154, 1.9076, 2.0343, 2.1043, 1.9011, 2.0093, 1.952, 2.0658, 1.1291, 1.4289, 1.319, 1.4659, 0.9641, 1.4433, 0.8505, 1.3135, 1.0589, 0.9072, 1.3452, 1.3222, 2.8532, 2.8528, 2.8527, 2.8526, 2.8524, 2.8522, 2.8521, 2.852, 2.8517, 2.8516, 2.8515, 2.8514, 2.8513, 2.851, 2.8508, 2.8508, 2.8502, 2.85, 2.8499, 2.8499, 2.8497, 2.8497, 2.8493, 2.8492, 2.8489, 2.8489, 2.8488, 2.8484, 2.8481, 2.8481, 2.8215, 2.7671, 2.7863, 2.6341, 2.5946, 2.6962, 2.518, 2.707, 2.4962, 2.4272, 2.4889, 2.6027, 2.1302, 1.8512, 2.3647, 2.1974, 1.9958, 1.8441, 0.9458, 1.9727, 2.9633, 2.963, 2.9629, 2.9628, 2.9626, 2.9626, 2.9625, 2.9624, 2.9624, 2.962, 2.962, 2.9619, 2.9619, 2.9619, 2.9618, 2.9617, 2.9617, 2.9614, 2.9614, 2.9613, 2.9613, 2.9611, 2.9607, 2.9607, 2.9607, 2.9606, 2.9606, 2.9605, 2.9605, 2.9604, 2.9587, 2.9494, 2.9065, 2.9305, 2.924, 2.9391, 2.8403, 2.9263, 2.727, 2.5299, 2.8539, 2.7319, 2.7132, 2.4446, 2.6493, 1.7727, 1.323, 2.7551, 3.1007, 3.0996, 3.0991, 3.0988, 3.0985, 3.0984, 3.0981, 3.0981, 3.0979, 3.0978, 3.0976, 3.0971, 3.0969, 3.0969, 3.0968, 3.0965, 3.096, 3.0959, 3.0958, 3.0953, 3.0949, 3.0942, 3.0924, 3.0913, 3.0905, 3.0893, 3.0892, 3.089, 3.0865, 3.0852, 3.186, 3.1857, 3.1855, 3.1852, 3.1851, 3.1851, 3.185, 3.1848, 3.1848, 3.1847, 3.1846, 3.1846, 3.1845, 3.1843, 3.1843, 3.1842, 3.1842, 3.1841, 3.1839, 3.1837, 3.1836, 3.1834, 3.1831, 3.183, 3.1829, 3.1828, 3.1827, 3.1827, 3.1823, 3.1814, 3.1463, 2.9938, 2.873, 2.8023, 2.9657, 2.8643, 3.047, 2.8756, 2.1006, 2.0547, 1.9613, 2.1111, 0.7534, 3.1987, 3.1987, 3.1985, 3.1982, 3.1981, 3.1981, 3.198, 3.198, 3.1979, 3.1978, 3.1978, 3.1977, 3.1975, 3.1975, 3.1969, 3.1968, 3.1967, 3.1966, 3.1961, 3.1957, 3.1957, 3.1957, 3.1956, 3.1953, 3.195, 3.1949, 3.1949, 3.1946, 3.1939, 3.1938, 3.1457, 3.1063, 2.954, 2.6476, 2.7807, 2.5005, 2.8168, 2.9636, 2.45, 2.1971, 2.6454, 2.0655, 3.47, 3.4699, 3.4697, 3.4695, 3.4692, 3.4688, 3.4687, 3.4684, 3.4684, 3.4675, 3.4672, 3.4667, 3.4658, 3.4657, 3.4653, 3.4652, 3.4648, 3.4642, 3.4639, 3.4638, 3.4609, 3.4606, 3.4601, 3.4601, 3.4595, 3.459, 3.459, 3.459, 3.4588, 3.4584, 3.457, 3.4412, 3.3448, 3.2611, 3.3302, 3.237, 3.1633, 3.243, 3.0807, 2.9979, 3.0904, 3.0318, 2.9839, 2.9826, 3.0197, 3.1468, 2.205, 2.1993, 2.0531, 1.6835, 3.9548, 3.9544, 3.9535, 3.9532, 3.9528, 3.9528, 3.9526, 3.9525, 3.9519, 3.9519, 3.9518, 3.9509, 3.9506, 3.9506, 3.95, 3.9499, 3.9497, 3.9497, 3.9489, 3.9485, 3.947, 3.947, 3.9466, 3.9462, 3.9451, 3.9442, 3.9442, 3.9428, 3.9412, 3.9408, 3.8399, 3.8732, 3.5242, 3.6084, 3.3472, 2.9103, 2.6397, 2.0506, 2.064, 2.9262, 4.0001, 3.9983, 3.998, 3.9979, 3.9979, 3.9973, 3.997, 3.9966, 3.9966, 3.9959, 3.9958, 3.9957, 3.9956, 3.9955, 3.9955, 3.9954, 3.995, 3.995, 3.995, 3.995, 3.9947, 3.9945, 3.9944, 3.9943, 3.9934, 3.9933, 3.9931, 3.9925, 3.9925, 3.9923, 3.6212, 3.7213, 3.5893, 2.846, 2.4356, 2.3425, 3.1947, 2.1021, 4.3862, 4.3858, 4.3856, 4.3854, 4.3848, 4.3847, 4.3837, 4.3833, 4.3818, 4.3812, 4.381, 4.3794, 4.3787, 4.3784, 4.378, 4.3771, 4.3766, 4.3765, 4.3755, 4.3731, 4.3726, 4.3722, 4.3711, 4.3705, 4.3695, 4.3692, 4.3686, 4.368, 4.3679, 4.3679, 4.357, 4.2168, 4.107, 3.7374, 3.246, 3.4093, 3.3815, 2.6878, 2.1657, 3.2914, 3.116, 2.7458, 2.9039, 0.1779, 4.6804, 4.6802, 4.6787, 4.6785, 4.6785, 4.6782, 4.6779, 4.6778, 4.6778, 4.6777, 4.6762, 4.6759, 4.675, 4.6746, 4.6743, 4.6741, 4.6705, 4.6704, 4.6698, 4.669, 4.6666, 4.6656, 4.6648, 4.6631, 4.661, 4.6601, 4.6579, 4.6547, 4.654, 4.6535, 3.8274, 3.6601, 3.1984, 2.8409, 1.5413, 4.8431, 4.8425, 4.842, 4.8414, 4.8404, 4.8402, 4.8401, 4.8393, 4.8388, 4.8388, 4.8386, 4.8381, 4.8378, 4.8375, 4.8369, 4.8365, 4.8357, 4.8351, 4.8344, 4.8344, 4.8337, 4.8333, 4.8311, 4.8294, 4.8286, 4.8262, 4.8254, 4.8252, 4.8244, 4.8236, 4.694, 3.3316, 5.1181, 5.1175, 5.1172, 5.1171, 5.1168, 5.1158, 5.1156, 5.113, 5.1127, 5.1122, 5.1103, 5.11, 5.1085, 5.1078, 5.1077, 5.1074, 5.1062, 5.1031, 5.0997, 5.0985, 5.0974, 5.0948, 5.0939, 5.0916, 5.0893, 5.0828, 5.0777, 5.0722, 5.065, 5.0586, 4.914, 4.8612, 4.2627, 3.2758, 5.8667, 5.8606, 5.8588, 5.8581, 5.8562, 5.8495, 5.8493, 5.8325, 5.8322, 5.83, 5.8294, 5.8258, 5.8198, 5.8173, 5.813, 5.8021, 2.3994, 2.3994, 2.3994, 2.3994, 2.3994, 2.3994, 2.3994, 2.3994, 2.3994, 2.3994, 2.3994, 2.3994, 2.3994, 2.3994, 2.3994, 2.3994, 2.3994, 2.3994, 2.3994, 2.3994, 2.3994, 2.3993, 5.8859, 5.8854, 5.8813, 5.8738, 5.8717, 5.8693, 5.8678, 5.8598, 5.8571, 5.8558, 5.8545, 5.8497, 5.8406, 5.8337, 5.8316, 5.8112, 5.809, 5.6959, 4.8973, 4.2452, 3.7127, 2.2805, 2.2804, 2.2804, 2.2804, 2.2804, 2.2804, 2.2804, 2.2804, 2.2804, 2.2804, 2.2803, 5.9355, 5.9342, 5.9313, 5.9289, 5.9264, 5.9215, 5.9211, 5.9132, 5.9042, 5.9016, 5.9, 5.8913, 5.8908, 5.8733, 5.8596, 5.8566, 5.8286, 5.7003, 5.5601, 5.2477, 2.3459, 2.3457, 2.3457, 2.3456, 2.3456, 2.3456, 2.3456, 2.3456, 2.3456, 2.3456, 6.2971, 6.296, 6.2957, 6.2887, 6.2879, 6.274, 6.2735, 6.2682, 6.2606, 6.2587, 6.2524, 6.2224, 6.1792, 5.8747, 5.6132, 4.9072, 2.5081, 2.5081, 2.508, 2.508, 2.508, 2.508, 2.508, 2.508, 2.508, 2.508, 2.508, 2.508, 2.508, 2.508, 2.2606, 2.508, 2.508, 2.508, 2.508]}, \"token.table\": {\"Topic\": [6, 8, 10, 11, 5, 2, 18, 10, 18, 12, 4, 6, 6, 1, 5, 3, 14, 1, 2, 5, 9, 11, 1, 2, 3, 11, 18, 5, 11, 19, 2, 9, 2, 20, 6, 12, 6, 16, 4, 18, 13, 1, 5, 13, 11, 13, 16, 1, 4, 1, 2, 14, 15, 12, 19, 1, 1, 6, 11, 13, 20, 5, 10, 1, 6, 2, 9, 10, 16, 7, 1, 3, 14, 14, 2, 5, 12, 7, 16, 4, 1, 1, 1, 5, 14, 1, 2, 3, 4, 1, 2, 8, 11, 17, 1, 6, 8, 20, 8, 6, 1, 10, 4, 6, 7, 14, 11, 14, 14, 2, 8, 2, 3, 8, 14, 8, 1, 2, 3, 14, 10, 7, 13, 3, 8, 1, 2, 6, 10, 11, 1, 1, 2, 9, 2, 2, 5, 8, 11, 1, 5, 5, 1, 4, 11, 11, 13, 1, 5, 15, 11, 9, 13, 7, 9, 10, 8, 1, 8, 1, 3, 5, 13, 16, 2, 5, 15, 19, 19, 18, 4, 8, 9, 10, 4, 10, 5, 1, 6, 14, 10, 1, 3, 5, 6, 16, 19, 11, 16, 10, 6, 8, 10, 4, 6, 8, 9, 14, 13, 9, 10, 12, 20, 20, 1, 3, 3, 6, 9, 10, 18, 18, 18, 5, 11, 5, 11, 15, 11, 19, 2, 7, 14, 1, 3, 4, 6, 2, 8, 9, 12, 1, 3, 5, 5, 4, 5, 19, 7, 18, 2, 8, 1, 9, 2, 11, 16, 14, 5, 11, 8, 9, 9, 2, 4, 13, 3, 4, 1, 3, 9, 6, 4, 15, 1, 20, 8, 8, 6, 14, 12, 4, 5, 12, 3, 15, 1, 6, 4, 10, 19, 6, 1, 2, 3, 12, 15, 10, 4, 12, 10, 15, 7, 2, 11, 1, 3, 5, 15, 1, 1, 2, 5, 11, 16, 12, 1, 5, 6, 3, 16, 5, 1, 3, 8, 5, 10, 5, 9, 6, 12, 16, 9, 15, 1, 2, 4, 3, 3, 1, 2, 3, 6, 13, 17, 12, 1, 2, 5, 9, 3, 5, 6, 13, 13, 14, 7, 3, 12, 2, 3, 11, 8, 4, 13, 15, 1, 2, 3, 4, 7, 1, 2, 3, 1, 3, 2, 18, 1, 2, 3, 4, 11, 13, 6, 9, 4, 6, 1, 10, 11, 11, 3, 11, 2, 8, 9, 6, 6, 1, 3, 4, 1, 2, 4, 6, 2, 3, 6, 8, 12, 4, 3, 8, 3, 11, 5, 4, 4, 7, 7, 5, 1, 4, 8, 7, 14, 17, 10, 16, 15, 5, 17, 7, 4, 17, 2, 6, 9, 10, 12, 2, 4, 10, 2, 10, 13, 19, 7, 7, 8, 19, 16, 1, 2, 10, 9, 14, 8, 12, 13, 10, 20, 20, 13, 16, 16, 18, 1, 6, 10, 5, 13, 3, 10, 6, 20, 11, 4, 12, 6, 3, 5, 13, 1, 2, 3, 7, 16, 1, 2, 4, 14, 4, 3, 5, 13, 18, 2, 3, 12, 18, 3, 12, 5, 11, 7, 1, 14, 1, 3, 13, 16, 17, 1, 13, 1, 3, 5, 3, 1, 4, 1, 2, 4, 9, 20, 10, 11, 1, 3, 5, 8, 15, 1, 2, 3, 4, 3, 1, 12, 1, 3, 4, 7, 8, 9, 10, 10, 1, 2, 3, 1, 3, 5, 8, 9, 14, 1, 2, 6, 12, 13, 11, 4, 7, 9, 18, 1, 5, 6, 5, 10, 8, 19, 2, 10, 14, 7, 13, 6, 13, 11, 1, 17, 3, 12, 17, 8, 2, 10, 3, 8, 3, 10, 10, 12, 5, 13, 6, 8, 5, 15, 14, 13, 3, 9, 15, 7, 1, 2, 3, 4, 5, 13, 16, 15, 16, 5, 6, 5, 13, 1, 2, 4, 1, 2, 4, 10, 9, 10, 1, 3, 2, 3, 6, 3, 4, 5, 2, 3, 1, 2, 3, 4, 4, 1, 2, 16, 20, 12, 2, 3, 13, 2, 5, 7, 1, 13, 13, 7, 2, 14, 6, 15, 2, 3, 8, 1, 12, 2, 12, 1, 2, 6, 1, 4, 18, 2, 3, 5, 9, 10, 3, 2, 11, 10, 13, 3, 10, 16, 9, 18, 1, 3, 10, 1, 18, 1, 5, 13, 3, 8, 1, 9, 1, 5, 2, 3, 8, 19, 7, 12, 12, 3, 3, 7, 1, 2, 3, 3, 6, 9, 8, 14, 2, 2, 1, 4, 10, 7, 19, 3, 4, 5, 8, 12, 14, 10, 6, 11, 14, 16, 16, 14, 2, 6, 11, 12, 1, 2, 8, 9, 19, 6, 9, 15, 9, 12, 2, 12, 6, 4, 6, 11, 1, 3, 11, 6, 1, 5, 2, 5, 6, 16, 17, 6, 11, 10, 6, 9, 14, 14, 4, 2, 6, 3, 8, 1, 2, 4, 12, 19, 8, 1, 6, 20, 5, 1, 1, 5, 15, 2, 5, 6, 10, 4, 8, 4, 18, 13, 9, 5, 2, 4, 1, 5, 13, 10, 4, 7, 3, 5, 9, 12, 13, 10, 2, 5, 6, 8, 4, 5, 6, 12, 12, 6, 6, 20, 2, 13, 20, 10, 4, 4, 11, 1, 3, 5, 11, 6, 3, 12, 16, 3, 15, 2, 3, 8, 9, 1, 3, 4, 3, 6, 14, 12, 15, 1, 3, 10, 12, 19, 4, 5, 12, 1, 12, 7, 9, 4, 8, 3, 11, 1, 8, 11, 11, 1, 2, 3, 1, 2, 3, 4, 8, 2, 3, 14, 10, 1, 5, 13, 6, 15, 2, 6, 10, 6, 2, 9, 13, 15, 1, 3, 12, 4, 17, 16, 17, 8, 9, 11, 12, 13, 8, 5, 16, 9, 12, 13, 12, 2, 14, 5, 4, 6, 1, 1, 9, 2, 2, 13, 13, 12, 18, 12, 3, 17, 8, 8, 3, 15, 1, 2, 3, 7, 1, 2, 3, 5, 11, 19, 2, 1, 2, 3, 3, 6, 15, 5, 6, 12, 16, 11, 18, 18, 9, 16, 14, 1, 2, 5, 9, 1, 8, 16, 2, 9, 1, 3, 1, 9, 13, 16, 3, 2, 10, 12, 2, 11, 12, 1, 3, 15, 15, 1, 15, 1, 5, 9, 19, 4, 9, 19, 1, 3, 1, 3, 3, 7, 17, 1, 2, 3, 13, 10, 3, 10, 3, 5, 17, 6, 1, 11, 10, 13, 1, 5, 11, 5, 1, 2, 4, 13, 13, 2, 9, 1, 8, 15, 14, 1, 2, 3, 14, 9, 17, 4, 2, 10, 9, 2, 8, 9, 9, 16, 2, 1, 2, 3, 4, 9, 4, 9, 13, 15, 16, 19, 13, 20, 1, 2, 3, 4, 1, 6, 13, 8, 2, 1, 2, 3, 11, 2, 3, 16, 15, 1, 2, 3, 7, 1, 1, 20, 2, 9, 14, 8, 5, 3, 5, 13, 1, 4, 2, 3, 9, 17, 15, 1, 4, 15, 1, 3, 12, 1, 3, 11], \"Freq\": [0.9987081176059844, 0.25101361704269803, 0.6372884577767981, 0.11055003859393436, 0.9982156614831025, 0.9984753709611358, 0.9201229158870984, 0.9993541401105813, 0.8961479419817324, 0.9908190671006267, 0.9889442676578964, 0.009545794089361934, 0.9974942818800783, 0.9903929592280744, 0.00917684138985386, 0.9969279929343718, 0.9620850098732455, 0.027491977469663035, 0.8041403409876439, 0.11621608657630284, 0.008122629706945897, 0.04373723688355483, 0.27800620591452446, 0.7189648270536858, 0.0029127541946806987, 0.9942468015144282, 0.9736687166313306, 0.9963232750497717, 0.9963818446821741, 0.976878918080463, 0.998381613726332, 0.9984538229387442, 0.9982425471621369, 0.9576571601789557, 0.9845898299693792, 0.012955129341702358, 0.9972100322674688, 0.9863162931107301, 0.996396097111296, 0.9941977166916173, 0.9765964364955129, 0.304490492296755, 0.694044995139905, 0.9967434925608532, 0.024134496125911557, 0.9714134690679401, 0.9362602344516165, 0.06991722708692251, 0.9300492492712866, 0.9080714422226701, 0.07259862437821693, 0.019228824835311513, 0.9909558532962047, 0.9944299371074234, 0.3987333196876438, 0.9991018235740157, 0.009347391033988661, 0.35208506228023956, 0.11528448941919349, 0.5213766998958119, 0.9738352079023994, 0.2014779377251731, 0.7965840685986011, 0.18639003663223333, 0.8106208196930147, 0.4347930020831109, 0.36717257879402243, 0.19780553728490366, 0.9969077623453616, 0.9999627838526166, 0.008055012878587342, 0.9914670199687289, 0.9888374348069271, 0.9943361948117018, 0.8739937415516816, 0.11103784273806563, 0.01430900035284351, 0.9989610254357637, 0.9745566733083727, 0.9972275083222134, 0.9965168628545179, 0.9988807955967488, 0.851377233343048, 0.1483377852212152, 0.9963622477509609, 0.9982749522521892, 0.017511886547656015, 0.9819628234500446, 0.998771843713607, 0.10901359246726461, 0.0022998648199844852, 0.8247315244464365, 0.0630162960675749, 0.9630101020699593, 0.9983930925564931, 0.7302563106064164, 0.2691213732669609, 0.8432583525395793, 0.9977895682434365, 0.9990299714130008, 0.37598522164805653, 0.6235852456601914, 0.9928539122052749, 0.998216413236476, 0.9956608247696563, 0.9864370867309146, 0.988820588167709, 0.9923597915922524, 0.9831004063482476, 0.9993905997860695, 0.9974031422934452, 0.06830596935332169, 0.6187382390588388, 0.26923936253434294, 0.04326044725710373, 0.9953048305373493, 0.37028197733227664, 0.6177568667051048, 0.011784518541563243, 0.9888523071027561, 0.9889299496748745, 0.9968372121928272, 0.9932001744380459, 0.9994290583454266, 0.9990724422101066, 0.564011628446624, 0.24218935737264602, 0.1938172982234898, 0.9924593948997729, 0.9967973510656082, 0.9983592622880736, 0.1486496336947271, 0.8509803071792218, 0.9979255593167461, 0.9985356191255588, 0.998829088952377, 0.9988659719911991, 0.7307249364159447, 0.2681677115205135, 0.9975937523506174, 0.998501807475364, 0.9980800608270003, 0.9981538398863322, 0.9953248301263217, 0.9975462890554764, 0.15511776176284361, 0.8434528295854622, 0.3465530576902231, 0.6526431896885933, 0.9957879954642005, 0.9976376399842266, 0.9974023246100533, 0.9786062966570434, 0.9976375509795417, 0.9991806485081972, 0.996327985694311, 0.9982430259536019, 0.31807792087451214, 0.6807598720325766, 0.6903400256959779, 0.30958335478916765, 0.9962005302385439, 0.2258509150253335, 0.7703129423185482, 0.9991830105171825, 0.7775187937091074, 0.22029699155091376, 0.9897869281984696, 0.9673858640326988, 0.8411837633599695, 0.3658085275133167, 0.3375932554317754, 0.05395552029628081, 0.24255233894658348, 0.9955261825015087, 0.9921142333024844, 0.9985548894399427, 0.06115493599323733, 0.777311423282464, 0.159324701666592, 0.9942219400880401, 0.9490559911618964, 0.03665635693081555, 0.007445822501571909, 0.006300311347483923, 0.9930185739769154, 0.914878517456349, 0.991988023109457, 0.9863163855660082, 0.9988016953084636, 0.19526922497532775, 0.011692767962594476, 0.791600391067646, 0.0028448599647301702, 0.7889744968851672, 0.08819065890663527, 0.11948411851866715, 0.9972242015765072, 0.997030969836077, 0.32192828817969765, 0.6774074153260139, 0.9710079140860309, 0.022847245037318376, 0.3968884976642903, 0.9678175413626056, 0.031465989029523134, 0.0325283323384331, 0.9668766370941149, 0.9989011003922844, 0.8804157195313139, 0.11483683298234529, 0.9776698471259504, 0.9732221182752174, 0.3480266889299756, 0.6492755970897932, 0.07441266698578117, 0.9205122508611447, 0.9772146650814327, 0.9908384037926041, 0.9883171076100233, 0.9988400909508114, 0.9936650933121793, 0.9941066354570925, 0.1552832811940608, 0.2061958324052283, 0.6374251411638168, 0.9972304914872291, 0.9975590007585853, 0.335710982789491, 0.47292065832793445, 0.1901433574720561, 0.39837051407117846, 0.6009806759788728, 0.9993803526939393, 0.9939110934735845, 0.993339324808471, 0.9959404536237729, 0.9969296012881804, 0.9860222344234015, 0.951081823764577, 0.9979862026528766, 0.9981123994085918, 0.9990822700021516, 0.9978919790888575, 0.9982425908189059, 0.9871474963053137, 0.9714609137970035, 0.9816119001878547, 0.9687460996956265, 0.030064534128484963, 0.7245873599213706, 0.2744475103347188, 0.9982515210676812, 0.9983876076822614, 0.9462207475221199, 0.052610801988147306, 0.9917834541377799, 0.005834020318457529, 0.39796684009473005, 0.025561111270906572, 0.5761081232596635, 0.9969170396052438, 0.9971748143966899, 0.9965731985818272, 0.9975880976006041, 0.9804882145516988, 0.9996343647400769, 0.9991540768589678, 0.998365271479413, 0.9883779357277708, 0.9945514948599223, 0.9937656013513483, 0.315188231908002, 0.684318073974756, 0.9980417079207146, 0.9860069815227217, 0.9979773323145708, 0.9974206366909781, 0.35373232366507923, 0.6447987811330814, 0.9799421355107355, 0.9980720128949016, 0.21646104524178292, 0.2588874101091724, 0.5242686515755982, 0.9960814373095964, 0.9980429209728932, 0.9969317768827688, 0.9551271332897671, 0.04320445837175037, 0.9936900580606964, 0.9986237621020485, 0.9963887591958046, 0.9982194669644218, 0.9928031385851069, 0.9027060665261258, 0.09703432962923142, 0.9995647147126792, 0.9939585309837947, 0.9987010274345024, 0.06299191994334065, 0.2370786805140275, 0.6992103113710811, 0.9922563467293019, 0.9952011948241304, 0.9947010046602334, 0.8116888012398433, 0.18540681038846948, 0.002563227793388979, 0.8378270614890808, 0.1586582807471017, 0.9991481807742756, 0.9975079734800271, 0.9988143663075971, 0.9986778920391995, 0.9974103386823434, 0.998231273487415, 0.9956033494313535, 0.9974740254639549, 0.9963708477780843, 0.18539570004502476, 0.8131712388113461, 0.9997377935006828, 0.9937309505100761, 0.5122226928434657, 0.47313645815639954, 0.014476383217431908, 0.9983962573074844, 0.9967910075141475, 0.2783126565612447, 0.22598684374727773, 0.482813055433222, 0.0012639085220764975, 0.011627958403103777, 0.9543335708268325, 0.9959515758978486, 0.1966183463475488, 0.6745331083729983, 0.1280497633776053, 0.9969760345178716, 0.13601783341595866, 0.33142373494311056, 0.3486654321366828, 0.1829535646651275, 0.9987108753787067, 0.9879973157300446, 0.9948655948864665, 0.9968111627800444, 0.9924396360509118, 0.998899210424674, 0.9994517652085257, 0.9855849436730022, 0.99597071014188, 0.9902317727192572, 0.9863807604822298, 0.9945434598417212, 0.02854103360365126, 0.20964858902881375, 0.4669919950099085, 0.29460794487224073, 0.9958004195073887, 0.7481182246938478, 0.1311255730292816, 0.1205886966251429, 0.25225922150586017, 0.7475345785387398, 0.9981656764655973, 0.9981288400336352, 0.40254202419849705, 0.022926818464755583, 0.35125061622285797, 0.22294861289124498, 0.8908652063030176, 0.10851899113606163, 0.9984228740481543, 0.999056761994682, 0.9954165347062266, 0.9980009396985243, 0.7191036410974471, 0.28037929577406967, 0.9907650482479464, 0.9993411591628618, 0.9990549009212673, 0.99101242111997, 0.03931249414119149, 0.27737148644062887, 0.68250857884013, 0.9985775347577197, 0.9984165923396704, 0.4339243470880378, 0.20838174860160008, 0.3574359876013328, 0.012579318860767656, 0.5835406249300552, 0.4032370545923854, 0.996465792220101, 0.051921187029378514, 0.4350803172369218, 0.16441709225969864, 0.3225844120066017, 0.025479841782935754, 0.9933337063926428, 0.9983802315956475, 0.9952344035386779, 0.9827245013975927, 0.016784363815501156, 0.9923811517543273, 0.9900378717265123, 0.9997738392263815, 0.985354427945632, 0.9952806041190398, 0.9980827893363635, 0.10973381576638382, 0.8725948619115328, 0.01582699265861305, 0.9976847031062207, 0.9961487787448561, 0.9981828248681145, 0.994381854952547, 0.9927604724782134, 0.9951428680884505, 0.9941370753132431, 0.9871709742233709, 0.9933496152282364, 0.9890089898169013, 0.929539473152499, 0.6831317439412583, 0.015315047946765675, 0.13380515574542642, 0.16765947225932948, 0.995587587155796, 0.16749476980424355, 0.21822635873533655, 0.6136106470713153, 0.00265437112529495, 0.9967163575482538, 0.9925823123206046, 0.7553873743686774, 0.9851647721261189, 0.9970203338597768, 0.9985010800869794, 0.9558727501470723, 0.968474952839329, 0.04017312609123248, 0.22382170250829525, 0.7355508086704232, 0.9123502591472766, 0.08508966147487554, 0.9970218249081906, 0.6637330672654637, 0.333315732469556, 0.9992483562007586, 0.9859658667430078, 0.9946980602803055, 0.9901792503740092, 0.9857280234026247, 0.9849456058230244, 0.9957990106574144, 0.04569625070716526, 0.9437478303942972, 0.010101276472110215, 0.9351365552756802, 0.06358928575874626, 0.9979069523370796, 0.990187004005224, 0.9971251210073722, 0.964742338664491, 0.9996406516845593, 0.9750677130497739, 0.023326978781095072, 0.9982421226489956, 0.2653360910146552, 0.414241121196014, 0.3191953572504658, 0.9793271412702577, 0.0008208945023220936, 0.018880573553408154, 0.990386989195052, 0.9881628597147879, 0.7452485929252027, 0.00481175109959393, 0.2498673606717705, 0.9668262807996378, 0.9967527107703823, 0.1624989760600102, 0.35999773157909953, 0.279998235672633, 0.19249878702493517, 0.8287579247635918, 0.16048759193717888, 0.010271205883979449, 0.9631214425205668, 0.9994927111217841, 0.998272170608568, 0.917021790425478, 0.08221574672780148, 0.9955090220805074, 0.9974076942149371, 0.9803900837374355, 0.21954166464220828, 0.7623135373856098, 0.017957233783399622, 0.9872946688671228, 0.9900989989701986, 0.8047634546742268, 0.19380017888073217, 0.16898599328735528, 0.0586936083555318, 0.7720466945227644, 0.9989801751667823, 0.32832331586740154, 0.6709581608879975, 5.79251922360401e-05, 0.025718785352801803, 0.9741279578334863, 0.9974016674282674, 0.9407957864081944, 0.9994957560834915, 0.996713786108557, 0.35116442905472606, 0.2839075129815328, 0.3642586959008345, 0.9965628307569101, 0.9823272746759648, 0.0857795368998853, 0.2146925341159061, 0.3016905303467557, 0.39770512562674093, 0.9994256740380242, 0.9983814025282508, 0.991378797378743, 0.3226165958051916, 0.03381533723737135, 0.6417602650833018, 0.0016450704601964443, 0.341533535262853, 0.6577429406565165, 0.9996527538006887, 0.9833496145729221, 0.7443559152509941, 0.12605358806733372, 0.1294892591706727, 0.010668696761223298, 0.18573231179766014, 0.8030619016629901, 0.5785792794276283, 0.19204942468396066, 0.22608349994440938, 0.850379836417991, 0.14375700323885374, 0.005837847847263097, 0.9939580948480935, 0.9874432772129864, 0.9978910093484826, 0.996588079545765, 0.9969402494929828, 0.9937412378671433, 0.94152155071616, 0.9921919987643064, 0.007244576498913984, 0.9973706866246277, 0.8548621861685407, 0.14462925204059904, 0.9983973328591058, 0.979517078453016, 0.3843839398801916, 0.6144582330092032, 0.9671938467483152, 0.9925677774423873, 0.9786062966570434, 0.6317671880262328, 0.3661184512820487, 0.9962397166382466, 0.9985446941472244, 0.9881390667374559, 0.9971741667850152, 0.9973921735462619, 0.9553386299671071, 0.997807554599155, 0.9988398941763316, 0.9962314484934969, 0.9990565296203803, 0.9987109416914288, 0.9464701486876269, 0.052786272884005135, 0.9897995728463879, 0.9972262296696561, 0.9974857997733687, 0.9870295305708524, 0.9965870965083368, 0.996339700756003, 0.9979497292944081, 0.9920200478788946, 0.9971416679157608, 0.9779489542255545, 0.8294647621931183, 0.16931528261922502, 0.9857626701942157, 0.9881141638756106, 0.538614253300648, 0.10342859992890421, 0.35453752988287673, 0.003142134681384432, 0.6223185805831739, 0.37624418482249194, 0.931257544546386, 0.9909606862358116, 0.9641319817151247, 0.9966888016444057, 0.998533099816097, 0.9967324006804933, 0.9802611622026023, 0.006491697355013767, 0.7572970695708248, 0.2359326257462816, 0.02476810731935903, 0.09288040244759635, 0.7103139349087607, 0.17072302545129617, 0.012002707362099588, 0.986622545164586, 0.8791144890096466, 0.12027101075131975, 0.9962388830624099, 0.002604236623974931, 0.000946995135990884, 0.23529180034206848, 0.7283734217760446, 0.03468444865600213, 0.15132210434798826, 0.8479642365870601, 0.03506967413295238, 0.03366688716763429, 0.17675115763007998, 0.751893813410499, 0.9997796117072671, 0.09692689975242705, 0.9021070512391242, 0.9973971343687985, 0.5556392613539144, 0.9922437799441038, 0.9778824961421114, 0.014778288526906507, 0.006917496757275386, 0.9976665229649206, 0.9974166546744653, 0.9891108130594661, 0.9977441095791202, 0.9880192189088582, 0.9945666027272154, 0.9964714450262874, 0.6385258319508048, 0.35962949155849927, 0.9972779795100419, 0.9821362312377029, 0.19378842674892666, 0.7226789311064485, 0.0828549092988285, 0.9988684206287533, 0.9938126762795687, 0.9981751856110981, 0.997000562591793, 0.20904396368078365, 0.6111958041249818, 0.17904662360102994, 0.0008132619835531063, 0.9990471655736826, 0.9339703797057588, 0.997855578207223, 0.3509105506910717, 0.5185678137990282, 0.0397698624116548, 0.08967714073216276, 0.9965561266740837, 0.9976564510065657, 0.9938208467990137, 0.9712417008588231, 0.027177602822264564, 0.2750253037397438, 0.7226526946540855, 0.978182950995343, 0.9957471507205256, 0.9825286360781537, 0.9986243944180775, 0.9989046137211922, 0.9860254771130879, 0.6236559313492307, 0.37008154167976326, 0.97190783900597, 0.013069515995178936, 0.014901691134690002, 0.03746074219155349, 0.9614923829165394, 0.998664640080463, 0.998044526785318, 0.5755120436951952, 0.4239343700671847, 0.9990435296366081, 0.9981406622121521, 0.9986704609940903, 0.9977622915147861, 0.9969515563907566, 0.9950293618349657, 0.9953907575821689, 0.9992943632407733, 0.9990204901643398, 0.9926104152296938, 0.8766833198890301, 0.0033063194541796902, 0.11979049714758723, 0.0034953716834979615, 0.9944332439551701, 0.9968578454712508, 0.9971407935077833, 0.9845206684762828, 0.9971170138616727, 0.9976674955461785, 0.3632504648592825, 0.35413544390091756, 0.2822280563404834, 0.993071342156823, 0.9587465832884935, 0.38985623950562326, 0.08161064136751378, 0.1770068640471076, 0.29390859357354626, 0.05734801825825293, 0.9901579301217158, 0.9850279393380039, 0.9744477792606633, 0.02229857618445454, 0.9986733402531668, 0.9963638760167619, 0.9873662974902027, 0.9954812918455325, 0.0030321175732767216, 0.63826074917475, 0.35778987364665316, 0.9913700485853926, 0.09163690838699275, 0.8037123691776709, 0.10439049872951235, 0.9972855717362976, 0.9946802336494934, 0.21615784463857235, 0.7832386098940862, 0.9933547979625903, 0.9479755118675518, 0.05158102049867561, 0.550491057891542, 0.44727398453687783, 0.9979019137575327, 0.034971435017123804, 0.9628801774714754, 0.9937865241370372, 0.08339134330313396, 0.37062819245837314, 0.5451322997408572, 0.9957436437675354, 0.3854332400133341, 0.6134216021432374, 0.6680418373053169, 0.02748739374658174, 0.30383387016310887, 0.9722605053835824, 0.9748398400970499, 0.6474230961192204, 0.35159241575286765, 0.991472056990586, 0.9611176801007482, 0.03820022575917123, 0.9966217048990375, 0.9966048666998649, 0.9890254689334385, 0.4046317127183065, 0.595109939184105, 0.1282966890300038, 0.8695664478700258, 0.7589135879510004, 0.23749073071093968, 0.003337106286336389, 0.9895198986363727, 0.9577560660791956, 0.9943475642601852, 0.9786788998864074, 0.020663086178023957, 0.9908951776837587, 0.9970609717736203, 0.9981219375780751, 0.632778149344992, 0.3670452860914376, 0.9882167182093854, 0.00810049759936044, 0.17254059886637738, 0.00810049759936044, 0.81085980969598, 0.9924591297062165, 0.997859211856587, 0.991055489606652, 0.9910092406295058, 0.9877685047518738, 0.9938701934022215, 0.9976315928314495, 0.9986197349374254, 0.993297377253538, 0.9989020381535336, 0.9980232343512322, 0.9797086497380527, 0.9947814659092269, 0.9979926316897035, 0.001530194160824446, 0.7147968768317408, 0.06286932377487585, 0.10660450553131123, 0.0990875211669239, 0.015717330943718962, 0.998106100174323, 0.8579020784924865, 0.005494969277774132, 0.13531361846518802, 0.0006868711597217666, 0.48484003526552405, 0.002241171195372222, 0.30330516844037403, 0.2091759782347407, 0.9950572801162756, 0.9966945895113718, 0.997788657745761, 0.9628573387817678, 0.9533218418630611, 0.04560113503496592, 0.992313831615702, 0.9980535386436136, 0.9981070975173741, 0.9948072818670748, 0.9817626733213111, 0.6092099519541154, 0.20617862668533984, 0.03528729552071831, 0.14896279751960373, 0.9984072843654866, 0.9968519865905431, 0.9934679011694363, 0.9887979107230518, 0.9977876002712316, 0.9771436366508867, 0.013722981670799798, 0.4400303905310805, 0.04892541291328624, 0.49730892272224486, 0.6251737555100151, 0.3741019707320451, 0.000250570643490988, 0.20600512871394527, 0.7918322134942272, 0.9985732389115245, 0.9963242635114371, 0.9938796856329825, 0.9969325439091121, 0.002971975122617426, 0.9967935271034192, 0.9949249865470137, 0.9090540181548007, 0.2563230150841974, 0.4275037699131545, 0.3154744801036276, 0.24117656637443433, 0.7556865746398943, 0.9993052762549263, 0.9988973173313895, 0.9972217188440071, 0.9977446287158402, 0.9984549283985147, 0.99630406302101, 0.19630576229880142, 0.8018335367743351, 0.99648743843756, 0.9989057241605878, 0.8727683405494545, 0.008027670534855173, 0.11913063073725078, 0.9485920206224454, 0.027776272990647024, 0.0009689397554876868, 0.02260859429471269, 0.9986512873228774, 0.34589484516081903, 0.22769962168878036, 0.42585043750955104, 0.999584655234588, 0.2844525695197644, 0.7149124906744181, 0.9783730154125896, 0.9974647895402117, 0.9972249453637072, 0.021531853557448695, 0.2942686652851321, 0.6836363504489961, 0.995009717483632, 0.9631584495863761, 0.03625060552546737, 0.9808920326044097, 0.9865731736353375, 0.8813785341092563, 0.1179918176072403, 0.9953206360767534, 0.9966183241601807, 0.9802726271120792, 0.9942281474004854, 0.9739226370812829, 0.7326042524406666, 0.2657486013755359, 0.9892145623638886, 0.992233859808843, 0.9936628962368494, 0.9988428664975058, 0.9982732222680559, 0.9817197383504107, 0.9992093574597183, 0.989739876286311, 0.9981462897596968, 0.9929528077280595, 0.9984674686719192, 0.9943560276289076, 0.9942059009426154, 0.7811857601924735, 0.2173016727295965, 0.9975844976979766, 0.9986809475574353, 0.9939536881459722, 0.9990241881264043, 0.9674913395141774, 0.03165945037789045, 0.9842416501543141, 0.9992105094553219, 0.9443082265725301, 0.9908921422366738, 0.9988396091654301, 0.9837429588403911, 0.9931374414861461, 0.9982381002991372, 0.9976236052054448, 0.9921789138594267, 0.16047061158325002, 0.1500445548984626, 0.6885730480083525, 0.9978743235659356, 0.1680155073479487, 0.10271536268540563, 0.09283209754729099, 0.48498593927748224, 0.1507197933562481, 0.969564249476284, 0.9971574253615696, 0.5107414409063811, 0.005082004387128169, 0.483879417717275, 0.10320015957516034, 0.8950629224691791, 0.9972159620869657, 0.07462525648550104, 0.8837762518068624, 0.041576928613350585, 0.970544365184651, 0.9912855725529485, 0.9819313906330245, 0.9627080669712383, 0.5752231382960171, 0.4241159562712356, 0.994099911299108, 0.013925629819813948, 0.9205835998741292, 0.017904381196903647, 0.04724767260294018, 0.997400037408219, 0.9963847508996243, 0.9855692859319678, 0.9437494888658056, 0.05597861827557061, 0.6140203220716001, 0.38581153707168303, 0.9992303465946245, 0.9982909676456054, 0.9855857170800164, 0.9480843782969609, 0.9993850902913883, 0.03608496245452864, 0.8681617437589538, 0.09339637341172119, 0.725192714495211, 0.12410514495485055, 0.14952427102994043, 0.9770220242990663, 0.022824847048248817, 0.9963967403398496, 0.9942818916948317, 0.9768311375155068, 0.02271700319803504, 0.0034987644156962237, 0.2046777183182291, 0.7907207579473466, 0.8469472890946291, 0.9701283282228146, 0.029248030277630503, 0.9664904703313063, 0.9890116802938335, 0.010590378569579947, 0.9487294126817193, 0.051040835831043616, 0.9980586919387915, 0.996234155953637, 0.9716094929173104, 0.4537409894116472, 0.19055921182301322, 0.3556104976539695, 0.9782278987302931, 0.9906680196436171, 0.9973998751504861, 0.9918596502543584, 0.9976430277442409, 0.9941665608913453, 0.9923536365352179, 0.9978863921137737, 0.2896025753125878, 0.706736559937141, 0.9959379846350013, 0.992541656975049, 0.9282033699915578, 0.07113967434241866, 0.9969633443999109, 0.9990163862523208, 0.566416362851513, 0.15865282484504523, 0.2746545210020576, 0.9966638171754949, 0.996670113096947, 0.90845760364795, 0.09110058718208755, 0.9986675384946312, 0.12352412980863972, 0.8646689086604781, 0.9964980605378965, 0.001790486189185852, 0.8804715835321427, 0.11727684539167331, 0.9854276928503671, 0.9973535391954172, 0.9668567446351535, 0.9903662313522282, 0.11650915874425966, 0.8824489986370777, 0.9971800605464631, 0.9120173428533338, 0.08783092578233563, 0.9952351961976594, 0.9986416284451489, 0.9811349450157386, 0.998449811628789, 0.4687151562407679, 0.01006124317615268, 0.10824509899860814, 0.41251097022225985, 0.9993584654666848, 0.9974051786498119, 0.9987041835175055, 0.9965811142767466, 0.9938012704372016, 0.9875356384703665, 0.9427594974078467, 0.9885573084085221, 0.930441606787608, 0.5814098574262364, 0.05165241758338811, 0.010245107619845576, 0.35623092953171387, 0.037286065682088525, 0.20576384394930336, 0.7553880714112009, 0.9974214046534565, 0.9974782490076247, 0.8774074761243545, 0.07431780811582361, 0.048249407730580875, 0.9969589633686522, 0.08640034137733578, 0.9127017880042199, 0.9945075214420871, 0.9921032283034429, 0.5695978197632696, 0.04755357944812618, 0.3828672806849133, 0.9802309289145841, 0.9977858999087204, 0.9986031988403545, 0.9781291760520624, 0.9994600335641265, 0.9996014349147259, 0.9968970366231704, 0.9976528072642528, 0.995765796354695, 0.09720143218693719, 0.8630816823495285, 0.036869508760562386, 0.07376369220961833, 0.9245897282136641, 0.9679000350470338, 0.03179456842858228, 0.9954171839670737, 0.9559174403802524, 0.9853278643512204, 0.16433998410817577, 0.8355608074912318, 0.9872209658085925, 0.9992953081940907, 0.9883961017500642, 0.011398307598435667, 0.04796557557053254, 0.9504757474897633, 0.9941191066360668], \"Term\": [\"accept\", \"access\", \"access\", \"access\", \"act\", \"add\", \"added_forwarde\", \"address\", \"administrative\", \"advanced\", \"advice\", \"advice\", \"agency\", \"agree\", \"agree\", \"air\", \"alarm\", \"allow\", \"allow\", \"allow\", \"allow\", \"allow\", \"also\", \"also\", \"also\", \"amendment\", \"angel\", \"animal\", \"announcement\", \"app\", \"apple\", \"application\", \"appreciate\", \"appreciated\", \"approach\", \"approach\", \"appropriate\", \"approximately\", \"apr\", \"arab\", \"argic\", \"argument\", \"argument\", \"armenian\", \"army\", \"army\", \"arrival\", \"article\", \"article\", \"ask\", \"ask\", \"ask\", \"ass\", \"astronomy\", \"atari\", \"atheist\", \"attack\", \"attack\", \"attack\", \"attack\", \"au\", \"author\", \"author\", \"authority\", \"authority\", \"available\", \"available\", \"available\", \"average\", \"ax\", \"back\", \"back\", \"bag\", \"band\", \"base\", \"base\", \"base\", \"baseball\", \"batter\", \"battery\", \"bear\", \"belief\", \"believe\", \"believe\", \"benefit\", \"bible\", \"big\", \"big\", \"bike\", \"bit\", \"bit\", \"bit\", \"bit\", \"bizarre\", \"black\", \"block\", \"block\", \"bmp\", \"board\", \"body\", \"book\", \"book\", \"bottom\", \"brain\", \"brand\", \"brand_new\", \"brave\", \"brother\", \"buffer\", \"build\", \"bus\", \"buy\", \"buy\", \"buy\", \"buy\", \"cable\", \"call\", \"call\", \"call\", \"camera\", \"campaign\", \"cap\", \"capture\", \"car\", \"card\", \"case\", \"case\", \"case\", \"catalog\", \"cd\", \"certainly\", \"change\", \"change\", \"character\", \"cheap\", \"check\", \"child\", \"chip\", \"chip\", \"choice\", \"christian\", \"christianity\", \"church\", \"circuit\", \"citizen\", \"civilian\", \"civilian\", \"claim\", \"claim\", \"clearly\", \"clipper\", \"clock\", \"closed_road\", \"club\", \"code\", \"college\", \"color\", \"com\", \"com\", \"come\", \"come\", \"commit\", \"community\", \"community\", \"company\", \"compare\", \"compare\", \"compile\", \"compiler\", \"comprehend\", \"computer\", \"computer\", \"computer\", \"computer\", \"computer_science\", \"computing\", \"conclusion\", \"condition\", \"condition\", \"condition\", \"conference\", \"consider\", \"consider\", \"consider\", \"consider\", \"consideration\", \"console\", \"constitution\", \"construction\", \"contact\", \"contain\", \"contain\", \"contain\", \"control\", \"control\", \"control\", \"control\", \"controller\", \"convert\", \"copy\", \"copy\", \"core\", \"core\", \"corinthian\", \"course\", \"course\", \"cover\", \"cover\", \"cpu\", \"creation\", \"creation\", \"creator\", \"creature\", \"crime\", \"crime\", \"criminal\", \"criminal\", \"criticism\", \"crypto\", \"cub\", \"current\", \"custom\", \"cycle\", \"d\", \"d\", \"d\", \"dangerous\", \"date\", \"datum\", \"datum\", \"datum\", \"day\", \"day\", \"death\", \"debate\", \"deliver\", \"deny\", \"dept\", \"descend\", \"desert\", \"detail\", \"device\", \"die\", \"digital\", \"direct\", \"disarm\", \"discipline\", \"discount\", \"discussion\", \"discussion\", \"disk\", \"disk\", \"display\", \"distribution\", \"distribution_world\", \"distribution_world\", \"division\", \"division\", \"do\", \"do\", \"do\", \"doctor\", \"dog\", \"door\", \"doubt\", \"download\", \"drive\", \"driver\", \"drug\", \"dry\", \"dual\", \"duo\", \"earth\", \"earth\", \"eat\", \"edit\", \"effect\", \"effective\", \"email\", \"email\", \"enable\", \"encryption\", \"end\", \"end\", \"end\", \"energy\", \"engine\", \"engineer\", \"engineering\", \"engineering\", \"ensure\", \"entry\", \"era\", \"error\", \"ethnic\", \"even\", \"even\", \"evidence\", \"exact\", \"exactly\", \"exist\", \"exist\", \"exist\", \"export\", \"external\", \"facility\", \"fact\", \"fact\", \"fact\", \"factor\", \"factor\", \"faith\", \"family\", \"fan\", \"fast\", \"father\", \"fax\", \"fear\", \"feature\", \"federal\", \"field\", \"field\", \"file\", \"film\", \"find\", \"find\", \"find\", \"fire\", \"firearm\", \"first\", \"first\", \"first\", \"first\", \"first\", \"flexible\", \"flight\", \"follow\", \"follow\", \"follow\", \"font\", \"force\", \"force\", \"force\", \"force\", \"format\", \"forsale\", \"forum\", \"front\", \"fuel\", \"function\", \"game\", \"garage\", \"gateway\", \"gear\", \"genocide\", \"german\", \"get\", \"get\", \"get\", \"get\", \"giant\", \"give\", \"give\", \"give\", \"go\", \"go\", \"goal\", \"god\", \"good\", \"good\", \"good\", \"good\", \"government\", \"government\", \"grant\", \"graphic\", \"greatly_appreciate\", \"ground\", \"group\", \"group\", \"guilty\", \"gun\", \"guy\", \"handgun\", \"hardware\", \"hardware\", \"hardware\", \"headache\", \"health\", \"hear\", \"hear\", \"hear\", \"help\", \"help\", \"help\", \"hide\", \"high\", \"high\", \"high\", \"high\", \"high\", \"highway\", \"hit\", \"hole\", \"home\", \"home\", \"honest\", \"horse\", \"host\", \"host_slc\", \"hr\", \"human\", \"i\", \"i\", \"i\", \"ice\", \"ide\", \"image\", \"imaging\", \"impact\", \"implementation\", \"imply\", \"import\", \"impressive\", \"improvement\", \"inability\", \"include\", \"include\", \"include\", \"include\", \"industry\", \"info\", \"info\", \"info\", \"information\", \"information\", \"inhabitant\", \"initialize\", \"innings\", \"ins_cwru\", \"instal\", \"int\", \"intentionally\", \"interested\", \"interested\", \"interested\", \"interface\", \"interface\", \"internal\", \"international\", \"international\", \"internet\", \"interpret\", \"interpretation\", \"invasion\", \"investment\", \"invite\", \"israeli\", \"issue\", \"issue\", \"issue\", \"jewish\", \"jewish\", \"job\", \"junk\", \"justify\", \"ken\", \"key\", \"keyword\", \"keyword\", \"kid\", \"kill\", \"kill\", \"kill\", \"kind\", \"kind\", \"kind\", \"kinda\", \"kit\", \"know\", \"know\", \"know\", \"koresh\", \"lab\", \"land\", \"land\", \"land\", \"land\", \"large\", \"large\", \"large\", \"largely\", \"last\", \"launch\", \"law\", \"law\", \"leafs\", \"learn\", \"leather\", \"leave\", \"leave\", \"leave\", \"length\", \"library\", \"lie\", \"lie\", \"life\", \"life\", \"life\", \"light\", \"like\", \"like\", \"line\", \"line\", \"line\", \"link\", \"liquid\", \"list\", \"listen\", \"live\", \"live\", \"live\", \"load\", \"login\", \"look\", \"look\", \"look\", \"look\", \"lose\", \"love\", \"lunar\", \"m\", \"m\", \"m\", \"m\", \"machine\", \"machine\", \"mail\", \"mailing_list\", \"make\", \"make\", \"make\", \"man\", \"man\", \"man\", \"manual\", \"manual\", \"manual\", \"many\", \"many\", \"many\", \"mar\", \"massacre\", \"master\", \"material\", \"max\", \"mb\", \"md\", \"mean\", \"mean\", \"medical\", \"member\", \"member\", \"memory\", \"menu\", \"message\", \"message\", \"message_apr\", \"met\", \"might_serve\", \"military\", \"military\", \"militia\", \"mind\", \"mine\", \"minute\", \"mission\", \"misuse\", \"mode\", \"model\", \"modem\", \"money\", \"monitor\", \"month\", \"month\", \"monthly\", \"moon\", \"moral\", \"moslem\", \"mother\", \"motherboard\", \"motif\", \"motto\", \"mount\", \"mountain_passe\", \"move\", \"move\", \"movie\", \"ms_do\", \"much\", \"much\", \"much\", \"much\", \"murder\", \"murder\", \"mvp\", \"mystery\", \"narrow\", \"nation\", \"national\", \"nature\", \"navy\", \"need\", \"need\", \"need\", \"net\", \"net\", \"net\", \"net\", \"network\", \"network\", \"never\", \"never\", \"new\", \"new\", \"new\", \"news\", \"news\", \"news\", \"next\", \"next\", \"nice\", \"nice\", \"nice\", \"nice\", \"nntp_poste\", \"note\", \"note\", \"notice\", \"nuance\", \"nuclear\", \"number\", \"number\", \"number\", \"object\", \"objective\", \"observer\", \"obviously\", \"occupation\", \"occupy\", \"offense\", \"offer\", \"offer\", \"official\", \"okay\", \"old\", \"old\", \"old\", \"one\", \"opportunity\", \"option\", \"orbit\", \"order\", \"order\", \"order\", \"organization\", \"organization\", \"original_sender\", \"originator\", \"other\", \"other\", \"other\", \"other\", \"owner\", \"package\", \"packet\", \"page\", \"page\", \"paper\", \"paper\", \"participation\", \"particularly\", \"pat\", \"patient\", \"pay\", \"payment\", \"peace\", \"peace\", \"people\", \"people\", \"people\", \"performance\", \"performance\", \"perhaps\", \"period\", \"person\", \"person\", \"physical\", \"pick\", \"picture\", \"pin\", \"pitch\", \"plane\", \"planet\", \"play\", \"player\", \"plot\", \"point\", \"point\", \"point\", \"police\", \"police\", \"popular\", \"port\", \"portable\", \"possibility\", \"possibly\", \"post\", \"post\", \"post\", \"postscript\", \"pov\", \"power\", \"power\", \"power\", \"power\", \"power\", \"predict\", \"presentation\", \"prevent\", \"prevent\", \"price\", \"primarily\", \"primary\", \"printer\", \"private\", \"private\", \"private\", \"probe\", \"problem\", \"problem\", \"problem\", \"procedure\", \"processor\", \"product\", \"product\", \"production\", \"program\", \"program\", \"project\", \"project\", \"proof\", \"proper\", \"proper\", \"proposal\", \"protect\", \"protect\", \"protect\", \"protection\", \"prove\", \"prove\", \"provide\", \"provide\", \"provide\", \"province\", \"pseudo\", \"public\", \"public\", \"publication\", \"publish\", \"publish\", \"pull\", \"purchase\", \"purdue_university\", \"purpose\", \"purpose\", \"quality\", \"quality\", \"question\", \"question\", \"question\", \"radiation\", \"ralph\", \"ram\", \"rather\", \"rather\", \"rational\", \"reality\", \"realize\", \"reason\", \"reason\", \"rebel\", \"receive\", \"receive\", \"receive\", \"receive\", \"receiver\", \"recommend\", \"red\", \"reflect\", \"region\", \"registration\", \"reject\", \"release\", \"reliable\", \"religion\", \"religious\", \"remainder\", \"remote\", \"reply\", \"reply\", \"report\", \"report\", \"report\", \"report\", \"report\", \"request\", \"require\", \"require\", \"require\", \"require\", \"research\", \"research\", \"research\", \"research\", \"resource\", \"respect\", \"responsible\", \"retrieve\", \"return\", \"return\", \"revelation\", \"review\", \"ride\", \"rider\", \"rifle\", \"right\", \"right\", \"right\", \"right\", \"risk\", \"road\", \"rocket\", \"role\", \"route\", \"ruin\", \"run\", \"run\", \"run\", \"run\", \"s\", \"s\", \"s\", \"safety\", \"safety\", \"sale\", \"satellite\", \"saturn\", \"say\", \"say\", \"sc\", \"schedule\", \"schematic\", \"science\", \"science\", \"science\", \"scientific\", \"scientific\", \"score\", \"screen\", \"screw\", \"scsi\", \"season\", \"secret\", \"section\", \"section\", \"secure\", \"security\", \"see\", \"see\", \"see\", \"seem\", \"seem\", \"seem\", \"seem\", \"self\", \"sell\", \"sell\", \"sell\", \"send\", \"sense\", \"sense\", \"serdar_argic\", \"serious\", \"server\", \"service\", \"service\", \"service\", \"session\", \"set\", \"set\", \"shareware\", \"sheet\", \"show\", \"show\", \"shuttle\", \"signal\", \"significance\", \"significant\", \"silent\", \"size\", \"size\", \"sk\", \"sky\", \"slaughter\", \"slow\", \"society\", \"soft\", \"software\", \"solar\", \"soldier\", \"solid\", \"solution\", \"somehow\", \"son\", \"soon\", \"soon\", \"sorry\", \"sort\", \"soul\", \"sound\", \"source\", \"source\", \"soviet\", \"space\", \"space_dig\", \"spacecraft\", \"speak\", \"specification\", \"specify\", \"speed\", \"spend\", \"spring\", \"start\", \"start\", \"start\", \"stat\", \"state\", \"state\", \"state\", \"state\", \"state\", \"static\", \"steal\", \"still\", \"still\", \"still\", \"strong\", \"strong\", \"student\", \"study\", \"study\", \"study\", \"substantial\", \"succeed\", \"suck\", \"sue\", \"suggest\", \"suggest\", \"super\", \"support\", \"support\", \"support\", \"support\", \"suppose\", \"switch\", \"sy\", \"system\", \"system\", \"take\", \"take\", \"talk\", \"tape\", \"tar\", \"tc\", \"team\", \"technical\", \"technical\", \"technical\", \"technology\", \"technology\", \"technology\", \"tell\", \"tell\", \"telnet\", \"terminal\", \"test\", \"test\", \"text\", \"text\", \"text\", \"tga\", \"thank\", \"thank\", \"thanx\", \"thing\", \"thing\", \"think\", \"think\", \"throw\", \"tie\", \"tiff\", \"time\", \"time\", \"time\", \"today_longer\", \"ton\", \"total\", \"touch\", \"trade\", \"tradition\", \"trap\", \"treatment\", \"trial\", \"trial\", \"trick\", \"troop\", \"true\", \"true\", \"trust\", \"truth\", \"try\", \"try\", \"try\", \"turk\", \"turkish\", \"type\", \"type\", \"understand\", \"unique\", \"unique\", \"unit\", \"university\", \"university\", \"university\", \"university_delaware\", \"unix\", \"unnecessary\", \"up\", \"update\", \"update\", \"upgrade\", \"use\", \"use\", \"usenet\", \"user\", \"uunet\", \"value\", \"ve\", \"ve\", \"ve\", \"ve\", \"version\", \"version_pl\", \"video\", \"village\", \"violence\", \"vision\", \"void\", \"vol\", \"wallpaper\", \"want\", \"want\", \"want\", \"want\", \"war\", \"war\", \"war\", \"warranty\", \"watch\", \"way\", \"way\", \"way\", \"weapon\", \"week\", \"week\", \"weight\", \"welcome\", \"well\", \"well\", \"well\", \"western_digital\", \"white\", \"whole\", \"widget\", \"win\", \"window\", \"wing\", \"wire\", \"witness\", \"woman\", \"woman\", \"woman\", \"wonder\", \"wonder\", \"work\", \"work\", \"workstation\", \"worried\", \"worthless\", \"write\", \"write\", \"writer\", \"wrong\", \"year\", \"year\", \"young\", \"young\", \"zone\"]}, \"R\": 30, \"lambda.step\": 0.01, \"plot.opts\": {\"xlab\": \"PC1\", \"ylab\": \"PC2\"}, \"topic.order\": [9, 11, 7, 14, 2, 5, 3, 12, 19, 15, 17, 16, 4, 20, 10, 1, 13, 18, 6, 8]};\n",
       "\n",
       "function LDAvis_load_lib(url, callback){\n",
       "  var s = document.createElement('script');\n",
       "  s.src = url;\n",
       "  s.async = true;\n",
       "  s.onreadystatechange = s.onload = callback;\n",
       "  s.onerror = function(){console.warn(\"failed to load library \" + url);};\n",
       "  document.getElementsByTagName(\"head\")[0].appendChild(s);\n",
       "}\n",
       "\n",
       "if(typeof(LDAvis) !== \"undefined\"){\n",
       "   // already loaded: just create the visualization\n",
       "   !function(LDAvis){\n",
       "       new LDAvis(\"#\" + \"ldavis_el1942070966364966430695511\", ldavis_el1942070966364966430695511_data);\n",
       "   }(LDAvis);\n",
       "}else if(typeof define === \"function\" && define.amd){\n",
       "   // require.js is available: use it to load d3/LDAvis\n",
       "   require.config({paths: {d3: \"https://d3js.org/d3.v5\"}});\n",
       "   require([\"d3\"], function(d3){\n",
       "      window.d3 = d3;\n",
       "      LDAvis_load_lib(\"https://cdn.jsdelivr.net/gh/bmabey/pyLDAvis@3.3.1/pyLDAvis/js/ldavis.v3.0.0.js\", function(){\n",
       "        new LDAvis(\"#\" + \"ldavis_el1942070966364966430695511\", ldavis_el1942070966364966430695511_data);\n",
       "      });\n",
       "    });\n",
       "}else{\n",
       "    // require.js not available: dynamically load d3 & LDAvis\n",
       "    LDAvis_load_lib(\"https://d3js.org/d3.v5.js\", function(){\n",
       "         LDAvis_load_lib(\"https://cdn.jsdelivr.net/gh/bmabey/pyLDAvis@3.3.1/pyLDAvis/js/ldavis.v3.0.0.js\", function(){\n",
       "                 new LDAvis(\"#\" + \"ldavis_el1942070966364966430695511\", ldavis_el1942070966364966430695511_data);\n",
       "            })\n",
       "         });\n",
       "}\n",
       "</script>"
      ],
      "text/plain": [
       "PreparedData(topic_coordinates=              x         y  topics  cluster       Freq\n",
       "topic                                                \n",
       "8      0.342086  0.185757       1        1  25.611269\n",
       "10     0.280516  0.022340       2        1  15.185604\n",
       "6      0.293302  0.131397       3        1  14.625574\n",
       "13     0.207422  0.044365       4        1   9.526565\n",
       "1      0.146563  0.032983       5        1   5.763463\n",
       "4      0.101383 -0.130318       6        1   5.159309\n",
       "2     -0.049959 -0.027607       7        1   4.501679\n",
       "11     0.073485 -0.249265       8        1   4.132118\n",
       "18     0.035654 -0.264157       9        1   4.079535\n",
       "14     0.024222 -0.099424      10        1   3.110309\n",
       "16    -0.030095 -0.027588      11        1   1.915378\n",
       "15    -0.030613 -0.091089      12        1   1.830096\n",
       "3     -0.092456  0.066467      13        1   1.242572\n",
       "19    -0.127689  0.033795      14        1   0.926543\n",
       "9     -0.157571  0.056308      15        1   0.787084\n",
       "0     -0.176954  0.049088      16        1   0.596812\n",
       "12    -0.211099  0.066553      17        1   0.282687\n",
       "17    -0.203330  0.067330      18        1   0.277006\n",
       "5     -0.208076  0.066250      19        1   0.263602\n",
       "7     -0.216789  0.066815      20        1   0.182794, topic_info=               Term          Freq         Total Category  logprob  loglift\n",
       "4477             ax  41485.000000  41485.000000  Default  30.0000  30.0000\n",
       "18             line  17263.000000  17263.000000  Default  29.0000  29.0000\n",
       "206           write  13563.000000  13563.000000  Default  28.0000  28.0000\n",
       "144    organization  11066.000000  11066.000000  Default  27.0000  27.0000\n",
       "185         article   9325.000000   9325.000000  Default  26.0000  26.0000\n",
       "...             ...           ...           ...      ...      ...      ...\n",
       "668            core      1.534275     87.537907  Topic20  -7.3381   2.2606\n",
       "16656             c      0.028880      1.286583  Topic20 -11.3108   2.5080\n",
       "4475              _      0.028880      1.286555  Topic20 -11.3108   2.5080\n",
       "7818         sphere      0.028879      1.286519  Topic20 -11.3108   2.5080\n",
       "4937      existence      0.028879      1.286545  Topic20 -11.3108   2.5080\n",
       "\n",
       "[898 rows x 6 columns], token_table=      Topic      Freq    Term\n",
       "term                         \n",
       "1397      6  0.998708  accept\n",
       "88        8  0.251014  access\n",
       "88       10  0.637288  access\n",
       "88       11  0.110550  access\n",
       "1560      5  0.998216     act\n",
       "...     ...       ...     ...\n",
       "40        3  0.988396    year\n",
       "40       12  0.011398    year\n",
       "630       1  0.047966   young\n",
       "630       3  0.950476   young\n",
       "2255     11  0.994119    zone\n",
       "\n",
       "[1119 rows x 3 columns], R=30, lambda_step=0.01, plot_opts={'xlab': 'PC1', 'ylab': 'PC2'}, topic_order=[9, 11, 7, 14, 2, 5, 3, 12, 19, 15, 17, 16, 4, 20, 10, 1, 13, 18, 6, 8])"
      ]
     },
     "execution_count": 26,
     "metadata": {},
     "output_type": "execute_result"
    }
   ],
   "source": [
    "pyLDAvis.enable_notebook()\n",
    "vis = pyLDAvis.gensim_models.prepare(model, corpus, dictionary)\n",
    "vis"
   ]
  },
  {
   "cell_type": "markdown",
   "id": "b842d3ef",
   "metadata": {},
   "source": [
    "### words, topics, probs"
   ]
  },
  {
   "cell_type": "markdown",
   "id": "33ad4adb",
   "metadata": {},
   "source": [
    "#### per doc"
   ]
  },
  {
   "cell_type": "code",
   "execution_count": 27,
   "id": "e03c7239",
   "metadata": {},
   "outputs": [],
   "source": [
    "rows = model[corpus]"
   ]
  },
  {
   "cell_type": "code",
   "execution_count": 28,
   "id": "fd5b25e6",
   "metadata": {
    "scrolled": true
   },
   "outputs": [
    {
     "data": {
      "text/plain": [
       "([(1, 0.014455765),\n",
       "  (4, 0.04294472),\n",
       "  (6, 0.27582434),\n",
       "  (8, 0.18695824),\n",
       "  (9, 0.10469744),\n",
       "  (10, 0.09411308),\n",
       "  (11, 0.029494785),\n",
       "  (13, 0.16451526),\n",
       "  (14, 0.041336328),\n",
       "  (18, 0.022573866)],\n",
       " [(0, [18, 8, 6, 1]),\n",
       "  (1, [4]),\n",
       "  (2, [6, 8]),\n",
       "  (3, [10, 8, 6]),\n",
       "  (4, [6]),\n",
       "  (5, [6, 8]),\n",
       "  (6, [9]),\n",
       "  (7, [6, 8, 10]),\n",
       "  (8, [9]),\n",
       "  (9, [9]),\n",
       "  (10, []),\n",
       "  (11, []),\n",
       "  (12, [8, 1]),\n",
       "  (13, [13]),\n",
       "  (14, [14, 13, 10]),\n",
       "  (15, [8, 13]),\n",
       "  (16, [6, 10]),\n",
       "  (17, []),\n",
       "  (18, [13]),\n",
       "  (19, [13, 6, 10, 8]),\n",
       "  (20, [14]),\n",
       "  (21, [8, 6, 10]),\n",
       "  (22, [10]),\n",
       "  (23, [8, 10, 14]),\n",
       "  (24, [9]),\n",
       "  (25, [13]),\n",
       "  (26, [6, 13]),\n",
       "  (27, [9]),\n",
       "  (28, []),\n",
       "  (29, [8, 6, 13]),\n",
       "  (30, [6, 8]),\n",
       "  (31, [8, 6]),\n",
       "  (32, [4, 18]),\n",
       "  (33, [6, 10]),\n",
       "  (34, [11]),\n",
       "  (35, [6]),\n",
       "  (36, []),\n",
       "  (37, [13]),\n",
       "  (38, [8, 6]),\n",
       "  (39, [13, 8]),\n",
       "  (40, [6])],\n",
       " [(0, [(1, 0.026019026), (6, 0.15314448), (8, 0.3962276), (18, 0.42388827)]),\n",
       "  (1, [(4, 0.9997103)]),\n",
       "  (2, [(6, 0.54237443), (8, 0.4574931)]),\n",
       "  (3, [(6, 0.033249166), (8, 0.41076913), (10, 0.55590636)]),\n",
       "  (4, [(6, 4.9998183)]),\n",
       "  (5, [(6, 0.79833776), (8, 0.2016224)]),\n",
       "  (6, [(9, 1.9999104)]),\n",
       "  (7, [(6, 0.7249683), (8, 0.21156576), (10, 0.06332822)]),\n",
       "  (8, [(9, 0.9999742)]),\n",
       "  (9, [(9, 0.9992062)]),\n",
       "  (10, []),\n",
       "  (11, []),\n",
       "  (12, [(1, 0.08278239), (8, 0.9168026)]),\n",
       "  (13, [(13, 0.9999839)]),\n",
       "  (14, [(10, 0.08518557), (13, 0.3229914), (14, 0.59171194)]),\n",
       "  (15, [(8, 0.5574355), (13, 0.43968734)]),\n",
       "  (16, [(6, 0.8202432), (10, 0.17958148)]),\n",
       "  (17, []),\n",
       "  (18, [(13, 0.9909794)]),\n",
       "  (19, [(6, 0.79651845), (8, 0.08626624), (10, 0.1751189), (13, 0.9420429)]),\n",
       "  (20, [(14, 0.99994135)]),\n",
       "  (21, [(6, 0.2861923), (8, 0.6276793), (10, 0.08610653)]),\n",
       "  (22, [(10, 0.9997107)]),\n",
       "  (23, [(8, 0.4696081), (10, 0.2739301), (14, 0.256353)]),\n",
       "  (24, [(9, 0.9997231)]),\n",
       "  (25, [(13, 0.99998593)]),\n",
       "  (26, [(6, 0.82496226), (13, 0.17463404)]),\n",
       "  (27, [(9, 0.99992824)]),\n",
       "  (28, []),\n",
       "  (29, [(6, 0.299789), (8, 0.42854992), (13, 0.27161428)]),\n",
       "  (30, [(6, 0.68381935), (8, 0.31596604)]),\n",
       "  (31, [(6, 0.26203197), (8, 0.7326086)]),\n",
       "  (32, [(4, 0.7410081), (18, 0.2582825)]),\n",
       "  (33, [(6, 0.5793877), (10, 0.42048612)]),\n",
       "  (34, [(11, 0.99837315)]),\n",
       "  (35, [(6, 0.999725)]),\n",
       "  (36, []),\n",
       "  (37, [(13, 0.9933737)]),\n",
       "  (38, [(6, 0.027062373), (8, 0.9728912)]),\n",
       "  (39, [(8, 0.03251429), (13, 0.9673619)]),\n",
       "  (40, [(6, 0.9999094)])])"
      ]
     },
     "execution_count": 28,
     "metadata": {},
     "output_type": "execute_result"
    }
   ],
   "source": [
    "row = rows[0]\n",
    "row"
   ]
  },
  {
   "cell_type": "code",
   "execution_count": 29,
   "id": "1f9f3dec",
   "metadata": {},
   "outputs": [
    {
     "data": {
      "text/plain": [
       "[(1, 0.014455765),\n",
       " (4, 0.04294472),\n",
       " (6, 0.27582434),\n",
       " (8, 0.18695824),\n",
       " (9, 0.10469744),\n",
       " (10, 0.09411308),\n",
       " (11, 0.029494785),\n",
       " (13, 0.16451526),\n",
       " (14, 0.041336328),\n",
       " (18, 0.022573866)]"
      ]
     },
     "execution_count": 29,
     "metadata": {},
     "output_type": "execute_result"
    }
   ],
   "source": [
    "topics_probs = row[0]\n",
    "topics_probs"
   ]
  },
  {
   "cell_type": "code",
   "execution_count": 30,
   "id": "c3a9b124",
   "metadata": {
    "scrolled": true
   },
   "outputs": [
    {
     "data": {
      "text/plain": [
       "[(0, [(1, 0.026019026), (6, 0.15314448), (8, 0.3962276), (18, 0.42388827)]),\n",
       " (1, [(4, 0.9997103)]),\n",
       " (2, [(6, 0.54237443), (8, 0.4574931)]),\n",
       " (3, [(6, 0.033249166), (8, 0.41076913), (10, 0.55590636)]),\n",
       " (4, [(6, 4.9998183)]),\n",
       " (5, [(6, 0.79833776), (8, 0.2016224)]),\n",
       " (6, [(9, 1.9999104)]),\n",
       " (7, [(6, 0.7249683), (8, 0.21156576), (10, 0.06332822)]),\n",
       " (8, [(9, 0.9999742)]),\n",
       " (9, [(9, 0.9992062)]),\n",
       " (10, []),\n",
       " (11, []),\n",
       " (12, [(1, 0.08278239), (8, 0.9168026)]),\n",
       " (13, [(13, 0.9999839)]),\n",
       " (14, [(10, 0.08518557), (13, 0.3229914), (14, 0.59171194)]),\n",
       " (15, [(8, 0.5574355), (13, 0.43968734)]),\n",
       " (16, [(6, 0.8202432), (10, 0.17958148)]),\n",
       " (17, []),\n",
       " (18, [(13, 0.9909794)]),\n",
       " (19, [(6, 0.79651845), (8, 0.08626624), (10, 0.1751189), (13, 0.9420429)]),\n",
       " (20, [(14, 0.99994135)]),\n",
       " (21, [(6, 0.2861923), (8, 0.6276793), (10, 0.08610653)]),\n",
       " (22, [(10, 0.9997107)]),\n",
       " (23, [(8, 0.4696081), (10, 0.2739301), (14, 0.256353)]),\n",
       " (24, [(9, 0.9997231)]),\n",
       " (25, [(13, 0.99998593)]),\n",
       " (26, [(6, 0.82496226), (13, 0.17463404)]),\n",
       " (27, [(9, 0.99992824)]),\n",
       " (28, []),\n",
       " (29, [(6, 0.299789), (8, 0.42854992), (13, 0.27161428)]),\n",
       " (30, [(6, 0.68381935), (8, 0.31596604)]),\n",
       " (31, [(6, 0.26203197), (8, 0.7326086)]),\n",
       " (32, [(4, 0.7410081), (18, 0.2582825)]),\n",
       " (33, [(6, 0.5793877), (10, 0.42048612)]),\n",
       " (34, [(11, 0.99837315)]),\n",
       " (35, [(6, 0.999725)]),\n",
       " (36, []),\n",
       " (37, [(13, 0.9933737)]),\n",
       " (38, [(6, 0.027062373), (8, 0.9728912)]),\n",
       " (39, [(8, 0.03251429), (13, 0.9673619)]),\n",
       " (40, [(6, 0.9999094)])]"
      ]
     },
     "execution_count": 30,
     "metadata": {},
     "output_type": "execute_result"
    }
   ],
   "source": [
    "words_topics_probs = row[2]\n",
    "words_topics_probs"
   ]
  },
  {
   "cell_type": "markdown",
   "id": "529aebe9",
   "metadata": {},
   "source": [
    "#### per topic"
   ]
  },
  {
   "cell_type": "code",
   "execution_count": 31,
   "id": "378a720c",
   "metadata": {},
   "outputs": [
    {
     "data": {
      "text/plain": [
       "[('field', 0.057476845),\n",
       " ('notice', 0.049948048),\n",
       " ('community', 0.04962867),\n",
       " ('suggest', 0.043319833),\n",
       " ('external', 0.04158011),\n",
       " ('average', 0.038643923),\n",
       " ('weight', 0.03821546),\n",
       " ('significant', 0.034962088),\n",
       " ('impact', 0.028737571),\n",
       " ('primarily', 0.027721057)]"
      ]
     },
     "execution_count": 31,
     "metadata": {},
     "output_type": "execute_result"
    }
   ],
   "source": [
    "topic = 0\n",
    "words_probs = model.show_topic(topic)\n",
    "words_probs"
   ]
  },
  {
   "cell_type": "markdown",
   "id": "fc02eb56",
   "metadata": {},
   "source": [
    "### prediction"
   ]
  },
  {
   "cell_type": "code",
   "execution_count": 32,
   "id": "6673e924",
   "metadata": {},
   "outputs": [],
   "source": [
    "doc_a = lemmatized_docs[0]\n",
    "doc_z = lemmatized_docs[-1]\n",
    "doc_a_z = doc_a + doc_z"
   ]
  },
  {
   "cell_type": "code",
   "execution_count": 33,
   "id": "ab6e777e",
   "metadata": {},
   "outputs": [
    {
     "data": {
      "text/plain": [
       "[(1, 0.014455527),\n",
       " (4, 0.04294037),\n",
       " (6, 0.27582324),\n",
       " (8, 0.18695359),\n",
       " (9, 0.104697436),\n",
       " (10, 0.094113834),\n",
       " (11, 0.029494785),\n",
       " (13, 0.16451567),\n",
       " (14, 0.0413363),\n",
       " (18, 0.022583045)]"
      ]
     },
     "execution_count": 33,
     "metadata": {},
     "output_type": "execute_result"
    }
   ],
   "source": [
    "sample_a = dictionary.doc2bow(doc_a)\n",
    "row_a = model[sample_a]\n",
    "row_a[0]"
   ]
  },
  {
   "cell_type": "code",
   "execution_count": 34,
   "id": "ba64d639",
   "metadata": {},
   "outputs": [
    {
     "data": {
      "text/plain": [
       "[(1, 0.018587569),\n",
       " (4, 0.04483253),\n",
       " (6, 0.14925666),\n",
       " (8, 0.14437138),\n",
       " (9, 0.054617684),\n",
       " (10, 0.19890724),\n",
       " (11, 0.018616397),\n",
       " (13, 0.28071913),\n",
       " (14, 0.015154537),\n",
       " (18, 0.04092703)]"
      ]
     },
     "execution_count": 34,
     "metadata": {},
     "output_type": "execute_result"
    }
   ],
   "source": [
    "sample_z = dictionary.doc2bow(doc_z)\n",
    "row_z = model[sample_z]\n",
    "row_z[0]"
   ]
  },
  {
   "cell_type": "code",
   "execution_count": 35,
   "id": "0dfa20c7",
   "metadata": {},
   "outputs": [
    {
     "data": {
      "text/plain": [
       "[(1, 0.010190097),\n",
       " (4, 0.04166739),\n",
       " (6, 0.2430974),\n",
       " (8, 0.14198059),\n",
       " (9, 0.099733174),\n",
       " (10, 0.13977821),\n",
       " (11, 0.021252474),\n",
       " (13, 0.22644262),\n",
       " (14, 0.026960706),\n",
       " (18, 0.032275222)]"
      ]
     },
     "execution_count": 35,
     "metadata": {},
     "output_type": "execute_result"
    }
   ],
   "source": [
    "sample_a_z = dictionary.doc2bow(doc_a_z)\n",
    "row_a_z = model[sample_a_z]\n",
    "row_a_z[0]"
   ]
  }
 ],
 "metadata": {
  "kernelspec": {
   "display_name": "machine_learning",
   "language": "python",
   "name": "machine_learning"
  },
  "language_info": {
   "codemirror_mode": {
    "name": "ipython",
    "version": 3
   },
   "file_extension": ".py",
   "mimetype": "text/x-python",
   "name": "python",
   "nbconvert_exporter": "python",
   "pygments_lexer": "ipython3",
   "version": "3.7.8"
  }
 },
 "nbformat": 4,
 "nbformat_minor": 5
}
