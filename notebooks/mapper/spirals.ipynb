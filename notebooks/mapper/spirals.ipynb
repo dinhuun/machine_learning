{
 "cells": [
  {
   "cell_type": "code",
   "execution_count": 1,
   "id": "01db630b",
   "metadata": {},
   "outputs": [],
   "source": [
    "import json\n",
    "\n",
    "import numpy as np\n",
    "import seaborn as sns\n",
    "from d3graph import d3graph, vec2adjmat\n",
    "from matplotlib import pyplot as plt\n",
    "from sklearn.cluster import DBSCAN\n",
    "\n",
    "from machine_learning.mapper.create_complex import create_complex"
   ]
  },
  {
   "cell_type": "code",
   "execution_count": 2,
   "id": "7ba57ede",
   "metadata": {},
   "outputs": [],
   "source": [
    "plt.style.use('seaborn-whitegrid')\n",
    "sns.set_color_codes()\n",
    "\n",
    "figsize = (8, 8)"
   ]
  },
  {
   "cell_type": "markdown",
   "id": "232acf2e",
   "metadata": {},
   "source": [
    "### dataset"
   ]
  },
  {
   "cell_type": "code",
   "execution_count": 3,
   "id": "801eea1f",
   "metadata": {},
   "outputs": [],
   "source": [
    "np.random.seed(0)\n",
    "theta = np.random.uniform(1, 6, 800) \n",
    "e = np.random.uniform(-0.1, 0.1, 800)\n",
    "f = np.random.uniform(-0.1, 0.1, 800)\n",
    "X_0 = theta * np.cos(theta) + e\n",
    "X_1 = -theta * np.cos(theta) + f\n",
    "Y_0 = theta * np.sin(theta) + e\n",
    "Y_1 = -theta * np.sin(theta) + f\n",
    "X_0_1 = np.hstack((X_0, X_1))\n",
    "Y_0_1 = np.hstack((Y_0, Y_1))\n",
    "X = np.column_stack((X_0_1, Y_0_1))    "
   ]
  },
  {
   "cell_type": "code",
   "execution_count": 4,
   "id": "c65a0798",
   "metadata": {},
   "outputs": [
    {
     "data": {
      "image/png": "[encoded data removed]",
      "text/plain": [
       "<Figure size 576x576 with 1 Axes>"
      ]
     },
     "metadata": {},
     "output_type": "display_data"
    }
   ],
   "source": [
    "plt.figure(figsize=figsize)\n",
    "plt.scatter(X[:, 0], X[:, 1])\n",
    "plt.show()"
   ]
  },
  {
   "cell_type": "markdown",
   "id": "58a40f18",
   "metadata": {},
   "source": [
    "### applying Mapper"
   ]
  },
  {
   "cell_type": "code",
   "execution_count": 5,
   "id": "67839409",
   "metadata": {},
   "outputs": [],
   "source": [
    "Y = X[:, 0]"
   ]
  },
  {
   "cell_type": "code",
   "execution_count": 6,
   "id": "21200417",
   "metadata": {},
   "outputs": [],
   "source": [
    "n_intervals = 8\n",
    "\n",
    "overlap_ratio = 0.2\n",
    "\n",
    "cluster_class = DBSCAN\n",
    "cluster_params = {\"eps\": 0.5}"
   ]
  },
  {
   "cell_type": "code",
   "execution_count": 7,
   "id": "490275b9",
   "metadata": {},
   "outputs": [],
   "source": [
    "complex_ = create_complex(X, Y, n_intervals, overlap_ratio, cluster_class, cluster_params)"
   ]
  },
  {
   "cell_type": "markdown",
   "id": "0d5b2ef4",
   "metadata": {},
   "source": [
    "### saving complex"
   ]
  },
  {
   "cell_type": "code",
   "execution_count": 8,
   "id": "ff724e9f",
   "metadata": {},
   "outputs": [],
   "source": [
    "filepath = \"spirals.json\"\n",
    "with open(filepath, 'w') as f:\n",
    "    json.dump(complex_, f)"
   ]
  },
  {
   "cell_type": "markdown",
   "id": "a168ddf4",
   "metadata": {},
   "source": [
    "### rendering complex\n",
    "if R is installed then use machine_learning.mapper.render_complex.R instead of below"
   ]
  },
  {
   "cell_type": "code",
   "execution_count": 9,
   "id": "fb2e57c0",
   "metadata": {},
   "outputs": [],
   "source": [
    "d3 = d3graph(verbose=60)"
   ]
  },
  {
   "cell_type": "code",
   "execution_count": 10,
   "id": "8178ac6e",
   "metadata": {},
   "outputs": [],
   "source": [
    "edge_sources = complex_.edge_sources\n",
    "edge_targets = complex_.edge_targets\n",
    "edge_values = complex_.edge_values\n",
    "\n",
    "matrix = vec2adjmat(edge_sources, edge_targets, weight=edge_values)"
   ]
  },
  {
   "cell_type": "code",
   "execution_count": 11,
   "id": "aaaee74c",
   "metadata": {},
   "outputs": [
    {
     "data": {
      "text/plain": [
       "<networkx.classes.digraph.DiGraph at 0x102253d90>"
      ]
     },
     "execution_count": 11,
     "metadata": {},
     "output_type": "execute_result"
    }
   ],
   "source": [
    "vertex_sizes = complex_.vertex_sizes\n",
    "\n",
    "d3.graph(matrix)\n",
    "d3.set_node_properties(color=matrix.columns.values, size=np.array(vertex_sizes) / 10)  # scale size down a bit\n",
    "d3.show(filepath=\"./spirals.html\")  # default showfig=True seems ineffective in jupyter notebook, open html file instead"
   ]
  }
 ],
 "metadata": {
  "kernelspec": {
   "display_name": "machine_learning",
   "language": "python",
   "name": "machine_learning"
  },
  "language_info": {
   "codemirror_mode": {
    "name": "ipython",
    "version": 3
   },
   "file_extension": ".py",
   "mimetype": "text/x-python",
   "name": "python",
   "nbconvert_exporter": "python",
   "pygments_lexer": "ipython3",
   "version": "3.7.8"
  }
 },
 "nbformat": 4,
 "nbformat_minor": 5
}
