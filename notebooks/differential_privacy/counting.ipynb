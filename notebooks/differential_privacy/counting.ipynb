{
 "cells": [
  {
   "cell_type": "code",
   "execution_count": 1,
   "metadata": {},
   "outputs": [],
   "source": [
    "import numpy as np\n",
    "from scipy.stats import laplace"
   ]
  },
  {
   "cell_type": "markdown",
   "metadata": {},
   "source": [
    "## Replace counts 90 and 100 with randomized counts M_90 and M_100"
   ]
  },
  {
   "cell_type": "code",
   "execution_count": 2,
   "metadata": {},
   "outputs": [],
   "source": [
    "count_90 = 90 # number of AB bigrams\n",
    "count_100 = 100 # number of YZ bigrams"
   ]
  },
  {
   "cell_type": "code",
   "execution_count": 3,
   "metadata": {},
   "outputs": [],
   "source": [
    "epsilon = 1\n",
    "kappa = 1\n",
    "beta = 1 # beta >= kappa / epsilon so that M will be epsilon-differentially private\n",
    "M_90 = laplace(loc=count_90, scale=1) # count_90 + laplace(loc=0, scale=1)\n",
    "M_100 = laplace(loc=count_100, scale=1) # count_100 + laplace(loc=0, scale=1)"
   ]
  },
  {
   "cell_type": "markdown",
   "metadata": {},
   "source": [
    "#### samples from M_0 and samples from M_1"
   ]
  },
  {
   "cell_type": "code",
   "execution_count": 4,
   "metadata": {},
   "outputs": [],
   "source": [
    "size = int(1e6)\n",
    "samples_90 = M_90.rvs(size, random_state=0)\n",
    "samples_100 = M_100.rvs(size, random_state=0)"
   ]
  },
  {
   "cell_type": "code",
   "execution_count": 5,
   "metadata": {
    "scrolled": true
   },
   "outputs": [
    {
     "data": {
      "text/plain": [
       "(76.5310821749312, 104.39806720322846)"
      ]
     },
     "execution_count": 5,
     "metadata": {},
     "output_type": "execute_result"
    }
   ],
   "source": [
    "min(samples_90), max(samples_90)"
   ]
  },
  {
   "cell_type": "code",
   "execution_count": 6,
   "metadata": {},
   "outputs": [
    {
     "data": {
      "text/plain": [
       "(86.5310821749312, 114.39806720322846)"
      ]
     },
     "execution_count": 6,
     "metadata": {},
     "output_type": "execute_result"
    }
   ],
   "source": [
    "min(samples_100), max(samples_100)"
   ]
  },
  {
   "cell_type": "markdown",
   "metadata": {},
   "source": [
    "## Privacy\n",
    "P(M_90 in range) / P(M_100 in range) <= exp(d(count_90, count_100) epsilon) <br>\n",
    "P(M_100 in range) / P(M_90 in range) <= exp(d(count_90, count_100) epsilon)"
   ]
  },
  {
   "cell_type": "code",
   "execution_count": 7,
   "metadata": {},
   "outputs": [
    {
     "data": {
      "text/plain": [
       "22026.465794806718"
      ]
     },
     "execution_count": 7,
     "metadata": {},
     "output_type": "execute_result"
    }
   ],
   "source": [
    "np.exp(np.abs(count_90 - count_100) * epsilon)"
   ]
  },
  {
   "cell_type": "code",
   "execution_count": 8,
   "metadata": {},
   "outputs": [
    {
     "data": {
      "text/plain": [
       "(27732.055555555555, 3.605935369618392e-05)"
      ]
     },
     "execution_count": 8,
     "metadata": {},
     "output_type": "execute_result"
    }
   ],
   "source": [
    "# no need to divide by size\n",
    "P_M_90_in_range_1 = sum([80 <= c <= 90 for c in samples_90])\n",
    "P_M_100_in_range_1 = sum([80 <= c <= 90 for c in samples_100])\n",
    "P_M_90_in_range_1 / P_M_100_in_range_1, P_M_100_in_range_1 / P_M_90_in_range_1"
   ]
  },
  {
   "cell_type": "code",
   "execution_count": 9,
   "metadata": {},
   "outputs": [
    {
     "data": {
      "text/plain": [
       "(1.0032132890738155, 0.9967970030811872)"
      ]
     },
     "execution_count": 9,
     "metadata": {},
     "output_type": "execute_result"
    }
   ],
   "source": [
    "P_M_90_in_range_2 = sum([90 <= c <= 100 for c in samples_90])\n",
    "P_M_100_in_range_2 = sum([90 <= c <= 100 for c in samples_100])\n",
    "P_M_90_in_range_2 / P_M_100_in_range_2, P_M_100_in_range_2 / P_M_90_in_range_2"
   ]
  },
  {
   "cell_type": "code",
   "execution_count": 10,
   "metadata": {},
   "outputs": [
    {
     "data": {
      "text/plain": [
       "(4.792514092986755e-05, 20865.875)"
      ]
     },
     "execution_count": 10,
     "metadata": {},
     "output_type": "execute_result"
    }
   ],
   "source": [
    "P_M_90_in_range_3 = sum([100 <= c <= 110 for c in samples_90])\n",
    "P_M_100_in_range_3 = sum([100 <= c <= 110 for c in samples_100])\n",
    "P_M_90_in_range_3 / P_M_100_in_range_3, P_M_100_in_range_3 / P_M_90_in_range_3"
   ]
  },
  {
   "cell_type": "markdown",
   "metadata": {},
   "source": [
    "## Accuracy\n",
    "P(|M - count| >= 1 / epsilon ln(1 / delta)) <= delta"
   ]
  },
  {
   "cell_type": "code",
   "execution_count": 11,
   "metadata": {},
   "outputs": [],
   "source": [
    "delta = 0.1"
   ]
  },
  {
   "cell_type": "code",
   "execution_count": 12,
   "metadata": {},
   "outputs": [
    {
     "data": {
      "text/plain": [
       "2.302585092994046"
      ]
     },
     "execution_count": 12,
     "metadata": {},
     "output_type": "execute_result"
    }
   ],
   "source": [
    "error = 1 / epsilon * np.log(1 / delta)\n",
    "error"
   ]
  },
  {
   "cell_type": "code",
   "execution_count": 13,
   "metadata": {},
   "outputs": [
    {
     "data": {
      "text/plain": [
       "0.099516"
      ]
     },
     "execution_count": 13,
     "metadata": {},
     "output_type": "execute_result"
    }
   ],
   "source": [
    "sum(np.abs(samples_90 - count_90) >= error) / size"
   ]
  },
  {
   "cell_type": "code",
   "execution_count": 14,
   "metadata": {},
   "outputs": [
    {
     "data": {
      "text/plain": [
       "0.099516"
      ]
     },
     "execution_count": 14,
     "metadata": {},
     "output_type": "execute_result"
    }
   ],
   "source": [
    "sum(np.abs(samples_100 - count_100) >= error) / size"
   ]
  }
 ],
 "metadata": {
  "kernelspec": {
   "display_name": "machine_learning",
   "language": "python",
   "name": "machine_learning"
  },
  "language_info": {
   "codemirror_mode": {
    "name": "ipython",
    "version": 3
   },
   "file_extension": ".py",
   "mimetype": "text/x-python",
   "name": "python",
   "nbconvert_exporter": "python",
   "pygments_lexer": "ipython3",
   "version": "3.7.8"
  }
 },
 "nbformat": 4,
 "nbformat_minor": 2
}
