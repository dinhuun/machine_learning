{
 "cells": [
  {
   "cell_type": "code",
   "execution_count": 1,
   "metadata": {},
   "outputs": [],
   "source": [
    "import numpy as np\n",
    "from scipy.stats import bernoulli"
   ]
  },
  {
   "cell_type": "markdown",
   "metadata": {},
   "source": [
    "## Replace responses 0 and 1 with randomized responses M_0 and M_1"
   ]
  },
  {
   "cell_type": "code",
   "execution_count": 2,
   "metadata": {},
   "outputs": [],
   "source": [
    "response_0 = 0 # answering no to some question\n",
    "response_1 = 1 # answering yes to some question"
   ]
  },
  {
   "cell_type": "code",
   "execution_count": 3,
   "metadata": {},
   "outputs": [],
   "source": [
    "p_0 = 0.5 # probability of flipping to 1\n",
    "M_0 = bernoulli(p_0)\n",
    "\n",
    "p_1 = 0.75 # probability of staying as 1\n",
    "M_1 = bernoulli(p_1)"
   ]
  },
  {
   "cell_type": "markdown",
   "metadata": {},
   "source": [
    "#### samples from M_0 and samples from M_1"
   ]
  },
  {
   "cell_type": "code",
   "execution_count": 4,
   "metadata": {},
   "outputs": [],
   "source": [
    "size = int(1e6)\n",
    "samples_0 = M_0.rvs(size, random_state=0)\n",
    "samples_1 = M_1.rvs(size, random_state=0)"
   ]
  },
  {
   "cell_type": "markdown",
   "metadata": {},
   "source": [
    "## Accuracy\n",
    "P(M_0 == 0)\n",
    "\n",
    "P(M_1 == 1)"
   ]
  },
  {
   "cell_type": "code",
   "execution_count": 5,
   "metadata": {},
   "outputs": [
    {
     "data": {
      "text/plain": [
       "0.499195"
      ]
     },
     "execution_count": 5,
     "metadata": {},
     "output_type": "execute_result"
    }
   ],
   "source": [
    "accuracy_0 = sum(samples_0 == 0) / size\n",
    "accuracy_0"
   ]
  },
  {
   "cell_type": "code",
   "execution_count": 6,
   "metadata": {},
   "outputs": [
    {
     "data": {
      "text/plain": [
       "0.749204"
      ]
     },
     "execution_count": 6,
     "metadata": {},
     "output_type": "execute_result"
    }
   ],
   "source": [
    "accuracy_1 = sum(samples_1 == 1) / size\n",
    "accuracy_1"
   ]
  },
  {
   "cell_type": "markdown",
   "metadata": {},
   "source": [
    "## Privacy\n",
    "P(M_0 = 0) / P(M_1 = 0) <= exp(d(response_0, response_1) epsilon)\n",
    "\n",
    "P(M_0 = 1) / P(M_1 = 1) <= exp(d(response_0, response_1) epsilon)\n",
    "\n",
    "where epsilon = ln(max{(1- p_0)/ p_1, p_0 / (1 - p_1), p_1 / (1 - p_0), (1 - p_1) / p_0})"
   ]
  },
  {
   "cell_type": "code",
   "execution_count": 7,
   "metadata": {},
   "outputs": [
    {
     "data": {
      "text/plain": [
       "2.0"
      ]
     },
     "execution_count": 7,
     "metadata": {},
     "output_type": "execute_result"
    }
   ],
   "source": [
    "max_0_1 = max((1- p_0)/ p_1, p_0 / (1 - p_1), p_1 / (1 - p_0), (1 - p_1) / p_0)\n",
    "max_0_1"
   ]
  },
  {
   "cell_type": "code",
   "execution_count": 8,
   "metadata": {},
   "outputs": [
    {
     "data": {
      "text/plain": [
       "0.6931471805599453"
      ]
     },
     "execution_count": 8,
     "metadata": {},
     "output_type": "execute_result"
    }
   ],
   "source": [
    "epsilon = np.log(max_0_1) # so that M will be epsilon-differentially private\n",
    "epsilon"
   ]
  },
  {
   "cell_type": "code",
   "execution_count": 9,
   "metadata": {},
   "outputs": [
    {
     "data": {
      "text/plain": [
       "2.0"
      ]
     },
     "execution_count": 9,
     "metadata": {},
     "output_type": "execute_result"
    }
   ],
   "source": [
    "np.exp(1 * epsilon)"
   ]
  },
  {
   "cell_type": "code",
   "execution_count": 10,
   "metadata": {},
   "outputs": [
    {
     "data": {
      "text/plain": [
       "(1.9904424312987448, 0.5024008653932832)"
      ]
     },
     "execution_count": 10,
     "metadata": {},
     "output_type": "execute_result"
    }
   ],
   "source": [
    "# no need to divide by size\n",
    "P_M_0_equals_0 = sum(samples_0 == 0)\n",
    "P_M_1_equals_0 = sum(samples_1 == 0)\n",
    "P_M_0_equals_0 / P_M_1_equals_0, P_M_1_equals_0 / P_M_0_equals_0"
   ]
  },
  {
   "cell_type": "code",
   "execution_count": 11,
   "metadata": {},
   "outputs": [
    {
     "data": {
      "text/plain": [
       "(0.6684494476804715, 1.4959994409001507)"
      ]
     },
     "execution_count": 11,
     "metadata": {},
     "output_type": "execute_result"
    }
   ],
   "source": [
    "P_M_0_equals_1 = sum(samples_0 == 1)\n",
    "P_M_1_equals_1 = sum(samples_1 == 1)\n",
    "P_M_0_equals_1 / P_M_1_equals_1, P_M_1_equals_1 / P_M_0_equals_1"
   ]
  }
 ],
 "metadata": {
  "kernelspec": {
   "display_name": "differential_privacy",
   "language": "python",
   "name": "differential_privacy"
  },
  "language_info": {
   "codemirror_mode": {
    "name": "ipython",
    "version": 3
   },
   "file_extension": ".py",
   "mimetype": "text/x-python",
   "name": "python",
   "nbconvert_exporter": "python",
   "pygments_lexer": "ipython3",
   "version": "3.7.8"
  }
 },
 "nbformat": 4,
 "nbformat_minor": 2
}
