{
 "cells": [
  {
   "cell_type": "code",
   "execution_count": 1,
   "id": "0c91399d",
   "metadata": {},
   "outputs": [],
   "source": [
    "import numpy as np\n",
    "from sklearn.metrics import mean_squared_error"
   ]
  },
  {
   "cell_type": "code",
   "execution_count": 2,
   "id": "b57b9fdc",
   "metadata": {},
   "outputs": [],
   "source": [
    "n = 1000"
   ]
  },
  {
   "cell_type": "markdown",
   "id": "bdd3f959",
   "metadata": {},
   "source": [
    "### suppose Y is constant, with mean 0, variance 0"
   ]
  },
  {
   "cell_type": "code",
   "execution_count": 3,
   "id": "d0bdc971",
   "metadata": {},
   "outputs": [],
   "source": [
    "Y_true = [0.0] * n"
   ]
  },
  {
   "cell_type": "markdown",
   "id": "093c262f",
   "metadata": {},
   "source": [
    "### a model Y_1 that predicts random noise around 0 would have small SSE and look good"
   ]
  },
  {
   "cell_type": "code",
   "execution_count": 5,
   "id": "3efedaa9",
   "metadata": {},
   "outputs": [],
   "source": [
    "mean = 0.0\n",
    "std = 0.01\n",
    "Y_1 = np.random.normal(mean, std, n)"
   ]
  },
  {
   "cell_type": "code",
   "execution_count": 6,
   "id": "e51abc3a",
   "metadata": {},
   "outputs": [
    {
     "data": {
      "text/plain": [
       "9.7878933920594e-05"
      ]
     },
     "execution_count": 6,
     "metadata": {},
     "output_type": "execute_result"
    }
   ],
   "source": [
    "loss_1 = mean_squared_error(Y_true, Y_1)\n",
    "loss_1"
   ]
  },
  {
   "cell_type": "markdown",
   "id": "13b969cf",
   "metadata": {},
   "source": [
    "### but a model Y_0 that simply predicts 0 would have even smaller SSE"
   ]
  },
  {
   "cell_type": "code",
   "execution_count": 7,
   "id": "466059d6",
   "metadata": {},
   "outputs": [],
   "source": [
    "Y_0 = [np.mean(Y_true)] * n"
   ]
  },
  {
   "cell_type": "code",
   "execution_count": 8,
   "id": "7319b969",
   "metadata": {},
   "outputs": [
    {
     "data": {
      "text/plain": [
       "0.0"
      ]
     },
     "execution_count": 8,
     "metadata": {},
     "output_type": "execute_result"
    }
   ],
   "source": [
    "loss_0 = mean_squared_error(Y_true, Y_0)\n",
    "loss_0"
   ]
  },
  {
   "cell_type": "markdown",
   "id": "e249efd0",
   "metadata": {},
   "source": [
    "### R2, or normalized SSE for model Y_1 would be negative infinity and it would no longer look good\n",
    "### R2 = 1 - loss_1 / loss_0"
   ]
  }
 ],
 "metadata": {
  "kernelspec": {
   "display_name": "machine_learning",
   "language": "python",
   "name": "machine_learning"
  },
  "language_info": {
   "codemirror_mode": {
    "name": "ipython",
    "version": 3
   },
   "file_extension": ".py",
   "mimetype": "text/x-python",
   "name": "python",
   "nbconvert_exporter": "python",
   "pygments_lexer": "ipython3",
   "version": "3.7.8"
  }
 },
 "nbformat": 4,
 "nbformat_minor": 5
}
