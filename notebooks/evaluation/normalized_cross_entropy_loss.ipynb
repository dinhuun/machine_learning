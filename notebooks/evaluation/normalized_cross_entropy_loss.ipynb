{
 "cells": [
  {
   "cell_type": "code",
   "execution_count": 1,
   "id": "e8c50a00",
   "metadata": {},
   "outputs": [],
   "source": [
    "import numpy as np\n",
    "from sklearn.metrics import accuracy_score, cohen_kappa_score, f1_score, log_loss, precision_score, recall_score"
   ]
  },
  {
   "cell_type": "markdown",
   "id": "9e60b3d5",
   "metadata": {},
   "source": [
    "### suppose dataset has class imbalance, class 1 is present 99.9%"
   ]
  },
  {
   "cell_type": "code",
   "execution_count": 2,
   "id": "d1837530",
   "metadata": {},
   "outputs": [],
   "source": [
    "n = 1000\n",
    "n_1 = 999\n",
    "p = n_1 / n"
   ]
  },
  {
   "cell_type": "code",
   "execution_count": 3,
   "id": "1fa1c5f7",
   "metadata": {},
   "outputs": [],
   "source": [
    "Y_true = [1] * 1000\n",
    "Y_true[0] = 0"
   ]
  },
  {
   "cell_type": "markdown",
   "id": "7db78e53",
   "metadata": {},
   "source": [
    "### a model Y_1 that predicts 1 all the time would have small loss and look good"
   ]
  },
  {
   "cell_type": "code",
   "execution_count": 4,
   "id": "07c16143",
   "metadata": {},
   "outputs": [],
   "source": [
    "Y_1 = [1] * n"
   ]
  },
  {
   "cell_type": "code",
   "execution_count": 5,
   "id": "4e76dc56",
   "metadata": {},
   "outputs": [
    {
     "data": {
      "text/plain": [
       "0.03453957599234186"
      ]
     },
     "execution_count": 5,
     "metadata": {},
     "output_type": "execute_result"
    }
   ],
   "source": [
    "loss_1 = log_loss(Y_true, Y_1)\n",
    "loss_1"
   ]
  },
  {
   "cell_type": "markdown",
   "id": "95031cc5",
   "metadata": {},
   "source": [
    "### but a model Y_9 that simply predicts empirical p would have even smaller loss"
   ]
  },
  {
   "cell_type": "code",
   "execution_count": 6,
   "id": "3278b79a",
   "metadata": {},
   "outputs": [],
   "source": [
    "Y_9 = [p] * n"
   ]
  },
  {
   "cell_type": "code",
   "execution_count": 7,
   "id": "b5dbadc6",
   "metadata": {},
   "outputs": [
    {
     "data": {
      "text/plain": [
       "0.00790725511223209"
      ]
     },
     "execution_count": 7,
     "metadata": {},
     "output_type": "execute_result"
    }
   ],
   "source": [
    "# p * np.log(1/p) + (1 - p) * np.log(1 / (1 - p))\n",
    "loss_9 = log_loss(Y_true, Y_9)\n",
    "loss_9"
   ]
  },
  {
   "cell_type": "markdown",
   "id": "c75abc21",
   "metadata": {},
   "source": [
    "### the normalized loss for model Y_1 would be greater than 1 and it would no longer lood good"
   ]
  },
  {
   "cell_type": "code",
   "execution_count": 8,
   "id": "af39a793",
   "metadata": {},
   "outputs": [
    {
     "data": {
      "text/plain": [
       "4.368086713037882"
      ]
     },
     "execution_count": 8,
     "metadata": {},
     "output_type": "execute_result"
    }
   ],
   "source": [
    "nce = loss_1 / loss_9\n",
    "nce"
   ]
  },
  {
   "cell_type": "markdown",
   "id": "f9735fde",
   "metadata": {},
   "source": [
    "### and other metrics"
   ]
  },
  {
   "cell_type": "code",
   "execution_count": 9,
   "id": "0858eab1",
   "metadata": {},
   "outputs": [
    {
     "data": {
      "text/plain": [
       "0.999"
      ]
     },
     "execution_count": 9,
     "metadata": {},
     "output_type": "execute_result"
    }
   ],
   "source": [
    "accuracy_score(Y_true, Y_1)"
   ]
  },
  {
   "cell_type": "code",
   "execution_count": 10,
   "id": "92a5bacd",
   "metadata": {},
   "outputs": [
    {
     "data": {
      "text/plain": [
       "0.999"
      ]
     },
     "execution_count": 10,
     "metadata": {},
     "output_type": "execute_result"
    }
   ],
   "source": [
    "precision_score(Y_true, Y_1)"
   ]
  },
  {
   "cell_type": "code",
   "execution_count": 11,
   "id": "238a058d",
   "metadata": {},
   "outputs": [
    {
     "data": {
      "text/plain": [
       "1.0"
      ]
     },
     "execution_count": 11,
     "metadata": {},
     "output_type": "execute_result"
    }
   ],
   "source": [
    "recall_score(Y_true, Y_1)"
   ]
  },
  {
   "cell_type": "code",
   "execution_count": 12,
   "id": "8243442b",
   "metadata": {},
   "outputs": [
    {
     "data": {
      "text/plain": [
       "0.9994997498749374"
      ]
     },
     "execution_count": 12,
     "metadata": {},
     "output_type": "execute_result"
    }
   ],
   "source": [
    "f1_score(Y_true, Y_1)"
   ]
  },
  {
   "cell_type": "code",
   "execution_count": 13,
   "id": "1499701f",
   "metadata": {},
   "outputs": [
    {
     "data": {
      "text/plain": [
       "1.0"
      ]
     },
     "execution_count": 13,
     "metadata": {},
     "output_type": "execute_result"
    }
   ],
   "source": [
    "# complete agreement\n",
    "cohen_kappa_score(Y_true, Y_true)"
   ]
  },
  {
   "cell_type": "code",
   "execution_count": 14,
   "id": "90ba6eff",
   "metadata": {},
   "outputs": [
    {
     "data": {
      "text/plain": [
       "0.0"
      ]
     },
     "execution_count": 14,
     "metadata": {},
     "output_type": "execute_result"
    }
   ],
   "source": [
    "# random-chance agreement\n",
    "cohen_kappa_score(Y_true, Y_1)"
   ]
  }
 ],
 "metadata": {
  "kernelspec": {
   "display_name": "machine_learning",
   "language": "python",
   "name": "machine_learning"
  },
  "language_info": {
   "codemirror_mode": {
    "name": "ipython",
    "version": 3
   },
   "file_extension": ".py",
   "mimetype": "text/x-python",
   "name": "python",
   "nbconvert_exporter": "python",
   "pygments_lexer": "ipython3",
   "version": "3.7.8"
  }
 },
 "nbformat": 4,
 "nbformat_minor": 5
}
