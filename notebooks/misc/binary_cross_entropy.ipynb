{
 "cells": [
  {
   "cell_type": "code",
   "execution_count": 1,
   "id": "779eab32",
   "metadata": {},
   "outputs": [],
   "source": [
    "from itertools import starmap\n",
    "\n",
    "import numpy as np\n",
    "from keras import backend\n",
    "from keras.losses import binary_crossentropy"
   ]
  },
  {
   "cell_type": "code",
   "execution_count": 2,
   "id": "894e840b",
   "metadata": {},
   "outputs": [],
   "source": [
    "p = np.array([1, 1, 1, 1, 1, 0, 0, 0, 0, 0])\n",
    "q = np.array([0.8, 0.9, 0.9, 0.6, 0.8, 0.1, 0.4, 0.2, 0.1, 0.3])"
   ]
  },
  {
   "cell_type": "markdown",
   "id": "b716d883",
   "metadata": {},
   "source": [
    "### by hand"
   ]
  },
  {
   "cell_type": "code",
   "execution_count": 3,
   "id": "d4eefe83",
   "metadata": {},
   "outputs": [],
   "source": [
    "def cross_entropy(y, y_hat):\n",
    "    \"\"\"\n",
    "    cross entropy H(p, q) for each sample in logistic regression, where\n",
    "        * p(Y = 1) = y, p(Y = 0) = 1 - y\n",
    "        * q(Y = 1) = y_hat, q(Y = 0) = 1 - y_hat\n",
    "    note base e, unit nat, not base 2, unit bit\n",
    "    \"\"\"\n",
    "    return y * np.log(1 / y_hat) + (1 - y) * np.log(1 / (1 - y_hat))"
   ]
  },
  {
   "cell_type": "code",
   "execution_count": 4,
   "id": "be751a51",
   "metadata": {},
   "outputs": [
    {
     "data": {
      "text/plain": [
       "[0.22314355131420976,\n",
       " 0.10536051565782635,\n",
       " 0.10536051565782635,\n",
       " 0.5108256237659907,\n",
       " 0.22314355131420976,\n",
       " 0.10536051565782635,\n",
       " 0.5108256237659907,\n",
       " 0.22314355131420976,\n",
       " 0.10536051565782635,\n",
       " 0.3566749439387324]"
      ]
     },
     "execution_count": 4,
     "metadata": {},
     "output_type": "execute_result"
    }
   ],
   "source": [
    "p_q = zip(p, q)\n",
    "\n",
    "entropies = starmap(cross_entropy, p_q)\n",
    "entropies = list(entropies)\n",
    "entropies"
   ]
  },
  {
   "cell_type": "code",
   "execution_count": 5,
   "id": "59cc389b",
   "metadata": {},
   "outputs": [
    {
     "data": {
      "text/plain": [
       "0.24691989080446483"
      ]
     },
     "execution_count": 5,
     "metadata": {},
     "output_type": "execute_result"
    }
   ],
   "source": [
    "np.mean(entropies)"
   ]
  },
  {
   "cell_type": "markdown",
   "id": "446fa413",
   "metadata": {},
   "source": [
    "### by keras"
   ]
  },
  {
   "cell_type": "code",
   "execution_count": 6,
   "id": "1d527386",
   "metadata": {},
   "outputs": [
    {
     "name": "stderr",
     "output_type": "stream",
     "text": [
      "2022-05-17 16:16:51.050285: I tensorflow/core/platform/cpu_feature_guard.cc:151] This TensorFlow binary is optimized with oneAPI Deep Neural Network Library (oneDNN) to use the following CPU instructions in performance-critical operations:  AVX2 FMA\n",
      "To enable them in other operations, rebuild TensorFlow with the appropriate compiler flags.\n"
     ]
    }
   ],
   "source": [
    "Y = backend.variable(p)\n",
    "Y_pred = backend.variable(q)"
   ]
  },
  {
   "cell_type": "code",
   "execution_count": 7,
   "id": "cbf7b161",
   "metadata": {},
   "outputs": [
    {
     "data": {
      "text/plain": [
       "0.24691972"
      ]
     },
     "execution_count": 7,
     "metadata": {},
     "output_type": "execute_result"
    }
   ],
   "source": [
    "mean_cross_entropy = backend.eval(binary_crossentropy(Y, Y_pred))\n",
    "mean_cross_entropy"
   ]
  }
 ],
 "metadata": {
  "kernelspec": {
   "display_name": "machine_learning",
   "language": "python",
   "name": "machine_learning"
  },
  "language_info": {
   "codemirror_mode": {
    "name": "ipython",
    "version": 3
   },
   "file_extension": ".py",
   "mimetype": "text/x-python",
   "name": "python",
   "nbconvert_exporter": "python",
   "pygments_lexer": "ipython3",
   "version": "3.7.8"
  }
 },
 "nbformat": 4,
 "nbformat_minor": 5
}
