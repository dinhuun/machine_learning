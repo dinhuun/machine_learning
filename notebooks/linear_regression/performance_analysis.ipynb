{
 "cells": [
  {
   "cell_type": "code",
   "execution_count": 1,
   "id": "7390e398",
   "metadata": {},
   "outputs": [],
   "source": [
    "import numpy as np\n",
    "import pandas as pd\n",
    "import seaborn as sbn\n",
    "\n",
    "from matplotlib import pyplot as plt\n",
    "from sklearn.datasets import make_regression\n",
    "from sklearn.linear_model import LinearRegression\n",
    "from sklearn.metrics import r2_score\n",
    "from sklearn.preprocessing import MinMaxScaler\n",
    "from statsmodels.regression.linear_model import OLS\n",
    "from statsmodels.tools.tools import add_constant"
   ]
  },
  {
   "cell_type": "code",
   "execution_count": 2,
   "id": "d34bbe16",
   "metadata": {},
   "outputs": [],
   "source": [
    "sbn.set_style(\"whitegrid\")\n",
    "\n",
    "figsize = (12, 6)"
   ]
  },
  {
   "cell_type": "markdown",
   "id": "f86db412",
   "metadata": {},
   "source": [
    "### data"
   ]
  },
  {
   "cell_type": "code",
   "execution_count": 3,
   "id": "d7ceed9e",
   "metadata": {},
   "outputs": [],
   "source": [
    "n = 20\n",
    "m = 6\n",
    "random_state = 0\n",
    "noise = 0.5\n",
    "X, Y = make_regression(n_samples=n, n_features=m, random_state=random_state, noise=noise)"
   ]
  },
  {
   "cell_type": "markdown",
   "id": "68e60aea",
   "metadata": {},
   "source": [
    "#### independent variable vs dependent variable"
   ]
  },
  {
   "cell_type": "code",
   "execution_count": 4,
   "id": "aba09f88",
   "metadata": {},
   "outputs": [
    {
     "data": {
      "image/png": "[encoded data removed]",
      "text/plain": [
       "<Figure size 864x432 with 6 Axes>"
      ]
     },
     "metadata": {},
     "output_type": "display_data"
    }
   ],
   "source": [
    "fig, axs = plt.subplots(2, 3, figsize=figsize)\n",
    "axs[0, 0].scatter(X[:, 0], Y)\n",
    "axs[0, 1].scatter(X[:, 1], Y)\n",
    "axs[0, 2].scatter(X[:, 2], Y)\n",
    "axs[1, 0].scatter(X[:, 3], Y)\n",
    "axs[1, 1].scatter(X[:, 4], Y)\n",
    "axs[1, 2].scatter(X[:, 5], Y)\n",
    "plt.show()"
   ]
  },
  {
   "cell_type": "markdown",
   "id": "e6d3c55d",
   "metadata": {},
   "source": [
    "#### independent variable vs indenpendent variable"
   ]
  },
  {
   "cell_type": "code",
   "execution_count": 5,
   "id": "a010c284",
   "metadata": {},
   "outputs": [],
   "source": [
    "df = pd.DataFrame(X, columns=[\"X_0\", \"X_1\", \"X_2\", \"X_3\", \"X_4\", \"X_5\"])"
   ]
  },
  {
   "cell_type": "code",
   "execution_count": 6,
   "id": "0d1e36c9",
   "metadata": {},
   "outputs": [],
   "source": [
    "corr = df.corr()"
   ]
  },
  {
   "cell_type": "code",
   "execution_count": 7,
   "id": "8b800b55",
   "metadata": {},
   "outputs": [
    {
     "data": {
      "text/html": [
       "<div>\n",
       "<style scoped>\n",
       "    .dataframe tbody tr th:only-of-type {\n",
       "        vertical-align: middle;\n",
       "    }\n",
       "\n",
       "    .dataframe tbody tr th {\n",
       "        vertical-align: top;\n",
       "    }\n",
       "\n",
       "    .dataframe thead th {\n",
       "        text-align: right;\n",
       "    }\n",
       "</style>\n",
       "<table border=\"1\" class=\"dataframe\">\n",
       "  <thead>\n",
       "    <tr style=\"text-align: right;\">\n",
       "      <th></th>\n",
       "      <th>X_0</th>\n",
       "      <th>X_1</th>\n",
       "      <th>X_2</th>\n",
       "      <th>X_3</th>\n",
       "      <th>X_4</th>\n",
       "      <th>X_5</th>\n",
       "    </tr>\n",
       "  </thead>\n",
       "  <tbody>\n",
       "    <tr>\n",
       "      <th>X_0</th>\n",
       "      <td>1.000000</td>\n",
       "      <td>0.292420</td>\n",
       "      <td>-0.190848</td>\n",
       "      <td>0.072106</td>\n",
       "      <td>0.552589</td>\n",
       "      <td>0.164320</td>\n",
       "    </tr>\n",
       "    <tr>\n",
       "      <th>X_1</th>\n",
       "      <td>0.292420</td>\n",
       "      <td>1.000000</td>\n",
       "      <td>0.118720</td>\n",
       "      <td>-0.158217</td>\n",
       "      <td>0.490268</td>\n",
       "      <td>-0.159519</td>\n",
       "    </tr>\n",
       "    <tr>\n",
       "      <th>X_2</th>\n",
       "      <td>-0.190848</td>\n",
       "      <td>0.118720</td>\n",
       "      <td>1.000000</td>\n",
       "      <td>0.166191</td>\n",
       "      <td>0.357661</td>\n",
       "      <td>-0.288054</td>\n",
       "    </tr>\n",
       "    <tr>\n",
       "      <th>X_3</th>\n",
       "      <td>0.072106</td>\n",
       "      <td>-0.158217</td>\n",
       "      <td>0.166191</td>\n",
       "      <td>1.000000</td>\n",
       "      <td>0.120069</td>\n",
       "      <td>0.305531</td>\n",
       "    </tr>\n",
       "    <tr>\n",
       "      <th>X_4</th>\n",
       "      <td>0.552589</td>\n",
       "      <td>0.490268</td>\n",
       "      <td>0.357661</td>\n",
       "      <td>0.120069</td>\n",
       "      <td>1.000000</td>\n",
       "      <td>-0.030526</td>\n",
       "    </tr>\n",
       "    <tr>\n",
       "      <th>X_5</th>\n",
       "      <td>0.164320</td>\n",
       "      <td>-0.159519</td>\n",
       "      <td>-0.288054</td>\n",
       "      <td>0.305531</td>\n",
       "      <td>-0.030526</td>\n",
       "      <td>1.000000</td>\n",
       "    </tr>\n",
       "  </tbody>\n",
       "</table>\n",
       "</div>"
      ],
      "text/plain": [
       "          X_0       X_1       X_2       X_3       X_4       X_5\n",
       "X_0  1.000000  0.292420 -0.190848  0.072106  0.552589  0.164320\n",
       "X_1  0.292420  1.000000  0.118720 -0.158217  0.490268 -0.159519\n",
       "X_2 -0.190848  0.118720  1.000000  0.166191  0.357661 -0.288054\n",
       "X_3  0.072106 -0.158217  0.166191  1.000000  0.120069  0.305531\n",
       "X_4  0.552589  0.490268  0.357661  0.120069  1.000000 -0.030526\n",
       "X_5  0.164320 -0.159519 -0.288054  0.305531 -0.030526  1.000000"
      ]
     },
     "execution_count": 7,
     "metadata": {},
     "output_type": "execute_result"
    }
   ],
   "source": [
    "corr"
   ]
  },
  {
   "cell_type": "code",
   "execution_count": 8,
   "id": "73cb6156",
   "metadata": {},
   "outputs": [
    {
     "data": {
      "image/png": "[encoded data removed]",
      "text/plain": [
       "<Figure size 576x576 with 2 Axes>"
      ]
     },
     "metadata": {},
     "output_type": "display_data"
    }
   ],
   "source": [
    "plt.figure(figsize=(8, 8))\n",
    "ax = sbn.heatmap(corr, cmap=sbn.diverging_palette(20, 220, n=200), square=True)\n",
    "ax.set_xticklabels(ax.get_xticklabels(), horizontalalignment='right')\n",
    "plt.show()"
   ]
  },
  {
   "cell_type": "markdown",
   "id": "9b586419",
   "metadata": {},
   "source": [
    "### one feature"
   ]
  },
  {
   "cell_type": "code",
   "execution_count": 9,
   "id": "98f10a3d",
   "metadata": {},
   "outputs": [
    {
     "data": {
      "text/html": [
       "<table class=\"simpletable\">\n",
       "<caption>OLS Regression Results</caption>\n",
       "<tr>\n",
       "  <th>Dep. Variable:</th>            <td>y</td>        <th>  R-squared:         </th> <td>   0.580</td>\n",
       "</tr>\n",
       "<tr>\n",
       "  <th>Model:</th>                   <td>OLS</td>       <th>  Adj. R-squared:    </th> <td>   0.557</td>\n",
       "</tr>\n",
       "<tr>\n",
       "  <th>Method:</th>             <td>Least Squares</td>  <th>  F-statistic:       </th> <td>   24.89</td>\n",
       "</tr>\n",
       "<tr>\n",
       "  <th>Date:</th>             <td>Sun, 19 Jun 2022</td> <th>  Prob (F-statistic):</th> <td>9.51e-05</td>\n",
       "</tr>\n",
       "<tr>\n",
       "  <th>Time:</th>                 <td>13:55:30</td>     <th>  Log-Likelihood:    </th> <td> -127.13</td>\n",
       "</tr>\n",
       "<tr>\n",
       "  <th>No. Observations:</th>      <td>    20</td>      <th>  AIC:               </th> <td>   258.3</td>\n",
       "</tr>\n",
       "<tr>\n",
       "  <th>Df Residuals:</th>          <td>    18</td>      <th>  BIC:               </th> <td>   260.2</td>\n",
       "</tr>\n",
       "<tr>\n",
       "  <th>Df Model:</th>              <td>     1</td>      <th>                     </th>     <td> </td>   \n",
       "</tr>\n",
       "<tr>\n",
       "  <th>Covariance Type:</th>      <td>nonrobust</td>    <th>                     </th>     <td> </td>   \n",
       "</tr>\n",
       "</table>\n",
       "<table class=\"simpletable\">\n",
       "<tr>\n",
       "    <td></td>       <th>coef</th>     <th>std err</th>      <th>t</th>      <th>P>|t|</th>  <th>[0.025</th>    <th>0.975]</th>  \n",
       "</tr>\n",
       "<tr>\n",
       "  <th>const</th> <td>   75.4032</td> <td>   33.269</td> <td>    2.267</td> <td> 0.036</td> <td>    5.509</td> <td>  145.298</td>\n",
       "</tr>\n",
       "<tr>\n",
       "  <th>x1</th>    <td>  166.3726</td> <td>   33.349</td> <td>    4.989</td> <td> 0.000</td> <td>   96.309</td> <td>  236.436</td>\n",
       "</tr>\n",
       "</table>\n",
       "<table class=\"simpletable\">\n",
       "<tr>\n",
       "  <th>Omnibus:</th>       <td> 2.497</td> <th>  Durbin-Watson:     </th> <td>   2.504</td>\n",
       "</tr>\n",
       "<tr>\n",
       "  <th>Prob(Omnibus):</th> <td> 0.287</td> <th>  Jarque-Bera (JB):  </th> <td>   1.346</td>\n",
       "</tr>\n",
       "<tr>\n",
       "  <th>Skew:</th>          <td>-0.630</td> <th>  Prob(JB):          </th> <td>   0.510</td>\n",
       "</tr>\n",
       "<tr>\n",
       "  <th>Kurtosis:</th>      <td> 3.165</td> <th>  Cond. No.          </th> <td>    1.17</td>\n",
       "</tr>\n",
       "</table><br/><br/>Notes:<br/>[1] Standard Errors assume that the covariance matrix of the errors is correctly specified."
      ],
      "text/plain": [
       "<class 'statsmodels.iolib.summary.Summary'>\n",
       "\"\"\"\n",
       "                            OLS Regression Results                            \n",
       "==============================================================================\n",
       "Dep. Variable:                      y   R-squared:                       0.580\n",
       "Model:                            OLS   Adj. R-squared:                  0.557\n",
       "Method:                 Least Squares   F-statistic:                     24.89\n",
       "Date:                Sun, 19 Jun 2022   Prob (F-statistic):           9.51e-05\n",
       "Time:                        13:55:30   Log-Likelihood:                -127.13\n",
       "No. Observations:                  20   AIC:                             258.3\n",
       "Df Residuals:                      18   BIC:                             260.2\n",
       "Df Model:                           1                                         \n",
       "Covariance Type:            nonrobust                                         \n",
       "==============================================================================\n",
       "                 coef    std err          t      P>|t|      [0.025      0.975]\n",
       "------------------------------------------------------------------------------\n",
       "const         75.4032     33.269      2.267      0.036       5.509     145.298\n",
       "x1           166.3726     33.349      4.989      0.000      96.309     236.436\n",
       "==============================================================================\n",
       "Omnibus:                        2.497   Durbin-Watson:                   2.504\n",
       "Prob(Omnibus):                  0.287   Jarque-Bera (JB):                1.346\n",
       "Skew:                          -0.630   Prob(JB):                        0.510\n",
       "Kurtosis:                       3.165   Cond. No.                         1.17\n",
       "==============================================================================\n",
       "\n",
       "Notes:\n",
       "[1] Standard Errors assume that the covariance matrix of the errors is correctly specified.\n",
       "\"\"\""
      ]
     },
     "execution_count": 9,
     "metadata": {},
     "output_type": "execute_result"
    }
   ],
   "source": [
    "X_4 = add_constant(X[:, 4])\n",
    "model = OLS(Y, X_4).fit()\n",
    "model.summary()"
   ]
  },
  {
   "cell_type": "markdown",
   "id": "106a965b",
   "metadata": {},
   "source": [
    "### adding more features"
   ]
  },
  {
   "cell_type": "markdown",
   "id": "439df0b8",
   "metadata": {},
   "source": [
    "#### adding a highly correlated, lowly predictive feature\n",
    "* gain: increase in SSM, R-squared\n",
    "* cost: decrease in adjusted R-squared\n",
    "    * decrease in stability of coefficient estimation\n",
    "    * decrease in explaination by each feature\n",
    "    * increase in overfitting"
   ]
  },
  {
   "cell_type": "code",
   "execution_count": 10,
   "id": "590b6b7c",
   "metadata": {},
   "outputs": [
    {
     "data": {
      "text/html": [
       "<table class=\"simpletable\">\n",
       "<caption>OLS Regression Results</caption>\n",
       "<tr>\n",
       "  <th>Dep. Variable:</th>            <td>y</td>        <th>  R-squared:         </th> <td>   0.594</td>\n",
       "</tr>\n",
       "<tr>\n",
       "  <th>Model:</th>                   <td>OLS</td>       <th>  Adj. R-squared:    </th> <td>   0.546</td>\n",
       "</tr>\n",
       "<tr>\n",
       "  <th>Method:</th>             <td>Least Squares</td>  <th>  F-statistic:       </th> <td>   12.45</td>\n",
       "</tr>\n",
       "<tr>\n",
       "  <th>Date:</th>             <td>Sun, 19 Jun 2022</td> <th>  Prob (F-statistic):</th> <td>0.000469</td>\n",
       "</tr>\n",
       "<tr>\n",
       "  <th>Time:</th>                 <td>13:55:30</td>     <th>  Log-Likelihood:    </th> <td> -126.79</td>\n",
       "</tr>\n",
       "<tr>\n",
       "  <th>No. Observations:</th>      <td>    20</td>      <th>  AIC:               </th> <td>   259.6</td>\n",
       "</tr>\n",
       "<tr>\n",
       "  <th>Df Residuals:</th>          <td>    17</td>      <th>  BIC:               </th> <td>   262.6</td>\n",
       "</tr>\n",
       "<tr>\n",
       "  <th>Df Model:</th>              <td>     2</td>      <th>                     </th>     <td> </td>   \n",
       "</tr>\n",
       "<tr>\n",
       "  <th>Covariance Type:</th>      <td>nonrobust</td>    <th>                     </th>     <td> </td>   \n",
       "</tr>\n",
       "</table>\n",
       "<table class=\"simpletable\">\n",
       "<tr>\n",
       "    <td></td>       <th>coef</th>     <th>std err</th>      <th>t</th>      <th>P>|t|</th>  <th>[0.025</th>    <th>0.975]</th>  \n",
       "</tr>\n",
       "<tr>\n",
       "  <th>const</th> <td>   83.3110</td> <td>   35.224</td> <td>    2.365</td> <td> 0.030</td> <td>    8.995</td> <td>  157.627</td>\n",
       "</tr>\n",
       "<tr>\n",
       "  <th>x1</th>    <td>  -25.5559</td> <td>   33.519</td> <td>   -0.762</td> <td> 0.456</td> <td>  -96.275</td> <td>   45.164</td>\n",
       "</tr>\n",
       "<tr>\n",
       "  <th>x2</th>    <td>  183.4298</td> <td>   40.486</td> <td>    4.531</td> <td> 0.000</td> <td>   98.011</td> <td>  268.849</td>\n",
       "</tr>\n",
       "</table>\n",
       "<table class=\"simpletable\">\n",
       "<tr>\n",
       "  <th>Omnibus:</th>       <td> 2.506</td> <th>  Durbin-Watson:     </th> <td>   2.424</td>\n",
       "</tr>\n",
       "<tr>\n",
       "  <th>Prob(Omnibus):</th> <td> 0.286</td> <th>  Jarque-Bera (JB):  </th> <td>   1.510</td>\n",
       "</tr>\n",
       "<tr>\n",
       "  <th>Skew:</th>          <td>-0.673</td> <th>  Prob(JB):          </th> <td>   0.470</td>\n",
       "</tr>\n",
       "<tr>\n",
       "  <th>Kurtosis:</th>      <td> 3.022</td> <th>  Cond. No.          </th> <td>    2.03</td>\n",
       "</tr>\n",
       "</table><br/><br/>Notes:<br/>[1] Standard Errors assume that the covariance matrix of the errors is correctly specified."
      ],
      "text/plain": [
       "<class 'statsmodels.iolib.summary.Summary'>\n",
       "\"\"\"\n",
       "                            OLS Regression Results                            \n",
       "==============================================================================\n",
       "Dep. Variable:                      y   R-squared:                       0.594\n",
       "Model:                            OLS   Adj. R-squared:                  0.546\n",
       "Method:                 Least Squares   F-statistic:                     12.45\n",
       "Date:                Sun, 19 Jun 2022   Prob (F-statistic):           0.000469\n",
       "Time:                        13:55:30   Log-Likelihood:                -126.79\n",
       "No. Observations:                  20   AIC:                             259.6\n",
       "Df Residuals:                      17   BIC:                             262.6\n",
       "Df Model:                           2                                         \n",
       "Covariance Type:            nonrobust                                         \n",
       "==============================================================================\n",
       "                 coef    std err          t      P>|t|      [0.025      0.975]\n",
       "------------------------------------------------------------------------------\n",
       "const         83.3110     35.224      2.365      0.030       8.995     157.627\n",
       "x1           -25.5559     33.519     -0.762      0.456     -96.275      45.164\n",
       "x2           183.4298     40.486      4.531      0.000      98.011     268.849\n",
       "==============================================================================\n",
       "Omnibus:                        2.506   Durbin-Watson:                   2.424\n",
       "Prob(Omnibus):                  0.286   Jarque-Bera (JB):                1.510\n",
       "Skew:                          -0.673   Prob(JB):                        0.470\n",
       "Kurtosis:                       3.022   Cond. No.                         2.03\n",
       "==============================================================================\n",
       "\n",
       "Notes:\n",
       "[1] Standard Errors assume that the covariance matrix of the errors is correctly specified.\n",
       "\"\"\""
      ]
     },
     "execution_count": 10,
     "metadata": {},
     "output_type": "execute_result"
    }
   ],
   "source": [
    "X_4_0 = add_constant(X[:, [0, 4]])\n",
    "model = OLS(Y, X_4_0).fit()\n",
    "model.summary()"
   ]
  },
  {
   "cell_type": "markdown",
   "id": "3ee23923",
   "metadata": {},
   "source": [
    "#### adding a linearly dependent feature\n",
    "* gain: no increase in SSM, R-squared\n",
    "* cost: no decrease in adjusted R-squared\n",
    "    * decrease in stability of coefficient estimation\n",
    "    * decrease in explaination by each feature\n",
    "    * increase in overfitting"
   ]
  },
  {
   "cell_type": "code",
   "execution_count": 11,
   "id": "cd00550e",
   "metadata": {},
   "outputs": [],
   "source": [
    "X_0_plus_4 = X[:, 0] + X[:, 4]\n",
    "X_0_plus_4 = X_0_plus_4.reshape(n, -1)\n",
    "\n",
    "X_4_0_0_plus_4 = np.hstack([X[:, [0, 4]], X_0_plus_4])"
   ]
  },
  {
   "cell_type": "code",
   "execution_count": 12,
   "id": "86a73d26",
   "metadata": {},
   "outputs": [
    {
     "data": {
      "text/html": [
       "<table class=\"simpletable\">\n",
       "<caption>OLS Regression Results</caption>\n",
       "<tr>\n",
       "  <th>Dep. Variable:</th>            <td>y</td>        <th>  R-squared:         </th> <td>   0.594</td>\n",
       "</tr>\n",
       "<tr>\n",
       "  <th>Model:</th>                   <td>OLS</td>       <th>  Adj. R-squared:    </th> <td>   0.546</td>\n",
       "</tr>\n",
       "<tr>\n",
       "  <th>Method:</th>             <td>Least Squares</td>  <th>  F-statistic:       </th> <td>   12.45</td>\n",
       "</tr>\n",
       "<tr>\n",
       "  <th>Date:</th>             <td>Sun, 19 Jun 2022</td> <th>  Prob (F-statistic):</th> <td>0.000469</td>\n",
       "</tr>\n",
       "<tr>\n",
       "  <th>Time:</th>                 <td>13:55:30</td>     <th>  Log-Likelihood:    </th> <td> -126.79</td>\n",
       "</tr>\n",
       "<tr>\n",
       "  <th>No. Observations:</th>      <td>    20</td>      <th>  AIC:               </th> <td>   259.6</td>\n",
       "</tr>\n",
       "<tr>\n",
       "  <th>Df Residuals:</th>          <td>    17</td>      <th>  BIC:               </th> <td>   262.6</td>\n",
       "</tr>\n",
       "<tr>\n",
       "  <th>Df Model:</th>              <td>     2</td>      <th>                     </th>     <td> </td>   \n",
       "</tr>\n",
       "<tr>\n",
       "  <th>Covariance Type:</th>      <td>nonrobust</td>    <th>                     </th>     <td> </td>   \n",
       "</tr>\n",
       "</table>\n",
       "<table class=\"simpletable\">\n",
       "<tr>\n",
       "    <td></td>       <th>coef</th>     <th>std err</th>      <th>t</th>      <th>P>|t|</th>  <th>[0.025</th>    <th>0.975]</th>  \n",
       "</tr>\n",
       "<tr>\n",
       "  <th>const</th> <td>   83.3110</td> <td>   35.224</td> <td>    2.365</td> <td> 0.030</td> <td>    8.995</td> <td>  157.627</td>\n",
       "</tr>\n",
       "<tr>\n",
       "  <th>x1</th>    <td>  -78.1805</td> <td>   31.855</td> <td>   -2.454</td> <td> 0.025</td> <td> -145.390</td> <td>  -10.971</td>\n",
       "</tr>\n",
       "<tr>\n",
       "  <th>x2</th>    <td>  130.8052</td> <td>   34.448</td> <td>    3.797</td> <td> 0.001</td> <td>   58.127</td> <td>  203.483</td>\n",
       "</tr>\n",
       "<tr>\n",
       "  <th>x3</th>    <td>   52.6246</td> <td>   11.846</td> <td>    4.443</td> <td> 0.000</td> <td>   27.632</td> <td>   77.617</td>\n",
       "</tr>\n",
       "</table>\n",
       "<table class=\"simpletable\">\n",
       "<tr>\n",
       "  <th>Omnibus:</th>       <td> 2.506</td> <th>  Durbin-Watson:     </th> <td>   2.424</td>\n",
       "</tr>\n",
       "<tr>\n",
       "  <th>Prob(Omnibus):</th> <td> 0.286</td> <th>  Jarque-Bera (JB):  </th> <td>   1.510</td>\n",
       "</tr>\n",
       "<tr>\n",
       "  <th>Skew:</th>          <td>-0.673</td> <th>  Prob(JB):          </th> <td>   0.470</td>\n",
       "</tr>\n",
       "<tr>\n",
       "  <th>Kurtosis:</th>      <td> 3.022</td> <th>  Cond. No.          </th> <td>8.39e+15</td>\n",
       "</tr>\n",
       "</table><br/><br/>Notes:<br/>[1] Standard Errors assume that the covariance matrix of the errors is correctly specified.<br/>[2] The smallest eigenvalue is 1.58e-30. This might indicate that there are<br/>strong multicollinearity problems or that the design matrix is singular."
      ],
      "text/plain": [
       "<class 'statsmodels.iolib.summary.Summary'>\n",
       "\"\"\"\n",
       "                            OLS Regression Results                            \n",
       "==============================================================================\n",
       "Dep. Variable:                      y   R-squared:                       0.594\n",
       "Model:                            OLS   Adj. R-squared:                  0.546\n",
       "Method:                 Least Squares   F-statistic:                     12.45\n",
       "Date:                Sun, 19 Jun 2022   Prob (F-statistic):           0.000469\n",
       "Time:                        13:55:30   Log-Likelihood:                -126.79\n",
       "No. Observations:                  20   AIC:                             259.6\n",
       "Df Residuals:                      17   BIC:                             262.6\n",
       "Df Model:                           2                                         \n",
       "Covariance Type:            nonrobust                                         \n",
       "==============================================================================\n",
       "                 coef    std err          t      P>|t|      [0.025      0.975]\n",
       "------------------------------------------------------------------------------\n",
       "const         83.3110     35.224      2.365      0.030       8.995     157.627\n",
       "x1           -78.1805     31.855     -2.454      0.025    -145.390     -10.971\n",
       "x2           130.8052     34.448      3.797      0.001      58.127     203.483\n",
       "x3            52.6246     11.846      4.443      0.000      27.632      77.617\n",
       "==============================================================================\n",
       "Omnibus:                        2.506   Durbin-Watson:                   2.424\n",
       "Prob(Omnibus):                  0.286   Jarque-Bera (JB):                1.510\n",
       "Skew:                          -0.673   Prob(JB):                        0.470\n",
       "Kurtosis:                       3.022   Cond. No.                     8.39e+15\n",
       "==============================================================================\n",
       "\n",
       "Notes:\n",
       "[1] Standard Errors assume that the covariance matrix of the errors is correctly specified.\n",
       "[2] The smallest eigenvalue is 1.58e-30. This might indicate that there are\n",
       "strong multicollinearity problems or that the design matrix is singular.\n",
       "\"\"\""
      ]
     },
     "execution_count": 12,
     "metadata": {},
     "output_type": "execute_result"
    }
   ],
   "source": [
    "X_4_0_0_plus_4 = add_constant(X_4_0_0_plus_4)\n",
    "model = OLS(Y, X_4_0_0_plus_4).fit()\n",
    "model.summary()"
   ]
  },
  {
   "cell_type": "code",
   "execution_count": null,
   "id": "3dc4a8e2",
   "metadata": {},
   "outputs": [],
   "source": []
  }
 ],
 "metadata": {
  "kernelspec": {
   "display_name": "machine_learning",
   "language": "python",
   "name": "machine_learning"
  },
  "language_info": {
   "codemirror_mode": {
    "name": "ipython",
    "version": 3
   },
   "file_extension": ".py",
   "mimetype": "text/x-python",
   "name": "python",
   "nbconvert_exporter": "python",
   "pygments_lexer": "ipython3",
   "version": "3.7.8"
  }
 },
 "nbformat": 4,
 "nbformat_minor": 5
}
