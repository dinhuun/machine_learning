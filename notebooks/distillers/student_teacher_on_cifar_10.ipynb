{
  "nbformat": 4,
  "nbformat_minor": 0,
  "metadata": {
    "colab": {
      "name": "student_teacher_on_cifar_10.ipynb",
      "provenance": [],
      "collapsed_sections": []
    },
    "kernelspec": {
      "name": "python3",
      "display_name": "Python 3"
    },
    "language_info": {
      "name": "python"
    }
  },
  "cells": [
    {
      "cell_type": "markdown",
      "source": [
        "**following** https://medium.com/analytics-vidhya/knowledge-distillation-in-a-deep-neural-network-c9dd59aff89b"
      ],
      "metadata": {
        "id": "AA_Ryw7XVo2U"
      }
    },
    {
      "cell_type": "code",
      "source": [
        "import numpy as np\n",
        "import tensorflow as tf\n",
        "from tensorflow import keras\n",
        "\n",
        "from machine_learning.distillers.student_teacher import init_student, init_teacher, StudentTeacher\n"
      ],
      "metadata": {
        "id": "jV_weLv0_EWM"
      },
      "execution_count": null,
      "outputs": []
    },
    {
      "cell_type": "markdown",
      "source": [
        "### **data**"
      ],
      "metadata": {
        "id": "-cwAnrd0VeJZ"
      }
    },
    {
      "cell_type": "code",
      "source": [
        "def load_data():\n",
        "    (X_train, Y_train), (X_test, Y_test) = tf.keras.datasets.cifar10.load_data()\n",
        "    X_train = X_train.astype(\"float32\") / 255.0\n",
        "    X_train = np.reshape(X_train, (-1, 32, 32, 3))\n",
        "    X_test = X_test.astype(\"float32\") / 255.0\n",
        "    X_test = np.reshape(X_test, (-1, 32, 32,3))\n",
        "    return X_train, Y_train, X_test, Y_test"
      ],
      "metadata": {
        "id": "tsjE5BLWbhMh"
      },
      "execution_count": 2,
      "outputs": []
    },
    {
      "cell_type": "code",
      "source": [
        "X_train, Y_train, X_test, Y_test = load_data()"
      ],
      "metadata": {
        "id": "JBTiDAvQuH2t"
      },
      "execution_count": 11,
      "outputs": []
    },
    {
      "cell_type": "markdown",
      "source": [
        "### **first train a larger teacher**"
      ],
      "metadata": {
        "id": "dMaMUUTiVPxE"
      }
    },
    {
      "cell_type": "code",
      "source": [
        "teacher = init_teacher()\n",
        "teacher.summary()"
      ],
      "metadata": {
        "colab": {
          "base_uri": "https://localhost:8080/"
        },
        "id": "35fW480FZ2wO",
        "outputId": "ba402326-4dcd-4738-971a-48df9f41bbe4"
      },
      "execution_count": 5,
      "outputs": [
        {
          "output_type": "stream",
          "name": "stdout",
          "text": [
            "Model: \"teacher\"\n",
            "_________________________________________________________________\n",
            " Layer (type)                Output Shape              Param #   \n",
            "=================================================================\n",
            " conv2d_2 (Conv2D)           (None, 16, 16, 256)       7168      \n",
            "                                                                 \n",
            " leaky_re_lu_2 (LeakyReLU)   (None, 16, 16, 256)       0         \n",
            "                                                                 \n",
            " max_pooling2d_2 (MaxPooling  (None, 16, 16, 256)      0         \n",
            " 2D)                                                             \n",
            "                                                                 \n",
            " conv2d_3 (Conv2D)           (None, 8, 8, 512)         1180160   \n",
            "                                                                 \n",
            " leaky_re_lu_3 (LeakyReLU)   (None, 8, 8, 512)         0         \n",
            "                                                                 \n",
            " max_pooling2d_3 (MaxPooling  (None, 8, 8, 512)        0         \n",
            " 2D)                                                             \n",
            "                                                                 \n",
            " flatten_1 (Flatten)         (None, 32768)             0         \n",
            "                                                                 \n",
            " dense_1 (Dense)             (None, 10)                327690    \n",
            "                                                                 \n",
            "=================================================================\n",
            "Total params: 1,515,018\n",
            "Trainable params: 1,515,018\n",
            "Non-trainable params: 0\n",
            "_________________________________________________________________\n"
          ]
        }
      ]
    },
    {
      "cell_type": "code",
      "source": [
        "teacher.compile(optimizer=tf.keras.optimizers.Adam(), \n",
        "                loss=tf.keras.losses.SparseCategoricalCrossentropy(from_logits=True), \n",
        "                metrics=[tf.keras.metrics.SparseCategoricalAccuracy()])"
      ],
      "metadata": {
        "id": "PBtyM5-xvvDL"
      },
      "execution_count": 6,
      "outputs": []
    },
    {
      "cell_type": "code",
      "source": [
        "epochs = 5\n",
        "teacher.fit(X_train, Y_train, epochs=epochs)"
      ],
      "metadata": {
        "colab": {
          "base_uri": "https://localhost:8080/"
        },
        "id": "P4CkcFAC-3ln",
        "outputId": "0dc0d108-8702-4bf0-e024-928c805b08ea"
      },
      "execution_count": 12,
      "outputs": [
        {
          "output_type": "stream",
          "name": "stdout",
          "text": [
            "Epoch 1/5\n",
            "1563/1563 [==============================] - 642s 411ms/step - loss: 1.3189 - sparse_categorical_accuracy: 0.5354\n",
            "Epoch 2/5\n",
            "1563/1563 [==============================] - 633s 405ms/step - loss: 1.0154 - sparse_categorical_accuracy: 0.6540\n",
            "Epoch 3/5\n",
            "1563/1563 [==============================] - 631s 404ms/step - loss: 0.8835 - sparse_categorical_accuracy: 0.6981\n",
            "Epoch 4/5\n",
            "1563/1563 [==============================] - 637s 408ms/step - loss: 0.7809 - sparse_categorical_accuracy: 0.7343\n",
            "Epoch 5/5\n",
            "1563/1563 [==============================] - 637s 408ms/step - loss: 0.6963 - sparse_categorical_accuracy: 0.7641\n",
            "313/313 [==============================] - 32s 100ms/step - loss: 1.0619 - sparse_categorical_accuracy: 0.6859\n"
          ]
        },
        {
          "output_type": "execute_result",
          "data": {
            "text/plain": [
              "[1.061924934387207, 0.6858999729156494]"
            ]
          },
          "metadata": {},
          "execution_count": 12
        }
      ]
    },
    {
      "cell_type": "code",
      "source": [
        "teacher.evaluate(X_test, Y_test)"
      ],
      "metadata": {
        "colab": {
          "base_uri": "https://localhost:8080/"
        },
        "id": "xjF1HVp59wuM",
        "outputId": "5138d603-553e-460f-a29c-4d39bc0e371f"
      },
      "execution_count": 13,
      "outputs": [
        {
          "output_type": "stream",
          "name": "stdout",
          "text": [
            "313/313 [==============================] - 31s 101ms/step - loss: 1.0619 - sparse_categorical_accuracy: 0.6859\n"
          ]
        },
        {
          "output_type": "execute_result",
          "data": {
            "text/plain": [
              "[1.061924934387207, 0.6858999729156494]"
            ]
          },
          "metadata": {},
          "execution_count": 13
        }
      ]
    },
    {
      "cell_type": "markdown",
      "source": [
        "### **then train a smaller student that will learn from teacher and perform better**"
      ],
      "metadata": {
        "id": "KZv95qHTV25i"
      }
    },
    {
      "cell_type": "code",
      "source": [
        "student = init_student()\n",
        "student.summary()"
      ],
      "metadata": {
        "colab": {
          "base_uri": "https://localhost:8080/"
        },
        "id": "x1-sSIm0VKBC",
        "outputId": "9b9db710-7aea-4908-8399-b75081dfe2f0"
      },
      "execution_count": 19,
      "outputs": [
        {
          "output_type": "stream",
          "name": "stdout",
          "text": [
            "Model: \"student\"\n",
            "_________________________________________________________________\n",
            " Layer (type)                Output Shape              Param #   \n",
            "=================================================================\n",
            " conv2d_4 (Conv2D)           (None, 16, 16, 64)        1792      \n",
            "                                                                 \n",
            " leaky_re_lu_4 (LeakyReLU)   (None, 16, 16, 64)        0         \n",
            "                                                                 \n",
            " max_pooling2d_4 (MaxPooling  (None, 16, 16, 64)       0         \n",
            " 2D)                                                             \n",
            "                                                                 \n",
            " conv2d_5 (Conv2D)           (None, 8, 8, 256)         147712    \n",
            "                                                                 \n",
            " leaky_re_lu_5 (LeakyReLU)   (None, 8, 8, 256)         0         \n",
            "                                                                 \n",
            " max_pooling2d_5 (MaxPooling  (None, 8, 8, 256)        0         \n",
            " 2D)                                                             \n",
            "                                                                 \n",
            " flatten_2 (Flatten)         (None, 16384)             0         \n",
            "                                                                 \n",
            " dense_2 (Dense)             (None, 10)                163850    \n",
            "                                                                 \n",
            "=================================================================\n",
            "Total params: 313,354\n",
            "Trainable params: 313,354\n",
            "Non-trainable params: 0\n",
            "_________________________________________________________________\n"
          ]
        }
      ]
    },
    {
      "cell_type": "code",
      "source": [
        "student_loss_fn = keras.losses.SparseCategoricalCrossentropy(from_logits=True)\n",
        "distill_loss_fn = keras.losses.KLDivergence()\n",
        "alpha = 0.3\n",
        "temp = 7\n",
        "\n",
        "model = StudentTeacher(student, teacher, student_loss_fn, distill_loss_fn, alpha, temp)"
      ],
      "metadata": {
        "id": "LEO7a398XXg3"
      },
      "execution_count": 15,
      "outputs": []
    },
    {
      "cell_type": "code",
      "source": [
        "model.compile(tf.keras.optimizers.Adam(), metrics=[keras.metrics.SparseCategoricalAccuracy()])"
      ],
      "metadata": {
        "id": "4zOR-svcyc0P"
      },
      "execution_count": 16,
      "outputs": []
    },
    {
      "cell_type": "code",
      "source": [
        "epochs=5\n",
        "model.fit(X_train, Y_train, epochs=epochs)"
      ],
      "metadata": {
        "colab": {
          "base_uri": "https://localhost:8080/"
        },
        "id": "uIiqg96ANTqS",
        "outputId": "de49ec29-5a90-447f-bf8b-af79d53365a8"
      },
      "execution_count": 17,
      "outputs": [
        {
          "output_type": "stream",
          "name": "stdout",
          "text": [
            "Epoch 1/5\n",
            "1563/1563 [==============================] - 276s 176ms/step - sparse_categorical_accuracy: 0.5410 - student_loss: 1.3147 - distill_loss: 0.1033\n",
            "Epoch 2/5\n",
            "1563/1563 [==============================] - 275s 176ms/step - sparse_categorical_accuracy: 0.6677 - student_loss: 0.9725 - distill_loss: 0.0542\n",
            "Epoch 3/5\n",
            "1563/1563 [==============================] - 276s 176ms/step - sparse_categorical_accuracy: 0.7188 - student_loss: 0.8303 - distill_loss: 0.0407\n",
            "Epoch 4/5\n",
            "1563/1563 [==============================] - 277s 177ms/step - sparse_categorical_accuracy: 0.7506 - student_loss: 0.7314 - distill_loss: 0.0347\n",
            "Epoch 5/5\n",
            "1563/1563 [==============================] - 280s 179ms/step - sparse_categorical_accuracy: 0.7797 - student_loss: 0.6407 - distill_loss: 0.0315\n"
          ]
        },
        {
          "output_type": "execute_result",
          "data": {
            "text/plain": [
              "<keras.callbacks.History at 0x7fb534ec3950>"
            ]
          },
          "metadata": {},
          "execution_count": 17
        }
      ]
    },
    {
      "cell_type": "code",
      "source": [
        "model.evaluate(X_test, Y_test)"
      ],
      "metadata": {
        "colab": {
          "base_uri": "https://localhost:8080/"
        },
        "id": "6q2vkgjjRkcX",
        "outputId": "7a007f97-cd64-4f69-8606-5a27afe23bd2"
      },
      "execution_count": 18,
      "outputs": [
        {
          "output_type": "stream",
          "name": "stdout",
          "text": [
            "313/313 [==============================] - 6s 20ms/step - sparse_categorical_accuracy: 0.7192 - student_loss: 0.8826\n"
          ]
        },
        {
          "output_type": "execute_result",
          "data": {
            "text/plain": [
              "[0.7192000150680542, 0.7057998180389404]"
            ]
          },
          "metadata": {},
          "execution_count": 18
        }
      ]
    }
  ]
}