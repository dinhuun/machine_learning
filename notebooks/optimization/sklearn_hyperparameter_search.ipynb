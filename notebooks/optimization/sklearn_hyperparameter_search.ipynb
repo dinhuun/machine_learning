{
 "cells": [
  {
   "cell_type": "code",
   "execution_count": 1,
   "metadata": {},
   "outputs": [],
   "source": [
    "from time import time\n",
    "\n",
    "import numpy as np\n",
    "from scipy.stats import randint\n",
    "from sklearn.datasets import load_digits\n",
    "from sklearn.ensemble import RandomForestClassifier\n",
    "from sklearn.model_selection import GridSearchCV, RandomizedSearchCV\n",
    "\n",
    "from machine_learning.utils.utils_optimization import report_hyperparameter_search_result as report"
   ]
  },
  {
   "cell_type": "markdown",
   "metadata": {},
   "source": [
    "### data"
   ]
  },
  {
   "cell_type": "code",
   "execution_count": 2,
   "metadata": {},
   "outputs": [],
   "source": [
    "digits = load_digits()\n",
    "X = digits.data  # (1797, 64)\n",
    "Y = digits.target  # (1797,)"
   ]
  },
  {
   "cell_type": "markdown",
   "metadata": {},
   "source": [
    "### random forest"
   ]
  },
  {
   "cell_type": "code",
   "execution_count": 3,
   "metadata": {},
   "outputs": [],
   "source": [
    "n_estimators = 20\n",
    "random_state = 0\n",
    "clf = RandomForestClassifier(n_estimators=n_estimators, random_state=random_state)"
   ]
  },
  {
   "cell_type": "code",
   "execution_count": 4,
   "metadata": {},
   "outputs": [
    {
     "data": {
      "text/plain": [
       "{'bootstrap': True,\n",
       " 'ccp_alpha': 0.0,\n",
       " 'class_weight': None,\n",
       " 'criterion': 'gini',\n",
       " 'max_depth': None,\n",
       " 'max_features': 'auto',\n",
       " 'max_leaf_nodes': None,\n",
       " 'max_samples': None,\n",
       " 'min_impurity_decrease': 0.0,\n",
       " 'min_samples_leaf': 1,\n",
       " 'min_samples_split': 2,\n",
       " 'min_weight_fraction_leaf': 0.0,\n",
       " 'n_estimators': 20,\n",
       " 'n_jobs': None,\n",
       " 'oob_score': False,\n",
       " 'random_state': 0,\n",
       " 'verbose': 0,\n",
       " 'warm_start': False}"
      ]
     },
     "execution_count": 4,
     "metadata": {},
     "output_type": "execute_result"
    }
   ],
   "source": [
    "clf.get_params()"
   ]
  },
  {
   "cell_type": "markdown",
   "metadata": {},
   "source": [
    "### grid search for best radom forest"
   ]
  },
  {
   "cell_type": "code",
   "execution_count": 5,
   "metadata": {},
   "outputs": [],
   "source": [
    "# set up the search\n",
    "param_grid = {'max_depth': [3, None],\n",
    "              'max_features': [1, 3, 9],\n",
    "              'min_samples_split': [2, 4, 8, 16],\n",
    "              'min_samples_leaf': [2, 4, 8, 16],\n",
    "              'bootstrap': [True, False],\n",
    "              'criterion': ['gini', 'entropy']}\n",
    "grid_search = GridSearchCV(clf, param_grid=param_grid, n_jobs=-1)"
   ]
  },
  {
   "cell_type": "code",
   "execution_count": 6,
   "metadata": {},
   "outputs": [],
   "source": [
    "# running search\n",
    "grid_start = time()\n",
    "grid_search.fit(X, Y)\n",
    "grid_end = time()"
   ]
  },
  {
   "cell_type": "code",
   "execution_count": 7,
   "metadata": {},
   "outputs": [
    {
     "name": "stdout",
     "output_type": "stream",
     "text": [
      "GridSearchCV searched 384 candidate parameter settings in 10.99 seconds\n"
     ]
    }
   ],
   "source": [
    "n_params_settings = len(grid_search.cv_results_['params'])\n",
    "print(f\"GridSearchCV searched {n_params_settings} candidate parameter settings in {grid_end - grid_start:.2f} seconds\")"
   ]
  },
  {
   "cell_type": "code",
   "execution_count": 8,
   "metadata": {},
   "outputs": [
    {
     "name": "stdout",
     "output_type": "stream",
     "text": [
      "model with rank: 1\n",
      "mean validation score: 0.938\n",
      "std validation score:  0.015\n",
      "parameters: {'bootstrap': False, 'criterion': 'entropy', 'max_depth': None, 'max_features': 9, 'min_samples_leaf': 2, 'min_samples_split': 2}\n",
      "\n",
      "\n",
      "model with rank: 1\n",
      "mean validation score: 0.938\n",
      "std validation score:  0.015\n",
      "parameters: {'bootstrap': False, 'criterion': 'entropy', 'max_depth': None, 'max_features': 9, 'min_samples_leaf': 2, 'min_samples_split': 4}\n",
      "\n",
      "\n",
      "model with rank: 3\n",
      "mean validation score: 0.929\n",
      "std validation score:  0.026\n",
      "parameters: {'bootstrap': False, 'criterion': 'gini', 'max_depth': None, 'max_features': 3, 'min_samples_leaf': 2, 'min_samples_split': 2}\n",
      "\n",
      "\n",
      "model with rank: 3\n",
      "mean validation score: 0.929\n",
      "std validation score:  0.026\n",
      "parameters: {'bootstrap': False, 'criterion': 'gini', 'max_depth': None, 'max_features': 3, 'min_samples_leaf': 2, 'min_samples_split': 4}\n",
      "\n",
      "\n"
     ]
    }
   ],
   "source": [
    "report(grid_search.cv_results_)"
   ]
  },
  {
   "cell_type": "markdown",
   "metadata": {},
   "source": [
    "### search for best radom forest with randomized search"
   ]
  },
  {
   "cell_type": "code",
   "execution_count": 9,
   "metadata": {},
   "outputs": [],
   "source": [
    "# set up the search\n",
    "n_iter = 300\n",
    "n_jobs = -1\n",
    "random_state = 0\n",
    "param_distribution = {'max_depth': [3, None],\n",
    "                      'max_features': randint(1, 10),\n",
    "                      'min_samples_split': randint(2, 17),\n",
    "                      'min_samples_leaf': randint(2, 17),\n",
    "                      'bootstrap': [True, False],\n",
    "                      'criterion': ['gini', 'entropy']}\n",
    "randomized_search = RandomizedSearchCV(clf, param_distributions=param_distribution,\n",
    "                                       n_iter=n_iter, n_jobs=-n_jobs, random_state=random_state)"
   ]
  },
  {
   "cell_type": "code",
   "execution_count": 10,
   "metadata": {},
   "outputs": [],
   "source": [
    "# running search\n",
    "randomized_start = time()\n",
    "randomized_search.fit(X, Y)\n",
    "randomized_end = time()"
   ]
  },
  {
   "cell_type": "code",
   "execution_count": 11,
   "metadata": {},
   "outputs": [
    {
     "name": "stdout",
     "output_type": "stream",
     "text": [
      "RandomizedSearchCV searched 300 candidates parameter settings in 47.85 seconds\n"
     ]
    }
   ],
   "source": [
    "print(f\"RandomizedSearchCV searched {n_iter} candidates parameter settings in {randomized_end - randomized_start:.2f} seconds\")"
   ]
  },
  {
   "cell_type": "code",
   "execution_count": 12,
   "metadata": {},
   "outputs": [
    {
     "name": "stdout",
     "output_type": "stream",
     "text": [
      "model with rank: 1\n",
      "mean validation score: 0.929\n",
      "std validation score:  0.019\n",
      "parameters: {'bootstrap': False, 'criterion': 'entropy', 'max_depth': None, 'max_features': 8, 'min_samples_leaf': 2, 'min_samples_split': 4}\n",
      "\n",
      "\n",
      "model with rank: 2\n",
      "mean validation score: 0.926\n",
      "std validation score:  0.023\n",
      "parameters: {'bootstrap': False, 'criterion': 'entropy', 'max_depth': None, 'max_features': 4, 'min_samples_leaf': 3, 'min_samples_split': 7}\n",
      "\n",
      "\n",
      "model with rank: 3\n",
      "mean validation score: 0.925\n",
      "std validation score:  0.020\n",
      "parameters: {'bootstrap': False, 'criterion': 'gini', 'max_depth': None, 'max_features': 7, 'min_samples_leaf': 2, 'min_samples_split': 7}\n",
      "\n",
      "\n"
     ]
    }
   ],
   "source": [
    "report(randomized_search.cv_results_)"
   ]
  }
 ],
 "metadata": {
  "kernelspec": {
   "display_name": "machine_learning",
   "language": "python",
   "name": "machine_learning"
  },
  "language_info": {
   "codemirror_mode": {
    "name": "ipython",
    "version": 3
   },
   "file_extension": ".py",
   "mimetype": "text/x-python",
   "name": "python",
   "nbconvert_exporter": "python",
   "pygments_lexer": "ipython3",
   "version": "3.7.8"
  }
 },
 "nbformat": 4,
 "nbformat_minor": 1
}
